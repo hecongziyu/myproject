{
 "cells": [
  {
   "cell_type": "markdown",
   "metadata": {
    "heading_collapsed": true
   },
   "source": [
    "# 生成模拟数据"
   ]
  },
  {
   "cell_type": "code",
   "execution_count": 26,
   "metadata": {
    "hidden": true
   },
   "outputs": [],
   "source": [
    "import os\n",
    "path = 'd:\\\\img\\\\ocr'\n",
    "txt_file_name = os.path.join(path,'hand','char_words.txt')\n",
    "fonts_path = os.path.join(path, 'fonts')\n",
    "output_path = os.path.join(path,'hand','train')\n",
    "b_image_path = os.path.join(path, 'background')\n",
    "img_height = 32\n",
    "img_width = 100\n"
   ]
  },
  {
   "cell_type": "code",
   "execution_count": 27,
   "metadata": {
    "code_folding": [],
    "hidden": true
   },
   "outputs": [],
   "source": [
    "# 生成字符\n",
    "import lib.gen_image as gen\n",
    "import importlib\n",
    "importlib.reload(gen)\n",
    "\n",
    "\n",
    "\n",
    "alpha = 'ABQP'\n",
    "gen.gen_words(txt_file_name, alpha,max_number=4, total=200)\n"
   ]
  },
  {
   "cell_type": "code",
   "execution_count": 37,
   "metadata": {
    "code_folding": [],
    "hidden": true
   },
   "outputs": [
    {
     "name": "stdout",
     "output_type": "stream",
     "text": [
      "over\n"
     ]
    }
   ],
   "source": [
    "# 生成训练图片\n",
    "import lib.gen_image as gen\n",
    "import os\n",
    "import numpy as np\n",
    "import random\n",
    "import importlib\n",
    "import shutil\n",
    "import cv2\n",
    "importlib.reload(gen)\n",
    "\n",
    "# 清空目录\n",
    "shutil.rmtree(output_path)  \n",
    "os.mkdir(output_path) \n",
    "\n",
    "# 字体\n",
    "all_fonts = []\n",
    "all_fonts_name = []\n",
    "for root, dirs, files in os.walk(fonts_path):\n",
    "    for file in files:\n",
    "        if file.endswith(\".ttf\"):\n",
    "            all_fonts.append(os.path.join(root, file))\n",
    "            all_fonts_name.append(file[:-4])\n",
    "            \n",
    "with open(txt_file_name) as f:\n",
    "    text_lines = f.readlines()\n",
    "text_lines = [t.strip() for t in text_lines]\n",
    "text_lines = [t for t in text_lines if len(t) > 0]\n",
    "\n",
    "bg_file_lists = [os.path.join(b_image_path, x) for x in os.listdir(b_image_path)]\n",
    "# text_set = [[32, 100, [20,24]],[64,200,[30,28]],[48,150,[26,24]]]\n",
    "font_size_listt = [20,24,28,32]\n",
    "number_of_examples = 100\n",
    "\n",
    "\n",
    "\n",
    "image_list = []\n",
    "output_data =[]\n",
    "\n",
    "for i, txt in enumerate(random.sample(text_lines, number_of_examples)):\n",
    "    select_font_idx = np.random.randint(len(all_fonts))\n",
    "    img_height, img_width = 32, 100\n",
    "    font_size = font_size_list[np.random.randint(len(font_size_list))]\n",
    "    image = gen.make_image(test_str=txt, fonttype=all_fonts[select_font_idx], \n",
    "                         fontsize=font_size,target_width=img_width, target_height=img_height, \n",
    "                         back_ground_img_list=bg_file_lists, \n",
    "                         need_include=True)\n",
    "    gray = cv2.cvtColor(image, cv2.COLOR_BGR2GRAY)\n",
    "    blur = cv2.GaussianBlur(gray, (3,3), 0)\n",
    "    thresh = cv2.adaptiveThreshold(blur,255,cv2.ADAPTIVE_THRESH_GAUSSIAN_C, cv2.THRESH_BINARY_INV,11,10)\n",
    "    kernel = cv2.getStructuringElement(cv2.MORPH_RECT, (3,3))\n",
    "    dilate = cv2.dilate(thresh, kernel, iterations=1)\n",
    "    erode = cv2.erode(dilate, kernel, iterations=1)       \n",
    "    image = erode.copy()\n",
    "#     print('image size -->', image.shape)\n",
    "    img_path = os.path.join(output_path, str(i)+'_'+all_fonts_name[select_font_idx] + \".png\")\n",
    "#     image_list.append(image)\n",
    "    cv2.imwrite(img_path, image)    \n",
    "    txt = txt.replace('＋','+')\n",
    "    txt = txt.replace('－','-')\n",
    "    txt = txt.replace('（','(')\n",
    "    txt = txt.replace('）',')')\n",
    "    output_data.append({\n",
    "        \"image_path\": \"{}_{}.png\".format(str(i), all_fonts_name[select_font_idx]),\n",
    "        \"gt\": txt.lower()\n",
    "    })    \n",
    "            \n",
    "train_cnt = int(number_of_examples * 1.0)\n",
    "val_cnt = number_of_examples - train_cnt\n",
    "with open(os.path.join(path,'hand', 'training.json'), 'w') as f:\n",
    "    json.dump(output_data[:train_cnt], f)\n",
    "\n",
    "with open(os.path.join(path,'hand', 'validation.json'), 'w') as f:\n",
    "    json.dump(output_data[train_cnt:], f)\n",
    "\n",
    "print('over')\n"
   ]
  },
  {
   "cell_type": "code",
   "execution_count": 167,
   "metadata": {
    "hidden": true
   },
   "outputs": [
    {
     "name": "stdout",
     "output_type": "stream",
     "text": [
      "samples length -- > 100\n",
      "Created dataset with 100 samples\n"
     ]
    }
   ],
   "source": [
    "# 生成训练库\n",
    "import json\n",
    "from lib.gen_dataset import createDataset\n",
    "import os\n",
    "img_path = os.path.join(path,'hand','train')\n",
    "train_file = os.path.join(path, 'hand','training.json') \n",
    "valid_file = os.path.join(path, 'hand','validation.json') \n",
    "with open(train_file,'r') as f:\n",
    "    train_data = json.load(f)\n",
    "    \n",
    "imgLabelLists = []\n",
    "for item in train_data:\n",
    "    imgLabelLists.append((os.path.join(path,'hand','train',item['image_path']) ,str(item['gt'])))\n",
    "\n",
    "random.shuffle(imgLabelLists)\n",
    "train_lmdb_path = os.path.join(path,'hand','lmdb')   # 训练数据\n",
    "trainImgPaths = [x[0] for x in imgLabelLists]\n",
    "trainTxtLists = [x[1] for x in imgLabelLists]\n",
    "createDataset(train_lmdb_path, trainImgPaths, trainTxtLists, lexiconList=None, checkValid=True)\n",
    "    "
   ]
  },
  {
   "cell_type": "code",
   "execution_count": 168,
   "metadata": {
    "hidden": true
   },
   "outputs": [
    {
     "name": "stdout",
     "output_type": "stream",
     "text": [
      "step --> torch.Size([90, 3, 32, 115]) --> 90\n",
      "over\n"
     ]
    }
   ],
   "source": [
    "# traindata loader\n",
    "import torch\n",
    "import torch.nn as nn\n",
    "from torch.utils.data import DataLoader\n",
    "from torch.autograd import Variable\n",
    "import lib.dataset as dataset\n",
    "import lib.utils as utils\n",
    "import time\n",
    "import importlib\n",
    "importlib.reload(dataset)\n",
    "importlib.reload(utils)\n",
    "\n",
    "batch_size = 100\n",
    "\n",
    "train_dataset = dataset.lmdbDataset(root= os.path.join(path,'hand','lmdb'))\n",
    "# print('train data set length -->{}'.format(len(train_dataset)))\n",
    "train_set, val_set = torch.utils.data.random_split(train_dataset,\n",
    "                                                   [int(0.9*len(train_dataset)), \n",
    "                                                    int(0.1*len(train_dataset))])\n",
    "\n",
    "\n",
    "train_loader = torch.utils.data.DataLoader(\n",
    "    train_set, batch_size=batch_size,\n",
    "    shuffle=True,\n",
    "    collate_fn=dataset.adjustCollate(imgH=32, keep_ratio=False))\n",
    "#     \n",
    "\n",
    "for step, values in enumerate(train_loader):\n",
    "    images = Variable(values[0].type(torch.FloatTensor), requires_grad=False)\n",
    "#     images = values[0]\n",
    "    print('step -->', images.size(), '-->', len(images))\n",
    "    break\n",
    "\n",
    "print('over')\n"
   ]
  },
  {
   "cell_type": "code",
   "execution_count": 162,
   "metadata": {
    "hidden": true
   },
   "outputs": [
    {
     "data": {
      "text/plain": [
       "tensor([[[0.0667, 0.0667, 0.0745,  ..., 1.0000, 1.0000, 1.0000],\n",
       "         [0.0667, 0.0667, 0.0745,  ..., 1.0000, 1.0000, 1.0000],\n",
       "         [0.0745, 0.0745, 0.0745,  ..., 1.0000, 1.0000, 1.0000],\n",
       "         ...,\n",
       "         [0.0980, 0.0980, 0.0980,  ..., 1.0000, 1.0000, 1.0000],\n",
       "         [0.0980, 0.0980, 0.0980,  ..., 1.0000, 1.0000, 1.0000],\n",
       "         [0.0980, 0.0980, 0.0980,  ..., 1.0000, 1.0000, 1.0000]],\n",
       "\n",
       "        [[0.0745, 0.0745, 0.0824,  ..., 1.0000, 1.0000, 1.0000],\n",
       "         [0.0745, 0.0745, 0.0824,  ..., 1.0000, 1.0000, 1.0000],\n",
       "         [0.0824, 0.0824, 0.0824,  ..., 1.0000, 1.0000, 1.0000],\n",
       "         ...,\n",
       "         [0.1059, 0.1059, 0.1059,  ..., 1.0000, 1.0000, 1.0000],\n",
       "         [0.1059, 0.1059, 0.1059,  ..., 1.0000, 1.0000, 1.0000],\n",
       "         [0.1059, 0.1059, 0.1059,  ..., 1.0000, 1.0000, 1.0000]],\n",
       "\n",
       "        [[0.0588, 0.0588, 0.0667,  ..., 1.0000, 1.0000, 1.0000],\n",
       "         [0.0588, 0.0588, 0.0667,  ..., 1.0000, 1.0000, 1.0000],\n",
       "         [0.0667, 0.0667, 0.0667,  ..., 1.0000, 1.0000, 1.0000],\n",
       "         ...,\n",
       "         [0.0902, 0.0902, 0.0902,  ..., 1.0000, 1.0000, 1.0000],\n",
       "         [0.0824, 0.0824, 0.0824,  ..., 1.0000, 1.0000, 1.0000],\n",
       "         [0.0824, 0.0824, 0.0824,  ..., 1.0000, 1.0000, 1.0000]]])"
      ]
     },
     "execution_count": 162,
     "metadata": {},
     "output_type": "execute_result"
    }
   ],
   "source": [
    "images[0]"
   ]
  },
  {
   "cell_type": "code",
   "execution_count": 55,
   "metadata": {
    "hidden": true
   },
   "outputs": [
    {
     "name": "stdout",
     "output_type": "stream",
     "text": [
      "100\n"
     ]
    }
   ],
   "source": [
    "# image 统一长度\n",
    "PADDING_CONSTANT = 255\n",
    "assert len(set([b.shape[0] for b in image_list])) == 1\n",
    "assert len(set([b.shape[2] for b in image_list])) == 1\n",
    "\n",
    "dim0 = image_list[0].shape[0]\n",
    "dim1 = max([b.shape[1] for b in image_list])\n",
    "dim2 = image_list[0].shape[2]\n",
    "\n",
    "image_list_new = np.full((len(image_list), dim0, dim1, dim2), PADDING_CONSTANT).astype(np.long)\n",
    "print(len(image_list_new))\n",
    "for idx, image in enumerate(image_list_new):\n",
    "    image[:,:image_list[idx].shape[1],:] = image_list[idx]\n",
    "    img_path = os.path.join(output_path, str(idx)+'_'+all_fonts_name[idx%len(all_fonts)] + \".png\")\n",
    "    cv2.imwrite(img_path, image)   \n",
    "    "
   ]
  },
  {
   "cell_type": "markdown",
   "metadata": {
    "heading_collapsed": true
   },
   "source": [
    "# opencv 文本检测"
   ]
  },
  {
   "cell_type": "raw",
   "metadata": {
    "hidden": true
   },
   "source": [
    "https://www.learnopencv.com/tag/text-detection/\n",
    "https://stackoverflow.com/questions/46105401/improve-text-area-detection-opencv-python\n",
    "https://stackoverflow.com/questions/44334078/recognize-text-in-images-using-canny-edge-detection-in-opencv\n",
    "https://stackoverflow.com/questions/37771263/detect-text-area-in-an-image-using-python-and-opencv\n",
    "https://stackoverflow.com/questions/42174563/easy-ways-to-detect-and-crop-blocks-paragraphs-of-text-out-of-image\n",
    "\n",
    "import cv2\n",
    "\n",
    "image = cv2.imread('1.png')\n",
    "gray = cv2.cvtColor(image, cv2.COLOR_BGR2GRAY)\n",
    "blur = cv2.GaussianBlur(gray, (9,9), 0)\n",
    "thresh = cv2.adaptiveThreshold(blur,255,cv2.ADAPTIVE_THRESH_GAUSSIAN_C, cv2.THRESH_BINARY_INV,11,30)\n",
    "\n",
    "kernel = cv2.getStructuringElement(cv2.MORPH_RECT, (9,9))\n",
    "dilate = cv2.dilate(thresh, kernel, iterations=4)\n",
    "\n",
    "cnts = cv2.findContours(dilate, cv2.RETR_EXTERNAL, cv2.CHAIN_APPROX_SIMPLE)\n",
    "cnts = cnts[0] if len(cnts) == 2 else cnts[1]\n",
    "\n",
    "ROI_number = 0\n",
    "for c in cnts:\n",
    "    area = cv2.contourArea(c)\n",
    "    if area > 10000:\n",
    "        x,y,w,h = cv2.boundingRect(c)\n",
    "        cv2.rectangle(image, (x, y), (x + w, y + h), (36,255,12), 3)\n",
    "        # ROI = image[y:y+h, x:x+w]\n",
    "        # cv2.imwrite('ROI_{}.png'.format(ROI_number), ROI)\n",
    "        # ROI_number += 1\n",
    "\n",
    "cv2.imshow('thresh', thresh)\n",
    "cv2.imshow('dilate', dilate)\n",
    "\n"
   ]
  },
  {
   "cell_type": "code",
   "execution_count": 25,
   "metadata": {
    "hidden": true
   },
   "outputs": [
    {
     "name": "stdout",
     "output_type": "stream",
     "text": [
      "(26, 63, 3)\n"
     ]
    },
    {
     "data": {
      "image/png": "[encoded data removed]",
      "text/plain": [
       "<Figure size 720x360 with 1 Axes>"
      ]
     },
     "metadata": {
      "needs_background": "light"
     },
     "output_type": "display_data"
    }
   ],
   "source": [
    "# 二值化数据\n",
    "import cv2\n",
    "import matplotlib.pyplot as plt\n",
    "plt.rcParams['figure.figsize'] = 10, 5\n",
    "\n",
    "image = cv2.imread('d:\\\\img\\\\exam\\\\F_2.png')\n",
    "print(image.shape)\n",
    "gray = cv2.cvtColor(image, cv2.COLOR_BGR2GRAY)\n",
    "blur = cv2.GaussianBlur(gray, (3,3), 0)\n",
    "thresh = cv2.adaptiveThreshold(blur,255,cv2.ADAPTIVE_THRESH_GAUSSIAN_C, cv2.THRESH_BINARY_INV,31,10)\n",
    "kernel = cv2.getStructuringElement(cv2.MORPH_RECT, (3,3))\n",
    "dilate = cv2.dilate(thresh, kernel, iterations=1)\n",
    "erode = cv2.erode(dilate, kernel, iterations=1)\n",
    "img = cv2.bitwise_not(erode)\n",
    "img = cv2.cvtColor(img, cv2.COLOR_GRAY2BGR)\n",
    "cv2.imwrite('d:\\\\img\\\\exam\\\\D_5.png',img)\n",
    "plt.imshow(img,'brg')\n",
    "plt.show()\n"
   ]
  },
  {
   "cell_type": "code",
   "execution_count": null,
   "metadata": {
    "hidden": true
   },
   "outputs": [],
   "source": []
  },
  {
   "cell_type": "markdown",
   "metadata": {},
   "source": [
    "# 批量修改文件名"
   ]
  },
  {
   "cell_type": "code",
   "execution_count": 10,
   "metadata": {},
   "outputs": [
    {
     "name": "stdout",
     "output_type": "stream",
     "text": [
      "修改前： ['A_100.png', 'A_101.png', 'A_102.png', 'A_103.png', 'A_104.png', 'A_105.png', 'A_106.png', 'A_107.png', 'A_108.png', 'A_109.png', 'A_110.png', 'A_111.png', 'A_112.png', 'A_113.png', 'A_114.png', 'A_115.png', 'A_116.png', 'A_117.png', 'A_118.png', 'A_119.png', 'A_120.png', 'A_121.png', 'A_122.png', 'A_123.png', 'A_124.png', 'A_125.png', 'A_126.png', 'A_127.png', 'A_128.png', 'A_129.png', 'A_130.png', 'A_131.png', 'A_132.png', 'A_133.png', 'A_134.png', 'A_135.png', 'A_136.png', 'A_137.png', 'A_138.png', 'A_139.png', 'A_140.png', 'A_141.png', 'A_142.png', 'A_143.png', 'A_144.png', 'A_145.png', 'A_146.png', 'A_147.png', 'A_148.png', 'A_149.png', 'A_150.png', 'A_151.png', 'A_152.png', 'A_153.png', 'A_154.png']\n",
      "修改前： ['img012-001.png', 'img012-002.png', 'img012-003.png', 'img012-004.png', 'img012-005.png', 'img012-006.png', 'img012-007.png', 'img012-008.png', 'img012-009.png', 'img012-010.png', 'img012-011.png', 'img012-012.png', 'img012-013.png', 'img012-014.png', 'img012-015.png', 'img012-016.png', 'img012-017.png', 'img012-018.png', 'img012-019.png', 'img012-020.png', 'img012-021.png', 'img012-022.png', 'img012-023.png', 'img012-024.png', 'img012-025.png', 'img012-026.png', 'img012-027.png', 'img012-028.png', 'img012-029.png', 'img012-030.png', 'img012-031.png', 'img012-032.png', 'img012-033.png', 'img012-034.png', 'img012-035.png', 'img012-036.png', 'img012-037.png', 'img012-038.png', 'img012-039.png', 'img012-040.png', 'img012-041.png', 'img012-042.png', 'img012-043.png', 'img012-044.png', 'img012-045.png', 'img012-046.png', 'img012-047.png', 'img012-048.png', 'img012-049.png', 'img012-050.png', 'img012-051.png', 'img012-052.png', 'img012-053.png', 'img012-054.png', 'img012-055.png']\n",
      "修改前： ['img013-001.png', 'img013-002.png', 'img013-003.png', 'img013-004.png', 'img013-005.png', 'img013-006.png', 'img013-007.png', 'img013-008.png', 'img013-009.png', 'img013-010.png', 'img013-011.png', 'img013-012.png', 'img013-013.png', 'img013-014.png', 'img013-015.png', 'img013-016.png', 'img013-017.png', 'img013-018.png', 'img013-019.png', 'img013-020.png', 'img013-021.png', 'img013-022.png', 'img013-023.png', 'img013-024.png', 'img013-025.png', 'img013-026.png', 'img013-027.png', 'img013-028.png', 'img013-029.png', 'img013-030.png', 'img013-031.png', 'img013-032.png', 'img013-033.png', 'img013-034.png', 'img013-035.png', 'img013-036.png', 'img013-037.png', 'img013-038.png', 'img013-039.png', 'img013-040.png', 'img013-041.png', 'img013-042.png', 'img013-043.png', 'img013-044.png', 'img013-045.png', 'img013-046.png', 'img013-047.png', 'img013-048.png', 'img013-049.png', 'img013-050.png', 'img013-051.png', 'img013-052.png', 'img013-053.png', 'img013-054.png', 'img013-055.png']\n",
      "修改前： ['img014-001.png', 'img014-002.png', 'img014-003.png', 'img014-004.png', 'img014-005.png', 'img014-006.png', 'img014-007.png', 'img014-008.png', 'img014-009.png', 'img014-010.png', 'img014-011.png', 'img014-012.png', 'img014-013.png', 'img014-014.png', 'img014-015.png', 'img014-016.png', 'img014-017.png', 'img014-018.png', 'img014-019.png', 'img014-020.png', 'img014-021.png', 'img014-022.png', 'img014-023.png', 'img014-024.png', 'img014-025.png', 'img014-026.png', 'img014-027.png', 'img014-028.png', 'img014-029.png', 'img014-030.png', 'img014-031.png', 'img014-032.png', 'img014-033.png', 'img014-034.png', 'img014-035.png', 'img014-036.png', 'img014-037.png', 'img014-038.png', 'img014-039.png', 'img014-040.png', 'img014-041.png', 'img014-042.png', 'img014-043.png', 'img014-044.png', 'img014-045.png', 'img014-046.png', 'img014-047.png', 'img014-048.png', 'img014-049.png', 'img014-050.png', 'img014-051.png', 'img014-052.png', 'img014-053.png', 'img014-054.png', 'img014-055.png']\n",
      "修改前： ['img015-001.png', 'img015-002.png', 'img015-003.png', 'img015-004.png', 'img015-005.png', 'img015-006.png', 'img015-007.png', 'img015-008.png', 'img015-009.png', 'img015-010.png', 'img015-011.png', 'img015-012.png', 'img015-013.png', 'img015-014.png', 'img015-015.png', 'img015-016.png', 'img015-017.png', 'img015-018.png', 'img015-019.png', 'img015-020.png', 'img015-021.png', 'img015-022.png', 'img015-023.png', 'img015-024.png', 'img015-025.png', 'img015-026.png', 'img015-027.png', 'img015-028.png', 'img015-029.png', 'img015-030.png', 'img015-031.png', 'img015-032.png', 'img015-033.png', 'img015-034.png', 'img015-035.png', 'img015-036.png', 'img015-037.png', 'img015-038.png', 'img015-039.png', 'img015-040.png', 'img015-041.png', 'img015-042.png', 'img015-043.png', 'img015-044.png', 'img015-045.png', 'img015-046.png', 'img015-047.png', 'img015-048.png', 'img015-049.png', 'img015-050.png', 'img015-051.png', 'img015-052.png', 'img015-053.png', 'img015-054.png', 'img015-055.png']\n",
      "修改前： ['img016-001.png', 'img016-002.png', 'img016-003.png', 'img016-004.png', 'img016-005.png', 'img016-006.png', 'img016-007.png', 'img016-008.png', 'img016-009.png', 'img016-010.png', 'img016-011.png', 'img016-012.png', 'img016-013.png', 'img016-014.png', 'img016-015.png', 'img016-016.png', 'img016-017.png', 'img016-018.png', 'img016-019.png', 'img016-020.png', 'img016-021.png', 'img016-022.png', 'img016-023.png', 'img016-024.png', 'img016-025.png', 'img016-026.png', 'img016-027.png', 'img016-028.png', 'img016-029.png', 'img016-030.png', 'img016-031.png', 'img016-032.png', 'img016-033.png', 'img016-034.png', 'img016-035.png', 'img016-036.png', 'img016-037.png', 'img016-038.png', 'img016-039.png', 'img016-040.png', 'img016-041.png', 'img016-042.png', 'img016-043.png', 'img016-044.png', 'img016-045.png', 'img016-046.png', 'img016-047.png', 'img016-048.png', 'img016-049.png', 'img016-050.png', 'img016-051.png', 'img016-052.png', 'img016-053.png', 'img016-054.png', 'img016-055.png']\n",
      "修改前： ['img017-001.png', 'img017-002.png', 'img017-003.png', 'img017-004.png', 'img017-005.png', 'img017-006.png', 'img017-007.png', 'img017-008.png', 'img017-009.png', 'img017-010.png', 'img017-011.png', 'img017-012.png', 'img017-013.png', 'img017-014.png', 'img017-015.png', 'img017-016.png', 'img017-017.png', 'img017-018.png', 'img017-019.png', 'img017-020.png', 'img017-021.png', 'img017-022.png', 'img017-023.png', 'img017-024.png', 'img017-025.png', 'img017-026.png', 'img017-027.png', 'img017-028.png', 'img017-029.png', 'img017-030.png', 'img017-031.png', 'img017-032.png', 'img017-033.png', 'img017-034.png', 'img017-035.png', 'img017-036.png', 'img017-037.png', 'img017-038.png', 'img017-039.png', 'img017-040.png', 'img017-041.png', 'img017-042.png', 'img017-043.png', 'img017-044.png', 'img017-045.png', 'img017-046.png', 'img017-047.png', 'img017-048.png', 'img017-049.png', 'img017-050.png', 'img017-051.png', 'img017-052.png', 'img017-053.png', 'img017-054.png', 'img017-055.png']\n",
      "修改前： ['img018-001.png', 'img018-002.png', 'img018-003.png', 'img018-004.png', 'img018-005.png', 'img018-006.png', 'img018-007.png', 'img018-008.png', 'img018-009.png', 'img018-010.png', 'img018-011.png', 'img018-012.png', 'img018-013.png', 'img018-014.png', 'img018-015.png', 'img018-016.png', 'img018-017.png', 'img018-018.png', 'img018-019.png', 'img018-020.png', 'img018-021.png', 'img018-022.png', 'img018-023.png', 'img018-024.png', 'img018-025.png', 'img018-026.png', 'img018-027.png', 'img018-028.png', 'img018-029.png', 'img018-030.png', 'img018-031.png', 'img018-032.png', 'img018-033.png', 'img018-034.png', 'img018-035.png', 'img018-036.png', 'img018-037.png', 'img018-038.png', 'img018-039.png', 'img018-040.png', 'img018-041.png', 'img018-042.png', 'img018-043.png', 'img018-044.png', 'img018-045.png', 'img018-046.png', 'img018-047.png', 'img018-048.png', 'img018-049.png', 'img018-050.png', 'img018-051.png', 'img018-052.png', 'img018-053.png', 'img018-054.png', 'img018-055.png']\n",
      "修改前： ['img019-001.png', 'img019-002.png', 'img019-003.png', 'img019-004.png', 'img019-005.png', 'img019-006.png', 'img019-007.png', 'img019-008.png', 'img019-009.png', 'img019-010.png', 'img019-011.png', 'img019-012.png', 'img019-013.png', 'img019-014.png', 'img019-015.png', 'img019-016.png', 'img019-017.png', 'img019-018.png', 'img019-019.png', 'img019-020.png', 'img019-021.png', 'img019-022.png', 'img019-023.png', 'img019-024.png', 'img019-025.png', 'img019-026.png', 'img019-027.png', 'img019-028.png', 'img019-029.png', 'img019-030.png', 'img019-031.png', 'img019-032.png', 'img019-033.png', 'img019-034.png', 'img019-035.png', 'img019-036.png', 'img019-037.png', 'img019-038.png', 'img019-039.png', 'img019-040.png', 'img019-041.png', 'img019-042.png', 'img019-043.png', 'img019-044.png', 'img019-045.png', 'img019-046.png', 'img019-047.png', 'img019-048.png', 'img019-049.png', 'img019-050.png', 'img019-051.png', 'img019-052.png', 'img019-053.png', 'img019-054.png', 'img019-055.png']\n"
     ]
    }
   ],
   "source": [
    "import os\n",
    "import re\n",
    "import sys\n",
    "path = os.path.join('D:\\\\img','exam','handle','special')\n",
    "# alpha = ['A','B','C','D','E','F','G','H','I']\n",
    "alpha = ['×','√']\n",
    "# alpha = ['A',]\n",
    "\n",
    "for item in alpha:\n",
    "#     subpath = os.path.join(path,'Sample{}'.format(item))\n",
    "    subpath = os.path.join(path,item)\n",
    "    fileList = os.listdir(subpath)\n",
    "    # 输出此文件夹中包含的文件名称\n",
    "    print(\"修改前：\" , fileList)\n",
    "    currentpath = os.getcwd()\n",
    "    os.chdir(subpath)\n",
    "    number = 100\n",
    "    for fileName in fileList:\n",
    "        os.rename(fileName, '{}_{}.png'.format(item, number))\n",
    "        number += 1\n"
   ]
  },
  {
   "cell_type": "code",
   "execution_count": null,
   "metadata": {},
   "outputs": [],
   "source": []
  }
 ],
 "metadata": {
  "kernelspec": {
   "display_name": "Python 3",
   "language": "python",
   "name": "python3"
  },
  "language_info": {
   "codemirror_mode": {
    "name": "ipython",
    "version": 3
   },
   "file_extension": ".py",
   "mimetype": "text/x-python",
   "name": "python",
   "nbconvert_exporter": "python",
   "pygments_lexer": "ipython3",
   "version": "3.7.4"
  },
  "toc": {
   "base_numbering": 1,
   "nav_menu": {},
   "number_sections": true,
   "sideBar": true,
   "skip_h1_title": false,
   "title_cell": "Table of Contents",
   "title_sidebar": "Contents",
   "toc_cell": false,
   "toc_position": {},
   "toc_section_display": true,
   "toc_window_display": false
  },
  "varInspector": {
   "cols": {
    "lenName": 16,
    "lenType": 16,
    "lenVar": 40
   },
   "kernels_config": {
    "python": {
     "delete_cmd_postfix": "",
     "delete_cmd_prefix": "del ",
     "library": "var_list.py",
     "varRefreshCmd": "print(var_dic_list())"
    },
    "r": {
     "delete_cmd_postfix": ") ",
     "delete_cmd_prefix": "rm(",
     "library": "var_list.r",
     "varRefreshCmd": "cat(var_dic_list()) "
    }
   },
   "types_to_exclude": [
    "module",
    "function",
    "builtin_function_or_method",
    "instance",
    "_Feature"
   ],
   "window_display": false
  }
 },
 "nbformat": 4,
 "nbformat_minor": 2
}
