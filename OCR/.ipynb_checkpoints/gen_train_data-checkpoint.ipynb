{
 "cells": [
  {
   "cell_type": "markdown",
   "metadata": {
    "heading_collapsed": true
   },
   "source": [
    "# 生成模拟数据"
   ]
  },
  {
   "cell_type": "code",
   "execution_count": 26,
   "metadata": {
    "hidden": true
   },
   "outputs": [],
   "source": [
    "import os\n",
    "path = 'd:\\\\img\\\\ocr'\n",
    "txt_file_name = os.path.join(path,'hand','char_words.txt')\n",
    "fonts_path = os.path.join(path, 'fonts')\n",
    "output_path = os.path.join(path,'hand','train')\n",
    "b_image_path = os.path.join(path, 'background')\n",
    "img_height = 32\n",
    "img_width = 100\n"
   ]
  },
  {
   "cell_type": "code",
   "execution_count": 27,
   "metadata": {
    "code_folding": [],
    "hidden": true
   },
   "outputs": [],
   "source": [
    "# 生成字符\n",
    "import lib.gen_image as gen\n",
    "import importlib\n",
    "importlib.reload(gen)\n",
    "\n",
    "\n",
    "\n",
    "alpha = 'ABQP'\n",
    "gen.gen_words(txt_file_name, alpha,max_number=4, total=200)\n"
   ]
  },
  {
   "cell_type": "code",
   "execution_count": 37,
   "metadata": {
    "code_folding": [],
    "hidden": true
   },
   "outputs": [
    {
     "name": "stdout",
     "output_type": "stream",
     "text": [
      "over\n"
     ]
    }
   ],
   "source": [
    "# 生成训练图片\n",
    "import lib.gen_image as gen\n",
    "import os\n",
    "import numpy as np\n",
    "import random\n",
    "import importlib\n",
    "import shutil\n",
    "import cv2\n",
    "importlib.reload(gen)\n",
    "\n",
    "# 清空目录\n",
    "shutil.rmtree(output_path)  \n",
    "os.mkdir(output_path) \n",
    "\n",
    "# 字体\n",
    "all_fonts = []\n",
    "all_fonts_name = []\n",
    "for root, dirs, files in os.walk(fonts_path):\n",
    "    for file in files:\n",
    "        if file.endswith(\".ttf\"):\n",
    "            all_fonts.append(os.path.join(root, file))\n",
    "            all_fonts_name.append(file[:-4])\n",
    "            \n",
    "with open(txt_file_name) as f:\n",
    "    text_lines = f.readlines()\n",
    "text_lines = [t.strip() for t in text_lines]\n",
    "text_lines = [t for t in text_lines if len(t) > 0]\n",
    "\n",
    "bg_file_lists = [os.path.join(b_image_path, x) for x in os.listdir(b_image_path)]\n",
    "# text_set = [[32, 100, [20,24]],[64,200,[30,28]],[48,150,[26,24]]]\n",
    "font_size_listt = [20,24,28,32]\n",
    "number_of_examples = 100\n",
    "\n",
    "\n",
    "\n",
    "image_list = []\n",
    "output_data =[]\n",
    "\n",
    "for i, txt in enumerate(random.sample(text_lines, number_of_examples)):\n",
    "    select_font_idx = np.random.randint(len(all_fonts))\n",
    "    img_height, img_width = 32, 100\n",
    "    font_size = font_size_list[np.random.randint(len(font_size_list))]\n",
    "    image = gen.make_image(test_str=txt, fonttype=all_fonts[select_font_idx], \n",
    "                         fontsize=font_size,target_width=img_width, target_height=img_height, \n",
    "                         back_ground_img_list=bg_file_lists, \n",
    "                         need_include=True)\n",
    "    gray = cv2.cvtColor(image, cv2.COLOR_BGR2GRAY)\n",
    "    blur = cv2.GaussianBlur(gray, (3,3), 0)\n",
    "    thresh = cv2.adaptiveThreshold(blur,255,cv2.ADAPTIVE_THRESH_GAUSSIAN_C, cv2.THRESH_BINARY_INV,11,10)\n",
    "    kernel = cv2.getStructuringElement(cv2.MORPH_RECT, (3,3))\n",
    "    dilate = cv2.dilate(thresh, kernel, iterations=1)\n",
    "    erode = cv2.erode(dilate, kernel, iterations=1)       \n",
    "    image = erode.copy()\n",
    "#     print('image size -->', image.shape)\n",
    "    img_path = os.path.join(output_path, str(i)+'_'+all_fonts_name[select_font_idx] + \".png\")\n",
    "#     image_list.append(image)\n",
    "    cv2.imwrite(img_path, image)    \n",
    "    txt = txt.replace('＋','+')\n",
    "    txt = txt.replace('－','-')\n",
    "    txt = txt.replace('（','(')\n",
    "    txt = txt.replace('）',')')\n",
    "    output_data.append({\n",
    "        \"image_path\": \"{}_{}.png\".format(str(i), all_fonts_name[select_font_idx]),\n",
    "        \"gt\": txt.lower()\n",
    "    })    \n",
    "            \n",
    "train_cnt = int(number_of_examples * 1.0)\n",
    "val_cnt = number_of_examples - train_cnt\n",
    "with open(os.path.join(path,'hand', 'training.json'), 'w') as f:\n",
    "    json.dump(output_data[:train_cnt], f)\n",
    "\n",
    "with open(os.path.join(path,'hand', 'validation.json'), 'w') as f:\n",
    "    json.dump(output_data[train_cnt:], f)\n",
    "\n",
    "print('over')\n"
   ]
  },
  {
   "cell_type": "code",
   "execution_count": 167,
   "metadata": {
    "hidden": true
   },
   "outputs": [
    {
     "name": "stdout",
     "output_type": "stream",
     "text": [
      "samples length -- > 100\n",
      "Created dataset with 100 samples\n"
     ]
    }
   ],
   "source": [
    "# 生成训练库\n",
    "import json\n",
    "from lib.gen_dataset import createDataset\n",
    "import os\n",
    "img_path = os.path.join(path,'hand','train')\n",
    "train_file = os.path.join(path, 'hand','training.json') \n",
    "valid_file = os.path.join(path, 'hand','validation.json') \n",
    "with open(train_file,'r') as f:\n",
    "    train_data = json.load(f)\n",
    "    \n",
    "imgLabelLists = []\n",
    "for item in train_data:\n",
    "    imgLabelLists.append((os.path.join(path,'hand','train',item['image_path']) ,str(item['gt'])))\n",
    "\n",
    "random.shuffle(imgLabelLists)\n",
    "train_lmdb_path = os.path.join(path,'hand','lmdb')   # 训练数据\n",
    "trainImgPaths = [x[0] for x in imgLabelLists]\n",
    "trainTxtLists = [x[1] for x in imgLabelLists]\n",
    "createDataset(train_lmdb_path, trainImgPaths, trainTxtLists, lexiconList=None, checkValid=True)\n",
    "    "
   ]
  },
  {
   "cell_type": "code",
   "execution_count": 168,
   "metadata": {
    "hidden": true
   },
   "outputs": [
    {
     "name": "stdout",
     "output_type": "stream",
     "text": [
      "step --> torch.Size([90, 3, 32, 115]) --> 90\n",
      "over\n"
     ]
    }
   ],
   "source": [
    "# traindata loader\n",
    "import torch\n",
    "import torch.nn as nn\n",
    "from torch.utils.data import DataLoader\n",
    "from torch.autograd import Variable\n",
    "import lib.dataset as dataset\n",
    "import lib.utils as utils\n",
    "import time\n",
    "import importlib\n",
    "importlib.reload(dataset)\n",
    "importlib.reload(utils)\n",
    "\n",
    "batch_size = 100\n",
    "\n",
    "train_dataset = dataset.lmdbDataset(root= os.path.join(path,'hand','lmdb'))\n",
    "# print('train data set length -->{}'.format(len(train_dataset)))\n",
    "train_set, val_set = torch.utils.data.random_split(train_dataset,\n",
    "                                                   [int(0.9*len(train_dataset)), \n",
    "                                                    int(0.1*len(train_dataset))])\n",
    "\n",
    "\n",
    "train_loader = torch.utils.data.DataLoader(\n",
    "    train_set, batch_size=batch_size,\n",
    "    shuffle=True,\n",
    "    collate_fn=dataset.adjustCollate(imgH=32, keep_ratio=False))\n",
    "#     \n",
    "\n",
    "for step, values in enumerate(train_loader):\n",
    "    images = Variable(values[0].type(torch.FloatTensor), requires_grad=False)\n",
    "#     images = values[0]\n",
    "    print('step -->', images.size(), '-->', len(images))\n",
    "    break\n",
    "\n",
    "print('over')\n"
   ]
  },
  {
   "cell_type": "code",
   "execution_count": 162,
   "metadata": {
    "hidden": true
   },
   "outputs": [
    {
     "data": {
      "text/plain": [
       "tensor([[[0.0667, 0.0667, 0.0745,  ..., 1.0000, 1.0000, 1.0000],\n",
       "         [0.0667, 0.0667, 0.0745,  ..., 1.0000, 1.0000, 1.0000],\n",
       "         [0.0745, 0.0745, 0.0745,  ..., 1.0000, 1.0000, 1.0000],\n",
       "         ...,\n",
       "         [0.0980, 0.0980, 0.0980,  ..., 1.0000, 1.0000, 1.0000],\n",
       "         [0.0980, 0.0980, 0.0980,  ..., 1.0000, 1.0000, 1.0000],\n",
       "         [0.0980, 0.0980, 0.0980,  ..., 1.0000, 1.0000, 1.0000]],\n",
       "\n",
       "        [[0.0745, 0.0745, 0.0824,  ..., 1.0000, 1.0000, 1.0000],\n",
       "         [0.0745, 0.0745, 0.0824,  ..., 1.0000, 1.0000, 1.0000],\n",
       "         [0.0824, 0.0824, 0.0824,  ..., 1.0000, 1.0000, 1.0000],\n",
       "         ...,\n",
       "         [0.1059, 0.1059, 0.1059,  ..., 1.0000, 1.0000, 1.0000],\n",
       "         [0.1059, 0.1059, 0.1059,  ..., 1.0000, 1.0000, 1.0000],\n",
       "         [0.1059, 0.1059, 0.1059,  ..., 1.0000, 1.0000, 1.0000]],\n",
       "\n",
       "        [[0.0588, 0.0588, 0.0667,  ..., 1.0000, 1.0000, 1.0000],\n",
       "         [0.0588, 0.0588, 0.0667,  ..., 1.0000, 1.0000, 1.0000],\n",
       "         [0.0667, 0.0667, 0.0667,  ..., 1.0000, 1.0000, 1.0000],\n",
       "         ...,\n",
       "         [0.0902, 0.0902, 0.0902,  ..., 1.0000, 1.0000, 1.0000],\n",
       "         [0.0824, 0.0824, 0.0824,  ..., 1.0000, 1.0000, 1.0000],\n",
       "         [0.0824, 0.0824, 0.0824,  ..., 1.0000, 1.0000, 1.0000]]])"
      ]
     },
     "execution_count": 162,
     "metadata": {},
     "output_type": "execute_result"
    }
   ],
   "source": [
    "images[0]"
   ]
  },
  {
   "cell_type": "code",
   "execution_count": 55,
   "metadata": {
    "hidden": true
   },
   "outputs": [
    {
     "name": "stdout",
     "output_type": "stream",
     "text": [
      "100\n"
     ]
    }
   ],
   "source": [
    "# image 统一长度\n",
    "PADDING_CONSTANT = 255\n",
    "assert len(set([b.shape[0] for b in image_list])) == 1\n",
    "assert len(set([b.shape[2] for b in image_list])) == 1\n",
    "\n",
    "dim0 = image_list[0].shape[0]\n",
    "dim1 = max([b.shape[1] for b in image_list])\n",
    "dim2 = image_list[0].shape[2]\n",
    "\n",
    "image_list_new = np.full((len(image_list), dim0, dim1, dim2), PADDING_CONSTANT).astype(np.long)\n",
    "print(len(image_list_new))\n",
    "for idx, image in enumerate(image_list_new):\n",
    "    image[:,:image_list[idx].shape[1],:] = image_list[idx]\n",
    "    img_path = os.path.join(output_path, str(idx)+'_'+all_fonts_name[idx%len(all_fonts)] + \".png\")\n",
    "    cv2.imwrite(img_path, image)   \n",
    "    "
   ]
  },
  {
   "cell_type": "markdown",
   "metadata": {
    "heading_collapsed": true
   },
   "source": [
    "# opencv 文本检测"
   ]
  },
  {
   "cell_type": "raw",
   "metadata": {
    "hidden": true
   },
   "source": [
    "https://www.learnopencv.com/tag/text-detection/\n",
    "https://stackoverflow.com/questions/46105401/improve-text-area-detection-opencv-python\n",
    "https://stackoverflow.com/questions/44334078/recognize-text-in-images-using-canny-edge-detection-in-opencv\n",
    "https://stackoverflow.com/questions/37771263/detect-text-area-in-an-image-using-python-and-opencv\n",
    "https://stackoverflow.com/questions/42174563/easy-ways-to-detect-and-crop-blocks-paragraphs-of-text-out-of-image\n",
    "\n",
    "import cv2\n",
    "\n",
    "image = cv2.imread('1.png')\n",
    "gray = cv2.cvtColor(image, cv2.COLOR_BGR2GRAY)\n",
    "blur = cv2.GaussianBlur(gray, (9,9), 0)\n",
    "thresh = cv2.adaptiveThreshold(blur,255,cv2.ADAPTIVE_THRESH_GAUSSIAN_C, cv2.THRESH_BINARY_INV,11,30)\n",
    "\n",
    "kernel = cv2.getStructuringElement(cv2.MORPH_RECT, (9,9))\n",
    "dilate = cv2.dilate(thresh, kernel, iterations=4)\n",
    "\n",
    "cnts = cv2.findContours(dilate, cv2.RETR_EXTERNAL, cv2.CHAIN_APPROX_SIMPLE)\n",
    "cnts = cnts[0] if len(cnts) == 2 else cnts[1]\n",
    "\n",
    "ROI_number = 0\n",
    "for c in cnts:\n",
    "    area = cv2.contourArea(c)\n",
    "    if area > 10000:\n",
    "        x,y,w,h = cv2.boundingRect(c)\n",
    "        cv2.rectangle(image, (x, y), (x + w, y + h), (36,255,12), 3)\n",
    "        # ROI = image[y:y+h, x:x+w]\n",
    "        # cv2.imwrite('ROI_{}.png'.format(ROI_number), ROI)\n",
    "        # ROI_number += 1\n",
    "\n",
    "cv2.imshow('thresh', thresh)\n",
    "cv2.imshow('dilate', dilate)\n",
    "\n"
   ]
  },
  {
   "cell_type": "code",
   "execution_count": 25,
   "metadata": {
    "hidden": true
   },
   "outputs": [
    {
     "name": "stdout",
     "output_type": "stream",
     "text": [
      "(26, 63, 3)\n"
     ]
    },
    {
     "data": {
      "image/png": "[encoded data removed]",
      "text/plain": [
       "<Figure size 720x360 with 1 Axes>"
      ]
     },
     "metadata": {
      "needs_background": "light"
     },
     "output_type": "display_data"
    }
   ],
   "source": [
    "# 二值化数据\n",
    "import cv2\n",
    "import matplotlib.pyplot as plt\n",
    "plt.rcParams['figure.figsize'] = 10, 5\n",
    "\n",
    "image = cv2.imread('d:\\\\img\\\\exam\\\\F_2.png')\n",
    "print(image.shape)\n",
    "gray = cv2.cvtColor(image, cv2.COLOR_BGR2GRAY)\n",
    "blur = cv2.GaussianBlur(gray, (3,3), 0)\n",
    "thresh = cv2.adaptiveThreshold(blur,255,cv2.ADAPTIVE_THRESH_GAUSSIAN_C, cv2.THRESH_BINARY_INV,31,10)\n",
    "kernel = cv2.getStructuringElement(cv2.MORPH_RECT, (3,3))\n",
    "dilate = cv2.dilate(thresh, kernel, iterations=1)\n",
    "erode = cv2.erode(dilate, kernel, iterations=1)\n",
    "img = cv2.bitwise_not(erode)\n",
    "img = cv2.cvtColor(img, cv2.COLOR_GRAY2BGR)\n",
    "cv2.imwrite('d:\\\\img\\\\exam\\\\D_5.png',img)\n",
    "plt.imshow(img,'brg')\n",
    "plt.show()\n"
   ]
  },
  {
   "cell_type": "code",
   "execution_count": null,
   "metadata": {
    "hidden": true
   },
   "outputs": [],
   "source": []
  },
  {
   "cell_type": "markdown",
   "metadata": {},
   "source": [
    "# 批量修改文件名"
   ]
  },
  {
   "cell_type": "code",
   "execution_count": 4,
   "metadata": {
    "ExecuteTime": {
     "end_time": "2020-06-09T03:07:03.907911Z",
     "start_time": "2020-06-09T03:07:03.770583Z"
    }
   },
   "outputs": [
    {
     "name": "stdout",
     "output_type": "stream",
     "text": [
      "sub path: D:\\PROJECT_TW\\git\\data\\ocr\\images\\SampleH\n",
      "修改前： ['H_1000.png', 'H_1001.png', 'H_1002.png', 'H_1003.png', 'H_1004.png', 'H_1005.png', 'H_1006.png', 'H_1007.png', 'H_1008.png', 'H_1009.png', 'H_1010.png', 'H_1011.png', 'H_1012.png', 'H_1013.png', 'H_1014.png', 'H_1015.png', 'H_1016.png', 'H_1017.png', 'H_1018.png', 'H_1019.png', 'H_1020.png', 'H_1021.png', 'H_1022.png', 'img_crop00563320-fe9b-49a9-b178-fd712fe138cf.png', 'img_crop03aa3271-e14c-4201-901a-87938de0faa9.png', 'img_crop0680151f-304f-4f36-9991-145f19f36de2.png', 'img_crop0844baa0-919b-4eb7-9cb7-91dec2fbcf43.png', 'img_crop0aa0e303-c502-40ee-9f2f-86984e7836b3.png', 'img_crop0b235b64-e9c0-4479-a143-5e00b504985e.png', 'img_crop0e7841bb-4e24-4e1a-931a-25289f30e784.png', 'img_crop0eec9374-8963-4e81-bef8-4fa55096bbda.png', 'img_crop0f75741a-b298-43a5-bb1c-48524e99be5b.png', 'img_crop1089a2c6-0225-4bfb-8876-db82ae358f93.png', 'img_crop114db01f-e3cf-4fc0-bdf7-a2b8a700baa4.png', 'img_crop11af54d8-1107-4fb1-b045-74769d88b971.png', 'img_crop136db996-20ca-425e-ad24-0815ccefec56.png', 'img_crop13f9a80a-6718-4b92-90b2-a5e6966e1621.png', 'img_crop14126a48-2a7f-4a66-8070-3eb1400520ea.png', 'img_crop14e554fe-2d46-427d-ba2a-1b6dde956bd4.png', 'img_crop15d7e38d-0974-4843-aa64-3e8df279489a.png', 'img_crop17ac31ca-b1ac-440f-aee8-d224f04e13eb.png', 'img_crop1906f376-5362-44fd-b5a7-8ee679981a52.png', 'img_crop198143c1-b2a7-49b6-98f4-5c39d5bb7e40.png', 'img_crop1b568f94-b941-475b-bfb1-fbae90ad11e9.png', 'img_crop1e86cbf8-d997-4a6a-a0ac-a0ddc78af4d0.png', 'img_crop2143d74d-fd8b-4a6f-a4e7-c8d9f4573908.png', 'img_crop21504b71-817f-4a5b-849a-919ab680f569.png', 'img_crop22578c2e-0b09-4b44-a8c3-57c511f8c8d5.png', 'img_crop2303935f-7bb3-430d-b2f2-459565309527.png', 'img_crop25e557b6-3b9f-43df-a05b-d82c2acd02c1.png', 'img_crop25fa27a0-9a6b-4266-a03c-514ba2b4a936.png', 'img_crop27ca20a7-9e0f-4546-9774-3bd82d8fd1af.png', 'img_crop27f954f4-a02c-4055-a302-a4673d535dff.png', 'img_crop29e9071d-ae4a-4edc-be0c-15db1d57ed23.png', 'img_crop2e3219a3-2d25-49c0-a07d-ad041f2ca4f3.png', 'img_crop31d97da1-b8fe-4262-a2aa-a2bccdff2cfb.png', 'img_crop31e6b156-e54a-41a0-b306-45099fa09eb8.png', 'img_crop325dc066-253b-4fdb-991d-29cdbe21ab08.png', 'img_crop349da062-e8a2-461a-b78d-306dc71bafbc.png', 'img_crop36a9dc51-083a-41c1-ba48-de6ed11093c1.png', 'img_crop3a284af5-5501-437f-b54b-fc4236731731.png', 'img_crop3b599713-d381-48c9-93e7-a49c4b125056.png', 'img_crop3b630145-9449-4de0-a772-58d64b0766d3.png', 'img_crop3d6e37a5-43ec-4aa3-b8a1-47368fcd5912.png', 'img_crop401478f6-33e1-40e8-9618-1beea0ad262f.png', 'img_crop4313073e-4c55-4521-9a19-2b0d57fee416.png', 'img_crop43c8a683-f7e7-46f0-aa03-9fe21a2bf202.png', 'img_crop442bb696-e2ec-4520-88c4-51daddb1419e.png', 'img_crop463bd551-bcc9-4fa1-9331-f001fe4f6a45.png', 'img_crop46b9b63f-dc69-4990-a0f8-fa7c2c02d412.png', 'img_crop47f733ca-5c8a-47d5-9ce5-ab78f8c42706.png', 'img_crop4a643757-08a9-41dc-b9ce-9dc6b543a86c.png', 'img_crop4d3f0315-9245-44de-93f4-a1c6b56e45d9.png', 'img_crop5036e6e0-8f2e-4c5b-ae09-a8c712607520.png', 'img_crop5324b2b3-0010-4632-9690-b36637716b94.png', 'img_crop54fe652d-17fc-4481-9794-f1518b2ba18c.png', 'img_crop59db6586-1d05-4ac4-ada1-582863e35b47.png', 'img_crop5b286f74-54fd-4159-9f62-1979be22f562.png', 'img_crop5d7ca612-ad16-48cf-9071-63a55fede154.png', 'img_crop61796b05-3944-4c0b-b339-7f8737e3896c.png', 'img_crop619f90d9-a2ed-4eae-888d-acd473af1994.png', 'img_crop63e2b9c4-ff42-4acd-bf7b-6e8a644840d7.png', 'img_crop66214e56-4e6c-430c-8a2f-4df72e658ffe.png', 'img_crop66d21284-3ec0-4d9b-9c16-fdc07b684d89.png', 'img_crop69d8c774-ef69-4b45-8774-6e266687203e.png', 'img_crop69e09ac8-3f94-4dd7-bf39-76444636af82.png', 'img_crop6a57b64c-8962-4162-9e4e-7ccf6b76923b.png', 'img_crop6bcecd6f-faa1-47e0-aeb8-92f30155107f.png', 'img_crop6d989393-4421-45b5-8a2c-db5fa6790489.png', 'img_crop6e53c128-038f-405f-b502-1c5492942503.png', 'img_crop6f774e00-3a50-4195-bcd2-5f368c232119.png', 'img_crop7031e976-ed82-4e2c-a467-8cc2a16e8d95.png', 'img_crop70497195-4d94-4986-b7c8-316cd6213463.png', 'img_crop719e1c8b-ab13-443e-a3bc-b501c9c95b11.png', 'img_crop7bc50349-e232-4d47-a4a9-259d8eabc715.png', 'img_crop88e35f74-06de-4bba-856c-86b3664071c4.png', 'img_crop8974b96f-9635-41bf-9d25-66126c78f814.png', 'img_crop8b865b6b-fef2-4a17-8df3-c2ca05e264cc.png', 'img_crop8c7cf3ae-f9a0-4a75-adef-28584f5fc06f.png', 'img_crop90b33407-6156-489a-8bb4-933a93fe3153.png', 'img_crop91ed7518-43c4-4560-9a04-f0e72afc81c0.png', 'img_crop93f49e8d-cbeb-4bf7-8b95-2a35425d474c.png', 'img_crop94a68389-2297-427f-9205-3930c0f0b885.png', 'img_crop9531ca2f-a8ed-4981-8793-9f4fe8d20635.png', 'img_crop966705f9-3641-40fa-a9a7-0f469d6e6dad.png', 'img_crop97be719b-9f3d-4f51-a44b-ec1c2b56ed80.png', 'img_crop98d62c8a-fda2-4fda-be46-3fcf02cb0c62.png', 'img_crop9a73eca7-b1a5-4c01-8510-5ecba768b872.png', 'img_crop9a75145f-59ea-409b-b832-fbb6d7629379.png', 'img_crop9f74a809-20bb-4de2-9192-3a370815f3e9.png', 'img_cropa0a36663-c834-474e-ba66-0d951b198ba0.png', 'img_cropa1e01f1e-d43d-400a-ba30-d28109e952fc.png', 'img_cropa227e612-f8e5-48f4-9eef-307bae76e80a.png', 'img_cropa6f55989-f396-4707-8674-a0f224ad0d57.png', 'img_cropa724c7ce-5aaf-4425-95bc-fa45fe08c79a.png', 'img_cropaad93ae8-1270-4216-beae-54697574fd08.png', 'img_cropacbcf337-cfac-4db1-a4ec-e5a002c1f90c.png', 'img_cropad0db163-996d-4d00-b7e3-b43bdad319a4.png', 'img_cropad872a66-d443-4df1-abf8-ff8fbafd11e6.png', 'img_cropaeae01cc-a901-4c24-a006-d5995bcc7ce6.png', 'img_cropb043e7f1-4e43-4fde-88b9-d9c03be8b82b.png', 'img_cropb3f8b562-b960-4b17-b166-cfabe89ad897.png', 'img_cropb5147210-ae16-48b3-98e0-d339c7aed034.png', 'img_cropbd590cd8-e819-443e-ab9b-77ca95b56e25.png', 'img_cropc02a0a4b-b4b6-4969-a741-7ee023a38107.png', 'img_cropc1dc802f-9b96-43fc-9b1f-a8bd13650e91.png', 'img_cropc2de703b-7d97-4838-9422-8c2543cb5fce.png', 'img_cropca182c46-9dc8-4f70-ae44-f4ec45357e13.png', 'img_cropcbddf77f-9a5e-4e23-bfe1-1e511a19d761.png', 'img_cropcde6f78f-f48b-48f6-9cd9-23e44ebab78b.png', 'img_cropd6c6fdd6-4cb7-48b9-91ff-767c6b99fcb5.png', 'img_cropdda54680-4191-4d6d-b176-74a3ecde8fad.png', 'img_crope28d7e7f-d92e-4afe-a3ed-34ede96fd506.png', 'img_crope346f3b8-167d-4ae8-a623-5cd9b5585352.png', 'img_crope9274c6a-0142-4a74-b1ac-61526f85394a.png', 'img_cropebe07072-e315-40bf-b9db-70d928fbd905.png', 'img_croped649b98-791b-4b71-a5e8-bd1e2b97ddbb.png', 'img_cropf31d52c8-90d4-438d-b3b9-388f6162c678.png', 'img_cropf55af733-e47f-41e7-a010-ae938b4394c7.png', 'img_cropf6660a13-4907-49dd-baa7-6b81cc14b184.png', 'img_cropf8ddcf08-1696-4e43-8a30-bdc6c3569db5.png', 'img_cropf8e62907-105e-4438-b15a-5affe75ea0f3.png', 'img_cropff4ca583-d2ff-4d4a-b184-ad6779d883a7.png']\n"
     ]
    }
   ],
   "source": [
    "# encoding: utf-8\n",
    "import os\n",
    "import re\n",
    "import sys\n",
    "# D:\\PROJECT_TW\\git\\data\\ocr\\images\\SampleF\n",
    "path = 'D:\\\\PROJECT_TW\\\\git\\\\data\\\\ocr\\\\images'\n",
    "# alpha = ['A','B','C','D','E','F','G','H','I']\n",
    "# alpha = ['×','√']\n",
    "alpha = [u'G',]\n",
    "'''F,G,H'''\n",
    "for item in alpha:\n",
    "    subpath = os.path.sep.join([path,'Sample{}'.format(item)])\n",
    "    print('sub path:', subpath)\n",
    "#     subpath = os.path.join(path,item)\n",
    "    fileList = os.listdir(subpath)\n",
    "    # 输出此文件夹中包含的文件名称\n",
    "    print(\"修改前：\" , fileList)\n",
    "    currentpath = os.getcwd()\n",
    "    os.chdir(subpath)\n",
    "    number = 1000\n",
    "    for fileName in fileList:\n",
    "        os.rename(fileName, '{}_{}.png'.format(item, number))\n",
    "        number += 1\n"
   ]
  },
  {
   "cell_type": "code",
   "execution_count": null,
   "metadata": {},
   "outputs": [],
   "source": []
  }
 ],
 "metadata": {
  "kernelspec": {
   "display_name": "Python 3",
   "language": "python",
   "name": "python3"
  },
  "language_info": {
   "codemirror_mode": {
    "name": "ipython",
    "version": 3
   },
   "file_extension": ".py",
   "mimetype": "text/x-python",
   "name": "python",
   "nbconvert_exporter": "python",
   "pygments_lexer": "ipython3",
   "version": "3.7.4"
  },
  "toc": {
   "base_numbering": 1,
   "nav_menu": {},
   "number_sections": true,
   "sideBar": true,
   "skip_h1_title": false,
   "title_cell": "Table of Contents",
   "title_sidebar": "Contents",
   "toc_cell": false,
   "toc_position": {},
   "toc_section_display": true,
   "toc_window_display": false
  },
  "varInspector": {
   "cols": {
    "lenName": 16,
    "lenType": 16,
    "lenVar": 40
   },
   "kernels_config": {
    "python": {
     "delete_cmd_postfix": "",
     "delete_cmd_prefix": "del ",
     "library": "var_list.py",
     "varRefreshCmd": "print(var_dic_list())"
    },
    "r": {
     "delete_cmd_postfix": ") ",
     "delete_cmd_prefix": "rm(",
     "library": "var_list.r",
     "varRefreshCmd": "cat(var_dic_list()) "
    }
   },
   "types_to_exclude": [
    "module",
    "function",
    "builtin_function_or_method",
    "instance",
    "_Feature"
   ],
   "window_display": false
  }
 },
 "nbformat": 4,
 "nbformat_minor": 2
}
