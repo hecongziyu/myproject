{
 "cells": [
  {
   "cell_type": "raw",
   "metadata": {},
   "source": [
    "\n",
    "\n",
    "1、 https://www.jianshu.com/p/49adfbe4b804 图片融合\n",
    "2、 https://www.cnblogs.com/Ph-one/p/12090127.html opencv实现无缝融合--seamless clone\n",
    "3、 https://www.cnblogs.com/riddick/p/9000281.html"
   ]
  },
  {
   "cell_type": "code",
   "execution_count": 13,
   "metadata": {
    "ExecuteTime": {
     "end_time": "2020-06-03T11:34:19.094750Z",
     "start_time": "2020-06-03T11:34:18.192140Z"
    }
   },
   "outputs": [
    {
     "data": {
      "image/png": "[encoded data removed]",
      "text/plain": [
       "<Figure size 432x288 with 1 Axes>"
      ]
     },
     "metadata": {
      "needs_background": "light"
     },
     "output_type": "display_data"
    },
    {
     "data": {
      "image/png": "[encoded data removed]",
      "text/plain": [
       "<Figure size 432x288 with 1 Axes>"
      ]
     },
     "metadata": {
      "needs_background": "light"
     },
     "output_type": "display_data"
    }
   ],
   "source": [
    "import cv2\n",
    "import numpy as np\n",
    "import os\n",
    "from matplotlib import pyplot as plt\n",
    "\n",
    "'''\n",
    "方式一、直接填充\n",
    "'''\n",
    "\n",
    "data_root = 'D:\\\\PROJECT_TW\\\\git\\\\data\\\\ocr'\n",
    "char_img_file = os.path.sep.join([data_root,'dest','SampleB','B_1103.png'])\n",
    "bg_img_file = os.path.sep.join([data_root,'dest','bg','bg_A_1169.png'])\n",
    "\n",
    "\n",
    "\n",
    "\n",
    "image = cv2.imread(char_img_file, cv2.IMREAD_GRAYSCALE)\n",
    "bg_img = cv2.imread(bg_img_file, cv2.IMREAD_GRAYSCALE)\n",
    "scale = 0.6\n",
    "image = cv2.resize(image, (0, 0), fx=scale, fy=scale, interpolation=cv2.INTER_NEAREST)\n",
    "\n",
    "plt.imshow(image,'gray')\n",
    "plt.show()\n",
    "\n",
    "# print(image)\n",
    "y, x = np.where(image != 0)\n",
    "y += 1\n",
    "x += 10\n",
    "pos = np.array(zip(y,x))\n",
    "\n",
    "bg_img[y,x] = 128\n",
    "plt.imshow(bg_img,'gray')\n",
    "\n",
    "cv2.imwrite('D://PROJECT_TW/git/data/tmp/tmp.png',bg_img)\n",
    "\n",
    "plt.show()"
   ]
  },
  {
   "cell_type": "code",
   "execution_count": 27,
   "metadata": {
    "ExecuteTime": {
     "end_time": "2020-06-03T02:50:42.808038Z",
     "start_time": "2020-06-03T02:50:42.545023Z"
    }
   },
   "outputs": [
    {
     "name": "stdout",
     "output_type": "stream",
     "text": [
      "uint8\n",
      "(39, 77, 3)\n",
      "(25, 28, 3)\n",
      "(39, 77, 3)\n",
      "(38, 19)\n"
     ]
    },
    {
     "data": {
      "image/png": "[encoded data removed]",
      "text/plain": [
       "<Figure size 432x288 with 1 Axes>"
      ]
     },
     "metadata": {
      "needs_background": "light"
     },
     "output_type": "display_data"
    }
   ],
   "source": [
    "import cv2\n",
    "import numpy as np\n",
    "import os\n",
    "from matplotlib import pyplot as plt\n",
    "\n",
    "'''\n",
    "方式二、采用图片融和的方式\n",
    "'''\n",
    "\n",
    "data_root = 'D:\\\\PROJECT_TW\\\\git\\\\data\\\\ocr'\n",
    "char_img_file = os.path.sep.join([data_root,'images','SampleA','A_1003.png'])\n",
    "char_img_pos = [45,17,80,48]\n",
    "x1,y1,x2,y2 = char_img_pos\n",
    "bg_img_file = os.path.sep.join([data_root,'dest','bg','bg_A_1029.png'])\n",
    "image = cv2.imread(char_img_file, cv2.IMREAD_COLOR)\n",
    "bg_img = cv2.imread(bg_img_file, cv2.IMREAD_COLOR)\n",
    "image = image[y1:y2,  x1:x2, ]\n",
    "scale = 0.8\n",
    "image = cv2.resize(image, (0,0), fx=scale, fy=scale, interpolation = cv2.INTER_AREA)\n",
    "# bg_img = cv2.resize(bg_img, (0,0), fx=2.0, fy=2.0, interpolation = cv2.INTER_AREA)\n",
    "print(image.dtype)\n",
    "mask = np.ones(image.shape, image.dtype) * 255\n",
    "print(bg_img.shape)\n",
    "print(image.shape)\n",
    "\n",
    "height,width,_ = bg_img.shape\n",
    "print(bg_img.shape)\n",
    "center = (int(width/2), int(height/2))\n",
    "# center = (40, 18)\n",
    "# center = (1,1)\n",
    "print(center)\n",
    "cv2.MIXED_CLONE\n",
    "outimg = cv2.seamlessClone(image,bg_img, mask,center, cv2.NORMAL_CLONE)\n",
    "outimg = cv2.cvtColor(outimg, cv2.COLOR_BGR2GRAY)\n",
    "plt.imshow(outimg,'gray')\n",
    "plt.show()"
   ]
  },
  {
   "cell_type": "code",
   "execution_count": null,
   "metadata": {},
   "outputs": [],
   "source": []
  }
 ],
 "metadata": {
  "kernelspec": {
   "display_name": "Python 3",
   "language": "python",
   "name": "python3"
  },
  "language_info": {
   "codemirror_mode": {
    "name": "ipython",
    "version": 3
   },
   "file_extension": ".py",
   "mimetype": "text/x-python",
   "name": "python",
   "nbconvert_exporter": "python",
   "pygments_lexer": "ipython3",
   "version": "3.7.4"
  },
  "varInspector": {
   "cols": {
    "lenName": 16,
    "lenType": 16,
    "lenVar": 40
   },
   "kernels_config": {
    "python": {
     "delete_cmd_postfix": "",
     "delete_cmd_prefix": "del ",
     "library": "var_list.py",
     "varRefreshCmd": "print(var_dic_list())"
    },
    "r": {
     "delete_cmd_postfix": ") ",
     "delete_cmd_prefix": "rm(",
     "library": "var_list.r",
     "varRefreshCmd": "cat(var_dic_list()) "
    }
   },
   "types_to_exclude": [
    "module",
    "function",
    "builtin_function_or_method",
    "instance",
    "_Feature"
   ],
   "window_display": false
  }
 },
 "nbformat": 4,
 "nbformat_minor": 2
}
