{
 "cells": [
  {
   "cell_type": "markdown",
   "metadata": {},
   "source": [
    "    http://www.52nlp.cn/hmm-learn-best-practices-four-hidden-markov-models\n",
    "    \n",
    "    https://www.bilibili.com/video/av24132174/?p=4\n",
    "    \n",
    "    http://www.52nlp.cn/hmm-application-in-natural-language-processing-one-part-of-speech-tagging-1  HMM在自然语言处理中的应用一：词性标注\n",
    "    \n",
    "    http://www.52nlp.cn/category/word-segmentation  自然语言处理\n",
    "                                          http://www.52nlp.cn/%E7%94%A8mecab%E6%89%93%E9%80%A0%E4%B8%80%E5%A5%97%E5%AE%9E%E7%94%A8%E7%9A%84%E4%B8%AD%E6%96%87%E5%88%86%E8%AF%8D%E7%B3%BB%E7%BB%9F    用MeCab打造一套实用的中文分词系统\n",
    "                                          \n",
    "    http://www.52nlp.cn/%E4%B8%AD%E6%96%87%E5%88%86%E8%AF%8D%E5%85%A5%E9%97%A8%E4%B9%8B%E5%AD%97%E6%A0%87%E6%B3%A8%E6%B3%951  中文分词\n",
    "    \n",
    "    http://www.52nlp.cn/the-character-based-tagging-method-of-chinese-word-segmentation 基于字标注的中文分词方法\n",
    "    \n",
    "    http://www.52nlp.cn\n",
    "    \n",
    "    \n",
    "    https://blog.csdn.net/sinat_26917383/article/details/71436563   sklearn+gensim︱jieba分词、词袋doc2bow、TfidfVectorizer\n",
    "    \n",
    "    https://blog.csdn.net/sinat_35376396/article/details/52389098 中文文本挖掘课程笔记之jieba分词\n",
    "    \n",
    "    https://github.com/fxsjy/jieba"
   ]
  },
  {
   "cell_type": "markdown",
   "metadata": {},
   "source": [
    "# 词性标注"
   ]
  },
  {
   "cell_type": "code",
   "execution_count": 1,
   "metadata": {},
   "outputs": [],
   "source": [
    "# https://www.cnblogs.com/pinard/p/7001397.html\n",
    "# https://www.cnblogs.com/fangbei/p/8409110.html\n",
    "\n",
    "from hmmlearn import hmm\n",
    "\n"
   ]
  }
 ],
 "metadata": {
  "kernelspec": {
   "display_name": "Python 3",
   "language": "python",
   "name": "python3"
  },
  "language_info": {
   "codemirror_mode": {
    "name": "ipython",
    "version": 3
   },
   "file_extension": ".py",
   "mimetype": "text/x-python",
   "name": "python",
   "nbconvert_exporter": "python",
   "pygments_lexer": "ipython3",
   "version": "3.7.4"
  },
  "toc": {
   "base_numbering": 1,
   "nav_menu": {},
   "number_sections": true,
   "sideBar": true,
   "skip_h1_title": false,
   "title_cell": "Table of Contents",
   "title_sidebar": "Contents",
   "toc_cell": false,
   "toc_position": {},
   "toc_section_display": true,
   "toc_window_display": false
  },
  "varInspector": {
   "cols": {
    "lenName": 16,
    "lenType": 16,
    "lenVar": 40
   },
   "kernels_config": {
    "python": {
     "delete_cmd_postfix": "",
     "delete_cmd_prefix": "del ",
     "library": "var_list.py",
     "varRefreshCmd": "print(var_dic_list())"
    },
    "r": {
     "delete_cmd_postfix": ") ",
     "delete_cmd_prefix": "rm(",
     "library": "var_list.r",
     "varRefreshCmd": "cat(var_dic_list()) "
    }
   },
   "types_to_exclude": [
    "module",
    "function",
    "builtin_function_or_method",
    "instance",
    "_Feature"
   ],
   "window_display": false
  }
 },
 "nbformat": 4,
 "nbformat_minor": 2
}
