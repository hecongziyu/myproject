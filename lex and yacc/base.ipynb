{
 "cells": [
  {
   "cell_type": "raw",
   "metadata": {},
   "source": [
    "\n",
    "\n",
    "\n",
    "1、https://www.jianshu.com/p/1fe5a61fd9dc 学习笔记（4）- Yacc语法结构\n",
    "2、https://www.cnblogs.com/jiading/p/10793732.html [转载]Yacc基础\n",
    "3、https://www.cnblogs.com/P_Chou/p/python-lex-yacc.html 【译】Python Lex Yacc手册    ！！！！！！！\n",
    "4、https://www.jianshu.com/p/0eaeba15ee68 \n"
   ]
  },
  {
   "cell_type": "code",
   "execution_count": 74,
   "metadata": {
    "ExecuteTime": {
     "end_time": "2020-11-19T06:25:57.442661Z",
     "start_time": "2020-11-19T06:25:57.424672Z"
    }
   },
   "outputs": [
    {
     "name": "stdout",
     "output_type": "stream",
     "text": [
      "answer : {'Answer': '1.A.、\\n', 'Knowledge': '绝对值。\\n', 'Resolve': '解:根据负数的绝对值等于它的相反数,得|-5|=5.1234'}\n"
     ]
    }
   ],
   "source": [
    "import importlib\n",
    "import utils.lex_token_utils as lexutil\n",
    "importlib.reload(lexutil)\n",
    "from utils.lex_token_utils import  AnsLexer\n",
    "text = '1. 考点:绝对值。\\n解答:解:根据负数的绝对值等于它的相反数,得|-5|=5.故答A.、\\n解析：1234'\n",
    "# text = '答案.A.、\\n解析：1234'\n",
    "# text = '16. 考点:一元二次方程的应用。\\n解答:解:(1)设这两年我国公民出境旅游总人数的年平均增长率为x.根据题意得\\n$${5000(1+x)^{2}=7200.}$$\\n解得$${x_{1}=0.2=20\\\\%,\\\\quadx_{2}=-2.2}$$(不合题意,舍去)\\n答:这两年我国公民出境旅游总人数的年平均增长率为20%.\\n(2)如果2012年仍保持相同的年平均增长率，\\n则2012年我国公民出境旅游总人数为7200(1+x)=7200x120%=8640万人次.\\n答:预测2012 年我国公民出境旅游总人数约8640万人次.'\n",
    "anslexer = AnsLexer()\n",
    "anslexer.build()\n",
    "tok_lists = anslexer.input(text)\n",
    "print('answer :', anslexer.ans_map)\n",
    "# print('tok len :', len(tok_lists))\n",
    "# print('tok lists :', tok_lists)\n"
   ]
  },
  {
   "cell_type": "code",
   "execution_count": null,
   "metadata": {},
   "outputs": [],
   "source": []
  }
 ],
 "metadata": {
  "kernelspec": {
   "display_name": "Python 3",
   "language": "python",
   "name": "python3"
  },
  "language_info": {
   "codemirror_mode": {
    "name": "ipython",
    "version": 3
   },
   "file_extension": ".py",
   "mimetype": "text/x-python",
   "name": "python",
   "nbconvert_exporter": "python",
   "pygments_lexer": "ipython3",
   "version": "3.7.4"
  },
  "varInspector": {
   "cols": {
    "lenName": 16,
    "lenType": 16,
    "lenVar": 40
   },
   "kernels_config": {
    "python": {
     "delete_cmd_postfix": "",
     "delete_cmd_prefix": "del ",
     "library": "var_list.py",
     "varRefreshCmd": "print(var_dic_list())"
    },
    "r": {
     "delete_cmd_postfix": ") ",
     "delete_cmd_prefix": "rm(",
     "library": "var_list.r",
     "varRefreshCmd": "cat(var_dic_list()) "
    }
   },
   "types_to_exclude": [
    "module",
    "function",
    "builtin_function_or_method",
    "instance",
    "_Feature"
   ],
   "window_display": false
  }
 },
 "nbformat": 4,
 "nbformat_minor": 2
}
