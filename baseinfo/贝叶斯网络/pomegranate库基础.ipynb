{
 "cells": [
  {
   "cell_type": "code",
   "execution_count": 1,
   "metadata": {
    "ExecuteTime": {
     "end_time": "2021-01-14T01:01:52.254758Z",
     "start_time": "2021-01-14T01:01:50.315866Z"
    }
   },
   "outputs": [
    {
     "name": "stdout",
     "output_type": "stream",
     "text": [
      "Populating the interactive namespace from numpy and matplotlib\n"
     ]
    }
   ],
   "source": [
    "\n",
    "# https://github.com/nnvutisa/EM_BayesNet  隐节点参数学习\n",
    "# https://towardsdatascience.com/implement-expectation-maximization-em-algorithm-in-python-from-scratch-f1278d1b9137 \n",
    "%pylab inline\n",
    "from pomegranate import *\n",
    "import numpy as np"
   ]
  },
  {
   "cell_type": "code",
   "execution_count": 33,
   "metadata": {
    "ExecuteTime": {
     "end_time": "2021-01-13T08:33:09.610874Z",
     "start_time": "2021-01-13T08:33:09.591862Z"
    }
   },
   "outputs": [],
   "source": [
    "m_1104 = DiscreteDistribution({ 1 : 0.5, 0 : 0.5 } )\n",
    "item0 = ConditionalProbabilityTable(\n",
    "    [[ 1, 1, 0.9 ],\n",
    "     [ 1, 0, 0.1 ],\n",
    "     [ 0, 1, 0.25 ],\n",
    "     [ 0, 0, 0.75 ]], [m_1104])\n",
    "\n",
    "# item1 = ConditionalProbabilityTable(\n",
    "#     [[ 'Y', 'Y', 0.9 ],\n",
    "#      [ 'Y', 'N', 0.1 ],\n",
    "#      [ 'N', 'Y', 0.25 ],\n",
    "#      [ 'N', 'N', 0.75 ]], [m_1104])\n",
    "\n",
    "s0 = State(m_1104, name='m_1104')\n",
    "s1 = State(item0, name='item0')\n",
    "# s2 = State(item0, name='item1')\n",
    "network = BayesianNetwork(\"knowledge\")\n",
    "network.add_states(s0,s1)\n",
    "# network.add_edge(s0,s1)\n",
    "# network.add_edge(s0,s2)\n",
    "network.bake()\n",
    "# network.struc\n",
    "\n",
    "# network\n",
    "# network.predict_proba([{'item0':'Y'}]) # 当item0 为Y时, m_1104 为 T, N的概率\n",
    "# network.predict_proba([{'m_1104':'N'}]) # 当m_1104, item0为 T, N的概率\n",
    "\n",
    "# m_1104.probability('False')\n",
    "# item0.probability(['True','False'])\n",
    "# network.predict_proba([{'item1':'Y'}])"
   ]
  },
  {
   "cell_type": "code",
   "execution_count": 2,
   "metadata": {
    "ExecuteTime": {
     "end_time": "2021-01-14T01:02:13.994044Z",
     "start_time": "2021-01-14T01:02:13.984050Z"
    }
   },
   "outputs": [],
   "source": [
    "# 生成训练数据\n",
    "train_data = np.random.randint(0,2, (10,2))\n",
    "train_data = train_data.astype(np.object)\n",
    "train_data[:,0] = np.nan\n",
    "\n",
    "# use EM algorithm max prob m_1104 hidden node \n",
    "# observer 1,0,1  ==> M step : P(M|D) = P(D|M) * P(M) /   P(D)\n",
    "'''\n",
    "通过先验概率计算后验: \n",
    "    观测值 1,0,1\n",
    "    P(M=1) * P(I=1|M=1) *  P(I=0|M=1) *  P(I=1|M=1)     = 0.7\n",
    "    P(M=0) * P(I=1|M=0) * P(I=0|M=0) *  P(I=1|M=0) = 0.3\n",
    "    \n",
    "    更新先验 P(M=1) = 0.7 / (0.7 + 0.3)\n",
    "    \n",
    "f2:\n",
    "    P(M=1) * (1-0.9)^3 * (1-0.1) ^2 \n",
    "    \n",
    "'''"
   ]
  },
  {
   "cell_type": "code",
   "execution_count": 22,
   "metadata": {
    "ExecuteTime": {
     "end_time": "2021-01-13T08:26:13.869243Z",
     "start_time": "2021-01-13T08:26:13.857249Z"
    }
   },
   "outputs": [
    {
     "data": {
      "text/plain": [
       "nan"
      ]
     },
     "execution_count": 22,
     "metadata": {},
     "output_type": "execute_result"
    }
   ],
   "source": [
    "np.nan"
   ]
  },
  {
   "cell_type": "code",
   "execution_count": null,
   "metadata": {},
   "outputs": [],
   "source": []
  }
 ],
 "metadata": {
  "kernelspec": {
   "display_name": "Python 3",
   "language": "python",
   "name": "python3"
  },
  "language_info": {
   "codemirror_mode": {
    "name": "ipython",
    "version": 3
   },
   "file_extension": ".py",
   "mimetype": "text/x-python",
   "name": "python",
   "nbconvert_exporter": "python",
   "pygments_lexer": "ipython3",
   "version": "3.7.4"
  },
  "varInspector": {
   "cols": {
    "lenName": 16,
    "lenType": 16,
    "lenVar": 40
   },
   "kernels_config": {
    "python": {
     "delete_cmd_postfix": "",
     "delete_cmd_prefix": "del ",
     "library": "var_list.py",
     "varRefreshCmd": "print(var_dic_list())"
    },
    "r": {
     "delete_cmd_postfix": ") ",
     "delete_cmd_prefix": "rm(",
     "library": "var_list.r",
     "varRefreshCmd": "cat(var_dic_list()) "
    }
   },
   "types_to_exclude": [
    "module",
    "function",
    "builtin_function_or_method",
    "instance",
    "_Feature"
   ],
   "window_display": false
  }
 },
 "nbformat": 4,
 "nbformat_minor": 2
}
