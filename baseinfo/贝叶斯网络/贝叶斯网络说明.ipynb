{
 "cells": [
  {
   "cell_type": "raw",
   "metadata": {},
   "source": [
    "1、git ThinkBayes   http://mybinder.org/repo/rlabbe/ThinkBayes\n",
    "2、https://www.bayesserver.com/docs/walkthroughs/walkthrough-1-a-simple-network   bayes networks\n",
    "2、《贝叶斯思维：统计建模的PYTHON学习法.pdf》\n",
    "3、https://max.book118.com/html/2017/0705/120534217.shtm 贝叶斯网络研究.pdf \n",
    "3、http://www.sciedu.ca/journal/index.php/air/article/viewFile/1026/1001 Application of Bayesian Network to stock price prediction\n",
    "3、https://github.com/Rishub21/Stock_Bayesian_Network \n",
    "3、https://www.bayesserver.com/docs/introduction/bayesian-networks \n",
    "3、http://pgmpy.org/\n",
    "4、https://blog.csdn.net/weixin_41510260/article/details/95735111 \n",
    "5、https://github.com/NLP-LOVE/ML-NLP/tree/master/Machine%20Learning\n",
    "6、https://blog.csdn.net/jbb0523/article/details/79438202 贝叶斯网络综合应用\n",
    "7、https://blog.csdn.net/qq_39521554/article/details/80782972\n",
    "8、https://blog.csdn.net/snoopy_yuan/article/details/66477014 贝叶斯网络参数学习（贝叶斯估计+碎权更新法）\n",
    "9、https://wenku.baidu.com/view/bcb9562a70fe910ef12d2af90242a8956aecaa2b.html?from=search 贝叶斯网络参数学习\n",
    "10、https://stackoverflow.com/questions/28431350/create-bayesian-network-and-learn-parameters-with-python3-x\n",
    "11、https://max.book118.com/html/2015/0926/26233148.shtm 动态贝叶斯网络原理及应用\n",
    "12、https://www.edureka.co/blog/bayesian-networks/ \n",
    "13, https://blog.csdn.net/v_july_v/article/details/40984699 从贝叶斯方法谈到贝叶斯网络\n",
    "14. https://wenku.baidu.com/view/bcb9562a70fe910ef12d2af90242a8956aecaa2b.html?from=search 贝叶斯网络参数的在线学习算法及应用\n",
    "14. https://wenku.baidu.com/view/dc1fed35a66e58fafab069dc5022aaea988f4143.html?from=search 基于股票财务数据的贝叶斯网络的参数学习\n",
    "15. https://www.cnblogs.com/jiaxin359/p/8574510.html 数据离散化处理\n",
    "16. https://blog.csdn.net/bitcarmanlee/article/details/82156281 超详细理解Gamma分布，Beta分布，多项式分布，Dirichlet狄利克雷分布\n",
    "17. https://max.book118.com/html/2017/0708/121099070.shtm 贝叶斯网络简介及基于贝叶斯网络的性别预测.ppt\n",
    "18. https://max.book118.com/html/2017/0705/120534217.shtm\n",
    "19. http://www.cs.technion.ac.il/~dang/books/Learning%20Bayesian%20Networks(Neapolitan,%20Richard).pdf\n",
    "20. https://www.zhihu.com/question/30269898  Beta分布\n",
    "21. https://zhuanlan.zhihu.com/p/36700425 networkx\n",
    "22. https://cloud.tencent.com/developer/article/1441558\n",
    "23. https://blog.csdn.net/leida_wt/article/details/88743323 网络可视化\n",
    "24. https://www.cnblogs.com/yongfuxue/p/10094746.html ！！！！！！！\n",
    "\n",
    "\n",
    "25、https://zhangyk8.github.io/publications/Thesis.pdf bayes network structure learning\n",
    "26、https://medium.com/@hiepnguyen034/improving-neural-networks-performance-with-bayesian-optimization-efbaa801ad26 \n",
    "27、https://github.com/kumar-shridhar/PyTorch-BayesianCNN\n",
    "28、https://pythonawesome.com/a-simple-and-extensible-library-to-create-bayesian-neural-network-layers-on-pytorch/\n",
    "29、https://github.com/rdeng/Bayesian-Network\n",
    "30、https://github.com/pgmpy/pgmpy_notebook/blob/master/notebooks/9.%20Learning%20Bayesian%20Networks%20from%20Data.ipynb\n",
    "31、https://medium.com/edureka/bayesian-networks-2499f133d2ec ！！！\n",
    "32、https://github.com/foxandy/Bayesian_Python ！\n",
    "33、https://pomegranate.readthedocs.io/en/latest/BayesianNetwork.html\n",
    "34、https://www.annytab.com/bayesian-networks-in-python/ ！\n",
    "35、https://www.annytab.com/dynamic-bayesian-network-in-python/  Dynamic Bayesian Network in Python\n",
    "36、https://github.com/bkbilly/bayesian_networks 可用于学习其实现\n",
    "37、https://zhuanlan.zhihu.com/p/37976562 https://zhuanlan.zhihu.com/p/78743630 各类分布\n",
    "38、https://wenku.baidu.com/view/5c10165ed4d8d15abe234ef4.html 马尔科夫毯学习算法综述 - 百度文库\n",
    "\n",
    "37、 https://analyticsindiamag.com/hands-on-guide-to-bayesian-neural-network-in-classification/ ！！！ Deep neural networks learn to form relationships with the given data without having prior exposure to the dataset. They perform very well on non-linear data and hence require large amounts of data for training. Although more information is better for the network, it leads to problems like overfitting. "
   ]
  },
  {
   "cell_type": "markdown",
   "metadata": {
    "heading_collapsed": true
   },
   "source": [
    "# Create a Bayesian Network"
   ]
  },
  {
   "cell_type": "code",
   "execution_count": 5,
   "metadata": {
    "hidden": true
   },
   "outputs": [
    {
     "name": "stderr",
     "output_type": "stream",
     "text": [
      "d:\\project_tw\\twedu\\venv37\\lib\\site-packages\\matplotlib\\backends\\_backend_pdf_ps.py:62: RuntimeWarning: Glyph 22825 missing from current font.\n",
      "  font.set_text(s, 0.0, flags=ft2font.LOAD_NO_HINTING)\n",
      "d:\\project_tw\\twedu\\venv37\\lib\\site-packages\\matplotlib\\backends\\_backend_pdf_ps.py:62: RuntimeWarning: Glyph 26228 missing from current font.\n",
      "  font.set_text(s, 0.0, flags=ft2font.LOAD_NO_HINTING)\n",
      "d:\\project_tw\\twedu\\venv37\\lib\\site-packages\\matplotlib\\backends\\backend_pdf.py:2001: RuntimeWarning: Glyph 22825 missing from current font.\n",
      "  font.set_text(s, 0.0, flags=LOAD_NO_HINTING)\n",
      "d:\\project_tw\\twedu\\venv37\\lib\\site-packages\\matplotlib\\backends\\backend_pdf.py:2001: RuntimeWarning: Glyph 26228 missing from current font.\n",
      "  font.set_text(s, 0.0, flags=LOAD_NO_HINTING)\n",
      "d:\\project_tw\\twedu\\venv37\\lib\\site-packages\\matplotlib\\backends\\backend_pdf.py:2099: RuntimeWarning: Glyph 22825 missing from current font.\n",
      "  flags=LOAD_NO_HINTING)\n",
      "d:\\project_tw\\twedu\\venv37\\lib\\site-packages\\matplotlib\\backends\\backend_pdf.py:2099: RuntimeWarning: Glyph 26228 missing from current font.\n",
      "  flags=LOAD_NO_HINTING)\n",
      "d:\\project_tw\\twedu\\venv37\\lib\\site-packages\\matplotlib\\backends\\backend_agg.py:211: RuntimeWarning: Glyph 22825 missing from current font.\n",
      "  font.set_text(s, 0.0, flags=flags)\n",
      "d:\\project_tw\\twedu\\venv37\\lib\\site-packages\\matplotlib\\backends\\backend_agg.py:211: RuntimeWarning: Glyph 26228 missing from current font.\n",
      "  font.set_text(s, 0.0, flags=flags)\n",
      "d:\\project_tw\\twedu\\venv37\\lib\\site-packages\\matplotlib\\backends\\backend_agg.py:180: RuntimeWarning: Glyph 22825 missing from current font.\n",
      "  font.set_text(s, 0, flags=flags)\n",
      "d:\\project_tw\\twedu\\venv37\\lib\\site-packages\\matplotlib\\backends\\backend_agg.py:180: RuntimeWarning: Glyph 26228 missing from current font.\n",
      "  font.set_text(s, 0, flags=flags)\n"
     ]
    },
    {
     "data": {
      "image/png": "[encoded data removed]",
      "text/plain": [
       "<Figure size 204.094x153.071 with 1 Axes>"
      ]
     },
     "metadata": {},
     "output_type": "display_data"
    }
   ],
   "source": [
    "import daft\n",
    "import matplotlib.pyplot as plt\n",
    "%matplotlib inline\n",
    "\n",
    "\n",
    "pgm = daft.PGM([3.6, 2.7], origin=[1.15, 0.65])\n",
    "pgm.add_node(daft.Node(\"cloudy\", r\"天晴\", 3, 3, aspect=1.8))\n",
    "pgm.add_node(daft.Node(\"rain\", r\"rain\", 2, 2, aspect=1.2))\n",
    "pgm.add_node(daft.Node(\"sprinkler\", r\"sprinkler\", 4, 2, aspect=2.1))\n",
    "pgm.add_node(daft.Node(\"wet\", r\"grass wet\", 3, 1, aspect=2.4, observed=True))\n",
    "pgm.add_edge(\"cloudy\", \"rain\")\n",
    "pgm.add_edge(\"cloudy\", \"sprinkler\")\n",
    "pgm.add_edge(\"rain\", \"wet\")\n",
    "pgm.add_edge(\"sprinkler\", \"wet\")\n",
    "pgm.render()\n",
    "pgm.figure.savefig(\"d:\\\\wordy.pdf\")\n",
    "pgm.figure.savefig(\"d:\\\\wordy.png\", dpi=150)\n",
    "plt.show()"
   ]
  },
  {
   "cell_type": "code",
   "execution_count": null,
   "metadata": {
    "hidden": true
   },
   "outputs": [],
   "source": []
  }
 ],
 "metadata": {
  "kernelspec": {
   "display_name": "Python 3",
   "language": "python",
   "name": "python3"
  },
  "language_info": {
   "codemirror_mode": {
    "name": "ipython",
    "version": 3
   },
   "file_extension": ".py",
   "mimetype": "text/x-python",
   "name": "python",
   "nbconvert_exporter": "python",
   "pygments_lexer": "ipython3",
   "version": "3.7.4"
  },
  "toc": {
   "base_numbering": 1,
   "nav_menu": {},
   "number_sections": true,
   "sideBar": true,
   "skip_h1_title": false,
   "title_cell": "Table of Contents",
   "title_sidebar": "Contents",
   "toc_cell": false,
   "toc_position": {},
   "toc_section_display": true,
   "toc_window_display": false
  },
  "varInspector": {
   "cols": {
    "lenName": 16,
    "lenType": 16,
    "lenVar": 40
   },
   "kernels_config": {
    "python": {
     "delete_cmd_postfix": "",
     "delete_cmd_prefix": "del ",
     "library": "var_list.py",
     "varRefreshCmd": "print(var_dic_list())"
    },
    "r": {
     "delete_cmd_postfix": ") ",
     "delete_cmd_prefix": "rm(",
     "library": "var_list.r",
     "varRefreshCmd": "cat(var_dic_list()) "
    }
   },
   "types_to_exclude": [
    "module",
    "function",
    "builtin_function_or_method",
    "instance",
    "_Feature"
   ],
   "window_display": false
  }
 },
 "nbformat": 4,
 "nbformat_minor": 2
}
