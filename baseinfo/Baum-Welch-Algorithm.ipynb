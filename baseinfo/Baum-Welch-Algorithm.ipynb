{
 "cells": [
  {
   "cell_type": "raw",
   "metadata": {},
   "source": [
    "http://www.cs.cmu.edu/~guestrin/Class/10701-S07/Slides/baumwelch.pdf\n",
    "https://blog.csdn.net/u014688145/article/details/53046765 隐马尔可夫模型之Baum-Welch算法详解  !!!!\n",
    "https://blog.csdn.net/jgj123321/article/details/91571640 极大似然估计原理解析\n",
    "https://blog.csdn.net/pacificL/article/details/80396903 强化学习之Q函数的个人理解\n",
    "https://www.cnblogs.com/htj10/p/8621771.html 正态分布（高斯分布）、Q函数、误差函数、互补误差函数\n",
    "https://github.com/hamzarawal/HMM-Baum-Welch-Algorithm/blob/master/baum-welch.py  \n",
    "https://www.cnblogs.com/d-roger/articles/5719979.html   隐马尔可夫模型 HMM 的python实现\n",
    "Baum-Welch.xlsx"
   ]
  },
  {
   "cell_type": "code",
   "execution_count": null,
   "metadata": {},
   "outputs": [],
   "source": [
    "import numpy as np\n",
    "#generating initial probabilities\n",
    "\n",
    "#transition probabilities\n",
    "transition = np.array([[0.8,0.1],\n",
    "                       [0.1,0.8]])\n",
    "#Emission probabilities\n",
    "emission = np.array([[0.1,0.2,0.7],\n",
    "                     [0.7,0.2,0.1]])\n",
    "\n",
    "#defining states and sequence symbols\n",
    "states = ['H','C']\n",
    "states_dic = {'H':0, 'C':1}\n",
    "sequence_syms = {'1':0,'2':1,'3':2}\n",
    "sequence = ['1','2','3']"
   ]
  },
  {
   "cell_type": "code",
   "execution_count": 1,
   "metadata": {},
   "outputs": [],
   "source": [
    "def baum_welch_train(self, observations, criterion=0.05):\n",
    "    n_states = self.A.shape[0]\n",
    "    # 观察序列的长度T\n",
    "    n_samples = len(observations)\n",
    "\n",
    "    done = False\n",
    "    while not done:\n",
    "        # alpha_t(i) = P(o_1,o_2,...,o_t,q_t = s_i | hmm)\n",
    "        # Initialize alpha\n",
    "        # 获得所有前向传播节点值 alpha_t(i)\n",
    "        alpha = self._forward(observations)\n",
    "\n",
    "        # beta_t(i) = P(o_t+1,o_t+2,...,o_T | q_t = s_i , hmm)\n",
    "        # Initialize beta\n",
    "        # 获得所有后向传播节点值 beta_t(i)\n",
    "        beta = self._backward(observations)\n",
    "\n",
    "        # 计算 xi_t(i,j) -> xi(i,j,t)\n",
    "        xi = np.zeros((n_states, n_states, n_samples - 1))\n",
    "        # 在每个时刻\n",
    "        for t in range(n_samples - 1):\n",
    "            # 计算P(O | hmm)\n",
    "            denom = sum(alpha[:, -1])\n",
    "            for i in range(n_states):\n",
    "                # numer[1,:] = 行向量，alpha[i,t]=实数，slef.A[i,:] = 行向量\n",
    "                # self.B[:,observations[t+1]].T = 行向量,beta[:,t+1].T = 行向量\n",
    "                numer = alpha[i, t] * self.A[i, :] * self.B[:, observations[t + 1]].T * beta[:, t + 1].T\n",
    "                xi[i, :, t] = numer / denom\n",
    "\n",
    "            # 计算gamma_t(i) 就是对j进行求和\n",
    "            gamma = np.sum(xi, axis=1)\n",
    "            # need final gamma elements for new B\n",
    "            prod = (alpha[:, n_samples - 1] * beta[:, n_samples - 1]).reshape((-1, 1))\n",
    "            # 合并T时刻的节点\n",
    "            gamma = np.hstack((gamma, prod / np.sum(prod)))\n",
    "            # 列向量\n",
    "            newpi = gamma[:, 0]\n",
    "            newA = np.sum(xi, 2) / np.sum(gamma[:, :-1], axis=1).reshape((-1, 1))\n",
    "            newB = np.copy(self.B)\n",
    "\n",
    "            # 观测状态数\n",
    "            num_levels = self.B.shape[1]\n",
    "            sumgamma = np.sum(gamma, axis=1)\n",
    "            for lev in range(num_levels):\n",
    "                mask = observations == lev\n",
    "                newB[:, lev] = np.sum(gamma[:, mask], axis=1) / sumgamma\n",
    "\n",
    "            if np.max(abs(self.pi - newpi)) < criterion and \\\n",
    "                            np.max(abs(self.A - newA)) < criterion and \\\n",
    "                            np.max(abs(self.B - newB)) < criterion:\n",
    "                done = 1\n",
    "            self.A[:], self.B[:], self.pi[:] = newA, newB, newpi\n",
    "            \n",
    "def simulate(self, T):\n",
    "    def draw_from(probs):\n",
    "        # np.random.multinomial 为多项式分布，1为实验次数，类似于投掷一枚骰子，丢出去是几，probs每个点数的概率，均为1/6\n",
    "        # 给定行向量的概率，投掷次数为1次，寻找投掷的点数\n",
    "        return np.where(np.random.multinomial(1, probs) == 1)[0][0]\n",
    "\n",
    "    observations = np.zeros(T, dtype=int)\n",
    "    states = np.zeros(T, dtype=int)\n",
    "    states[0] = draw_from(self.pi)\n",
    "    observations[0] = draw_from(self.B[states[0], :])\n",
    "    for t in range(1, T):\n",
    "        states[t] = draw_from(self.A[states[t - 1], :])\n",
    "        observations[t] = draw_from(self.B[states[t], :])\n",
    "    return observations, states\n",
    "            \n"
   ]
  },
  {
   "cell_type": "code",
   "execution_count": null,
   "metadata": {},
   "outputs": [],
   "source": []
  }
 ],
 "metadata": {
  "kernelspec": {
   "display_name": "Python 3",
   "language": "python",
   "name": "python3"
  },
  "language_info": {
   "codemirror_mode": {
    "name": "ipython",
    "version": 3
   },
   "file_extension": ".py",
   "mimetype": "text/x-python",
   "name": "python",
   "nbconvert_exporter": "python",
   "pygments_lexer": "ipython3",
   "version": "3.7.4"
  },
  "toc": {
   "base_numbering": 1,
   "nav_menu": {},
   "number_sections": true,
   "sideBar": true,
   "skip_h1_title": false,
   "title_cell": "Table of Contents",
   "title_sidebar": "Contents",
   "toc_cell": false,
   "toc_position": {},
   "toc_section_display": true,
   "toc_window_display": false
  },
  "varInspector": {
   "cols": {
    "lenName": 16,
    "lenType": 16,
    "lenVar": 40
   },
   "kernels_config": {
    "python": {
     "delete_cmd_postfix": "",
     "delete_cmd_prefix": "del ",
     "library": "var_list.py",
     "varRefreshCmd": "print(var_dic_list())"
    },
    "r": {
     "delete_cmd_postfix": ") ",
     "delete_cmd_prefix": "rm(",
     "library": "var_list.r",
     "varRefreshCmd": "cat(var_dic_list()) "
    }
   },
   "types_to_exclude": [
    "module",
    "function",
    "builtin_function_or_method",
    "instance",
    "_Feature"
   ],
   "window_display": false
  }
 },
 "nbformat": 4,
 "nbformat_minor": 2
}
