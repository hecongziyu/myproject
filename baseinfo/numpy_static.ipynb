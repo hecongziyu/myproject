{
 "cells": [
  {
   "cell_type": "code",
   "execution_count": 1,
   "metadata": {},
   "outputs": [],
   "source": [
    "# Put these at the top of every notebook, to get automatic reloading and inline plotting\n",
    "%reload_ext autoreload\n",
    "%autoreload 2\n",
    "%matplotlib inline\n",
    "import numpy as np"
   ]
  },
  {
   "cell_type": "markdown",
   "metadata": {},
   "source": [
    "1、\n",
    "ptp()函数返回沿轴的值的范围(最大值 - 最小值)。"
   ]
  },
  {
   "cell_type": "code",
   "execution_count": 4,
   "metadata": {},
   "outputs": [
    {
     "name": "stdout",
     "output_type": "stream",
     "text": [
      "7\n",
      "[4 5 7]\n",
      "[6 3 6]\n"
     ]
    }
   ],
   "source": [
    "a = np.array([[3,7,5],[8,4,3],[2,4,9]])  \n",
    "print(np.ptp(a))\n",
    "print(np.ptp(a, axis =  1))\n",
    "print(np.ptp(a, axis =  0))"
   ]
  },
  {
   "cell_type": "markdown",
   "metadata": {},
   "source": [
    "2、\n",
    "percentile() 百分位数是统计中使用的度量，表示小于这个值得观察值占某个百分比。  ？？？"
   ]
  },
  {
   "cell_type": "code",
   "execution_count": 7,
   "metadata": {},
   "outputs": [
    {
     "name": "stdout",
     "output_type": "stream",
     "text": [
      "50.0\n",
      "[40. 20. 60.]\n"
     ]
    }
   ],
   "source": [
    "a = np.array([[30,40,70],[80,20,10],[50,90,60]])  \n",
    "print(np.percentile(a,50))  \n",
    "print(np.percentile(a,50, axis =  1) )  0.5"
   ]
  },
  {
   "cell_type": "markdown",
   "metadata": {},
   "source": [
    "3、\n",
    "median() 中值定义为将数据样本的上半部分与下半部分分开的值。"
   ]
  },
  {
   "cell_type": "code",
   "execution_count": 6,
   "metadata": {},
   "outputs": [],
   "source": [
    "a = np.array([[30,65,70],[80,95,10],[50,90,60]])  \n",
    "print(np.median(a,axis=1))"
   ]
  },
  {
   "cell_type": "markdown",
   "metadata": {},
   "source": [
    "4、\n",
    "average() 加权平均值是由每个分量乘以反映其重要性的因子得到的平均值。 average()函数根据在另一个数组中给出的各自的权重计算数组中元素的加权平均值。 考虑数组[1,2,3,4]和相应的权重[4,3,2,1]，通过将相应元素的乘积相加，并将和除以权重的和，来计算加权平均值。\n",
    "加权平均值 = (1*4+2*3+3*2+4*1)/(4+3+2+1)"
   ]
  },
  {
   "cell_type": "markdown",
   "metadata": {},
   "source": [
    "5、\n",
    "标准差，标准差是与均值的偏差的平方的平均值的平方根。std = sqrt(mean((x - x.mean())**2))\n",
    "print np.std([1,2,3,4])\n",
    "1.1180339887498949"
   ]
  },
  {
   "cell_type": "markdown",
   "metadata": {},
   "source": [
    "6、\n",
    "方差 方差是偏差的平方的平均值，即mean((x - x.mean())** 2)。 换句话说，标准差是方差的平方根。\n",
    "print np.var([1,2,3,4])\n",
    "1.25"
   ]
  },
  {
   "cell_type": "markdown",
   "metadata": {},
   "source": [
    "7、\n",
    "梯度，连续值之间的变化率，即斜率XY坐标轴连续三个X坐标对应的Y轴值：a, b, c，其中，b的梯度是： (c‐a)/2   ? ? ?"
   ]
  },
  {
   "cell_type": "code",
   "execution_count": 14,
   "metadata": {},
   "outputs": [
    {
     "name": "stdout",
     "output_type": "stream",
     "text": [
      "[ 2 15  3 13  6]\n",
      "[13.   0.5 -1.   1.5 -7. ]\n",
      "********************\n",
      "[[ 4  5  0 17  9]\n",
      " [ 0  5 13  6  6]\n",
      " [ 1  1  5  4 18]]\n",
      "[array([[ -4. ,   0. ,  13. , -11. ,  -3. ],\n",
      "       [ -1.5,  -2. ,   2.5,  -6.5,   4.5],\n",
      "       [  1. ,  -4. ,  -8. ,  -2. ,  12. ]]), array([[ 1. , -2. ,  6. ,  4.5, -8. ],\n",
      "       [ 5. ,  6.5,  0.5, -3.5,  0. ],\n",
      "       [ 0. ,  2. ,  1.5,  6.5, 14. ]])]\n"
     ]
    }
   ],
   "source": [
    "a = np.random.randint(0, 20, (5))\n",
    "print(a)\n",
    "print(np.gradient(a))\n",
    "print(\"*\" * 20)\n",
    "c = np.random.randint(0, 20, (3, 5))\n",
    "print(c)\n",
    "print(np.gradient(c))"
   ]
  },
  {
   "cell_type": "markdown",
   "metadata": {},
   "source": [
    "8、\n",
    "相关程度 有两组数据时，我们关心这两组数据是否相关，相关程度有多少。用协方差（COV）和相关系数（CORRCOEF）来衡量相关程度：\n",
    "![Image of Yaktocat](https://images2015.cnblogs.com/blog/927391/201604/927391-20160428164241783-360115652.png)\n",
    "协方差的绝对值越大表示相关程度越大，协方差为正值表示正相关，负值为负相关，0为不相关。相关系数是基于协方差但进行了无量纲处理。使用NumPy计算协方差和相关系数：\n",
    " 1 from numpy import array, cov, corrcoef\n",
    " 2 \n",
    " 3 data = array([data1, data2])\n",
    " 4 \n",
    " 5 #计算两组数的协方差\n",
    " 6 #参数bias=1表示结果需要除以N，否则只计算了分子部分\n",
    " 7 #返回结果为矩阵，第i行第j列的数据表示第i组数与第j组数的协方差。对角线为方差\n",
    " 8 cov(data, bias=1)\n",
    " 9 \n",
    "10 #计算两组数的相关系数\n",
    "11 #返回结果为矩阵，第i行第j列的数据表示第i组数与第j组数的相关系数。对角线为1\n",
    "12 corrcoef(data)"
   ]
  },
  {
   "cell_type": "markdown",
   "metadata": {},
   "source": [
    "9、 汇总统计"
   ]
  },
  {
   "cell_type": "code",
   "execution_count": 17,
   "metadata": {},
   "outputs": [
    {
     "name": "stdout",
     "output_type": "stream",
     "text": [
      "(150, 5)\n",
      "   sepal length (cm)  sepal width (cm)  petal length (cm)  petal width (cm)  \\\n",
      "1                4.9               3.0                1.4               0.2   \n",
      "2                4.7               3.2                1.3               0.2   \n",
      "3                4.6               3.1                1.5               0.2   \n",
      "4                5.0               3.6                1.4               0.2   \n",
      "5                5.4               3.9                1.7               0.4   \n",
      "6                4.6               3.4                1.4               0.3   \n",
      "7                5.0               3.4                1.5               0.2   \n",
      "8                4.4               2.9                1.4               0.2   \n",
      "9                4.9               3.1                1.5               0.1   \n",
      "\n",
      "   target  \n",
      "1       0  \n",
      "2       0  \n",
      "3       0  \n",
      "4       0  \n",
      "5       0  \n",
      "6       0  \n",
      "7       0  \n",
      "8       0  \n",
      "9       0  \n",
      "       sepal length (cm)  sepal width (cm)  petal length (cm)  \\\n",
      "count         150.000000        150.000000         150.000000   \n",
      "mean            5.843333          3.054000           3.758667   \n",
      "std             0.828066          0.433594           1.764420   \n",
      "min             4.300000          2.000000           1.000000   \n",
      "25%             5.100000          2.800000           1.600000   \n",
      "50%             5.800000          3.000000           4.350000   \n",
      "75%             6.400000          3.300000           5.100000   \n",
      "max             7.900000          4.400000           6.900000   \n",
      "\n",
      "       petal width (cm)      target  \n",
      "count        150.000000  150.000000  \n",
      "mean           1.198667    1.000000  \n",
      "std            0.763161    0.819232  \n",
      "min            0.100000    0.000000  \n",
      "25%            0.300000    0.000000  \n",
      "50%            1.300000    1.000000  \n",
      "75%            1.800000    2.000000  \n",
      "max            2.500000    2.000000  \n"
     ]
    }
   ],
   "source": [
    "from sklearn.datasets import load_iris\n",
    "import pandas as pd\n",
    "import numpy as np\n",
    "from pandas import DataFrame as df\n",
    " \n",
    "column=load_iris().feature_names\n",
    "data=load_iris().data\n",
    "target=load_iris().target\n",
    "df1=df(data,columns=column)\n",
    "df2=df(target,columns=['target'])\n",
    "data_df=pd.concat([df1,df2],axis=1)\n",
    "\n",
    "print(data_df.shape)\n",
    "print(data_df[1:10])\n",
    "print(data_df.describe())"
   ]
  }
 ],
 "metadata": {
  "kernelspec": {
   "display_name": "Python 3",
   "language": "python",
   "name": "python3"
  },
  "language_info": {
   "codemirror_mode": {
    "name": "ipython",
    "version": 3
   },
   "file_extension": ".py",
   "mimetype": "text/x-python",
   "name": "python",
   "nbconvert_exporter": "python",
   "pygments_lexer": "ipython3",
   "version": "3.7.4"
  },
  "varInspector": {
   "cols": {
    "lenName": 16,
    "lenType": 16,
    "lenVar": 40
   },
   "kernels_config": {
    "python": {
     "delete_cmd_postfix": "",
     "delete_cmd_prefix": "del ",
     "library": "var_list.py",
     "varRefreshCmd": "print(var_dic_list())"
    },
    "r": {
     "delete_cmd_postfix": ") ",
     "delete_cmd_prefix": "rm(",
     "library": "var_list.r",
     "varRefreshCmd": "cat(var_dic_list()) "
    }
   },
   "types_to_exclude": [
    "module",
    "function",
    "builtin_function_or_method",
    "instance",
    "_Feature"
   ],
   "window_display": false
  }
 },
 "nbformat": 4,
 "nbformat_minor": 2
}
