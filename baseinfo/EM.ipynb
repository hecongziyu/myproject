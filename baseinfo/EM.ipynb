{
 "cells": [
  {
   "cell_type": "raw",
   "metadata": {},
   "source": [
    "https://www.jianshu.com/p/154ee3354b59  关于EM算法原理的分析与理解（Python实现）\n",
    "EM算法通过迭代求L(m) = log(P(Y|m)) 极大似然估计，每次迭代包含两步：E步，求期望；M步，求极大化。\n",
    "\n",
    "https://blog.csdn.net/lhppom/article/details/79502464   EM算法初探——公式推导和三硬币模型解析"
   ]
  },
  {
   "cell_type": "code",
   "execution_count": 1,
   "metadata": {},
   "outputs": [
    {
     "name": "stdout",
     "output_type": "stream",
     "text": [
      "[[1.]\n",
      " [1.]\n",
      " [0.]\n",
      " [1.]\n",
      " [0.]\n",
      " [0.]\n",
      " [1.]\n",
      " [0.]\n",
      " [1.]\n",
      " [1.]]\n",
      "-------------------\n",
      "[array([0.50505051]), array([0.648]), array([0.55102041])]\n",
      "-------------------\n",
      "[array([0.50505051]), array([0.648]), array([0.55102041])]\n",
      "break\n",
      "[0.50505051] [0.648] [0.55102041]\n"
     ]
    }
   ],
   "source": [
    "from numpy import *\n",
    "import numpy as np\n",
    "import matplotlib.pyplot as plt\n",
    "import random\n",
    "\n",
    "def create_sample_data(m, n):\n",
    "    mat_y = mat(zeros((m, n)))\n",
    "\n",
    "    for i in range(m):\n",
    "        for j in range(n):\n",
    "            #通过产生随机数，每一行表示一次实验结果\n",
    "            mat_y[i, j] = random.randint(0, 1)\n",
    "    return mat_t\n",
    "\n",
    "#EM算法\n",
    "def em(arr_y, theta, tol, iterator_num):\n",
    "    PI = 0\n",
    "    P = 0\n",
    "    Q = 0\n",
    "    m,n = shape(arr_y)\n",
    "    mat_y = arr_y.getA()\n",
    "\n",
    "    for i in range(iterator_num):\n",
    "        miu = []\n",
    "        PI = copy(theta[0])\n",
    "        P = copy(theta[1])\n",
    "        Q = copy(theta[2])\n",
    "        for j in range(m):\n",
    "            miu_value = (PI * (P**mat_y[j]) * ((1 - P)**(1 - mat_y[j]))) / \\\n",
    "                (PI * (P**mat_y[j]) * ((1 - P)**(1 - mat_y[j])) + (1 - PI) * (Q**mat_y[j]) * ((1 - Q)**(1 - mat_y[j])))\n",
    "            miu.append(miu_value)\n",
    "        \n",
    "        sum1 = 0.0\n",
    "        for j in range(m):\n",
    "            sum1 += miu[j]\n",
    "        theta[0] = sum1 / m\n",
    "\n",
    "        sum1 = 0.0\n",
    "        sum2 = 0.0\n",
    "        for j in range(m):\n",
    "            sum1 += miu[j] * mat_y[j]\n",
    "            sum2 += miu[j]\n",
    "        theta[1] = sum1 / sum2\n",
    "\n",
    "        sum1 = 0.0\n",
    "        sum2 = 0.0\n",
    "        for j in range(m):\n",
    "            sum1 += (1 - miu[j]) * mat_y[j]\n",
    "            sum2 += (1 - miu[j])\n",
    "        theta[2] = sum1 / sum2\n",
    "\n",
    "        print(\"-------------------\")\n",
    "        print(theta)\n",
    "        if(abs(theta[0] - PI) <= tol and abs(theta[1] - P) <= tol \\\n",
    "            and abs(theta[2] - Q) <= tol):\n",
    "            print(\"break\")\n",
    "            break\n",
    "    return PI,P,Q\n",
    "\n",
    "def main():\n",
    "    #mat_y = create_sample_data(100, 1)\n",
    "    mat_y = mat(zeros((10, 1)))\n",
    "    mat_y[0,0] = 1\n",
    "    mat_y[1,0] = 1\n",
    "    mat_y[2,0] = 0\n",
    "    mat_y[3,0] = 1\n",
    "    mat_y[4,0] = 0\n",
    "    mat_y[5,0] = 0\n",
    "    mat_y[6,0] = 1\n",
    "    mat_y[7,0] = 0\n",
    "    mat_y[8,0] = 1\n",
    "    mat_y[9,0] = 1\n",
    "    theta = [0.5, 0.6, 0.5]\n",
    "    print(mat_y)\n",
    "    PI,P,Q = em(mat_y, theta, 0.001, 100)\n",
    "    print(PI, P, Q)\n",
    "\n",
    "main()"
   ]
  },
  {
   "cell_type": "code",
   "execution_count": null,
   "metadata": {},
   "outputs": [],
   "source": []
  }
 ],
 "metadata": {
  "kernelspec": {
   "display_name": "Python 3",
   "language": "python",
   "name": "python3"
  },
  "language_info": {
   "codemirror_mode": {
    "name": "ipython",
    "version": 3
   },
   "file_extension": ".py",
   "mimetype": "text/x-python",
   "name": "python",
   "nbconvert_exporter": "python",
   "pygments_lexer": "ipython3",
   "version": "3.7.4"
  },
  "toc": {
   "base_numbering": 1,
   "nav_menu": {},
   "number_sections": true,
   "sideBar": true,
   "skip_h1_title": false,
   "title_cell": "Table of Contents",
   "title_sidebar": "Contents",
   "toc_cell": false,
   "toc_position": {},
   "toc_section_display": true,
   "toc_window_display": false
  },
  "varInspector": {
   "cols": {
    "lenName": 16,
    "lenType": 16,
    "lenVar": 40
   },
   "kernels_config": {
    "python": {
     "delete_cmd_postfix": "",
     "delete_cmd_prefix": "del ",
     "library": "var_list.py",
     "varRefreshCmd": "print(var_dic_list())"
    },
    "r": {
     "delete_cmd_postfix": ") ",
     "delete_cmd_prefix": "rm(",
     "library": "var_list.r",
     "varRefreshCmd": "cat(var_dic_list()) "
    }
   },
   "types_to_exclude": [
    "module",
    "function",
    "builtin_function_or_method",
    "instance",
    "_Feature"
   ],
   "window_display": false
  }
 },
 "nbformat": 4,
 "nbformat_minor": 2
}
