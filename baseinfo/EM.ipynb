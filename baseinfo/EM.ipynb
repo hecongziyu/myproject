{
 "cells": [
  {
   "cell_type": "raw",
   "metadata": {},
   "source": [
    "https://www.jianshu.com/p/154ee3354b59  关于EM算法原理的分析与理解（Python实现）\n",
    "EM算法通过迭代求L(m) = log(P(Y|m)) 极大似然估计，每次迭代包含两步：E步，求期望；M步，求极大化。\n",
    "\n",
    "https://blog.csdn.net/lhppom/article/details/79502464   EM算法初探——公式推导和三硬币模型解析\n",
    "https://blog.csdn.net/weiwei19890308/article/details/82943969   em算法系列1：python实现三硬币模型\n",
    "https://blog.csdn.net/zhihua_oba/article/details/73776553 EM算法（Expectation Maximization Algorithm）详解\n"
   ]
  },
  {
   "cell_type": "raw",
   "metadata": {},
   "source": [
    "三硬币模型\n",
    "假设有3枚硬币，分别记做A，B，C。这些硬币正面出现的概率分别是π,p和q。进行如下掷硬币实验：先掷硬币A，根据其结果选出硬币B或C，正面选B，反面选硬币C；然后投掷选重中的硬币，出现正面记作1，反面记作0；独立地重复n次（n=10)，结果为1111110000\n",
    "我们只能观察投掷硬币的结果，而不知其过程，估计这三个参数π,p和q。\n"
   ]
  },
  {
   "cell_type": "code",
   "execution_count": null,
   "metadata": {},
   "outputs": [],
   "source": []
  },
  {
   "cell_type": "code",
   "execution_count": 13,
   "metadata": {},
   "outputs": [
    {
     "name": "stdout",
     "output_type": "stream",
     "text": [
      "cal u --> pi:0.8 , p: 0.4, q: 0.5, xi:0 prob value:0.8275862068965517\n",
      "cal u --> pi:0.8 , p: 0.4, q: 0.5, xi:1 prob value:0.761904761904762\n",
      "cal u --> pi:0.8 , p: 0.4, q: 0.5, xi:0 prob value:0.8275862068965517\n",
      "cal u --> pi:0.8 , p: 0.4, q: 0.5, xi:1 prob value:0.761904761904762\n",
      "cal u --> pi:0.8 , p: 0.4, q: 0.5, xi:0 prob value:0.8275862068965517\n",
      "cal u --> pi:0.8 , p: 0.4, q: 0.5, xi:0 prob value:0.8275862068965517\n",
      "cal u --> pi:0.8 , p: 0.4, q: 0.5, xi:1 prob value:0.761904761904762\n",
      "cal u --> pi:0.8 , p: 0.4, q: 0.5, xi:0 prob value:0.8275862068965517\n",
      "cal u --> pi:0.8 , p: 0.4, q: 0.5, xi:1 prob value:0.761904761904762\n",
      "cal u --> pi:0.8 , p: 0.4, q: 0.5, xi:1 prob value:0.761904761904762\n",
      "e step 0 -->  观察队列 x 值0，1是独立的 : [0.8275862068965517, 0.761904761904762, 0.8275862068965517, 0.761904761904762, 0.8275862068965517, 0.8275862068965517, 0.761904761904762, 0.8275862068965517, 0.761904761904762, 0.761904761904762]\n",
      "0 [0.8, 0.4, 0.5]\n",
      "cal u --> pi:0.7947454844006568 , p: 0.4793388429752066, q: 0.58, xi:0 prob value:0.8275862068965518\n",
      "cal u --> pi:0.7947454844006568 , p: 0.4793388429752066, q: 0.58, xi:1 prob value:0.761904761904762\n",
      "cal u --> pi:0.7947454844006568 , p: 0.4793388429752066, q: 0.58, xi:0 prob value:0.8275862068965518\n",
      "cal u --> pi:0.7947454844006568 , p: 0.4793388429752066, q: 0.58, xi:1 prob value:0.761904761904762\n",
      "cal u --> pi:0.7947454844006568 , p: 0.4793388429752066, q: 0.58, xi:0 prob value:0.8275862068965518\n",
      "cal u --> pi:0.7947454844006568 , p: 0.4793388429752066, q: 0.58, xi:0 prob value:0.8275862068965518\n",
      "cal u --> pi:0.7947454844006568 , p: 0.4793388429752066, q: 0.58, xi:1 prob value:0.761904761904762\n",
      "cal u --> pi:0.7947454844006568 , p: 0.4793388429752066, q: 0.58, xi:0 prob value:0.8275862068965518\n",
      "cal u --> pi:0.7947454844006568 , p: 0.4793388429752066, q: 0.58, xi:1 prob value:0.761904761904762\n",
      "cal u --> pi:0.7947454844006568 , p: 0.4793388429752066, q: 0.58, xi:1 prob value:0.761904761904762\n",
      "e step 1 -->  观察队列 x 值0，1是独立的 : [0.8275862068965518, 0.761904761904762, 0.8275862068965518, 0.761904761904762, 0.8275862068965518, 0.8275862068965518, 0.761904761904762, 0.8275862068965518, 0.761904761904762, 0.761904761904762]\n",
      "1 [0.7947454844006568, 0.4793388429752066, 0.58]\n",
      "cal u --> pi:0.7947454844006568 , p: 0.4793388429752066, q: 0.5800000000000002, xi:0 prob value:0.8275862068965518\n",
      "cal u --> pi:0.7947454844006568 , p: 0.4793388429752066, q: 0.5800000000000002, xi:1 prob value:0.761904761904762\n",
      "cal u --> pi:0.7947454844006568 , p: 0.4793388429752066, q: 0.5800000000000002, xi:0 prob value:0.8275862068965518\n",
      "cal u --> pi:0.7947454844006568 , p: 0.4793388429752066, q: 0.5800000000000002, xi:1 prob value:0.761904761904762\n",
      "cal u --> pi:0.7947454844006568 , p: 0.4793388429752066, q: 0.5800000000000002, xi:0 prob value:0.8275862068965518\n",
      "cal u --> pi:0.7947454844006568 , p: 0.4793388429752066, q: 0.5800000000000002, xi:0 prob value:0.8275862068965518\n",
      "cal u --> pi:0.7947454844006568 , p: 0.4793388429752066, q: 0.5800000000000002, xi:1 prob value:0.761904761904762\n",
      "cal u --> pi:0.7947454844006568 , p: 0.4793388429752066, q: 0.5800000000000002, xi:0 prob value:0.8275862068965518\n",
      "cal u --> pi:0.7947454844006568 , p: 0.4793388429752066, q: 0.5800000000000002, xi:1 prob value:0.761904761904762\n",
      "cal u --> pi:0.7947454844006568 , p: 0.4793388429752066, q: 0.5800000000000002, xi:1 prob value:0.761904761904762\n",
      "e step 2 -->  观察队列 x 值0，1是独立的 : [0.8275862068965518, 0.761904761904762, 0.8275862068965518, 0.761904761904762, 0.8275862068965518, 0.8275862068965518, 0.761904761904762, 0.8275862068965518, 0.761904761904762, 0.761904761904762]\n",
      "2 [0.7947454844006568, 0.4793388429752066, 0.5800000000000002]\n"
     ]
    }
   ],
   "source": [
    "# -*- coding: utf-8 -*-\n",
    "import math\n",
    "\n",
    "# 生成一个硬币时的概率 P(x∣θ)​=∑zP(x,z∣θ)=∑zP(z∣π)P(x∣z,θ)=πpx(1−p)1−x+(1−π)qx(1−q)1−x​\n",
    "# 注意： 0，1为二项分布，其概率计算为 p**x + (1-p) ** (1-x) \n",
    "# https://baike.baidu.com/item/%E4%BA%8C%E9%A1%B9%E5%88%86%E5%B8%83/1442377?fr=aladdin   二项分布\n",
    "# 假设当前模型的参数为π,p,qπ,p,q时，隐含变量来自于硬币B的后验概率 , 那么隐含变量来自于硬币C的后验概率自然为1−μ1−μ\n",
    "# cal_u 是根据当前参数π,p,q, 计算隐含变量来自于硬币B的后验概率。  u = (pi * pow(p,xi) * pow(1-p, 1-xi)) / (P(xi|pi,p) + P(xi|pi,q))\n",
    "def cal_u(pi, p, q, xi):\n",
    "    \"\"\"\n",
    "      u值计算\n",
    "    :param pi: 下一次迭代开始的 pi\n",
    "    :param p:  下一次迭代开始的 p\n",
    "    :param q:  下一次迭代开始的 q\n",
    "    :param xi: 观察数据第i个值，从0开始\n",
    "    :return: \n",
    "    \"\"\"\n",
    "    \n",
    "    value = pi * math.pow(p, xi) * math.pow(1 - p, 1 - xi) / \\\n",
    "           float(pi * math.pow(p, xi) * math.pow(1 - p, 1 - xi) +\n",
    "                 (1 - pi) * math.pow(q, xi) * math.pow(1 - q, 1 - xi)) \n",
    "    print('cal u --> pi:{} , p: {}, q: {}, xi:{} prob value:{}'.format(pi, p, q, xi, value))\n",
    "    return value\n",
    "\n",
    "# 可以看到投掷硬币时到底选择了B或者C是未知的。我们设隐藏变量Z 来指示来自于哪个硬币，\n",
    "# Z={z1,z2,…,zn}Z={z1​,z2​,…,zn​}，令θ={π,p,q}θ={π,p,q}，观察数据X=x1,x2,…,xnX=x1​,x2​,…,xn​。\n",
    "def e_step(pi,p,q,x):\n",
    "    \"\"\"\n",
    "        e步计算\n",
    "    :param pi: 下一次迭代开始的 pi\n",
    "    :param p:  下一次迭代开始的 p\n",
    "    :param q:  下一次迭代开始的 q\n",
    "    :param x: 观察数据\n",
    "    :return:\n",
    "    \"\"\"\n",
    "    return [cal_u(pi,p,q,xi) for xi in x]\n",
    "\n",
    "def m_step(u,x):\n",
    "    \"\"\"\n",
    "     m步计算\n",
    "    :param u:  m步计算的u\n",
    "    :param x:  观察数据\n",
    "    :return:\n",
    "    \"\"\"\n",
    "    pi1=sum(u)/len(u)\n",
    "    p1=sum([u[i]*x[i] for i in range(len(u))]) / sum(u)\n",
    "    q1=sum([(1-u[i])*x[i] for i in range(len(u))]) / sum([1-u[i] for i in range(len(u))])\n",
    "    return [pi1,p1,q1]\n",
    "\n",
    "def run(observed_x, start_pi, start_p, start_q, iter_num):\n",
    "    \"\"\"\n",
    "\n",
    "    :param observed_x:  观察数据\n",
    "    :param start_pi:  下一次迭代开始的pi $\\pi$\n",
    "    :param start_p:  下一次迭代开始的p\n",
    "    :param start_q:  下一次迭代开始的q\n",
    "    :param iter_num:  迭代次数\n",
    "    :return:\n",
    "    \"\"\"\n",
    "    for i in range(iter_num):\n",
    "        u=e_step(start_pi, start_p, start_q, observed_x)\n",
    "        print('e step {} -->  观察队列 x 值0，1是独立的 : {}'.format(i, u))\n",
    "        print (i,[start_pi,start_p,start_q])\n",
    "        if [start_pi,start_p,start_q]==m_step(u, observed_x):\n",
    "            break\n",
    "        else:\n",
    "            [start_pi,start_p,start_q]=m_step(u, observed_x)\n",
    "            \n",
    "# 观察数据\n",
    "x = [0, 1, 0, 1, 0, 0, 1, 0, 1, 1]\n",
    "# 初始化 pi，p q\n",
    "[pi, p, q] = [0.8, 0.4, 0.5]\n",
    "# 迭代计算\n",
    "run(x,pi,p,q,100)\n",
    "\n"
   ]
  },
  {
   "cell_type": "code",
   "execution_count": null,
   "metadata": {},
   "outputs": [],
   "source": []
  }
 ],
 "metadata": {
  "kernelspec": {
   "display_name": "Python 3",
   "language": "python",
   "name": "python3"
  },
  "language_info": {
   "codemirror_mode": {
    "name": "ipython",
    "version": 3
   },
   "file_extension": ".py",
   "mimetype": "text/x-python",
   "name": "python",
   "nbconvert_exporter": "python",
   "pygments_lexer": "ipython3",
   "version": "3.7.4"
  },
  "toc": {
   "base_numbering": 1,
   "nav_menu": {},
   "number_sections": true,
   "sideBar": true,
   "skip_h1_title": false,
   "title_cell": "Table of Contents",
   "title_sidebar": "Contents",
   "toc_cell": false,
   "toc_position": {},
   "toc_section_display": true,
   "toc_window_display": false
  },
  "varInspector": {
   "cols": {
    "lenName": 16,
    "lenType": 16,
    "lenVar": 40
   },
   "kernels_config": {
    "python": {
     "delete_cmd_postfix": "",
     "delete_cmd_prefix": "del ",
     "library": "var_list.py",
     "varRefreshCmd": "print(var_dic_list())"
    },
    "r": {
     "delete_cmd_postfix": ") ",
     "delete_cmd_prefix": "rm(",
     "library": "var_list.r",
     "varRefreshCmd": "cat(var_dic_list()) "
    }
   },
   "types_to_exclude": [
    "module",
    "function",
    "builtin_function_or_method",
    "instance",
    "_Feature"
   ],
   "window_display": false
  }
 },
 "nbformat": 4,
 "nbformat_minor": 2
}
