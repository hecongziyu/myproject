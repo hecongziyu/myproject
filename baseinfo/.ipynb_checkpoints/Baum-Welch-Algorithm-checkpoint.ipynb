{
 "cells": [
  {
   "cell_type": "raw",
   "metadata": {},
   "source": [
    "http://www.cs.cmu.edu/~guestrin/Class/10701-S07/Slides/baumwelch.pdf\n",
    "https://blog.csdn.net/u014688145/article/details/53046765 隐马尔可夫模型之Baum-Welch算法详解  !!!!\n",
    "https://blog.csdn.net/jgj123321/article/details/91571640 极大似然估计原理解析\n",
    "https://blog.csdn.net/pacificL/article/details/80396903 强化学习之Q函数的个人理解\n",
    "https://www.cnblogs.com/htj10/p/8621771.html 正态分布（高斯分布）、Q函数、误差函数、互补误差函数\n",
    "https://github.com/hamzarawal/HMM-Baum-Welch-Algorithm/blob/master/baum-welch.py  \n",
    "https://www.cnblogs.com/d-roger/articles/5719979.html   隐马尔可夫模型 HMM 的python实现\n",
    "https://blog.csdn.net/zb1165048017/article/details/48577891 HMM——前向算法与后向算法\n",
    "https://blog.csdn.net/xueyingxue001/article/details/52396494 隐马尔可夫(HMM)、前/后向算法、Viterbi算法 再次总结\n",
    "Baum-Welch.xlsx"
   ]
  },
  {
   "cell_type": "markdown",
   "metadata": {},
   "source": [
    "# 前后向算法"
   ]
  },
  {
   "cell_type": "code",
   "execution_count": null,
   "metadata": {},
   "outputs": [],
   "source": [
    "# https://blog.csdn.net/zb1165048017/article/details/48577891 HMM——前向算法与后向算法\n",
    "# https://blog.csdn.net/u012771351/article/details/53113377 隐马尔可夫(HMM)、前/后向算法、Viterbi算法 再次总结\n",
    "前后向概率的关系  单个状态的概率,这里的单个状态是什么呢?\n",
    "\n",
    "就是给定观测O和HMM的参数 λ 时，在时刻t时位于隐状态i的概率，拥有所有观测时，\n",
    "第t时刻有第i个状态的概率 = t时刻的前向概率 * t时刻的后向概率，即：\n",
    " P(it = qi, Y | λ )  = αi(t) * βi(t)\n",
    " γt(i) = P(it= qi | O, λ) 这个就很强啦，因为我们可以估计在t时刻的隐状态，进而求出隐状态序列！\n",
    "\n"
   ]
  },
  {
   "cell_type": "markdown",
   "metadata": {},
   "source": [
    "# Baum-Welch"
   ]
  },
  {
   "cell_type": "markdown",
   "metadata": {},
   "source": [
    "# 代码实现"
   ]
  },
  {
   "cell_type": "code",
   "execution_count": 85,
   "metadata": {
    "code_folding": []
   },
   "outputs": [],
   "source": [
    "import numpy as np\n",
    "\n",
    "class HMM:\n",
    "    def __init__(self, Ann, Bnm, Pi, O):\n",
    "        self.A = np.array(Ann, np.float)\n",
    "        self.B = np.array(Bnm, np.float)\n",
    "        self.Pi = np.array(Pi, np.float)\n",
    "        self.O = np.array(O, np.int8)\n",
    "        self.N = self.A.shape[0]\n",
    "        self.M = self.B.shape[1]\n",
    "    #   前向算法\n",
    "    def forward(self):\n",
    "            T = len(self.O)\n",
    "            # alpha 前向各隐状态的概率             \n",
    "            alpha = np.zeros((T, self.N), np.float)\n",
    "\n",
    "            for i in range(self.N):        \n",
    "#                 print('i{} PI {}  O {} B {}'.format(i, self.Pi[i], self.O,self.B[0,int(self.O[0])]))\n",
    "                alpha[0,i] = self.Pi[i] * self.B[i, self.O[0]]\n",
    "   \n",
    "            for t in range(T-1):\n",
    "                for i in range(self.N):\n",
    "                    summation = 0   # for every i 'summation' should reset to '0'\n",
    "                    for j in range(self.N):\n",
    "                        summation += alpha[t,j] * self.A[j,i]\n",
    "                    alpha[t+1, i] = summation * self.B[i, self.O[t+1]]\n",
    "\n",
    "            summation = 0.0\n",
    "            for i in range(self.N):\n",
    "                summation += alpha[T-1, i]\n",
    "            Polambda = summation\n",
    "            return Polambda,alpha    \n",
    "        \n",
    "    #  后向算法\n",
    "    def backward(self):\n",
    "            T = len(self.O)\n",
    "            #  T： 时间， self.N 状态数\n",
    "            # beta 后向各隐状态的概率\n",
    "            beta = np.zeros((T, self.N), np.float)\n",
    "            #  初始化后向概率，最终时刻的所有状态规定 为1, 初始化第三次取球为红球时候，即最终时刻所有状态的概率为1 \n",
    "            #  (即要求后一步取得红球的概率为100%, 因为观测数据最后一步是为红球)\n",
    "            for i in range(self.N):\n",
    "                beta[T-1, i] = 1.0\n",
    "            \n",
    "#             print('beta --> {}'.format(beta))\n",
    "            #  range(8,-1,-1) 倒序 8,7,6,...,0\n",
    "            for t in range(T-2,-1,-1):\n",
    "                for i in range(self.N):\n",
    "                    summation = 0.0     # for every i 'summation' should reset to '0'\n",
    "                    for j in range(self.N):\n",
    "                        summation += self.A[i,j] * self.B[j, self.O[t+1]] * beta[t+1,j]\n",
    "                    beta[t,i] = summation\n",
    "\n",
    "            Polambda = 0.0\n",
    "            for i in range(self.N):\n",
    "                Polambda += self.Pi[i] * self.B[i, self.O[0]] * beta[0, i]\n",
    "            return Polambda, beta   \n",
    "\n",
    "    def compute_gamma(self,alpha,beta):\n",
    "            T = len(self.O)\n",
    "            gamma = np.zeros((T, self.N), np.float)       # the probability of Ot=q\n",
    "            for t in range(T):\n",
    "                for i in range(self.N):\n",
    "                    gamma[t, i] = alpha[t,i] * beta[t,i] / sum(\n",
    "                        alpha[t,j] * beta[t,j] for j in range(self.N) )\n",
    "            return gamma      \n",
    "        \n",
    "    def compute_xi(self,alpha,beta):\n",
    "            T = len(self.O)\n",
    "            xi = np.zeros((T-1, self.N, self.N), np.float)  # note that: not T\n",
    "            for t in range(T-1):   # note: not T\n",
    "                for i in range(self.N):\n",
    "                    for j in range(self.N):\n",
    "                        numerator = alpha[t,i] * self.A[i,j] * self.B[j,self.O[t+1]] * beta[t+1,j]\n",
    "                        # the multiply term below should not be replaced by 'nummerator'，\n",
    "                        # since the 'i,j' in 'numerator' are fixed.\n",
    "                        # In addition, should not use 'i,j' below, to avoid error and confusion.\n",
    "                        denominator = sum( sum(     \n",
    "                            alpha[t,i1] * self.A[i1,j1] * self.B[j1,self.O[t+1]] * beta[t+1,j1] \n",
    "                            for j1 in range(self.N) )   # the second sum\n",
    "                                for i1 in range(self.N) )    # the first sum\n",
    "                        xi[t,i,j] = numerator / denominator\n",
    "            return xi   \n",
    "        \n",
    "    def Baum_Welch(self):\n",
    "            # given O list finding lambda model(can derive T form O list)\n",
    "            # also given N, M, \n",
    "            T = len(self.O)\n",
    "            V = [k for k in range(self.M)]\n",
    "\n",
    "            x = 1\n",
    "            delta_lambda = x + 1\n",
    "            times = 0\n",
    "            # iteration - lambda\n",
    "            while delta_lambda > x:  # x\n",
    "                #  E Step: \n",
    "                Polambda1, alpha = self.forward()           # get alpha\n",
    "                Polambda2, beta = self.backward()            # get beta\n",
    "                # the probability of Ot=q  前后向概率在t时候状态I的概率，（进行了归一化处理）\n",
    "                # gamma[t, i] = alpha[t,i] * beta[t,i] / sum(alpha[t,j] * beta[t,j] for j in range(self.N) )\n",
    "                gamma = self.compute_gamma(alpha,beta)     # use alpha, beta\n",
    "                \n",
    "                # the probability of q(tij), t时候状态i,t+1时候转到j的概率\n",
    "                xi = self.compute_xi(alpha,beta)\n",
    "\n",
    "                #  M Step: \n",
    "                lambda_n = [self.A,self.B,self.Pi]\n",
    "                for i in range(self.N):\n",
    "                    for j in range(self.N):\n",
    "                        numerator = sum(xi[t,i,j] for t in range(T-1))\n",
    "                        denominator = sum(gamma[t,i] for t in range(T-1))\n",
    "                        self.A[i, j] = numerator / denominator\n",
    "\n",
    "                for j in range(self.N):\n",
    "                    for k in range(self.M):\n",
    "                        numerator = sum(gamma[t,j] for t in range(T) if self.O[t] == V[k] )  # TBD\n",
    "                        denominator = sum(gamma[t,j] for t in range(T))\n",
    "                        self.B[j, k] = numerator / denominator\n",
    "\n",
    "                for i in range(self.N):\n",
    "                    self.Pi[i] = gamma[0,i]\n",
    "\n",
    "                # if sum directly, there will be positive and negative offset\n",
    "                delta_A = map(abs, lambda_n[0] - self.A)  # delta_A is still a matrix\n",
    "                delta_B = map(abs, lambda_n[1] - self.B)\n",
    "                delta_Pi = map(abs, lambda_n[2] - self.Pi)\n",
    "                delta_lambda = sum([ sum(sum(delta_A)), sum(sum(delta_B)), sum(delta_Pi) ])\n",
    "                times += 1\n",
    "                print('times -->{} Polambda1 {} Polambda2 {}'.format(times,Polambda1, Polambda2))\n",
    "            return self.A, self.B, self.Pi\n"
   ]
  },
  {
   "cell_type": "code",
   "execution_count": 86,
   "metadata": {
    "code_folding": [
     12,
     21
    ],
    "scrolled": true
   },
   "outputs": [
    {
     "name": "stdout",
     "output_type": "stream",
     "text": [
      "A -->0.2\n",
      "B -->0.5\n",
      "O -->0\n",
      "times -->1 Polambda1 0.028486459399999997 Polambda2 0.028486459399999997\n",
      "newA -->[[0.51966175 0.24097028 0.23936797]\n",
      " [0.29207042 0.55167922 0.15625036]\n",
      " [0.22038366 0.38708066 0.39253568]]\n",
      "newB -->[[0.5        0.5       ]\n",
      " [0.4        0.6       ]\n",
      " [0.56666672 0.43333328]]\n",
      "newPi -->[0.18677235 0.32443069 0.48879696]\n"
     ]
    }
   ],
   "source": [
    "# 盒中取球的实例\n",
    "import numpy as np\n",
    "# 初始化选择盒子的概率\n",
    "pi = [0.2 , 0.4 , 0.4]\n",
    "# 从盒子1转到移到其它盒子的概率\n",
    "A =  np.array([\n",
    "    [0.5,0.2,0.3],\n",
    "    [0.3,0.5,0.2],\n",
    "    [0.2,0.3,0.5]\n",
    "],np.float)\n",
    "print('A -->{}'.format(A[0,1]))\n",
    "# 取出红球、白球的概率\n",
    "B = np.array([\n",
    "    [0.5,0.5],\n",
    "    [0.4,0.6],\n",
    "    [0.7,0.3]\n",
    "],np.float)\n",
    "print('B -->{}'.format(B[0,1]))\n",
    "# 观测概率 红、白、红\n",
    "O = [0,1,0,1,1]\n",
    "print('O -->{}'.format(O[0]))\n",
    "# A =  np.array([\n",
    "#     [0.15,0.2,0.65],\n",
    "#     [0.65,0.15,0.2],\n",
    "#     [0.2,0.65,0.15]\n",
    "# ],np.float)\n",
    "hmm = HMM(A,B,pi,O)\n",
    "# prob1, alpha = hmm.forward()\n",
    "# prob2, beta = hmm.backward()\n",
    "# print(alpha)\n",
    "# print(beta)\n",
    "# print(B[0,O[0]])\n",
    "# print('forward --->', hmm.forward())\n",
    "# print('backward --->', hmm.backward())\n",
    "newA, newB, newPi = hmm.Baum_Welch()\n",
    "print('newA -->{}'.format(newA))\n",
    "print('newB -->{}'.format(newB))\n",
    "print('newPi -->{}'.format(newPi))"
   ]
  },
  {
   "cell_type": "code",
   "execution_count": 73,
   "metadata": {},
   "outputs": [
    {
     "data": {
      "text/plain": [
       "array([[0.1       , 0.16      , 0.28      ],\n",
       "       [0.077     , 0.1104    , 0.0606    ],\n",
       "       [0.04187   , 0.035512  , 0.052836  ],\n",
       "       [0.0210779 , 0.02518848, 0.01382442],\n",
       "       [0.01043019, 0.01257429, 0.00548198]])"
      ]
     },
     "execution_count": 73,
     "metadata": {},
     "output_type": "execute_result"
    }
   ],
   "source": [
    "# print(type(alpha[0,0]),'---->', type(A[0,:]))\n",
    "# print(beta[:,1],'---->', B[:, 0])\n",
    "# print(beta[:,1].T,'---->', B[:, 0].T)\n",
    "# print(alpha[0,0] * A[0,:])\n",
    "# alpha[0,0] * A[0,:] * beta[:, 1].T\n",
    "alpha"
   ]
  }
 ],
 "metadata": {
  "kernelspec": {
   "display_name": "Python 3",
   "language": "python",
   "name": "python3"
  },
  "language_info": {
   "codemirror_mode": {
    "name": "ipython",
    "version": 3
   },
   "file_extension": ".py",
   "mimetype": "text/x-python",
   "name": "python",
   "nbconvert_exporter": "python",
   "pygments_lexer": "ipython3",
   "version": "3.7.4"
  },
  "toc": {
   "base_numbering": 1,
   "nav_menu": {},
   "number_sections": true,
   "sideBar": true,
   "skip_h1_title": false,
   "title_cell": "Table of Contents",
   "title_sidebar": "Contents",
   "toc_cell": false,
   "toc_position": {},
   "toc_section_display": true,
   "toc_window_display": false
  },
  "varInspector": {
   "cols": {
    "lenName": 16,
    "lenType": 16,
    "lenVar": 40
   },
   "kernels_config": {
    "python": {
     "delete_cmd_postfix": "",
     "delete_cmd_prefix": "del ",
     "library": "var_list.py",
     "varRefreshCmd": "print(var_dic_list())"
    },
    "r": {
     "delete_cmd_postfix": ") ",
     "delete_cmd_prefix": "rm(",
     "library": "var_list.r",
     "varRefreshCmd": "cat(var_dic_list()) "
    }
   },
   "types_to_exclude": [
    "module",
    "function",
    "builtin_function_or_method",
    "instance",
    "_Feature"
   ],
   "window_display": false
  }
 },
 "nbformat": 4,
 "nbformat_minor": 2
}
