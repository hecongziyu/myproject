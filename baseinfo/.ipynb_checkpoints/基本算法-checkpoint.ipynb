{
 "cells": [
  {
   "cell_type": "markdown",
   "metadata": {},
   "source": [
    "# 基础算法"
   ]
  },
  {
   "cell_type": "markdown",
   "metadata": {
    "heading_collapsed": true
   },
   "source": [
    "动态规划"
   ]
  },
  {
   "cell_type": "markdown",
   "metadata": {},
   "source": [
    "https://mp.weixin.qq.com/s/3h9iqU4rdH3EIy5m6AzXsg?utm_source=wechat_session&utm_medium=social&utm_oi=777186450763440128\n",
    "https://zhuanlan.zhihu.com/p/20038650?utm_source=wechat_session&utm_medium=social&utm_oi=777186450763440128\n",
    "\n",
    "https://zhuanlan.zhihu.com/p/20038650?utm_source=wechat_session&utm_medium=social&utm_oi=777186450763440128\n",
    "http://club.excelhome.net/thread-896998-2-1.html \n",
    "http://www.doc88.com/p-849684937128.html\n",
    "https://max.book118.com/html/2015/1229/32173175.shtm \n",
    "https://wenku.baidu.com/view/ab5d81d6195f312b3169a547.html\n",
    "\n",
    "http://goldsudo.com/develop/algorithm/%E5%88%86%E7%8F%AD%E7%AE%97%E6%B3%95%E5%AE%9E%E7%8E%B0%E8%BF%87%E7%A8%8B%E4%B8%AD%E7%9A%84%E6%95%88%E6%9E%9C%E4%BB%A5%E5%8F%8A%E6%80%A7%E8%83%BD%E4%BC%98%E5%8C%96 \n",
    "\n",
    "三要素：\n",
    "最优子结果\n",
    "边界\n",
    "状态转移方程式"
   ]
  },
  {
   "cell_type": "code",
   "execution_count": null,
   "metadata": {},
   "outputs": [],
   "source": []
  },
  {
   "cell_type": "markdown",
   "metadata": {},
   "source": [
    "背包九讲"
   ]
  },
  {
   "cell_type": "markdown",
   "metadata": {},
   "source": [
    "https://www.cnblogs.com/jbelial/articles/2116074.html\n",
    "https://blog.csdn.net/yandaoqiusheng/article/details/84782655"
   ]
  },
  {
   "cell_type": "markdown",
   "metadata": {
    "heading_collapsed": true
   },
   "source": [
    "拉斯维加斯算法"
   ]
  },
  {
   "cell_type": "markdown",
   "metadata": {},
   "source": []
  },
  {
   "cell_type": "markdown",
   "metadata": {
    "heading_collapsed": true
   },
   "source": [
    "单摆算法"
   ]
  },
  {
   "cell_type": "code",
   "execution_count": null,
   "metadata": {},
   "outputs": [],
   "source": []
  },
  {
   "cell_type": "markdown",
   "metadata": {},
   "source": [
    "# 分班"
   ]
  },
  {
   "cell_type": "code",
   "execution_count": 260,
   "metadata": {},
   "outputs": [
    {
     "name": "stdout",
     "output_type": "stream",
     "text": [
      "[606, 476, 489, 485, 569, 585, 439, 359, 401, 516, 498, 514, 427, 579, 482, 336, 515, 554, 514, 513, 522, 394, 653, 467, 646, 444, 596, 524, 510, 406, 620, 541, 490, 620, 508, 720, 601, 466, 635, 506, 700, 508, 492, 509, 539, 654, 529, 489, 450, 578, 444, 383, 405, 453, 487, 605, 442, 619, 336, 763]\n"
     ]
    },
    {
     "data": {
      "image/png": "[encoded data removed]",
      "text/plain": [
       "<Figure size 432x288 with 1 Axes>"
      ]
     },
     "metadata": {},
     "output_type": "display_data"
    }
   ],
   "source": [
    "import numpy as np\n",
    "from numpy.linalg import cholesky\n",
    "import matplotlib.pyplot as plt\n",
    "\n",
    "def check_mean_similar(input_mean, target_mean):\n",
    "    check_flag = 0\n",
    "#     if abs((input_mean - target_mean)/target_mean) <= 0.003:\n",
    "#         check_flag = 1\n",
    "    if abs(input_mean - target_mean) <= 1:\n",
    "        check_flag = 1\n",
    "    return check_flag\n",
    "\n",
    "\n",
    "sampleNo = 60\n",
    "mu = 500\n",
    "sigma = 100\n",
    "# 生成一维正态分布数据\n",
    "# np.random.seed(0)\n",
    "s = np.random.normal(mu, sigma, sampleNo )\n",
    "s = [int(x) for x in s]\n",
    "print(s)\n",
    "plt.subplot(141)\n",
    "plt.hist(s, 30)\n",
    "plt.show()\n",
    "mean = np.mean(s)\n",
    "std = np.std(s)\n",
    "summary = np.sum(s)\n"
   ]
  },
  {
   "cell_type": "code",
   "execution_count": null,
   "metadata": {},
   "outputs": [],
   "source": []
  },
  {
   "cell_type": "code",
   "execution_count": 264,
   "metadata": {
    "code_folding": [
     0
    ]
   },
   "outputs": [
    {
     "name": "stdout",
     "output_type": "stream",
     "text": [
      "time -->2260.997854232788 number -->9999999, check_list --> [0, 0, 0, 0, 0, 0, 1, 0, 0, 0], mean --> 501.8666666666667\n",
      "[507.0, 539.0, 459.3333333333333, 551.3333333333334, 511.1666666666667, 517.6666666666666, 502.3333333333333, 434.0, 454.6666666666667, 542.1666666666666]\n"
     ]
    }
   ],
   "source": [
    "# print(mean, std, summary)\n",
    "# 随机分组, 蒙特卡罗模拟 \n",
    "import random\n",
    "import time\n",
    "\n",
    "\n",
    "\n",
    "def random_division(input_data, divied_num=2, max_num = 10000000):\n",
    "    data = np.array(input_data)\n",
    "    for idx in range(max_num):\n",
    "        random_idx = np.array(random.sample(range(0,len(input_data)),len(input_data)))\n",
    "        random_idx_split = np.hsplit(random_idx, divied_num)\n",
    "        check_list = [check_mean_similar(np.mean(data[x]),mean) for x in random_idx_split]\n",
    "        if sum(check_list) == divied_num:\n",
    "            break;\n",
    "    return random_idx_split, check_list, idx\n",
    "\n",
    "\n",
    "s = np.random.normal(mu, sigma, sampleNo )\n",
    "s = [int(x) for x in s]\n",
    "mean = np.mean(s)\n",
    "std = np.std(s)\n",
    "summary = np.sum(s)\n",
    "\n",
    "begin = time.time()\n",
    "random_idx_split, check_list, number = random_division(s,divied_num=10, max_num=10000000 )\n",
    "print('time -->{} number -->{}, check_list --> {}, mean --> {}'.format(time.time()-begin, number, check_list, mean))\n",
    "# print('time --> {} number -->{}'.format((time.time() - begin), number)\n",
    "data = np.array(s)\n",
    "mean_lists = [np.mean(data[x]) for x in random_idx_split]\n",
    "print(mean_lists)"
   ]
  },
  {
   "cell_type": "code",
   "execution_count": 247,
   "metadata": {},
   "outputs": [
    {
     "name": "stdout",
     "output_type": "stream",
     "text": [
      "[490.74, 493.684]\n"
     ]
    }
   ],
   "source": [
    "# 拉斯维加斯算法 + 随机初始化\n",
    "def swap_data(high_idxs, low_idxs,high_scores, low_scores, mean):\n",
    "    h_idx = np.where(high_scores > mean)\n",
    "    l_idx = np.where(low_scores < mean)\n",
    "    \n",
    "    \n",
    "\n",
    "def lv_division(input_data, divied_num=2, max_num=100):\n",
    "    data = np.array(input_data)\n",
    "    random_idx = np.array(random.sample(range(0,len(input_data)),len(input_data)))\n",
    "    random_idx_split = np.hsplit(random_idx, divied_num)    \n",
    "    split_data = [data[x] for x in random_idx_split]\n",
    "    split_data_mean = [np.mean(x) for x in split_data]\n",
    "    return split_data_mean, split_data, split_data_mean,random_idx_split\n",
    "\n",
    "s = np.random.normal(mu, sigma, sampleNo )\n",
    "s = [int(x) for x in s]\n",
    "mean = np.mean(s)\n",
    "std = np.std(s)\n",
    "summary = np.sum(s)\n",
    "\n",
    "s_mean, s_data, s_data_mean, s_index = lv_division(s)\n",
    "print(s_mean)\n",
    "    "
   ]
  },
  {
   "cell_type": "code",
   "execution_count": null,
   "metadata": {},
   "outputs": [],
   "source": [
    "print(s_data)"
   ]
  },
  {
   "cell_type": "code",
   "execution_count": null,
   "metadata": {},
   "outputs": [],
   "source": [
    "# 动态规划\n"
   ]
  }
 ],
 "metadata": {
  "kernelspec": {
   "display_name": "Python 3",
   "language": "python",
   "name": "python3"
  },
  "language_info": {
   "codemirror_mode": {
    "name": "ipython",
    "version": 3
   },
   "file_extension": ".py",
   "mimetype": "text/x-python",
   "name": "python",
   "nbconvert_exporter": "python",
   "pygments_lexer": "ipython3",
   "version": "3.6.3"
  }
 },
 "nbformat": 4,
 "nbformat_minor": 2
}
