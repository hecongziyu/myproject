{
 "cells": [
  {
   "cell_type": "markdown",
   "metadata": {},
   "source": [
    "1、https://www.mathworks.com/help/wavelet/gs/what-is-a-wavelet.html\n",
    "2、https://ww2.mathworks.cn/help/wavelet/examples/time-frequency-analysis-with-the-continuous-wavelet-transform.html?requestedDomain=zh\n",
    "3、https://pywavelets.readthedocs.io/en/latest/\n",
    "4、https://blog.csdn.net/qq_20823641/article/details/51829981\n",
    "5、https://www.il-pib.pl/czasopisma/JTIT/2016/2/43.pdf"
   ]
  }
 ],
 "metadata": {
  "kernelspec": {
   "display_name": "Python 3",
   "language": "python",
   "name": "python3"
  },
  "language_info": {
   "codemirror_mode": {
    "name": "ipython",
    "version": 3
   },
   "file_extension": ".py",
   "mimetype": "text/x-python",
   "name": "python",
   "nbconvert_exporter": "python",
   "pygments_lexer": "ipython3",
   "version": "3.6.3"
  }
 },
 "nbformat": 4,
 "nbformat_minor": 2
}
