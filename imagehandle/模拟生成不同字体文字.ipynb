{
 "cells": [
  {
   "cell_type": "raw",
   "metadata": {
    "ExecuteTime": {
     "end_time": "2020-07-17T03:10:36.773384Z",
     "start_time": "2020-07-17T03:10:36.767384Z"
    }
   },
   "source": [
    "\n",
    "生成不同字体多种文字\n",
    "\n",
    "\n"
   ]
  },
  {
   "cell_type": "code",
   "execution_count": 5,
   "metadata": {
    "ExecuteTime": {
     "end_time": "2020-09-18T01:02:35.294677Z",
     "start_time": "2020-09-18T01:02:35.125408Z"
    }
   },
   "outputs": [
    {
     "name": "stdout",
     "output_type": "stream",
     "text": [
      "23\n",
      "D:\\PROJECT_TW\\git\\data\\ocr\\special\\eimages\\y_0.png\n",
      "image shape : (94, 74, 3)\n",
      "D:\\PROJECT_TW\\git\\data\\ocr\\special\\eimages\\y_1.png\n",
      "image shape : (91, 78, 3)\n",
      "D:\\PROJECT_TW\\git\\data\\ocr\\special\\eimages\\y_2.png\n",
      "image shape : (101, 74, 3)\n",
      "D:\\PROJECT_TW\\git\\data\\ocr\\special\\eimages\\y_3.png\n",
      "image shape : (101, 71, 3)\n",
      "D:\\PROJECT_TW\\git\\data\\ocr\\special\\eimages\\y_4.png\n",
      "image shape : (101, 90, 3)\n",
      "D:\\PROJECT_TW\\git\\data\\ocr\\special\\eimages\\y_5.png\n",
      "image shape : (91, 78, 3)\n",
      "D:\\PROJECT_TW\\git\\data\\ocr\\special\\eimages\\y_6.png\n",
      "image shape : (109, 85, 3)\n",
      "D:\\PROJECT_TW\\git\\data\\ocr\\special\\eimages\\y_7.png\n",
      "image shape : (125, 80, 3)\n",
      "D:\\PROJECT_TW\\git\\data\\ocr\\special\\eimages\\y_8.png\n",
      "image shape : (99, 71, 3)\n",
      "D:\\PROJECT_TW\\git\\data\\ocr\\special\\eimages\\y_9.png\n",
      "image shape : (95, 76, 3)\n",
      "D:\\PROJECT_TW\\git\\data\\ocr\\special\\eimages\\y_10.png\n",
      "image shape : (101, 55, 3)\n",
      "D:\\PROJECT_TW\\git\\data\\ocr\\special\\eimages\\y_11.png\n",
      "image shape : (108, 87, 3)\n",
      "D:\\PROJECT_TW\\git\\data\\ocr\\special\\eimages\\y_12.png\n",
      "image shape : (99, 69, 3)\n",
      "D:\\PROJECT_TW\\git\\data\\ocr\\special\\eimages\\y_13.png\n",
      "image shape : (102, 74, 3)\n",
      "D:\\PROJECT_TW\\git\\data\\ocr\\special\\eimages\\y_14.png\n",
      "image shape : (102, 75, 3)\n",
      "D:\\PROJECT_TW\\git\\data\\ocr\\special\\eimages\\y_15.png\n",
      "image shape : (100, 75, 3)\n",
      "D:\\PROJECT_TW\\git\\data\\ocr\\special\\eimages\\y_16.png\n",
      "image shape : (119, 89, 3)\n",
      "D:\\PROJECT_TW\\git\\data\\ocr\\special\\eimages\\y_17.png\n",
      "image shape : (97, 77, 3)\n",
      "D:\\PROJECT_TW\\git\\data\\ocr\\special\\eimages\\y_18.png\n",
      "image shape : (97, 77, 3)\n",
      "D:\\PROJECT_TW\\git\\data\\ocr\\special\\eimages\\y_19.png\n",
      "image shape : (108, 75, 3)\n",
      "D:\\PROJECT_TW\\git\\data\\ocr\\special\\eimages\\y_20.png\n",
      "image shape : (97, 74, 3)\n",
      "D:\\PROJECT_TW\\git\\data\\ocr\\special\\eimages\\y_21.png\n",
      "image shape : (105, 72, 3)\n",
      "D:\\PROJECT_TW\\git\\data\\ocr\\special\\eimages\\y_22.png\n",
      "image shape : (92, 70, 3)\n"
     ]
    }
   ],
   "source": [
    "import os\n",
    "import cv2\n",
    "import numpy as np\n",
    "import sys\n",
    "from PIL import Image, ImageDraw, ImageFont\n",
    "import random\n",
    "import json\n",
    "import numpy as np\n",
    "from matplotlib import pyplot as plt\n",
    "from os.path import join\n",
    "\n",
    "fonts_path = r'D:\\img\\ocr\\fonts'\n",
    "data_path =  r'D:\\PROJECT_TW\\git\\data\\ocr\\special\\eimages'\n",
    "all_fonts = []\n",
    "all_fonts_name = []\n",
    "for root, dirs, files in os.walk(fonts_path):\n",
    "    for file in files:\n",
    "        if file.endswith(\".ttf\"):\n",
    "            all_fonts.append(os.path.join(root, file))\n",
    "            all_fonts_name.append(file[:-4])\n",
    "print(len(all_fonts))\n",
    "draw_str = 'E'\n",
    "draw_pre = 'e'\n",
    "for idx in range(len(all_fonts)):\n",
    "    print(join(data_path,f'y_{idx}.png'))\n",
    "    font_type = ImageFont.truetype(all_fonts[idx], 60)\n",
    "    text_width, text_height = font_type.getsize(draw_str)\n",
    "    image = np.ones((text_height+40, text_width+40, 3), dtype=np.uint8) * 255\n",
    "    print('image shape :', image.shape)\n",
    "    image = Image.fromarray(cv2.cvtColor(image,cv2.COLOR_BGR2RGB)) \n",
    "    draw = ImageDraw.Draw(image)\n",
    "    draw.text((0, 0), draw_str, (0,0,0), font=font_type)\n",
    "    image = cv2.cvtColor(np.asarray(image),cv2.COLOR_RGB2BGR)  \n",
    "    cv2.imwrite(join(data_path,f'{draw_pre}_{idx}.png'),image)\n"
   ]
  },
  {
   "cell_type": "code",
   "execution_count": null,
   "metadata": {},
   "outputs": [],
   "source": []
  }
 ],
 "metadata": {
  "kernelspec": {
   "display_name": "Python 3",
   "language": "python",
   "name": "python3"
  },
  "language_info": {
   "codemirror_mode": {
    "name": "ipython",
    "version": 3
   },
   "file_extension": ".py",
   "mimetype": "text/x-python",
   "name": "python",
   "nbconvert_exporter": "python",
   "pygments_lexer": "ipython3",
   "version": "3.7.4"
  },
  "varInspector": {
   "cols": {
    "lenName": 16,
    "lenType": 16,
    "lenVar": 40
   },
   "kernels_config": {
    "python": {
     "delete_cmd_postfix": "",
     "delete_cmd_prefix": "del ",
     "library": "var_list.py",
     "varRefreshCmd": "print(var_dic_list())"
    },
    "r": {
     "delete_cmd_postfix": ") ",
     "delete_cmd_prefix": "rm(",
     "library": "var_list.r",
     "varRefreshCmd": "cat(var_dic_list()) "
    }
   },
   "types_to_exclude": [
    "module",
    "function",
    "builtin_function_or_method",
    "instance",
    "_Feature"
   ],
   "window_display": false
  }
 },
 "nbformat": 4,
 "nbformat_minor": 2
}
