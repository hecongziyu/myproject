{
 "cells": [
  {
   "cell_type": "raw",
   "metadata": {},
   "source": [
    "\n",
    "\n",
    "语音交互\n",
    "\n",
    "智能交互技术方面主要包含前端信号处理、语音识别、语音合成、声纹识别、语义理解、情绪识别、智能多轮对话等\n",
    "\n",
    "1、https://blog.csdn.net/weixin_40522162/article/details/80427654 语音交互系统的学习：初步了解语音交互流程\n",
    "2、http://www.woshipm.com/ai/2706227.html 超全面的语音交互知识总结：从原理、场景到趋势\n",
    "3、https://cloud.tencent.com/developer/article/1492669\n",
    "4、http://www.visionunion.com/article.jsp?code=201903130010 ！！！\n",
    "5、http://www.xjishu.com/zhuanli/21/201910476450.html ！！\n",
    "6、http://www.woshipm.com/pd/4098761.html ！\n",
    "7、https://help.aliyun.com/document_detail/84428.html \n",
    "   https://help.aliyun.com/document_detail/84430.html?spm=a2c4g.11186623.6.584.49e83069QFblB0\n",
    "   实时语音交互 实时语音（Real-time ASR，RASR）\n",
    "8、https://blog.csdn.net/audio_algorithm/article/details/89450414  \n",
    "  https://zhuanlan.zhihu.com/p/90596982\n",
    "  https://blog.csdn.net/weixin_39614754/article/details/110397909?utm_medium=distribute.pc_relevant.none-task-blog-BlogCommendFromMachineLearnPai2-2.control&dist_request_id=0db0ff64-a04b-43c9-9d95-96b0bd27ae1e&depth_1-utm_source=distribute.pc_relevant.none-task-blog-BlogCommendFromMachineLearnPai2-2.control\n",
    "  https://developer.baidu.com/forum/topic/show/244881\n",
    "  语音唤醒\n",
    "\n",
    "9、https://www.codespeedy.com/voice-assistant-with-python/ \n",
    "  https://www.johngfisher.com/create-j-a-r-v-i-s-with-python-voice-activated-desktop-assistant-tutorial/\n",
    "  \n",
    "10、https://zhuanlan.zhihu.com/p/117634492 \n",
    "   https://zhuanlan.zhihu.com/p/87220879  !!!!\n",
    "   https://www.cnblogs.com/luxiaoxun/archive/2013/05/09/3069036.html\n",
    "   https://blog.csdn.net/zw6161080123/article/details/80639932\n",
    "   https://blog.csdn.net/gdp12315_gu/article/details/55667483 \n",
    "   https://www.zhihu.com/question/39948290 https://www.cnblogs.com/hithongming/p/9229871.html 动态规划  !!!\n",
    "   理解dynamic time warping(DTW)的基本思想 \n",
    "   Dynamic Time Warping（DTW）是一种衡量两个时间序列之间的相似度的方法，主要应用在语音识别领域来识别两段语音是否表示同一个单词\n",
    "   \n",
    "11、https://blog.csdn.net/weixin_42788078/article/details/89634363\n",
    "   Voice Activity Detection (VAD) 在语音信号处理中，例如语音增强，语音识别等领域有着非常重要的作用。它的作用是从一段语音（纯净或带噪）信号中标识出语音片段与非语音片段。VAD系统通常包括两个部分，特征提取和语音/非语音判决；\n",
    "   \n",
    "12、https://www.zhihu.com/question/20136144 viterbi 算法\n",
    "\n",
    "13、https://blog.csdn.net/liangtianxin002/article/details/104149847 deep learning for Small-Footprint Keyword Spotting   !!!\n",
    "\n",
    "\n",
    "14、https://www.geeksforgeeks.org/hotword-detection-with-python/\n",
    "   https://github.com/topics/hotword-detection\n",
    "   https://www.dlology.com/blog/how-to-do-real-time-trigger-word-detection-with-keras/\n",
    "\n",
    "15、https://github.com/Picovoice/wake-word-benchmark\n",
    "   \n",
    "   \n",
    "回声消除\n",
    "语音唤醒: 支持定制词语的唤醒模型。当SDK检测到有人说出该词后，便抛出唤醒信号。唤醒服务支持多个唤醒词和命令词，从唤醒词录制到模型训练完成大约需要2~3周时间。\n",
    "人声检测: 为了节约设备计算资源、减少端侧功耗，NUI SDK自建人声检测功能，只有通过人声检测的音频才会发送给云端进行语音识别。   "
   ]
  }
 ],
 "metadata": {
  "kernelspec": {
   "display_name": "Python 3",
   "language": "python",
   "name": "python3"
  },
  "language_info": {
   "codemirror_mode": {
    "name": "ipython",
    "version": 3
   },
   "file_extension": ".py",
   "mimetype": "text/x-python",
   "name": "python",
   "nbconvert_exporter": "python",
   "pygments_lexer": "ipython3",
   "version": "3.7.4"
  },
  "varInspector": {
   "cols": {
    "lenName": 16,
    "lenType": 16,
    "lenVar": 40
   },
   "kernels_config": {
    "python": {
     "delete_cmd_postfix": "",
     "delete_cmd_prefix": "del ",
     "library": "var_list.py",
     "varRefreshCmd": "print(var_dic_list())"
    },
    "r": {
     "delete_cmd_postfix": ") ",
     "delete_cmd_prefix": "rm(",
     "library": "var_list.r",
     "varRefreshCmd": "cat(var_dic_list()) "
    }
   },
   "types_to_exclude": [
    "module",
    "function",
    "builtin_function_or_method",
    "instance",
    "_Feature"
   ],
   "window_display": false
  }
 },
 "nbformat": 4,
 "nbformat_minor": 2
}
