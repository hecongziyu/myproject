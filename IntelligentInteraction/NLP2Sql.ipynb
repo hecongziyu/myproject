{
 "cells": [
  {
   "cell_type": "raw",
   "metadata": {},
   "source": [
    "\n",
    "\n",
    "NLP 转图数据查询语句\n",
    "\n",
    "http://www.vldb.org/pvldb/vol10/p565-cui.pdf KBQA: Learning Question Answering over QA Corporaand Knowledge Bases\n",
    "\n",
    "\n",
    "主要分为两种方式：\n",
    " 1、基于语义解析 methods usually focus on constructing a semantic parser that couldconvert natural language questions into structured  expressions like logical forms.  \n",
    " 2、信息收集 methods usually search answers from the KB based on the information conveyed in questions, where ranking techniques are often adopted to make correct selections from candidate answers\n"
   ]
  },
  {
   "cell_type": "raw",
   "metadata": {},
   "source": [
    "https://www.jianshu.com/p/edbf5e979b06  基于知识图谱、知识库的QA研究\n",
    "> Semantic Parsing via Staged Query Graph Generation  \n",
    "> https://github.com/teacherpeterpan/Question-Generation-Paper-List\n",
    "\n",
    "> SeqGAN\n",
    "knowledge based QA SeqGAN  Goolge search\n",
    "semi-supervised knowledge based QA  \n",
    "weakly-supervised knowledge based QA  \n",
    "\n",
    "\n",
    "1、https://www.aaai.org/Conferences/AAAI/2017/PreliminaryPapers/12-Yu-L-14344.pdf   SeqGAN\n",
    "   https://github.com/topics/seqgan  A simplified PyTorch implementation of \"SeqGAN: Sequence Generative Adversarial Nets with Policy Gradient.\" \n",
    " 1、https://www.google.com/url?sa=t&rct=j&q=&esrc=s&source=web&cd=&cad=rja&uact=8&ved=2ahUKEwjSvb7UgsvvAhVkKqYKHZdOAvM4ChAWMAB6BAgDEAM&url=http%3A%2F%2Fwww.techscience.com%2Fcmc%2Fv61n2%2F33491%2Fpdf&usg=AOvVaw1jOvMtO6lXuxHJ8ye0GBcF\n",
    " 2、https://zhuanlan.zhihu.com/p/52369445\n",
    " 3、http://www.vldb.org/pvldb/vol10/p565-cui.pdf KBQA: Learning Question Answering over QA Corporaand Knowledge Bases\n",
    " "
   ]
  }
 ],
 "metadata": {
  "kernelspec": {
   "display_name": "Python 3",
   "language": "python",
   "name": "python3"
  },
  "language_info": {
   "codemirror_mode": {
    "name": "ipython",
    "version": 3
   },
   "file_extension": ".py",
   "mimetype": "text/x-python",
   "name": "python",
   "nbconvert_exporter": "python",
   "pygments_lexer": "ipython3",
   "version": "3.7.4"
  },
  "varInspector": {
   "cols": {
    "lenName": 16,
    "lenType": 16,
    "lenVar": 40
   },
   "kernels_config": {
    "python": {
     "delete_cmd_postfix": "",
     "delete_cmd_prefix": "del ",
     "library": "var_list.py",
     "varRefreshCmd": "print(var_dic_list())"
    },
    "r": {
     "delete_cmd_postfix": ") ",
     "delete_cmd_prefix": "rm(",
     "library": "var_list.r",
     "varRefreshCmd": "cat(var_dic_list()) "
    }
   },
   "types_to_exclude": [
    "module",
    "function",
    "builtin_function_or_method",
    "instance",
    "_Feature"
   ],
   "window_display": false
  }
 },
 "nbformat": 4,
 "nbformat_minor": 2
}
