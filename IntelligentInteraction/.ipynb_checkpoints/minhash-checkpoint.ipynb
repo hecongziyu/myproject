{
 "cells": [
  {
   "cell_type": "markdown",
   "id": "c101df32",
   "metadata": {},
   "source": [
    "# 简单实现方式一"
   ]
  },
  {
   "cell_type": "code",
   "execution_count": 17,
   "id": "5ae42a46",
   "metadata": {},
   "outputs": [
    {
     "name": "stdout",
     "output_type": "stream",
     "text": [
      "rt: [[100000000], [100000000]]\n",
      "r: 0\n",
      "hashes : [1, 3]\n"
     ]
    },
    {
     "ename": "IndexError",
     "evalue": "list index out of range",
     "output_type": "error",
     "traceback": [
      "\u001b[1;31m---------------------------------------------------------------------------\u001b[0m",
      "\u001b[1;31mIndexError\u001b[0m                                Traceback (most recent call last)",
      "\u001b[1;32m<ipython-input-17-c38f43dfa41b>\u001b[0m in \u001b[0;36m<module>\u001b[1;34m\u001b[0m\n\u001b[0;32m     41\u001b[0m     \u001b[0mdata\u001b[0m \u001b[1;33m=\u001b[0m \u001b[1;33m[\u001b[0m\u001b[1;33m[\u001b[0m\u001b[1;36m6\u001b[0m\u001b[1;33m,\u001b[0m \u001b[1;36m0\u001b[0m\u001b[1;33m,\u001b[0m \u001b[1;36m1\u001b[0m\u001b[1;33m,\u001b[0m \u001b[1;36m4\u001b[0m\u001b[1;33m,\u001b[0m \u001b[1;36m0\u001b[0m\u001b[1;33m]\u001b[0m\u001b[1;33m,\u001b[0m\u001b[1;33m]\u001b[0m\u001b[1;33m\u001b[0m\u001b[1;33m\u001b[0m\u001b[0m\n\u001b[0;32m     42\u001b[0m     \u001b[0mhash_funcs\u001b[0m \u001b[1;33m=\u001b[0m \u001b[1;33m[\u001b[0m\u001b[0mhash_func_demo1\u001b[0m\u001b[1;33m,\u001b[0m \u001b[0mhash_func_demo2\u001b[0m\u001b[1;33m]\u001b[0m\u001b[1;33m\u001b[0m\u001b[1;33m\u001b[0m\u001b[0m\n\u001b[1;32m---> 43\u001b[1;33m     \u001b[0mrt\u001b[0m \u001b[1;33m=\u001b[0m  \u001b[0mmin_hash\u001b[0m\u001b[1;33m(\u001b[0m\u001b[0mdata\u001b[0m\u001b[1;33m,\u001b[0m \u001b[0mhash_funcs\u001b[0m\u001b[1;33m)\u001b[0m\u001b[1;33m\u001b[0m\u001b[1;33m\u001b[0m\u001b[0m\n\u001b[0m\u001b[0;32m     44\u001b[0m     \u001b[0mprint\u001b[0m\u001b[1;33m(\u001b[0m\u001b[0mrt\u001b[0m\u001b[1;33m)\u001b[0m\u001b[1;33m\u001b[0m\u001b[1;33m\u001b[0m\u001b[0m\n",
      "\u001b[1;32m<ipython-input-17-c38f43dfa41b>\u001b[0m in \u001b[0;36mmin_hash\u001b[1;34m(data, hash_funcs)\u001b[0m\n\u001b[0;32m     33\u001b[0m                 \u001b[1;32mcontinue\u001b[0m\u001b[1;33m\u001b[0m\u001b[1;33m\u001b[0m\u001b[0m\n\u001b[0;32m     34\u001b[0m             \u001b[1;32mfor\u001b[0m \u001b[0mk\u001b[0m \u001b[1;32min\u001b[0m \u001b[0mrange\u001b[0m\u001b[1;33m(\u001b[0m\u001b[1;36m0\u001b[0m\u001b[1;33m,\u001b[0m\u001b[0mR\u001b[0m\u001b[1;33m)\u001b[0m\u001b[1;33m:\u001b[0m\u001b[1;33m\u001b[0m\u001b[1;33m\u001b[0m\u001b[0m\n\u001b[1;32m---> 35\u001b[1;33m                 \u001b[0mrt\u001b[0m\u001b[1;33m[\u001b[0m\u001b[0mcol\u001b[0m\u001b[1;33m]\u001b[0m\u001b[1;33m[\u001b[0m\u001b[0mk\u001b[0m\u001b[1;33m]\u001b[0m \u001b[1;33m=\u001b[0m \u001b[0mmin\u001b[0m\u001b[1;33m(\u001b[0m\u001b[0mrt\u001b[0m\u001b[1;33m[\u001b[0m\u001b[0mcol\u001b[0m\u001b[1;33m]\u001b[0m\u001b[1;33m[\u001b[0m\u001b[0mk\u001b[0m\u001b[1;33m]\u001b[0m\u001b[1;33m,\u001b[0m \u001b[0mhashes\u001b[0m\u001b[1;33m[\u001b[0m\u001b[0mk\u001b[0m\u001b[1;33m]\u001b[0m\u001b[1;33m)\u001b[0m\u001b[1;33m\u001b[0m\u001b[1;33m\u001b[0m\u001b[0m\n\u001b[0m\u001b[0;32m     36\u001b[0m     \u001b[1;32mreturn\u001b[0m \u001b[0mrt\u001b[0m\u001b[1;33m\u001b[0m\u001b[1;33m\u001b[0m\u001b[0m\n\u001b[0;32m     37\u001b[0m \u001b[1;33m\u001b[0m\u001b[0m\n",
      "\u001b[1;31mIndexError\u001b[0m: list index out of range"
     ]
    }
   ],
   "source": [
    "# 实现方式一\n",
    "import os\n",
    "import sys\n",
    "\n",
    "def hash_func_demo1(x):\n",
    "#     print('demo1 :', x)\n",
    "    return x % 5\n",
    "\n",
    "def hash_func_demo2(x):\n",
    "#     print('demo2 :', x)\n",
    "    return (2 * x  + 1) % 5\n",
    "\n",
    " \n",
    "### data:[C1, C2, C3, ... CM]; C1:[a1, a2, a3 ... an]. thus D: n * m\n",
    "### hash_funcs;[h1, h2, ..., hr]\n",
    "### return: r * m matrix\n",
    "def min_hash(data, hash_funcs):\n",
    "    MAX = 100000000\n",
    "    M, N, R = len(data), len(data[0]), len(hash_funcs)\n",
    " \n",
    "    rt = []\n",
    "    for i in range(0, R):\n",
    "        rt.append(list(map(lambda x : x, [MAX] * M  )))\n",
    "\n",
    "    print('rt:', rt)\n",
    "    for r in range(0, N):\n",
    "        print('r:', r)\n",
    "        hashes = list(map(lambda x : x(r + 1), hash_funcs))\n",
    "        print('hashes :', hashes)\n",
    "        \n",
    "        for col in range(0, M):\n",
    "            print('col :', col)\n",
    "            if data[col][r] == 0:\n",
    "                continue            \n",
    "            for k in range(0,R):\n",
    "                rt[col][k] = min(rt[col][k], hashes[k])\n",
    "    return rt\n",
    "\n",
    "\n",
    "if __name__ == \"__main__\":\n",
    "    #     [1, 4, 1, 6, 1,1]\n",
    "    data = [[6, 0, 1, 4, 0],]\n",
    "    hash_funcs = [hash_func_demo1, hash_func_demo2]\n",
    "    rt =  min_hash(data, hash_funcs)\n",
    "    print(rt)\n"
   ]
  },
  {
   "cell_type": "markdown",
   "id": "bd80cfd2",
   "metadata": {},
   "source": [
    "# 实现方式二"
   ]
  },
  {
   "cell_type": "code",
   "execution_count": 2,
   "id": "bc724110",
   "metadata": {},
   "outputs": [],
   "source": [
    "# 实现方式二\n",
    "from scipy.spatial.distance import cosine\n",
    "from random import randint\n",
    "import numpy as np\n",
    "\n",
    "# specify the length of each minhash vector\n",
    "N = 128\n",
    "max_val = (2**32)-1\n",
    "# create N tuples that will serve as permutation functions\n",
    "# these permutation values are used to hash all input sets\n",
    "perms = [ (randint(0,max_val), randint(0,max_val)) for i in range(N)]\n",
    "# initialize a sample minhash vector of length N\n",
    "# each record will be represented by its own vec\n",
    "vec = [float('inf') for i in range(N)]\n",
    "def minhash(s, prime=4294967311):\n",
    "  '''\n",
    "  Given a set `s`, pass each member of the set through all permutation\n",
    "  functions, and set the `ith` position of `vec` to the `ith` permutation\n",
    "  function's output if that output is smaller than `vec[i]`.\n",
    "  '''\n",
    "  # initialize a minhash of length N with positive infinity values\n",
    "  vec = [float('inf') for i in range(N)]\n",
    "\n",
    "  for val in s:\n",
    "\n",
    "    # ensure s is composed of integers\n",
    "    if not isinstance(val, int): val = hash(val)\n",
    "\n",
    "    # loop over each \"permutation function\"\n",
    "    for perm_idx, perm_vals in enumerate(perms):\n",
    "      a, b = perm_vals\n",
    "\n",
    "      # pass `val` through the `ith` permutation function\n",
    "      output = (a * val + b) % prime\n",
    "\n",
    "      # conditionally update the `ith` value of vec\n",
    "      if vec[perm_idx] > output:\n",
    "        vec[perm_idx] = output\n",
    "\n",
    "  # the returned vector represents the minimum hash of the set s\n",
    "  return vec"
   ]
  },
  {
   "cell_type": "code",
   "execution_count": 5,
   "id": "572c89b9",
   "metadata": {},
   "outputs": [
    {
     "name": "stdout",
     "output_type": "stream",
     "text": [
      "vec1  [446115221, 1155015849, 280399268, 196948609, 760869607, 157354906, 611245870, 763806721, 517175337, 134719730, 525304333, 328057473, 300084775, 557257718, 1367121276, 527828995, 413877902, 146414575, 316773712, 666202177, 147830685, 216272455, 408317624, 811986757, 517670574, 304751583, 99864345, 140308525, 374735470, 322130637, 448205117, 573787209, 96410520, 196498927, 235273117, 141083325, 359904563, 257099898, 425838722, 685258455, 17074162, 43669098, 547329534, 1349383457, 44851531, 294366748, 77478992, 69074668, 74656866, 75855427, 47252688, 72841856, 168334808, 73960101, 137529215, 1044848094, 220604464, 496513052, 241781715, 288199475, 1103070963, 76614040, 122488098, 425525255, 352653591, 93830774, 85096250, 30940164, 11584935, 578267528, 84383670, 77206379, 11269819, 153469168, 449425887, 356831714, 286209772, 62114763, 66966499, 136327882, 245787992, 125933929, 1002745423, 137041312, 164915013, 379113525, 358583459, 309148201, 30719235, 291295346, 117775971, 1231643032, 37986083, 247896499, 265901138, 492527349, 503388911, 29528889, 833282448, 33248378, 384647219, 851802804, 173938458, 370223758, 1442803935, 95951502, 68977542, 155008300, 1119355802, 454225108, 363087113, 126287125, 485765046, 94205216, 24705706, 28756080, 970884151, 54321478, 233025338, 201627985, 318913805, 130402862, 997870347, 647481972, 383291940, 23926275, 513288374, 4293602]\n",
      "vec2  [446115221, 1593097728, 280399268, 196948609, 1552484541, 23831829, 696750145, 763806721, 517175337, 134719730, 229100547, 328057473, 300084775, 557257718, 1367121276, 807078942, 71809968, 146414575, 316773712, 666202177, 129134404, 216272455, 408317624, 811986757, 517670574, 92901229, 99864345, 327035151, 648693493, 322130637, 448205117, 56286552, 776327308, 196498927, 235273117, 141083325, 954578962, 815217336, 501315858, 685258455, 17074162, 69090468, 404323636, 1535474931, 44851531, 294366748, 77478992, 69074668, 74656866, 75855427, 47252688, 72841856, 416069788, 110846077, 137529215, 705685826, 522439816, 142318311, 72047890, 288199475, 1103070963, 76614040, 247063281, 425525255, 352653591, 93830774, 85096250, 30940164, 11584935, 578267528, 84383670, 77206379, 11269819, 153469168, 8186095, 555495896, 286209772, 62114763, 66966499, 136327882, 245787992, 125933929, 1002745423, 137041312, 164915013, 379113525, 358583459, 309148201, 25512969, 291295346, 117775971, 1231643032, 37986083, 247896499, 265901138, 468028042, 503388911, 29528889, 833282448, 33248378, 384647219, 851802804, 173938458, 370223758, 1442803935, 95951502, 35074888, 155008300, 811823352, 454225108, 631392201, 1295330237, 485765046, 307464810, 24705706, 135952585, 328964497, 54321478, 280894441, 201627985, 329716985, 130402862, 997870347, 647481972, 383291940, 23926275, 513288374, 4293602]\n",
      " * similarity: 0.9180542457340287\n"
     ]
    }
   ],
   "source": [
    "import numpy as np\n",
    "\n",
    "# specify some input sets\n",
    "data1 = set(['minhash', 'is', 'a', 'probabilistic', 'data', 'structure', 'for',\n",
    "        'estimating', 'the', 'similarity', 'between', 'datasets'])\n",
    "data2 = set(['minhash', 'is', 'a', 'probability', 'data', 'structure', 'for',\n",
    "        'estimating', 'the', 'similarity', 'between', 'documents'])\n",
    "\n",
    "# get the minhash vectors for each input set\n",
    "vec1 = minhash(data1)\n",
    "print('vec1 ', vec1)\n",
    "vec2 = minhash(data2)\n",
    "print('vec2 ', vec2)\n",
    "\n",
    "# divide both vectors by their max values to scale values {0:1}\n",
    "vec1 = np.array(vec1) / max(vec1)\n",
    "vec2 = np.array(vec2) / max(vec2)\n",
    "\n",
    "# measure the similarity between the vectors using cosine similarity\n",
    "print( ' * similarity:', 1 - cosine(vec1, vec2) )"
   ]
  },
  {
   "cell_type": "markdown",
   "id": "e2fb3c0e",
   "metadata": {},
   "source": [
    "# 实现方式三"
   ]
  },
  {
   "cell_type": "code",
   "execution_count": 12,
   "id": "e60d5c1d",
   "metadata": {},
   "outputs": [
    {
     "name": "stdout",
     "output_type": "stream",
     "text": [
      "Estimated Jaccard for data1 and data2 is 0.7109375\n",
      "Actual Jaccard for data1 and data2 is 0.7142857142857143\n"
     ]
    }
   ],
   "source": [
    "from datasketch import MinHash\n",
    "from scipy.spatial.distance import cosine\n",
    "data1 = ['minhash', 'is', 'a', 'probabilistic', 'data', 'structure', 'for',\n",
    "        'estimating', 'the', 'similarity', 'between', 'datasets']\n",
    "data2 = ['minhash', 'is', 'a', 'probability', 'data', 'structure', 'for',\n",
    "        'estimating', 'the', 'similarity', 'between', 'documents']\n",
    "\n",
    "\n",
    "\n",
    "m1, m2 = MinHash(), MinHash()\n",
    "for d in data1:\n",
    "    m1.update(d.encode('utf8'))\n",
    "#     m1.update(d)\n",
    "for d in data2:\n",
    "    m2.update(d.encode('utf8'))\n",
    "#     m2.update(d)\n",
    "print(\"Estimated Jaccard for data1 and data2 is\", m1.jaccard(m2))\n",
    "\n",
    "s1 = set(data1)\n",
    "s2 = set(data2)\n",
    "actual_jaccard = float(len(s1.intersection(s2)))/float(len(s1.union(s2)))\n",
    "print(\"Actual Jaccard for data1 and data2 is\", actual_jaccard)"
   ]
  },
  {
   "cell_type": "code",
   "execution_count": 16,
   "id": "c9b97397",
   "metadata": {},
   "outputs": [
    {
     "name": "stdout",
     "output_type": "stream",
     "text": [
      "v1: [1, 2, 3, 4, 5, 6, 7, 8, 9, 0]\n",
      "v2: [1, 2, 3, 4, 5, 6, 7, 8, 9, 0]\n",
      "Estimated Jaccard m1, m2 1.0\n",
      "Estimated Jaccard m1, m3 0.2\n"
     ]
    }
   ],
   "source": [
    "import numpy as np\n",
    "from datasketch import WeightedMinHashGenerator\n",
    "from datasketch import MinHashLSH\n",
    "\n",
    "# v1 = np.random.uniform(1, 10, 10)\n",
    "# v2 = np.random.uniform(1, 10, 10)\n",
    "v3 = np.random.uniform(1, 10, 10)\n",
    "v1 = [1,2,3,4,5,6,7,8,9,0]\n",
    "v2 = [1,2,3,4,5,6,7,8,9,0]\n",
    "print('v1:', v1)\n",
    "print('v2:', v2)\n",
    "mg = WeightedMinHashGenerator(10, 5)\n",
    "m1 = mg.minhash(v1)\n",
    "m2 = mg.minhash(v2)\n",
    "m3 = mg.minhash(v3)\n",
    "\n",
    "print(\"Estimated Jaccard m1, m2\", m1.jaccard(m2))\n",
    "print(\"Estimated Jaccard m1, m3\", m1.jaccard(m3))"
   ]
  },
  {
   "cell_type": "code",
   "execution_count": null,
   "id": "a6956680",
   "metadata": {},
   "outputs": [],
   "source": []
  }
 ],
 "metadata": {
  "kernelspec": {
   "display_name": "Python 3",
   "language": "python",
   "name": "python3"
  },
  "language_info": {
   "codemirror_mode": {
    "name": "ipython",
    "version": 3
   },
   "file_extension": ".py",
   "mimetype": "text/x-python",
   "name": "python",
   "nbconvert_exporter": "python",
   "pygments_lexer": "ipython3",
   "version": "3.8.8"
  }
 },
 "nbformat": 4,
 "nbformat_minor": 5
}
