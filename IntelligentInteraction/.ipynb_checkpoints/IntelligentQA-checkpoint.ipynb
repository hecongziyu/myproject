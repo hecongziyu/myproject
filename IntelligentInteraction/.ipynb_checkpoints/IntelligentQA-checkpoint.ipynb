{
 "cells": [
  {
   "cell_type": "raw",
   "metadata": {},
   "source": [
    "\n",
    "智能问答\n",
    "\n",
    "1、https://www.jianshu.com/p/9a68a9f98e12   基于知识图谱的智能问答系统\n",
    "2、https://cn.bing.com/search?q=knowledge+base+question+answering&qs=n&form=QBLHCN&sp=-1&pq=&sc=0-0&sk=&cvid=DDB3891D396E4EDF90F81C76BAB9210B\n",
    "3、https://dzone.com/articles/building-an-intelligent-qa-system-with-nlp-and-mil\n",
    "4、http://www.voidcn.com/article/p-ylqixdln-bxu.html  https://www.it1352.com/1720809.html \n",
    "  https://blog.csdn.net/u011801161/article/details/79185464  https://www.cnblogs.com/cuiyubo/p/9464887.html Sparql查询与推理\n",
    "5、https://zhuanlan.zhihu.com/p/49541317 图推理模型\n",
    "6、https://www.zhihu.com/question/30789770   ！！\n",
    "  http://www.csuldw.com/2019/08/25/2019-08-25-kb-and-gb-movieqa/  https://zhuanlan.zhihu.com/p/25984744 \n",
    "  怎么利用知识图谱构建智能问答系统\n",
    "  \n",
    "7、http://research.baidu.com/Public/uploads/5c1c9a58317b3.pdf \n",
    "  https://www.ijcai.org/Proceedings/2019/0701.pdf \n",
    "  https://www.microsoft.com/en-us/research/wp-content/uploads/2016/08/acl2016-webqsp.pdf\n",
    "  https://arxiv.org/pdf/1503.00759.pdf\n",
    " 8、https://zhuanlan.zhihu.com/p/106024679 \n",
    "   https://www.dazhuanlan.com/2019/10/12/5da0e6e15dfdf/?__cf_chl_jschl_tk__=2ba4e5efe1e1b397f225c74ad782595264d8aa2f-1614223166-0-AcGTuhpq5RU3AbCAOjSIaFj6Qr59JDuTEh112mIangELXhq7QFrcIUHnr-MbQ8W30r1TyEvA8JqkOswyo2Sa9aq_ZocDMrG4zB2WxDNpiXmgPKAjHWBAVfxyu7gmZC2e_I2GB1IOu6KZYi4MLpOBtwGp9pvbZNJat1BDvpd07OPAR44rBBc3wt3filZG0CTh6wamygAv1H-iqW2OQneqL81RsfUNHef2uDvExZKsTN1kA5CvjnDiBFfwr2E2kKzbSfSqfQYZgP1BS6IqymBSgFsEyjMgnuxSQSjUc07_NjpMMGUjG7GHRE6atHWxqk8JjOpanpwXyVUPsEJRA44ThXA\n",
    "   http://blog.itpub.net/29829936/viewspace-2644276/ \n",
    "   Knowledge Graph Embedding  ！！！！\n",
    "   \n",
    "9、https://zhuanlan.zhihu.com/p/152257102  \n",
    "  https://blog.csdn.net/shunaoxi2313/article/details/89766467\n",
    "  https://blog.csdn.net/weixin_30662011/article/details/97504544?utm_medium=distribute.pc_relevant.none-task-blog-baidujs_baidulandingword-7&spm=1001.2101.3001.4242\n",
    "  https://www.zhihu.com/question/331101962 如何用transE解决推理新知识的具体问题\n",
    "  TransE\n",
    "  \n",
    "10、https://www.oschina.net/p/milvus?hmsr=aladdin1e1 Milvus向量搜索引擎\n",
    "   https://www.jianshu.com/nb/47561334  向量搜索引擎\n",
    "   \n",
    "11、https://blog.csdn.net/qq_35392239/article/details/106031692  \n",
    "   https://www.jianshu.com/p/edaa744ea47d   conda \n",
    "   \n",
    "   \n",
    "\n"
   ]
  },
  {
   "cell_type": "raw",
   "metadata": {},
   "source": [
    "> https://zhuanlan.zhihu.com/p/353336108\n",
    "> https://zhuanlan.zhihu.com/p/77321103\n",
    "> https://github.com/BshoterJ/awesome-kgqa  Awesome-knowledge-graph-question-answering  ！！！！\n",
    "> https://www.microsoft.com/en-us/research/wp-content/uploads/2016/02/ACL15-STAGG.pdf  Semantic Parsing via Staged Query Graph Generation:Question Answering with Knowledge Base\n",
    "> https://arxiv.org/pdf/2001.11985.pdf Pretrained Transformers for Simple QuestionAnswering over Knowledge Graphs\n",
    "> https://www.aclweb.org/anthology/C16-1164.pdf Simple Question Answering by Attentive Convolutional Neural Network\n",
    "> http://ceur-ws.org/Vol-2262/ekaw-demo-20.pdf A Guided Template-Based Question AnsweringSystem over Knowledge Graphs\n",
    "> http://papers.www2017.com.au.s3-website-ap-southeast-2.amazonaws.com/proceedings/p1191.pdf Automated Template Generation for Question Answeringover Knowledge Graphs\n",
    "> https://www.aclweb.org/anthology/D18-1242/  Knowledge Base Question Answering via Encoding of Complex Query Graphs\n",
    "> https://tyliupku.github.io/papers/nlpcc2017_liu.pdf Question Answering Over Knowledge Graphs: QuestionUnderstanding Via Template Decomposition  ！！！！！\n",
    "> http://www.vldb.org/pvldb/vol11/p1373-zheng.pdf Large-scale Simple Question Generation byTemplate-based Seq2seq Learning\n",
    "> http://ceur-ws.org/Vol-1472/IESD_2015_paper_12.pdf  a pattern-based, data-driven and guided approachto mapping natural language queries to SPARQL\n",
    "> https://dl.acm.org/doi/10.14778/3236187.3236192\n",
    "> http://www.ccs.neu.edu/home/mirek/papers/2017-WWW-QUINT.pdf  Automated Template Generation for Question Answeringover Knowledge Graphs\n",
    "> https://arxiv.org/pdf/1406.3676.pdf Question Answering with Subgraph Embeddings\n",
    "> https://pub.uni-bielefeld.de/download/2760642/2760651/qa_ccg_camera_ready_version.pdf  Applying Semantic Parsing to QuestionAnswering over Linked Data: Addressing theLexical Gap\n",
    "> https://www.icst.pku.edu.cn/leizou/docs/2018-11/20181121164416902982.pdf Natural Language Question Answering over RDF —A Graph Data Driven Approach\n",
    "> http://www.cs.kent.edu/~xlian/papers/SIGMOD15-weiguo.pdf How to Build Templates for RDF Question/Answering—An Uncertain Graph Similarity Join Approach\n",
    "> https://www.microsoft.com/en-us/research/wp-content/uploads/2016/02/ACL15-STAGG.pdf\n",
    "> https://www.cnblogs.com/jclian91/p/10865377.html  SPARQL入门（一）SPARQL简介与简单使用\n",
    "> https://github.com/tableau/query-graphs \n",
    "> https://www.aclweb.org/anthology/2020.acl-main.91.pdf  Query Graph Generation for Answering Multi-hop Complex Questionsfrom Knowledge Bases\n",
    "> http://jens-lehmann.org/files/2012/tbsl_www.pdf  Template-based Question Answering over RDF Data\n",
    "> https://zhuanlan.zhihu.com/p/50065780 !!!  Semantic Parsing via Staged Query Graph Generation: Question Answering with Knowledge Base\n",
    "> https://blog.csdn.net/qq_43734511/article/details/106061538 python \n",
    " https://blog.csdn.net/weixin_42973678/article/details/88563715?utm_medium=distribute.pc_relevant.none-task-blog-BlogCommendFromMachineLearnPai2-7.control&dist_request_id=1328592.24475.16148417069218653&depth_1-utm_source=distribute.pc_relevant.none-task-blog-BlogCommendFromMachineLearnPai2-7.control\n",
    "> https://arxiv.org/pdf/1907.09361.pdf  整体介绍  ！！！！\n",
    " > https://github.com/giTorto/flask-ask\n",
    " \n",
    " > Semantically equivalent adversarial rules for debugging NLP models\n",
    " \n",
    " REfO模块使用入门\n",
    "\n",
    "1、https://arxiv.org/abs/1903.02188 \n",
    "   https://github.com/hugochan/BAMnet  \n",
    "   https://zhuanlan.zhihu.com/p/79385487  多视角注意力机制    KBQA system\n",
    "   \n",
    "2、https://github.com/castorini/BuboQA  \n",
    "  https://www.aclweb.org/anthology/N18-2047.pdf\n",
    "   Simple Question Answering over Knowledge Graphs\n",
    "3、https://github.com/svakulenk0/KBQA \n",
    "  https://arxiv.org/pdf/1908.06917.pdf\n",
    "  Complex Question Answering over Knowledge Graphs\n",
    "  \n",
    "4、http://workshop.colips.org/dstc6/papers/track1_paper02_wu.pdf \n",
    "   https://arxiv.org/pdf/1903.02188.pdf\n",
    "   https://jasonwu0731.github.io/files/JasonWuMPhilThesisPresentation.pdf\n",
    "   \n",
    " 5、https://arxiv.org/abs/2001.11985 Pretrained Transformers for Simple Question Answering over Knowledge Graphs\n",
    " \n",
    " 6、https://github.com/chizhu/KGQA_HLM 基于知识图谱的《红楼梦》人物关系可视化及问答系统\n",
    "   https://github.com/SimmerChan/KG-demo-for-movie   基于规则的实现\n",
    "   \n",
    " 7、https://github.com/vasugr/Natural-Language-To-SPARQL \n",
    "   https://www.ic.unicamp.br/~reltech/PFG/2019/PFG-19-33.pdf\n",
    "   https://arxiv.org/abs/1906.09302 \n",
    "   Neural Machine Translating from Natural Language to SPARQL\n",
    "   \n",
    " 8、https://github.com/dice-group/TeBaQA\n",
    "   https://github.com/awslabs/unsupervised-qa\n",
    "   https://github.com/kushalj001/pytorch-question-answering\n",
    "   https://github.com/josephedradan/nlp-question-answering\n",
    "   \n",
    " 9、https://github.com/lanyunshi/Multi-hopComplexKBQA ！！！\n",
    "   \n",
    "   "
   ]
  }
 ],
 "metadata": {
  "kernelspec": {
   "display_name": "Python 3",
   "language": "python",
   "name": "python3"
  },
  "language_info": {
   "codemirror_mode": {
    "name": "ipython",
    "version": 3
   },
   "file_extension": ".py",
   "mimetype": "text/x-python",
   "name": "python",
   "nbconvert_exporter": "python",
   "pygments_lexer": "ipython3",
   "version": "3.7.4"
  },
  "varInspector": {
   "cols": {
    "lenName": 16,
    "lenType": 16,
    "lenVar": 40
   },
   "kernels_config": {
    "python": {
     "delete_cmd_postfix": "",
     "delete_cmd_prefix": "del ",
     "library": "var_list.py",
     "varRefreshCmd": "print(var_dic_list())"
    },
    "r": {
     "delete_cmd_postfix": ") ",
     "delete_cmd_prefix": "rm(",
     "library": "var_list.r",
     "varRefreshCmd": "cat(var_dic_list()) "
    }
   },
   "types_to_exclude": [
    "module",
    "function",
    "builtin_function_or_method",
    "instance",
    "_Feature"
   ],
   "window_display": false
  }
 },
 "nbformat": 4,
 "nbformat_minor": 2
}
