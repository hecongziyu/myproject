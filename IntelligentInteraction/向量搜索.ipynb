{
 "cells": [
  {
   "cell_type": "raw",
   "id": "f02b3eda",
   "metadata": {},
   "source": [
    "https://github.com/facebookresearch/faiss/wiki/Getting-started 单机模式\n",
    "https://vearch.readthedocs.io/zh_CN/latest/use_op/op_doc.html  向量查询\n",
    "https://blog.csdn.net/xt_ecnu/article/details/87073384  zeromq 通讯\n",
    "https://blog.csdn.net/u013474436/article/details/99093556 zeromq 通讯"
   ]
  }
 ],
 "metadata": {},
 "nbformat": 4,
 "nbformat_minor": 5
}
