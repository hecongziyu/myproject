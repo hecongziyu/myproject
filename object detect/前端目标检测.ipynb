{
 "cells": [
  {
   "cell_type": "code",
   "execution_count": null,
   "metadata": {},
   "outputs": [],
   "source": []
  },
  {
   "cell_type": "markdown",
   "metadata": {
    "heading_collapsed": true
   },
   "source": [
    "# yolo"
   ]
  },
  {
   "cell_type": "raw",
   "metadata": {
    "hidden": true
   },
   "source": [
    "\n",
    "\n",
    "1、https://towardsdatascience.com/in-browser-object-detection-using-yolo-and-tensorflow-js-d2a2b7429f7c\n",
    "2、https://github.com/shaqian/tfjs-yolo\n",
    "3、https://opencv-tutorial.readthedocs.io/en/latest/yolo/yolo.html\n",
    "4、https://www.mygreatlearning.com/blog/yolo-object-detection-using-opencv/\n",
    "5、https://gilberttanner.com/blog/yolo-object-detection-introduction\n",
    "6、https://blog.csdn.net/z704630835/article/details/83614909\n",
    "7、https://blog.csdn.net/qq_28123095/article/details/80052308  ！！！！\n",
    "8、https://zhuanlan.zhihu.com/p/93809416 ！！！\n",
    "9、https://blog.csdn.net/gbz3300255/article/details/106094880\n",
    "10、https://www.baidu.com/s?wd=yolov3%E5%B0%8F%E7%9B%AE%E6%A0%87%E6%A3%80%E6%B5%8B%E6%8A%80%E5%B7%A7&rsv_idx=2&tn=baiduhome_pg&ie=utf-8&rsf=167670011&rsv_dl=0_prs_28608_2&rsv_pq=ba1ac4f20007d3ab&rsv_t=1448Ulog7e%2BbpSMJOlbczjx5XYLoDoBaazl41HekQvBMm6Ql9coDYaoEoTVZQN6ohbiE   yolo小目标检测技巧\n",
    "11、https://github.com/bubbliiiing/yolov4-tiny-pytorch\n",
    "12、https://www.cnblogs.com/hesse-summer/p/11335865.html ！\n",
    "13、https://c.m.163.com/news/a/FLU27V410511DSSR.html?spss=newsapp ！！！！！！！！！！！！！！！！\n",
    "14、https://www.jianshu.com/p/d13ae1055302  Yolo3 深入理解\n",
    "15、https://blog.csdn.net/m_buddy/article/details/82926024 YOLO-v3模型参数anchor设置 ！！！！！\n",
    "\n",
    "15、https://zhuanlan.zhihu.com/p/94477174 上采样  https://blog.csdn.net/wsp_1138886114/article/details/81746979 上采样\n",
    "16、上采样  https://blog.csdn.net/CLOUD_J/article/details/90693794?utm_medium=distribute.pc_relevant.none-task-blog-BlogCommendFromMachineLearnPai2-2.channel_param&depth_1-utm_source=distribute.pc_relevant.none-task-blog-BlogCommendFromMachineLearnPai2-2.channel_param\n",
    "17、https://www.zhihu.com/question/328891283 上采样\n",
    "14、https://drsleep.github.io/tutorial/Tutorial-PyTorch-to-TensorFlow-JS/\n",
    "15、https://towardsdatascience.com/converting-a-simple-deep-learning-model-from-pytorch-to-tensorflow-b6b353351f5d\n",
    "\n",
    "https://towardsdatascience.com/in-browser-object-detection-using-yolo-and-tensorflow-js-d2a2b7429f7c\n",
    "https://github.com/shaqian/tfjs-yolo\n",
    "https://opencv-tutorial.readthedocs.io/en/latest/yolo/yolo.html\n",
    "https://www.mygreatlearning.com/blog/yolo-object-detection-using-opencv/\n",
    "https://c.m.163.com/news/a/FLU27V410511DSSR.html?spss=newsapp  YOLO-Fastest\n",
    "https://github.com/dog-qiuqiu/MobileNet-Yolo  ！！！！！\n",
    "https://github.com/dog-qiuqiu/yolov3 ！！！！\n",
    "https://blog.csdn.net/nihate/article/details/108670542 ！！！！！\n",
    "https://github.com/hpc203/Yolo-Fastest-opencv-dnn ！！！！！\n",
    "https://github.com/dog-qiuqiu/Yolo-Fastest\n",
    "！！！ https://yongqi.blog.csdn.net/article/details/108806705?utm_medium=distribute.pc_relevant.none-task-blog-BlogCommendFromMachineLearnPai2-1.channel_param&depth_1-utm_source=distribute.pc_relevant.none-task-blog-BlogCommendFromMachineLearnPai2-1.channel_param ！！\n",
    "https://github.com/hpc203/Yolo-Fastest-opencv-dnn\n",
    "https://github.com/hpc203/YOLObile-opencv-dnn  convert_darknet.py\n",
    "\n",
    "https://github.com/eriklindernoren/PyTorch-YOLOv3 ！！！\n",
    "https://zhuanlan.zhihu.com/p/25236464   YOLO详解\n",
    "https://blog.csdn.net/qq_30815237/article/details/91949543 !!!!!!!!!!!!!!!!!!!!!!!!!!!!\n",
    "https://zhuanlan.zhihu.com/p/40332004  YOLO详解 !!!!!!!!!!!!!!!!!!!!!!!!!!!\n",
    "https://blog.csdn.net/qq_30815237/article/details/91949543 ！！！！！！！！！！！！！！！！！！！！！！！！！\n",
    "\n"
   ]
  },
  {
   "cell_type": "markdown",
   "metadata": {},
   "source": [
    "# opencv javascript"
   ]
  },
  {
   "cell_type": "raw",
   "metadata": {},
   "source": [
    "1、https://docs.opencv.org/master/d5/d86/tutorial_dnn_javascript.html\n",
    "2、https://philnash.github.io/mediadevices-camera-selection/  前端视频"
   ]
  }
 ],
 "metadata": {
  "kernelspec": {
   "display_name": "Python 3",
   "language": "python",
   "name": "python3"
  },
  "language_info": {
   "codemirror_mode": {
    "name": "ipython",
    "version": 3
   },
   "file_extension": ".py",
   "mimetype": "text/x-python",
   "name": "python",
   "nbconvert_exporter": "python",
   "pygments_lexer": "ipython3",
   "version": "3.7.4"
  },
  "varInspector": {
   "cols": {
    "lenName": 16,
    "lenType": 16,
    "lenVar": 40
   },
   "kernels_config": {
    "python": {
     "delete_cmd_postfix": "",
     "delete_cmd_prefix": "del ",
     "library": "var_list.py",
     "varRefreshCmd": "print(var_dic_list())"
    },
    "r": {
     "delete_cmd_postfix": ") ",
     "delete_cmd_prefix": "rm(",
     "library": "var_list.r",
     "varRefreshCmd": "cat(var_dic_list()) "
    }
   },
   "position": {
    "height": "144.683px",
    "left": "881.167px",
    "right": "20px",
    "top": "120px",
    "width": "350px"
   },
   "types_to_exclude": [
    "module",
    "function",
    "builtin_function_or_method",
    "instance",
    "_Feature"
   ],
   "window_display": false
  }
 },
 "nbformat": 4,
 "nbformat_minor": 2
}
