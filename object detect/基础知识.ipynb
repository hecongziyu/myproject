{
 "cells": [
  {
   "cell_type": "markdown",
   "metadata": {
    "heading_collapsed": true
   },
   "source": [
    "# anchors"
   ]
  },
  {
   "cell_type": "code",
   "execution_count": 1,
   "metadata": {
    "code_folding": [
     6
    ],
    "hidden": true
   },
   "outputs": [],
   "source": [
    "from lib.layutils.generate_anchors import generate_anchors\n",
    "import lib.layutils.anchor_target_layer as atl\n",
    "import torch\n",
    "import importlib\n",
    "import numpy as np\n",
    "importlib.reload(atl)\n",
    "feat_stride = (16,)\n",
    "num_anchors = 10\n",
    "rpn_cls_score = torch.rand(1,3,3,20)\n",
    "gt_boxes = np.array([[0,4,18,19,1],[16,12,35,42,1]])\n",
    "im_info = (48,48,1)\n",
    "\n",
    "def generate_anchors_pre(height, width, feat_stride, anchor_scales=(8,16,32), anchor_ratios=(0.5,1,2)):\n",
    "    \"\"\" A wrapper function to generate anchors given different scales\n",
    "    Also return the number of anchors in variable 'length'\n",
    "    \"\"\"\n",
    "    anchors = generate_anchors(ratios=np.array(anchor_ratios), scales=np.array(anchor_scales))\n",
    "    A = anchors.shape[0]\n",
    "    shift_x = np.arange(0, width) * feat_stride\n",
    "    shift_y = np.arange(0, height) * feat_stride\n",
    "    # meshgrid的作用适用于生成网格型数据，可以接受两个一维数组生成两个二维矩阵，对应两个数组中所有的(x,y)对。\n",
    "    # https://blog.csdn.net/grey_csdn/article/details/69663432\n",
    "    shift_x, shift_y = np.meshgrid(shift_x, shift_y)    \n",
    "    # ravel 从多维降为一维, vstack 将数据按行排列，总共为四行， transpose将(4,列) 转成 (列, 4)的偏移量\n",
    "    shifts = np.vstack((shift_x.ravel(), shift_y.ravel(), shift_x.ravel(), shift_y.ravel())).transpose()  \n",
    "\n",
    "    K = shifts.shape[0]\n",
    "    # width changes faster, so here it is H, W, C\n",
    "    anchors = anchors.reshape((1, A, 4)) + shifts.reshape((1, K, 4)).transpose((1, 0, 2))\n",
    "    anchors = anchors.reshape((K * A, 4)).astype(np.float32, copy=False)\n",
    "    length = np.int32(anchors.shape[0])\n",
    "    return anchors, length\n",
    "\n",
    "anchors, length = generate_anchors_pre(3, 3,feat_stride=(16,),anchor_scales=(16,))\n",
    "anchors = anchors.astype(int)\n",
    "\n",
    "rpn_labels, rpn_bbox_targets, rpn_bbox_inside_weights, rpn_bbox_outside_weights = atl.anchor_target_layer(\n",
    "    rpn_cls_score.data,\n",
    "    gt_boxes,\n",
    "    im_info,\n",
    "    feat_stride,\n",
    "    anchors,\n",
    "    num_anchors)\n"
   ]
  },
  {
   "cell_type": "markdown",
   "metadata": {
    "heading_collapsed": true
   },
   "source": [
    "# smooth_L1_Loss"
   ]
  },
  {
   "cell_type": "markdown",
   "metadata": {
    "hidden": true
   },
   "source": [
    "    https://blog.csdn.net/wfei101/article/details/79252021 损失函数之SmoothL1Loss\n",
    "    \n",
    "    \n",
    "    https://blog.csdn.net/weixin_35653315/article/details/54571681 Single Bounding Box Regression\n",
    "    \n",
    "    smooth_L1_Loss 是Faster RCNN提出来的计算距离的loss。输入四个bottom，分别是predict，target，inside_weight, outside_weight \n",
    "    "
   ]
  },
  {
   "cell_type": "code",
   "execution_count": 20,
   "metadata": {
    "hidden": true
   },
   "outputs": [
    {
     "name": "stdout",
     "output_type": "stream",
     "text": [
      "torch.Size([1, 3, 3, 40])\n",
      "tensor([[[[-1.7481, -0.8570, -1.3375,  1.1948, -0.7803, -0.6211, -0.3676,\n",
      "           -0.2791,  0.3562,  0.1315, -0.2657, -0.9080,  1.0707, -1.4603,\n",
      "           -1.4878, -0.6914,  1.4802, -0.5304,  0.9099, -0.8909, -0.1663,\n",
      "            1.0989, -0.2221,  0.7264, -0.2028, -0.5639, -0.8967,  0.8101,\n",
      "           -0.0059,  1.0902, -2.3631,  0.4281,  1.5808, -1.0494, -0.3543,\n",
      "            1.4527,  0.0896,  0.4146,  0.9761, -0.1586],\n",
      "          [-0.4144,  0.3176, -0.2554,  0.4213,  0.5271, -1.0775,  0.1988,\n",
      "            1.0974,  1.4605, -0.5038,  0.9624,  0.2028,  0.5765,  0.1185,\n",
      "           -0.4520,  2.0331, -1.5858, -0.4140,  0.2051, -0.9938,  1.0379,\n",
      "            1.0532, -0.6513,  1.0371, -1.3853, -0.9805, -0.7451, -1.1747,\n",
      "           -0.3960,  1.7201,  1.2895, -1.7060,  1.6340,  0.5454, -1.7710,\n",
      "           -0.2177,  0.3518,  1.1662, -0.1992,  1.0144],\n",
      "          [-0.9181, -0.8497,  0.3856, -0.4683,  1.8014, -0.0185,  1.6855,\n",
      "            0.3091, -0.1580,  0.3562, -1.3668,  3.4177, -0.0551,  1.0804,\n",
      "           -0.1088,  0.9076, -0.7060, -0.6697, -0.9464, -1.3433, -1.4498,\n",
      "           -1.0332,  0.6149,  0.1655,  0.2867,  0.9131,  0.0079, -0.9013,\n",
      "            0.4766, -1.0334,  0.2138, -1.3496, -0.2055,  0.6850,  0.0025,\n",
      "            0.6075, -0.3676,  0.4795, -0.6990,  0.6683]],\n",
      "\n",
      "         [[-0.2096, -0.6632, -0.3060,  1.5204, -1.4623,  1.8147, -0.4909,\n",
      "            0.2710,  0.4067,  0.0943, -1.8103,  1.4857, -0.3950,  0.2352,\n",
      "            0.4948, -0.3170,  0.1608, -0.2145, -1.3127, -0.2991, -0.4142,\n",
      "            0.4681,  1.4813, -1.1701,  0.2997, -0.6829, -1.0537,  0.6866,\n",
      "           -0.3733,  1.6980,  0.4253,  1.2347,  0.3422,  1.4934, -0.2471,\n",
      "            0.0835, -1.6626,  0.1110,  1.2537,  0.3688],\n",
      "          [-0.3466, -0.0710, -1.0243,  1.1345,  1.1022, -0.2893, -0.0648,\n",
      "           -1.0161,  0.4085,  0.0375,  1.2483,  0.8872,  0.2209,  0.1881,\n",
      "           -1.1614,  0.0572, -0.5485, -0.0520, -0.1687,  0.4929, -0.0495,\n",
      "           -0.0189, -0.3865, -1.0762,  1.1036,  1.1969,  0.5620, -0.0305,\n",
      "            0.8362, -0.7273, -0.0354,  0.0695,  0.4081,  0.3543,  1.1690,\n",
      "            0.0466, -0.3469,  0.3425,  1.1634,  1.6552],\n",
      "          [ 0.3519,  1.4532, -0.2515, -1.1624,  1.0767, -1.4942, -1.1725,\n",
      "            1.0008, -0.0356,  0.3641, -0.8024,  0.2243, -0.2760, -0.4017,\n",
      "            2.3377,  0.7313,  0.6200,  0.1597,  0.3787,  1.3173,  0.7449,\n",
      "            0.4049, -0.3549,  1.5602,  0.6617,  0.4016, -0.5184,  1.9049,\n",
      "           -0.8903, -0.1340,  1.5353,  1.6744, -0.2908, -0.6934,  0.1701,\n",
      "            1.4630,  0.3608,  0.6255,  0.4372, -0.2421]],\n",
      "\n",
      "         [[ 0.1337,  0.6237,  2.4422,  0.8776, -0.4924,  0.4233,  0.7585,\n",
      "            0.3201,  2.1305, -0.0662, -1.3853,  0.3543, -0.6414, -0.1512,\n",
      "           -1.4193, -0.0548, -0.5092,  0.7122, -0.6577, -0.3967,  0.1824,\n",
      "            0.3702, -0.3387,  0.5381, -1.0215,  0.2756,  0.0960,  0.2541,\n",
      "            0.0420, -0.5421, -0.0986,  0.6797, -1.7006, -0.2390,  1.5060,\n",
      "            0.9894, -1.7140, -1.5284, -0.8921, -0.4156],\n",
      "          [ 1.1025, -0.8880, -1.2732,  0.5020, -0.5940, -0.3758, -0.2331,\n",
      "            0.2473, -0.2414, -0.7875, -0.5550, -0.1382, -1.6454, -0.0366,\n",
      "           -0.2710,  0.0719, -0.9879,  0.8298,  2.3350,  0.0431,  0.2432,\n",
      "           -1.4916,  0.2922, -1.1855, -0.2513, -0.1900,  0.1711,  1.0969,\n",
      "           -0.5703,  1.4933, -0.5762, -0.7898,  0.1281,  0.3584, -1.0911,\n",
      "            2.7806,  1.2328, -1.3338, -0.3615,  0.9724],\n",
      "          [-1.6523,  0.0839,  0.1631, -0.4765, -1.5317,  0.6600,  0.8194,\n",
      "           -0.1451,  0.7336,  0.2379,  0.9946, -0.5944, -0.1425, -0.7225,\n",
      "            0.7081,  0.2898,  0.0059,  0.6044, -0.7404,  1.3966,  0.3929,\n",
      "           -1.1518, -0.0644, -0.8377, -0.4215, -0.0280, -1.2878, -0.1111,\n",
      "            1.7071,  0.4037, -0.3884,  2.4631,  1.3822, -1.0673, -0.3726,\n",
      "           -0.9761, -1.4457, -0.5751, -0.7800, -0.0677]]]])\n",
      "tensor([[[[ 0.0000,  0.0000,  0.1719,  0.2877,  0.0000,  0.0000,  0.1719,\n",
      "            0.0000,  0.0000,  0.0000,  0.0000,  0.0000,  0.0000,  0.0000,\n",
      "            0.0000,  0.0000,  0.0000,  0.0000,  0.0000,  0.0000,  0.0000,\n",
      "            0.0000,  0.0000,  0.0000,  0.0000,  0.0000,  0.0000,  0.0000,\n",
      "            0.0000,  0.0000,  0.0000,  0.0000,  0.0000,  0.0000,  0.0000,\n",
      "            0.0000,  0.0000,  0.0000,  0.0000,  0.0000],\n",
      "          [-1.0000,  0.0000,  0.1719,  0.2877,  0.0000,  0.0000,  0.2231,\n",
      "            0.6614,  0.0000,  0.0000,  0.0000,  0.0000,  0.0000,  0.0000,\n",
      "            0.0000,  0.0000,  0.0000,  0.0000,  0.0000,  0.0000,  0.0000,\n",
      "            0.0000,  0.0000,  0.0000,  0.0000,  0.0000,  0.0000,  0.0000,\n",
      "            0.0000,  0.0000,  0.0000,  0.0000,  0.0000,  0.0000,  0.0000,\n",
      "            0.0000,  0.0000,  0.0000,  0.0000,  0.0000],\n",
      "          [-1.0000,  0.0000,  0.2231,  0.9491, -1.0000,  0.0000,  0.2231,\n",
      "            0.6614,  0.0000,  0.0000,  0.0000,  0.0000,  0.0000,  0.0000,\n",
      "            0.0000,  0.0000,  0.0000,  0.0000,  0.0000,  0.0000,  0.0000,\n",
      "            0.0000,  0.0000,  0.0000,  0.0000,  0.0000,  0.0000,  0.0000,\n",
      "            0.0000,  0.0000,  0.0000,  0.0000,  0.0000,  0.0000,  0.0000,\n",
      "            0.0000,  0.0000,  0.0000,  0.0000,  0.0000]],\n",
      "\n",
      "         [[ 0.0000, -1.0000,  0.1719,  0.2877,  0.0000,  0.0000,  0.1719,\n",
      "            0.0000,  0.0000,  0.0000,  0.1719, -0.4055,  0.0000,  0.0000,\n",
      "            0.1719, -0.7538,  0.0000,  0.0000,  0.1719, -1.0986,  0.0000,\n",
      "            0.0000,  0.0000,  0.0000,  0.0000,  0.0000,  0.0000,  0.0000,\n",
      "            0.0000,  0.0000,  0.0000,  0.0000,  0.0000,  0.0000,  0.0000,\n",
      "            0.0000,  0.0000,  0.0000,  0.0000,  0.0000],\n",
      "          [ 0.0000,  0.0000,  0.2231,  0.9491,  0.0000,  0.0000,  0.2231,\n",
      "            0.6614,  0.0000,  0.0000,  0.2231,  0.2559,  0.0000,  0.0000,\n",
      "            0.2231, -0.0924,  0.0000,  0.0000,  0.2231, -0.4372,  0.0000,\n",
      "            0.0000,  0.0000,  0.0000,  0.0000,  0.0000,  0.0000,  0.0000,\n",
      "            0.0000,  0.0000,  0.0000,  0.0000,  0.0000,  0.0000,  0.0000,\n",
      "            0.0000,  0.0000,  0.0000,  0.0000,  0.0000],\n",
      "          [-1.0000,  0.0000,  0.2231,  0.9491, -1.0000,  0.0000,  0.2231,\n",
      "            0.6614, -1.0000,  0.0000,  0.2231,  0.2559, -1.0000,  0.0000,\n",
      "            0.2231, -0.0924, -1.0000,  0.0000,  0.2231, -0.4372,  0.0000,\n",
      "            0.0000,  0.0000,  0.0000,  0.0000,  0.0000,  0.0000,  0.0000,\n",
      "            0.0000,  0.0000,  0.0000,  0.0000,  0.0000,  0.0000,  0.0000,\n",
      "            0.0000,  0.0000,  0.0000,  0.0000,  0.0000]],\n",
      "\n",
      "         [[ 0.0000, -2.0000,  0.1719,  0.2877,  0.0000, -1.0000,  0.1719,\n",
      "            0.0000,  0.0000,  0.0000,  0.0000,  0.0000,  0.0000,  0.0000,\n",
      "            0.0000,  0.0000,  0.0000,  0.0000,  0.0000,  0.0000,  0.0000,\n",
      "            0.0000,  0.0000,  0.0000,  0.0000,  0.0000,  0.0000,  0.0000,\n",
      "            0.0000,  0.0000,  0.0000,  0.0000,  0.0000,  0.0000,  0.0000,\n",
      "            0.0000,  0.0000,  0.0000,  0.0000,  0.0000],\n",
      "          [ 0.0000, -1.0000,  0.2231,  0.9491,  0.0000, -1.0000,  0.2231,\n",
      "            0.6614,  0.0000,  0.0000,  0.0000,  0.0000,  0.0000,  0.0000,\n",
      "            0.0000,  0.0000,  0.0000,  0.0000,  0.0000,  0.0000,  0.0000,\n",
      "            0.0000,  0.0000,  0.0000,  0.0000,  0.0000,  0.0000,  0.0000,\n",
      "            0.0000,  0.0000,  0.0000,  0.0000,  0.0000,  0.0000,  0.0000,\n",
      "            0.0000,  0.0000,  0.0000,  0.0000,  0.0000],\n",
      "          [-1.0000, -1.0000,  0.2231,  0.9491, -1.0000, -1.0000,  0.2231,\n",
      "            0.6614,  0.0000,  0.0000,  0.0000,  0.0000,  0.0000,  0.0000,\n",
      "            0.0000,  0.0000,  0.0000,  0.0000,  0.0000,  0.0000,  0.0000,\n",
      "            0.0000,  0.0000,  0.0000,  0.0000,  0.0000,  0.0000,  0.0000,\n",
      "            0.0000,  0.0000,  0.0000,  0.0000,  0.0000,  0.0000,  0.0000,\n",
      "            0.0000,  0.0000,  0.0000,  0.0000,  0.0000]]]])\n",
      "box diff --> \n",
      " tensor([[[[-1.7481, -0.8570, -1.5093,  0.9072, -0.7803, -0.6211, -0.5395,\n",
      "           -0.2791,  0.3562,  0.1315, -0.2657, -0.9080,  1.0707, -1.4603,\n",
      "           -1.4878, -0.6914,  1.4802, -0.5304,  0.9099, -0.8909, -0.1663,\n",
      "            1.0989, -0.2221,  0.7264, -0.2028, -0.5639, -0.8967,  0.8101,\n",
      "           -0.0059,  1.0902, -2.3631,  0.4281,  1.5808, -1.0494, -0.3543,\n",
      "            1.4527,  0.0896,  0.4146,  0.9761, -0.1586],\n",
      "          [ 0.5856,  0.3176, -0.4273,  0.1337,  0.5271, -1.0775, -0.0243,\n",
      "            0.4360,  1.4605, -0.5038,  0.9624,  0.2028,  0.5765,  0.1185,\n",
      "           -0.4520,  2.0331, -1.5858, -0.4140,  0.2051, -0.9938,  1.0379,\n",
      "            1.0532, -0.6513,  1.0371, -1.3853, -0.9805, -0.7451, -1.1747,\n",
      "           -0.3960,  1.7201,  1.2895, -1.7060,  1.6340,  0.5454, -1.7710,\n",
      "           -0.2177,  0.3518,  1.1662, -0.1992,  1.0144],\n",
      "          [ 0.0819, -0.8497,  0.1625, -1.4173,  2.8014, -0.0185,  1.4624,\n",
      "           -0.3523, -0.1580,  0.3562, -1.3668,  3.4177, -0.0551,  1.0804,\n",
      "           -0.1088,  0.9076, -0.7060, -0.6697, -0.9464, -1.3433, -1.4498,\n",
      "           -1.0332,  0.6149,  0.1655,  0.2867,  0.9131,  0.0079, -0.9013,\n",
      "            0.4766, -1.0334,  0.2138, -1.3496, -0.2055,  0.6850,  0.0025,\n",
      "            0.6075, -0.3676,  0.4795, -0.6990,  0.6683]],\n",
      "\n",
      "         [[-0.2096,  0.3368, -0.4779,  1.2327, -1.4623,  1.8147, -0.6628,\n",
      "            0.2710,  0.4067,  0.0943, -1.9821,  1.8912, -0.3950,  0.2352,\n",
      "            0.3230,  0.4368,  0.1608, -0.2145, -1.4846,  0.7995, -0.4142,\n",
      "            0.4681,  1.4813, -1.1701,  0.2997, -0.6829, -1.0537,  0.6866,\n",
      "           -0.3733,  1.6980,  0.4253,  1.2347,  0.3422,  1.4934, -0.2471,\n",
      "            0.0835, -1.6626,  0.1110,  1.2537,  0.3688],\n",
      "          [-0.3466, -0.0710, -1.2474,  0.1854,  1.1022, -0.2893, -0.2880,\n",
      "           -1.6775,  0.4085,  0.0375,  1.0252,  0.6313,  0.2209,  0.1881,\n",
      "           -1.3845,  0.1496, -0.5485, -0.0520, -0.3919,  0.9301, -0.0495,\n",
      "           -0.0189, -0.3865, -1.0762,  1.1036,  1.1969,  0.5620, -0.0305,\n",
      "            0.8362, -0.7273, -0.0354,  0.0695,  0.4081,  0.3543,  1.1690,\n",
      "            0.0466, -0.3469,  0.3425,  1.1634,  1.6552],\n",
      "          [ 1.3519,  1.4532, -0.4747, -2.1115,  2.0767, -1.4942, -1.3957,\n",
      "            0.3394,  0.9644,  0.3641, -1.0256, -0.0316,  0.7240, -0.4017,\n",
      "            2.1145,  0.8237,  1.6200,  0.1597,  0.1555,  1.7545,  0.7449,\n",
      "            0.4049, -0.3549,  1.5602,  0.6617,  0.4016, -0.5184,  1.9049,\n",
      "           -0.8903, -0.1340,  1.5353,  1.6744, -0.2908, -0.6934,  0.1701,\n",
      "            1.4630,  0.3608,  0.6255,  0.4372, -0.2421]],\n",
      "\n",
      "         [[ 0.1337,  2.6237,  2.2704,  0.5899, -0.4924,  1.4233,  0.5866,\n",
      "            0.3201,  2.1305, -0.0662, -1.3853,  0.3543, -0.6414, -0.1512,\n",
      "           -1.4193, -0.0548, -0.5092,  0.7122, -0.6577, -0.3967,  0.1824,\n",
      "            0.3702, -0.3387,  0.5381, -1.0215,  0.2756,  0.0960,  0.2541,\n",
      "            0.0420, -0.5421, -0.0986,  0.6797, -1.7006, -0.2390,  1.5060,\n",
      "            0.9894, -1.7140, -1.5284, -0.8921, -0.4156],\n",
      "          [ 1.1025,  0.1120, -1.4963, -0.4471, -0.5940,  0.6242, -0.4563,\n",
      "           -0.4141, -0.2414, -0.7875, -0.5550, -0.1382, -1.6454, -0.0366,\n",
      "           -0.2710,  0.0719, -0.9879,  0.8298,  2.3350,  0.0431,  0.2432,\n",
      "           -1.4916,  0.2922, -1.1855, -0.2513, -0.1900,  0.1711,  1.0969,\n",
      "           -0.5703,  1.4933, -0.5762, -0.7898,  0.1281,  0.3584, -1.0911,\n",
      "            2.7806,  1.2328, -1.3338, -0.3615,  0.9724],\n",
      "          [-0.6523,  1.0839, -0.0600, -1.4256, -0.5317,  1.6600,  0.5963,\n",
      "           -0.8065,  0.7336,  0.2379,  0.9946, -0.5944, -0.1425, -0.7225,\n",
      "            0.7081,  0.2898,  0.0059,  0.6044, -0.7404,  1.3966,  0.3929,\n",
      "           -1.1518, -0.0644, -0.8377, -0.4215, -0.0280, -1.2878, -0.1111,\n",
      "            1.7071,  0.4037, -0.3884,  2.4631,  1.3822, -1.0673, -0.3726,\n",
      "           -0.9761, -1.4457, -0.5751, -0.7800, -0.0677]]]])\n",
      "abs in box diff --> \n",
      " tensor([[[[ 0.0000,  0.0000,  0.0000,  0.0000,  0.7803,  0.6211,  0.5395,\n",
      "            0.2791,  0.0000,  0.0000,  0.0000,  0.0000,  0.0000,  0.0000,\n",
      "            0.0000,  0.0000,  0.0000,  0.0000,  0.0000,  0.0000,  0.0000,\n",
      "            0.0000,  0.0000,  0.0000,  0.0000,  0.0000,  0.0000,  0.0000,\n",
      "            0.0000,  0.0000,  0.0000,  0.0000,  0.0000,  0.0000,  0.0000,\n",
      "            0.0000,  0.0000,  0.0000,  0.0000,  0.0000],\n",
      "          [ 0.0000,  0.0000,  0.0000,  0.0000,  0.0000,  0.0000,  0.0000,\n",
      "            0.0000,  0.0000,  0.0000,  0.0000,  0.0000,  0.0000,  0.0000,\n",
      "            0.0000,  0.0000,  0.0000,  0.0000,  0.0000,  0.0000,  0.0000,\n",
      "            0.0000,  0.0000,  0.0000,  0.0000,  0.0000,  0.0000,  0.0000,\n",
      "            0.0000,  0.0000,  0.0000,  0.0000,  0.0000,  0.0000,  0.0000,\n",
      "            0.0000,  0.0000,  0.0000,  0.0000,  0.0000],\n",
      "          [ 0.0000,  0.0000,  0.0000,  0.0000,  0.0000,  0.0000,  0.0000,\n",
      "            0.0000,  0.0000,  0.0000,  0.0000,  0.0000,  0.0000,  0.0000,\n",
      "            0.0000,  0.0000,  0.0000,  0.0000,  0.0000,  0.0000,  0.0000,\n",
      "            0.0000,  0.0000,  0.0000,  0.0000,  0.0000,  0.0000,  0.0000,\n",
      "            0.0000,  0.0000,  0.0000,  0.0000,  0.0000,  0.0000,  0.0000,\n",
      "            0.0000,  0.0000,  0.0000,  0.0000,  0.0000]],\n",
      "\n",
      "         [[ 0.0000,  0.0000,  0.0000,  0.0000,  0.0000,  0.0000,  0.0000,\n",
      "            0.0000,  0.0000,  0.0000,  0.0000,  0.0000,  0.0000,  0.0000,\n",
      "            0.0000,  0.0000,  0.0000,  0.0000,  0.0000,  0.0000,  0.0000,\n",
      "            0.0000,  0.0000,  0.0000,  0.0000,  0.0000,  0.0000,  0.0000,\n",
      "            0.0000,  0.0000,  0.0000,  0.0000,  0.0000,  0.0000,  0.0000,\n",
      "            0.0000,  0.0000,  0.0000,  0.0000,  0.0000],\n",
      "          [ 0.0000,  0.0000,  0.0000,  0.0000,  0.0000,  0.0000,  0.0000,\n",
      "            0.0000,  0.0000,  0.0000,  0.0000,  0.0000,  0.2209,  0.1881,\n",
      "            1.3845,  0.1496,  0.0000,  0.0000,  0.0000,  0.0000,  0.0000,\n",
      "            0.0000,  0.0000,  0.0000,  0.0000,  0.0000,  0.0000,  0.0000,\n",
      "            0.0000,  0.0000,  0.0000,  0.0000,  0.0000,  0.0000,  0.0000,\n",
      "            0.0000,  0.0000,  0.0000,  0.0000,  0.0000],\n",
      "          [ 0.0000,  0.0000,  0.0000,  0.0000,  0.0000,  0.0000,  0.0000,\n",
      "            0.0000,  0.0000,  0.0000,  0.0000,  0.0000,  0.0000,  0.0000,\n",
      "            0.0000,  0.0000,  0.0000,  0.0000,  0.0000,  0.0000,  0.0000,\n",
      "            0.0000,  0.0000,  0.0000,  0.0000,  0.0000,  0.0000,  0.0000,\n",
      "            0.0000,  0.0000,  0.0000,  0.0000,  0.0000,  0.0000,  0.0000,\n",
      "            0.0000,  0.0000,  0.0000,  0.0000,  0.0000]],\n",
      "\n",
      "         [[ 0.0000,  0.0000,  0.0000,  0.0000,  0.0000,  0.0000,  0.0000,\n",
      "            0.0000,  0.0000,  0.0000,  0.0000,  0.0000,  0.0000,  0.0000,\n",
      "            0.0000,  0.0000,  0.0000,  0.0000,  0.0000,  0.0000,  0.0000,\n",
      "            0.0000,  0.0000,  0.0000,  0.0000,  0.0000,  0.0000,  0.0000,\n",
      "            0.0000,  0.0000,  0.0000,  0.0000,  0.0000,  0.0000,  0.0000,\n",
      "            0.0000,  0.0000,  0.0000,  0.0000,  0.0000],\n",
      "          [ 0.0000,  0.0000,  0.0000,  0.0000,  0.0000,  0.0000,  0.0000,\n",
      "            0.0000,  0.0000,  0.0000,  0.0000,  0.0000,  0.0000,  0.0000,\n",
      "            0.0000,  0.0000,  0.0000,  0.0000,  0.0000,  0.0000,  0.0000,\n",
      "            0.0000,  0.0000,  0.0000,  0.0000,  0.0000,  0.0000,  0.0000,\n",
      "            0.0000,  0.0000,  0.0000,  0.0000,  0.0000,  0.0000,  0.0000,\n",
      "            0.0000,  0.0000,  0.0000,  0.0000,  0.0000],\n",
      "          [ 0.0000,  0.0000,  0.0000,  0.0000,  0.0000,  0.0000,  0.0000,\n",
      "            0.0000,  0.0000,  0.0000,  0.0000,  0.0000,  0.0000,  0.0000,\n",
      "            0.0000,  0.0000,  0.0000,  0.0000,  0.0000,  0.0000,  0.0000,\n",
      "            0.0000,  0.0000,  0.0000,  0.0000,  0.0000,  0.0000,  0.0000,\n",
      "            0.0000,  0.0000,  0.0000,  0.0000,  0.0000,  0.0000,  0.0000,\n",
      "            0.0000,  0.0000,  0.0000,  0.0000,  0.0000]]]])\n",
      "loss --> 3.7186\n"
     ]
    }
   ],
   "source": [
    "import torch\n",
    "DEBUG = False\n",
    "def _smooth_l1_loss(bbox_pred, bbox_targets, bbox_inside_weights, bbox_outside_weights, sigma=1.0, dim=[1]):\n",
    "    sigma_2 = sigma ** 2\n",
    "    box_diff = bbox_pred - bbox_targets\n",
    "    if DEBUG:\n",
    "        print('box diff --> \\n {}'.format(box_diff))\n",
    "    in_box_diff = bbox_inside_weights * box_diff\n",
    "    abs_in_box_diff = torch.abs(in_box_diff)\n",
    "#     if DEBUG:\n",
    "#         print('abs in box diff --> \\n {}'.format(abs_in_box_diff))\n",
    "        \n",
    "    smoothL1_sign = (abs_in_box_diff < 1. / sigma_2).detach().float()\n",
    "    if DEBUG:\n",
    "        print('smooth l1 sign --> \\n {}'.format(smoothL1_sign))\n",
    "    in_loss_box = torch.pow(in_box_diff, 2) * (sigma_2 / 2.) * smoothL1_sign \\\n",
    "                  + (abs_in_box_diff - (0.5 / sigma_2)) * (1. - smoothL1_sign)\n",
    "    out_loss_box = bbox_outside_weights * in_loss_box\n",
    "    loss_box = out_loss_box\n",
    "    for i in sorted(dim, reverse=True):\n",
    "        loss_box = loss_box.sum(i)\n",
    "    loss_box = loss_box.mean()\n",
    "    return loss_box, abs_in_box_diff\n",
    "\n",
    "print(rpn_bbox_targets.shape)\n",
    "# box_pred = torch.randn(1,3,3,40)\n",
    "# rpn_bbox_targets = torch.from_numpy(rpn_bbox_targets)\n",
    "print(box_pred)\n",
    "print(rpn_bbox_targets)\n",
    "\n",
    "loss,abs_in_box_diff = _smooth_l1_loss(box_pred,rpn_bbox_targets,rpn_bbox_inside_weights,rpn_bbox_outside_weights,3.0,[1,2,3])\n",
    "print(\"loss --> {:.4f}\".format(loss))"
   ]
  },
  {
   "cell_type": "code",
   "execution_count": 19,
   "metadata": {
    "hidden": true
   },
   "outputs": [
    {
     "name": "stdout",
     "output_type": "stream",
     "text": [
      "tensor([[[[ 1.,  1.,  1.,  1.,  1.,  1.,  1.,  1.,  1.,  1.,  1.,\n",
      "            1.,  1.,  1.,  1.,  1.,  1.,  1.,  1.,  1.,  1.,  1.,\n",
      "            1.,  1.,  1.,  1.,  1.,  1.,  1.,  1.,  1.,  1.,  1.,\n",
      "            1.,  1.,  1.,  1.,  1.,  1.,  1.],\n",
      "          [ 1.,  1.,  1.,  1.,  1.,  1.,  1.,  1.,  1.,  1.,  1.,\n",
      "            1.,  1.,  1.,  1.,  1.,  1.,  1.,  1.,  1.,  1.,  1.,\n",
      "            1.,  1.,  1.,  1.,  1.,  1.,  1.,  1.,  1.,  1.,  1.,\n",
      "            1.,  1.,  1.,  1.,  1.,  1.,  1.],\n",
      "          [ 1.,  1.,  1.,  1.,  1.,  1.,  1.,  1.,  1.,  1.,  1.,\n",
      "            1.,  1.,  1.,  1.,  1.,  1.,  1.,  1.,  1.,  1.,  1.,\n",
      "            1.,  1.,  1.,  1.,  1.,  1.,  1.,  1.,  1.,  1.,  1.,\n",
      "            1.,  1.,  1.,  1.,  1.,  1.,  1.]],\n",
      "\n",
      "         [[ 1.,  1.,  1.,  1.,  1.,  1.,  1.,  1.,  1.,  1.,  1.,\n",
      "            1.,  1.,  1.,  1.,  1.,  1.,  1.,  1.,  1.,  1.,  1.,\n",
      "            1.,  1.,  1.,  1.,  1.,  1.,  1.,  1.,  1.,  1.,  1.,\n",
      "            1.,  1.,  1.,  1.,  1.,  1.,  1.],\n",
      "          [ 1.,  1.,  1.,  1.,  1.,  1.,  1.,  1.,  1.,  1.,  1.,\n",
      "            1.,  1.,  1.,  0.,  1.,  1.,  1.,  1.,  1.,  1.,  1.,\n",
      "            1.,  1.,  1.,  1.,  1.,  1.,  1.,  1.,  1.,  1.,  1.,\n",
      "            1.,  1.,  1.,  1.,  1.,  1.,  1.],\n",
      "          [ 1.,  1.,  1.,  1.,  1.,  1.,  1.,  1.,  1.,  1.,  1.,\n",
      "            1.,  1.,  1.,  1.,  1.,  1.,  1.,  1.,  1.,  1.,  1.,\n",
      "            1.,  1.,  1.,  1.,  1.,  1.,  1.,  1.,  1.,  1.,  1.,\n",
      "            1.,  1.,  1.,  1.,  1.,  1.,  1.]],\n",
      "\n",
      "         [[ 1.,  1.,  1.,  1.,  1.,  1.,  1.,  1.,  1.,  1.,  1.,\n",
      "            1.,  1.,  1.,  1.,  1.,  1.,  1.,  1.,  1.,  1.,  1.,\n",
      "            1.,  1.,  1.,  1.,  1.,  1.,  1.,  1.,  1.,  1.,  1.,\n",
      "            1.,  1.,  1.,  1.,  1.,  1.,  1.],\n",
      "          [ 1.,  1.,  1.,  1.,  1.,  1.,  1.,  1.,  1.,  1.,  1.,\n",
      "            1.,  1.,  1.,  1.,  1.,  1.,  1.,  1.,  1.,  1.,  1.,\n",
      "            1.,  1.,  1.,  1.,  1.,  1.,  1.,  1.,  1.,  1.,  1.,\n",
      "            1.,  1.,  1.,  1.,  1.,  1.,  1.],\n",
      "          [ 1.,  1.,  1.,  1.,  1.,  1.,  1.,  1.,  1.,  1.,  1.,\n",
      "            1.,  1.,  1.,  1.,  1.,  1.,  1.,  1.,  1.,  1.,  1.,\n",
      "            1.,  1.,  1.,  1.,  1.,  1.,  1.,  1.,  1.,  1.,  1.,\n",
      "            1.,  1.,  1.,  1.,  1.,  1.,  1.]]]])\n"
     ]
    }
   ],
   "source": [
    "print((abs_in_box_diff < 1.0/1).detach().float())"
   ]
  },
  {
   "cell_type": "markdown",
   "metadata": {
    "heading_collapsed": true
   },
   "source": [
    "# data load data"
   ]
  },
  {
   "cell_type": "code",
   "execution_count": 8,
   "metadata": {
    "hidden": true
   },
   "outputs": [
    {
     "name": "stdout",
     "output_type": "stream",
     "text": [
      "<bound method imdb.default_roidb of <lib.datasets.pascal_voc.pascal_voc object at 0x000002768C5A78D0>>\n",
      "voc_2007_trainval gt roidb loaded from D:\\PROJECT_TW\\git\\data\\voc_2007_trainval_gt_roidb.pkl\n",
      "train image name : num 0 : D:\\PROJECT_TW\\git\\data\\VOCdevkit2007\\VOC2007\\JPEGImages\\1.jpg\n"
     ]
    }
   ],
   "source": [
    "from lib.datasets.factory import get_imdb\n",
    "from lib.datasets.pascal_voc import pascal_voc\n",
    "from lib.roi_data_layer.roidb import prepare_roidb\n",
    "from lib.roi_data_layer.layer import RoIDataLayer\n",
    "imdb = pascal_voc('trainval', '2007')\n",
    "# roidb ROI框的坐标位置信息, 信息来源于Annotations目录下对图片的XML定义\n",
    "prepare_roidb(imdb)   #  为方便训练，在原roidb信息基础上增加象image等等信息\n",
    "roidb = imdb.roidb \n",
    "\n",
    "data_layer = RoIDataLayer(roidb, imdb.num_classes)\n",
    "blobs = data_layer.forward()\n",
    "data,im_info,gt_boxes = blobs['data'], blobs['im_info'], blobs['gt_boxes']"
   ]
  },
  {
   "cell_type": "code",
   "execution_count": 20,
   "metadata": {
    "hidden": true
   },
   "outputs": [
    {
     "name": "stderr",
     "output_type": "stream",
     "text": [
      "Clipping input data to the valid range for imshow with RGB data ([0..1] for floats or [0..255] for integers).\n"
     ]
    },
    {
     "name": "stdout",
     "output_type": "stream",
     "text": [
      "(1, 600, 780, 3)\n",
      "(600, 780, 3)\n"
     ]
    },
    {
     "data": {
      "image/png": "[encoded data removed]",
      "text/plain": [
       "<Figure size 432x288 with 1 Axes>"
      ]
     },
     "metadata": {},
     "output_type": "display_data"
    },
    {
     "name": "stdout",
     "output_type": "stream",
     "text": [
      "[[[152 139 132]\n",
      "  [152 138 131]\n",
      "  [152 137 130]\n",
      "  ...\n",
      "  [152 139 132]\n",
      "  [152 139 132]\n",
      "  [152 139 132]]\n",
      "\n",
      " [[150 139 132]\n",
      "  [150 139 132]\n",
      "  [152 139 132]\n",
      "  ...\n",
      "  [152 139 132]\n",
      "  [152 139 132]\n",
      "  [152 139 132]]\n",
      "\n",
      " [[147 139 132]\n",
      "  [147 139 131]\n",
      "  [150 139 132]\n",
      "  ...\n",
      "  [152 139 132]\n",
      "  [152 139 132]\n",
      "  [152 139 132]]\n",
      "\n",
      " ...\n",
      "\n",
      " [[152 139 132]\n",
      "  [152 139 132]\n",
      "  [152 139 132]\n",
      "  ...\n",
      "  [152 139 132]\n",
      "  [152 139 132]\n",
      "  [152 139 132]]\n",
      "\n",
      " [[152 139 132]\n",
      "  [152 139 132]\n",
      "  [152 139 132]\n",
      "  ...\n",
      "  [152 139 132]\n",
      "  [152 139 132]\n",
      "  [152 139 132]]\n",
      "\n",
      " [[152 139 132]\n",
      "  [152 139 132]\n",
      "  [152 139 132]\n",
      "  ...\n",
      "  [152 139 132]\n",
      "  [152 139 132]\n",
      "  [152 139 132]]]\n"
     ]
    }
   ],
   "source": [
    "import matplotlib.pyplot as plt\n",
    "import numpy as np\n",
    "print(data.shape)\n",
    "ndata = data.reshape(data.shape[1],data.shape[2],data.shape[3])\n",
    "ndata = ndata.astype(int)\n",
    "print(ndata.shape)\n",
    "plt.imshow(ndata,'gray')\n",
    "plt.show()\n",
    "print(ndata)"
   ]
  },
  {
   "cell_type": "markdown",
   "metadata": {},
   "source": [
    "# NMS"
   ]
  },
  {
   "cell_type": "markdown",
   "metadata": {
    "heading_collapsed": true
   },
   "source": [
    "# ROI"
   ]
  },
  {
   "cell_type": "markdown",
   "metadata": {
    "hidden": true
   },
   "source": [
    "    https://deepsense.ai/region-of-interest-pooling-in-tensorflow-example/\n",
    "    https://www.cnblogs.com/king-lps/p/9031568.html"
   ]
  },
  {
   "cell_type": "markdown",
   "metadata": {
    "heading_collapsed": true
   },
   "source": [
    "# Cython"
   ]
  },
  {
   "cell_type": "markdown",
   "metadata": {
    "hidden": true
   },
   "source": [
    "    https://www.cnblogs.com/freeweb/p/6548208.html\n",
    "    https://deepsense.ai/region-of-interest-pooling-in-tensorflow-example/\n",
    "    https://www.cnblogs.com/king-lps/p/9031568.html"
   ]
  },
  {
   "cell_type": "markdown",
   "metadata": {
    "heading_collapsed": true
   },
   "source": [
    "# pytorch 矩阵相乘"
   ]
  },
  {
   "cell_type": "code",
   "execution_count": 16,
   "metadata": {
    "hidden": true
   },
   "outputs": [
    {
     "name": "stdout",
     "output_type": "stream",
     "text": [
      "torch.Size([2, 2]) torch.Size([2, 2])\n",
      "[[1, 2], [3, 4]]\n",
      "[[1, 2], [3, 1]]\n",
      "torch.Size([2, 2])\n",
      "tensor([[  7.,   4.],\n",
      "        [ 15.,  10.]])\n"
     ]
    }
   ],
   "source": [
    "import torch\n",
    "import numpy as np\n",
    "data = [[1,2], [3,4]]\n",
    "data2 = [[1,2],[3,1]]\n",
    "tensor = torch.FloatTensor(data)  # 转换成32位浮点 tensor\n",
    "tensor2 = torch.FloatTensor(data2)\n",
    "print(tensor.size(),tensor2.size())\n",
    "print(data)\n",
    "print(data2)\n",
    "# torch.matmul\n",
    "aa = torch.matmul(tensor, tensor2)  \n",
    "# correct method\n",
    "print(aa.size())\n",
    "print(aa)\n"
   ]
  }
 ],
 "metadata": {
  "kernelspec": {
   "display_name": "Python 3",
   "language": "python",
   "name": "python3"
  },
  "language_info": {
   "codemirror_mode": {
    "name": "ipython",
    "version": 3
   },
   "file_extension": ".py",
   "mimetype": "text/x-python",
   "name": "python",
   "nbconvert_exporter": "python",
   "pygments_lexer": "ipython3",
   "version": "3.7.4"
  },
  "toc": {
   "base_numbering": 1,
   "nav_menu": {},
   "number_sections": true,
   "sideBar": true,
   "skip_h1_title": false,
   "title_cell": "Table of Contents",
   "title_sidebar": "Contents",
   "toc_cell": false,
   "toc_position": {},
   "toc_section_display": true,
   "toc_window_display": false
  },
  "varInspector": {
   "cols": {
    "lenName": 16,
    "lenType": 16,
    "lenVar": 40
   },
   "kernels_config": {
    "python": {
     "delete_cmd_postfix": "",
     "delete_cmd_prefix": "del ",
     "library": "var_list.py",
     "varRefreshCmd": "print(var_dic_list())"
    },
    "r": {
     "delete_cmd_postfix": ") ",
     "delete_cmd_prefix": "rm(",
     "library": "var_list.r",
     "varRefreshCmd": "cat(var_dic_list()) "
    }
   },
   "types_to_exclude": [
    "module",
    "function",
    "builtin_function_or_method",
    "instance",
    "_Feature"
   ],
   "window_display": false
  }
 },
 "nbformat": 4,
 "nbformat_minor": 2
}
