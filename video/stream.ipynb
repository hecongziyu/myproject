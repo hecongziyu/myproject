{
 "cells": [
  {
   "cell_type": "markdown",
   "metadata": {},
   "source": [
    "# 推送流媒体内容"
   ]
  },
  {
   "cell_type": "raw",
   "metadata": {},
   "source": [
    " https://blog.csdn.net/rainweic/article/details/94666527\n",
    " https://stackoverflow.com/questions/45993828/get-videostream-from-rtmp-to-opencv\n",
    " https://console.huaweicloud.com/vis/?region=cn-north-4&locale=zh-cn#/vis/manage/video/list 华为视频接入服务\n",
    " https://www.jianshu.com/p/84c15335829d  opencv 转存格式\n",
    " https://techglimpse.com/ffmpeg-ffprobe-source-install-tutorial/  build and install\n",
    " \n",
    " ffmpeg -f dshow -i video=\"Integrated Camera\" -vcodec libx264 -acodec copy -preset:v ultrafast -tune:v zerolatency -f flv \"rtmp://139.9.85.162:1025/vis/twstream\"  读取摄像头传到流媒体服务器\n",
    " \n",
    " ffmpeg -stream_loop -1 -re -i test.mp4 -vcodec libx264 -acodec copy -preset:v ultrafast -tune:v zerolatency -f flv \"rtmp://139.9.85.162:1025/vis/twstream\"  \n",
    "\n",
    "ffmpeg -re -i test.mp4 -vcodec libx264 -acodec aac -f flv rtmp://119.3.211.34:22752/vis/twstream\n",
    "ffmpeg -re -i test.flv -vcodec copy -acodec copy -f flv rtmp://119.3.211.34:22752/vis/twstream\n",
    "ffmpeg -stream_loop -1 -re -i test.mp4 -vcodec copy -acodec aac -ar 44100 -f flv rtmp://119.3.211.34:22752/vis/twstream"
   ]
  },
  {
   "cell_type": "code",
   "execution_count": 11,
   "metadata": {},
   "outputs": [
    {
     "name": "stdout",
     "output_type": "stream",
     "text": [
      "False\n"
     ]
    }
   ],
   "source": [
    "import cv2\n",
    "myrtmp_addr = 'https://078dda04fc284058940039ebb5d0de25.apigw.cn-north-4.huaweicloud.com/live/work002?app=vis&stream=twstream'\n",
    "cap = cv2.VideoCapture(myrtmp_addr)\n",
    "frame,err = cap.read()\n",
    "# print(cv2.getBuildInformation())\n",
    "print(frame)\n"
   ]
  },
  {
   "cell_type": "code",
   "execution_count": 12,
   "metadata": {},
   "outputs": [],
   "source": [
    "import cv2\n",
    "import sys\n",
    "cap = cv2.VideoCapture(0) # 0号摄像头，也可以1、2，lsusb查看\n",
    "frame_interval = 10  # Number of frames after which to run face detection\n",
    "fps_display_interval = 5  # seconds\n",
    "frame_rate = 0\n",
    "frame_count = 0\n",
    "\n",
    "\n",
    "# 使用函数 cap.get(propId) 来获得视频的一些参数信息\n",
    "# fps = cap.get(cv2.CV_CAP_PROP_FPS)                   # 获得码率    \n",
    "# size = (int(cap.get(cv2.CV_CAP_PROP_FRAME_WIDTH)),   # 获得尺寸   \n",
    "#         int(cap.get(cv2.CV_CAP_PROP_FRAME_HEIGHT))) \n",
    "# 使用cap.set(propId, value)设置视频的一些参数信息\n",
    "cap.set(3,640)\n",
    "cap.set(4,480)\n",
    "cap.set(1, 10.0)\n",
    "\n",
    "fourcc = cv2.VideoWriter_fourcc('F', 'L', 'V', '1')         # 设置要保存视频的格式。\n",
    "out = cv2.VideoWriter('d:\\\\img\\\\mp4\\\\output.flv', fourcc,10,(640,480))   # 设置输出视频的名称，视频的格式，视频的帧速，视频的大小等。\n",
    "                                                            # 第三个参数则镜头快慢的，10为正常，小于10为慢镜头\n",
    "while(cap.isOpened()):  #若初始化摄像头或者打开视频文件成功，isOpened()返回值是True，则表明成功，否则返回值是False\n",
    "    ret,frame = cap.read() \n",
    "    if ret == True:\n",
    "        frame = cv2.flip(frame, 1)  # 函数flip可以实现图像的垂直、水平以及同时垂直水平变换\n",
    "                                    # 第一个参数表示要旋转的视频，第二个参数表示旋转的方向\n",
    "                                    # 等于0表示绕x轴旋转，大于0的数表示绕y轴旋转，小于0的负数表示绕x和y轴旋转。\n",
    "        a = out.write(frame)        # 将摄像头内容写入视频文件\n",
    "        cv2.imshow(\"frame\", frame)  # 显示摄像头当前帧内容\n",
    "        if cv2.waitKey(1) & 0xFF == ord('q'):  # ord() 将ASCLL码值转换为字符\n",
    "            break\n",
    "    else:\n",
    "        break\n",
    "cap.release()\n",
    "out.release()\n",
    "cv2.destroyAllWindows()"
   ]
  },
  {
   "cell_type": "code",
   "execution_count": 14,
   "metadata": {},
   "outputs": [],
   "source": [
    "# 读取流媒体视频\n",
    "import cv2 \n",
    "cap = cv2.VideoCapture(\"https://122b09cc657a4d0ba64dd7a46e4c682f.apigw.cn-south-1.huaweicloud.com/live/work013?app=vis&stream=twstream\")\n",
    "ret,frame = cap.read()\n",
    "while ret:\n",
    "    ret,frame = cap.read()\n",
    "    cv2.imshow(\"frame\",frame)\n",
    "    if cv2.waitKey(1) & 0xFF == ord('q'):\n",
    "        break\n",
    "cv2.destroyAllWindows()\n",
    "cap.release()"
   ]
  },
  {
   "cell_type": "code",
   "execution_count": null,
   "metadata": {},
   "outputs": [],
   "source": []
  }
 ],
 "metadata": {
  "kernelspec": {
   "display_name": "Python 3",
   "language": "python",
   "name": "python3"
  },
  "language_info": {
   "codemirror_mode": {
    "name": "ipython",
    "version": 3
   },
   "file_extension": ".py",
   "mimetype": "text/x-python",
   "name": "python",
   "nbconvert_exporter": "python",
   "pygments_lexer": "ipython3",
   "version": "3.7.4"
  },
  "toc": {
   "base_numbering": 1,
   "nav_menu": {},
   "number_sections": true,
   "sideBar": true,
   "skip_h1_title": false,
   "title_cell": "Table of Contents",
   "title_sidebar": "Contents",
   "toc_cell": false,
   "toc_position": {},
   "toc_section_display": true,
   "toc_window_display": false
  },
  "varInspector": {
   "cols": {
    "lenName": 16,
    "lenType": 16,
    "lenVar": 40
   },
   "kernels_config": {
    "python": {
     "delete_cmd_postfix": "",
     "delete_cmd_prefix": "del ",
     "library": "var_list.py",
     "varRefreshCmd": "print(var_dic_list())"
    },
    "r": {
     "delete_cmd_postfix": ") ",
     "delete_cmd_prefix": "rm(",
     "library": "var_list.r",
     "varRefreshCmd": "cat(var_dic_list()) "
    }
   },
   "types_to_exclude": [
    "module",
    "function",
    "builtin_function_or_method",
    "instance",
    "_Feature"
   ],
   "window_display": false
  }
 },
 "nbformat": 4,
 "nbformat_minor": 2
}
