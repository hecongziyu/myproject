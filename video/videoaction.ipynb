{
 "cells": [
  {
   "cell_type": "markdown",
   "metadata": {},
   "source": [
    "#  人体行为分析"
   ]
  },
  {
   "cell_type": "raw",
   "metadata": {},
   "source": [
    "https://www.analyticsvidhya.com/blog/2018/03/comprehensive-collection-deep-learning-datasets/  训练数据\n",
    "https://mivia.unisa.it/datasets/video-analysis-datasets/fire-detection-dataset/  fire 训练数据\n",
    "https://deepmind.com/research/open-source/kinetics  训练数据\n",
    "1、https://support.huaweicloud.com/usermanual-vis/vis_02_0012.html   华为云创建流\n",
    "2、https://support.huaweicloud.com/bestpractice-ief/ief_04_0003.html 华为云边缘设备\n",
    "3、https://blog.csdn.net/qq_34385827/article/details/77235855  人体行为识别\n",
    "4、https://www.jiqizhixin.com/articles/2018-10-24-21 人体行为识别  !!!!\n",
    "5、https://deepmind.com/research/open-source/kinetics  训练数据集\n",
    "6、http://www.afzhan.com/news/detail/68190.html  华为云视频监控解决方案解析\n",
    "7  https://blog.csdn.net/xiaoxiaowenqiang/article/details/80752849\n",
    "8. https://blog.csdn.net/qq_34385827/article/details/77235855  \n",
    "9. https://github.oldjpg.com/repository/98370587\n",
    "10. https://blog.csdn.net/Gussss/article/details/85123596 光流图\n",
    "11. https://blog.csdn.net/qq_41368247/article/details/82562165 计算机视觉--光流法(optical flow)简介 ！\n",
    "12. https://blog.csdn.net/wsp_1138886114/article/details/84400392 机器视觉 OpenCV—python目标跟踪（光流）\n",
    "13. https://blog.csdn.net/wsp_1138886114/article/details/85527268 机器视觉 OpenCV—python 多目标跟踪与视频分析\n",
    "14. https://www.jianshu.com/p/87934b0cdd65 OpenCV-Python教程:44.光流\n",
    "15. https://www.zhihu.com/question/264575930   行为识别（action recognition）目前的难点在哪\n",
    "16. https://blog.csdn.net/weixin_41041772/article/details/84652164 行为识别之双流卷积网络\n",
    "17. https://blog.csdn.net/bloodfeast/article/details/77850054  双流神经网络及3D卷积系列论文阅读…\n",
    "18. https://blog.csdn.net/weixin_41874599/article/details/84547257 光流与视频行为识别的关系\n",
    "19. https://arxiv.org/pdf/1604.06573.pdf Convolutional Two-Stream Network Fusion for Video Action Recognition\n",
    "20. https://github.com/open-mmlab/mmaction  https://github.com/yjxiong/temporal-segment-networks\n",
    "21. https://github.com/jeffreyyihuang/two-stream-action-recognition\n",
    "22. https://github.com/arpit-jadon/FireNet-LightWeight-Network-for-Fire-Detection.git ！！！！\n",
    "23. https://deeplearning.buzz/deep-learning-datasets/\n",
    "24. https://blog.csdn.net/u012554092/article/details/78128795 Lucas–Kanade光流算法\n",
    "25. https://baike.so.com/doc/723226-765679.html 最小二乘法\n",
    "26. https://www.jianshu.com/p/9bea3b89c236 关于笛卡尔坐标系与点和矢量   !!!!!!!\n",
    "27. https://blog.csdn.net/u010103202/article/details/73331440 cv2.goodFeaturesToTrack（） !!!!函数追踪图像里的关键点\n",
    "28. https://blog.csdn.net/pbymw8iwm/article/details/82624898 Harris的角点检测和特征匹配\n",
    "29. https://www.cnblogs.com/jiahenhe2/p/7930802.html Harris角点检测原理详解\n",
    "30. https://blog.csdn.net/qq_38906523/article/details/79851654 学之美---函数的泰勒(Taylor)展开式\n",
    "31. https://blog.csdn.net/xueluowutong/article/details/85334256 协方差与协方差矩阵\n",
    "32. https://blog.csdn.net/qq_23869697/article/details/80610361 期望、方差、协方差和协方差矩阵 !!!!!!!!!!!!!!\n",
    "33. https://wenku.baidu.com/view/6a3a416027d3240c8447ef50.html 求积分\n",
    "34. https://zhuanlan.zhihu.com/p/37609917 如何直观地理解「协方差矩阵"
   ]
  },
  {
   "cell_type": "markdown",
   "metadata": {},
   "source": [
    "# 光流跟踪"
   ]
  },
  {
   "cell_type": "code",
   "execution_count": 1,
   "metadata": {},
   "outputs": [
    {
     "ename": "error",
     "evalue": "OpenCV(4.1.1) C:\\projects\\opencv-python\\opencv\\modules\\imgproc\\src\\color.cpp:182: error: (-215:Assertion failed) !_src.empty() in function 'cv::cvtColor'\n",
     "output_type": "error",
     "traceback": [
      "\u001b[1;31m---------------------------------------------------------------------------\u001b[0m",
      "\u001b[1;31merror\u001b[0m                                     Traceback (most recent call last)",
      "\u001b[1;32m<ipython-input-1-d859f2ebb8ec>\u001b[0m in \u001b[0;36m<module>\u001b[1;34m\u001b[0m\n\u001b[0;32m     18\u001b[0m \u001b[1;32mwhile\u001b[0m\u001b[1;33m(\u001b[0m\u001b[1;36m1\u001b[0m\u001b[1;33m)\u001b[0m\u001b[1;33m:\u001b[0m\u001b[1;33m\u001b[0m\u001b[1;33m\u001b[0m\u001b[0m\n\u001b[0;32m     19\u001b[0m     \u001b[0mret\u001b[0m\u001b[1;33m,\u001b[0m\u001b[0mframe\u001b[0m \u001b[1;33m=\u001b[0m \u001b[0mcap\u001b[0m\u001b[1;33m.\u001b[0m\u001b[0mread\u001b[0m\u001b[1;33m(\u001b[0m\u001b[1;33m)\u001b[0m\u001b[1;33m\u001b[0m\u001b[1;33m\u001b[0m\u001b[0m\n\u001b[1;32m---> 20\u001b[1;33m     \u001b[0mframe_gray\u001b[0m \u001b[1;33m=\u001b[0m \u001b[0mcv2\u001b[0m\u001b[1;33m.\u001b[0m\u001b[0mcvtColor\u001b[0m\u001b[1;33m(\u001b[0m\u001b[0mframe\u001b[0m\u001b[1;33m,\u001b[0m \u001b[0mcv2\u001b[0m\u001b[1;33m.\u001b[0m\u001b[0mCOLOR_BGR2GRAY\u001b[0m\u001b[1;33m)\u001b[0m\u001b[1;33m\u001b[0m\u001b[1;33m\u001b[0m\u001b[0m\n\u001b[0m\u001b[0;32m     21\u001b[0m     \u001b[0mp1\u001b[0m\u001b[1;33m,\u001b[0m \u001b[0mst\u001b[0m\u001b[1;33m,\u001b[0m \u001b[0merr\u001b[0m \u001b[1;33m=\u001b[0m \u001b[0mcv2\u001b[0m\u001b[1;33m.\u001b[0m\u001b[0mcalcOpticalFlowPyrLK\u001b[0m\u001b[1;33m(\u001b[0m\u001b[0mold_gray\u001b[0m\u001b[1;33m,\u001b[0m \u001b[0mframe_gray\u001b[0m\u001b[1;33m,\u001b[0m \u001b[0mp0\u001b[0m\u001b[1;33m,\u001b[0m \u001b[1;32mNone\u001b[0m\u001b[1;33m,\u001b[0m \u001b[1;33m**\u001b[0m\u001b[0mlk_params\u001b[0m\u001b[1;33m)\u001b[0m\u001b[1;33m\u001b[0m\u001b[1;33m\u001b[0m\u001b[0m\n\u001b[0;32m     22\u001b[0m     \u001b[0mgood_new\u001b[0m \u001b[1;33m=\u001b[0m \u001b[0mp1\u001b[0m\u001b[1;33m[\u001b[0m\u001b[0mst\u001b[0m\u001b[1;33m==\u001b[0m\u001b[1;36m1\u001b[0m\u001b[1;33m]\u001b[0m\u001b[1;33m\u001b[0m\u001b[1;33m\u001b[0m\u001b[0m\n",
      "\u001b[1;31merror\u001b[0m: OpenCV(4.1.1) C:\\projects\\opencv-python\\opencv\\modules\\imgproc\\src\\color.cpp:182: error: (-215:Assertion failed) !_src.empty() in function 'cv::cvtColor'\n"
     ]
    }
   ],
   "source": [
    "import numpy as np\n",
    "import cv2\n",
    "cap = cv2.VideoCapture('D:\\\\img\\\\mp4\\\\output.flv')\n",
    "# params for ShiTomasi corner detection\n",
    "feature_params=dict(maxCorners = 100,qualityLevel=0.3,minDistance=7,blockSize=7)\n",
    "\n",
    "lk_params=dict(winSize=(15,15),maxLevel=2,criteria=(cv2.TERM_CRITERIA_EPS|cv2.TERM_CRITERIA_COUNT, 10, 0.03))\n",
    "\n",
    "# Create some random colors\n",
    "color = np.random.randint(0,255,(100,3))\n",
    "ret, old_frame = cap.read()\n",
    "old_gray = cv2.cvtColor(old_frame, cv2.COLOR_BGR2GRAY)\n",
    "p0=cv2.goodFeaturesToTrack(old_gray, mask = None, **feature_params)\n",
    "\n",
    "# Create a mask image for drawing purposes\n",
    "mask = np.zeros_like(old_frame)\n",
    "\n",
    "while(1):\n",
    "    ret,frame = cap.read()\n",
    "    frame_gray = cv2.cvtColor(frame, cv2.COLOR_BGR2GRAY)\n",
    "    p1, st, err = cv2.calcOpticalFlowPyrLK(old_gray, frame_gray, p0, None, **lk_params)\n",
    "    good_new = p1[st==1]\n",
    "    good_old = p0[st==1]\n",
    "    for i,(new,old) in enumerate(zip(good_new,good_old)):\n",
    "        a,b = new.ravel()\n",
    "        c,d = old.ravel()\n",
    "        mask = cv2.line(mask, (a,b),(c,d), color[i].tolist(), 2)\n",
    "        frame = cv2.circle(frame,(a,b),5,color[i].tolist(),-1)\n",
    "    img = cv2.add(frame,mask)\n",
    "    cv2.imshow('frame',img)\n",
    "    k = cv2.waitKey(30) & 0xff\n",
    "    if k == 27:\n",
    "        break\n",
    "    old_gray = frame_gray.copy()\n",
    "    p0 = good_new.reshape(-1,1,2)\n",
    "cv2.destroyAllWindows()\n",
    "cap.release()\n"
   ]
  },
  {
   "cell_type": "code",
   "execution_count": null,
   "metadata": {},
   "outputs": [],
   "source": []
  }
 ],
 "metadata": {
  "kernelspec": {
   "display_name": "Python 3",
   "language": "python",
   "name": "python3"
  },
  "language_info": {
   "codemirror_mode": {
    "name": "ipython",
    "version": 3
   },
   "file_extension": ".py",
   "mimetype": "text/x-python",
   "name": "python",
   "nbconvert_exporter": "python",
   "pygments_lexer": "ipython3",
   "version": "3.7.4"
  },
  "toc": {
   "base_numbering": 1,
   "nav_menu": {},
   "number_sections": true,
   "sideBar": true,
   "skip_h1_title": false,
   "title_cell": "Table of Contents",
   "title_sidebar": "Contents",
   "toc_cell": false,
   "toc_position": {},
   "toc_section_display": true,
   "toc_window_display": false
  },
  "varInspector": {
   "cols": {
    "lenName": 16,
    "lenType": 16,
    "lenVar": 40
   },
   "kernels_config": {
    "python": {
     "delete_cmd_postfix": "",
     "delete_cmd_prefix": "del ",
     "library": "var_list.py",
     "varRefreshCmd": "print(var_dic_list())"
    },
    "r": {
     "delete_cmd_postfix": ") ",
     "delete_cmd_prefix": "rm(",
     "library": "var_list.r",
     "varRefreshCmd": "cat(var_dic_list()) "
    }
   },
   "types_to_exclude": [
    "module",
    "function",
    "builtin_function_or_method",
    "instance",
    "_Feature"
   ],
   "window_display": false
  }
 },
 "nbformat": 4,
 "nbformat_minor": 2
}
