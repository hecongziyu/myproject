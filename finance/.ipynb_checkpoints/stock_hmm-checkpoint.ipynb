{
 "cells": [
  {
   "cell_type": "markdown",
   "metadata": {},
   "source": [
    "    说明：\n",
    "    \n",
    "    股票数据是典型的序列数据，也是HMM的经典应用例子，假设我们将股票的每日价格变化和交易额视为观测值，而将股票的涨跌或者维持视为隐状态，由此我们可以清晰地建立一个HMM模型。\n",
    "    \n",
    "    O: 每日价格变化和交易额\n",
    "    S：隐藏状态的集合， 股票的涨跌或者维持视为隐状态     \n",
    "    π: 对应隐藏状态的初始化概率 \n",
    "    A : 隐藏状态的状态转移概率，是一个NN的概率矩阵\n",
    "    B : 隐藏状态到观测状态的混淆矩阵，是一个NM的发射概率矩阵\n",
    "    \n",
    "    C: 隐藏状态初始化概率： [1/3, 1/3, 1/3]\n",
    "    A: ?\n",
    "    B: ?\n",
    "    \n",
    "    收盘价变化呈高斯分布\n",
    "    L(π,A,B) = argmax(observer o)\n",
    "    \n",
    "    "
   ]
  },
  {
   "cell_type": "code",
   "execution_count": 1,
   "metadata": {},
   "outputs": [
    {
     "ename": "AttributeError",
     "evalue": "module 'mpl_finance' has no attribute 'quotes_historical_yahoo_ochl'",
     "output_type": "error",
     "traceback": [
      "\u001b[1;31m---------------------------------------------------------------------------\u001b[0m",
      "\u001b[1;31mAttributeError\u001b[0m                            Traceback (most recent call last)",
      "\u001b[1;32m<ipython-input-1-4014f9037770>\u001b[0m in \u001b[0;36m<module>\u001b[1;34m()\u001b[0m\n\u001b[0;32m     16\u001b[0m \u001b[1;31m# 导入Yahoo金融数据\u001b[0m\u001b[1;33m\u001b[0m\u001b[1;33m\u001b[0m\u001b[0m\n\u001b[0;32m     17\u001b[0m \u001b[1;33m\u001b[0m\u001b[0m\n\u001b[1;32m---> 18\u001b[1;33m quotes = mpl_finance.quotes_historical_yahoo_ochl(\n\u001b[0m\u001b[0;32m     19\u001b[0m     \"INTC\", datetime.date(1995, 1, 1), datetime.date(2012, 1, 6))\n\u001b[0;32m     20\u001b[0m \u001b[1;33m\u001b[0m\u001b[0m\n",
      "\u001b[1;31mAttributeError\u001b[0m: module 'mpl_finance' has no attribute 'quotes_historical_yahoo_ochl'"
     ]
    }
   ],
   "source": [
    "# -*- coding:utf-8 -*-\n",
    "# By tostq <tostq216@163.com>\n",
    "# Reference to hmmlearn.examples.plot_hmm_stock_analysis.py\n",
    "# 博客: blog.csdn.net/tostq\n",
    "import datetime\n",
    "\n",
    "import numpy as np\n",
    "from matplotlib import cm, pyplot as plt\n",
    "from matplotlib.dates import YearLocator, MonthLocator\n",
    "# from matplotlib.finance import quotes_historical_yahoo_ochl\n",
    "import mpl_finance \n",
    "from hmm import GaussianHMM\n",
    "from sklearn.preprocessing import scale\n",
    "\n",
    "###############################################################################\n",
    "# 导入Yahoo金融数据\n",
    "\n",
    "quotes = mpl_finance.quotes_historical_yahoo_ochl(\n",
    "    \"INTC\", datetime.date(1995, 1, 1), datetime.date(2012, 1, 6))\n",
    "\n",
    "dates = np.array([q[0] for q in quotes], dtype=int) # 日期列\n",
    "close_v = np.array([q[2] for q in quotes])          # 收盘价\n",
    "volume = np.array([q[5] for q in quotes])[1:]       # 交易数\n",
    "# diff：out[n] = a[n+1] - a[n] 得到价格变化\n",
    "diff = np.diff(close_v)\n",
    "dates = dates[1:]\n",
    "close_v = close_v[1:]\n",
    "\n",
    "# scale归一化处理：均值为0和方差为1\n",
    "# 将价格和交易数组成输入数据\n",
    "X = np.column_stack([scale(diff), scale(volume)])\n",
    "\n",
    "# 训练高斯HMM模型，这里假设隐藏状态4个\n",
    "model = GaussianHMM(4,2,20)\n",
    "model.train(X)\n",
    "\n",
    "# 预测隐状态\n",
    "hidden_states = model.decode(X\n"
   ]
  }
 ],
 "metadata": {
  "kernelspec": {
   "display_name": "Python 3",
   "language": "python",
   "name": "python3"
  },
  "language_info": {
   "codemirror_mode": {
    "name": "ipython",
    "version": 3
   },
   "file_extension": ".py",
   "mimetype": "text/x-python",
   "name": "python",
   "nbconvert_exporter": "python",
   "pygments_lexer": "ipython3",
   "version": "3.6.3"
  }
 },
 "nbformat": 4,
 "nbformat_minor": 2
}
