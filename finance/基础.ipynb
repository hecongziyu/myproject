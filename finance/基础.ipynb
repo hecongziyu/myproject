{
 "cells": [
  {
   "cell_type": "markdown",
   "metadata": {},
   "source": [
    "  # 相关性"
   ]
  },
  {
   "cell_type": "markdown",
   "metadata": {},
   "source": [
    "     变量相关性, 随机变量X、Y的协方差可以衡量二者之间的关系，描述的是两随机变量与各自期望之偏差的共同变动状况。"
   ]
  },
  {
   "cell_type": "code",
   "execution_count": 2,
   "metadata": {
    "code_folding": []
   },
   "outputs": [
    {
     "name": "stderr",
     "output_type": "stream",
     "text": [
      "100%|██████████████████████████████████████████████████████████████████████████████| 5072/5072 [07:21<00:00, 11.49it/s]\n"
     ]
    }
   ],
   "source": [
    "# 变量相关性 \n",
    "import common.sdata as sdata\n",
    "import importlib\n",
    "import os\n",
    "from tqdm import tqdm\n",
    "import numpy as np\n",
    "importlib.reload(sdata)\n",
    "CODE= '600016'\n",
    "path = 'D:/PROJECT_TW/anly/data/'\n",
    "save_path = 'D:/PROJECT_TW/git/data/finance/'\n",
    "NDAYS = 5\n",
    "MSYH = sdata.StockData(CODE).combine_income(ndays=NDAYS)\n",
    "\n",
    "s_lists = os.listdir(path)\n",
    "s_lists = [x for x in s_lists if x.isdigit() and x != CODE]\n",
    "MSYH_RET = MSYH.INCOME\n",
    "CORR_RESULT = []\n",
    "# for step,item in enumerate(s_lists[0:10]):\n",
    "process_bar = tqdm(range(len(s_lists)))\n",
    "for i in process_bar:\n",
    "    item = s_lists[i]\n",
    "    s_item = sdata.StockData(str(item)).combine_income(ndays=NDAYS)\n",
    "    if len(s_item) > len(MSYH) * 0.9:\n",
    "        s_item_ret = s_item.IMCOME_1\n",
    "        CORR_RESULT.append([CODE,item,MSYH_RET.corr(s_item_ret)])\n",
    "\n",
    "corr_array = np.array(CORR_RESULT)   \n",
    "corr_inx = np.lexsort([corr_array[:,2]])\n",
    "corr_array = corr_array[corr_inx]\n",
    "corr_array = corr_array[::-1]  # 按从后从前的顺序\n",
    "np.savetxt('{}{}_CORR_2.txt'.format(save_path,CODE),corr_array,fmt='%s',delimiter=',')\n",
    "    \n",
    "# print(s_lists)\n",
    "\n",
    "# MSYH_RET = MSYH.INCOME\n",
    "# GSYH_RET = GSYH.INCOME\n",
    "# print(MSYH_RET.corr(GSYH_RET))\n",
    "\n",
    "\n",
    "# 收益率置信区间  P213"
   ]
  },
  {
   "cell_type": "code",
   "execution_count": 49,
   "metadata": {},
   "outputs": [
    {
     "name": "stdout",
     "output_type": "stream",
     "text": [
      "Date\n",
      "2008-07-23    8.505376\n",
      "2008-07-24    0.830890\n",
      "2008-07-25    2.169050\n",
      "2008-07-28   -2.927928\n",
      "2008-07-29    1.428571\n",
      "Name: IMCOME_1, dtype: float64\n"
     ]
    }
   ],
   "source": [
    "print(MSYH.IMCOME_1.head(5))"
   ]
  },
  {
   "cell_type": "code",
   "execution_count": null,
   "metadata": {},
   "outputs": [],
   "source": []
  }
 ],
 "metadata": {
  "kernelspec": {
   "display_name": "Python 3",
   "language": "python",
   "name": "python3"
  },
  "language_info": {
   "codemirror_mode": {
    "name": "ipython",
    "version": 3
   },
   "file_extension": ".py",
   "mimetype": "text/x-python",
   "name": "python",
   "nbconvert_exporter": "python",
   "pygments_lexer": "ipython3",
   "version": "3.7.4"
  },
  "varInspector": {
   "cols": {
    "lenName": 16,
    "lenType": 16,
    "lenVar": 40
   },
   "kernels_config": {
    "python": {
     "delete_cmd_postfix": "",
     "delete_cmd_prefix": "del ",
     "library": "var_list.py",
     "varRefreshCmd": "print(var_dic_list())"
    },
    "r": {
     "delete_cmd_postfix": ") ",
     "delete_cmd_prefix": "rm(",
     "library": "var_list.r",
     "varRefreshCmd": "cat(var_dic_list()) "
    }
   },
   "types_to_exclude": [
    "module",
    "function",
    "builtin_function_or_method",
    "instance",
    "_Feature"
   ],
   "window_display": false
  }
 },
 "nbformat": 4,
 "nbformat_minor": 2
}
