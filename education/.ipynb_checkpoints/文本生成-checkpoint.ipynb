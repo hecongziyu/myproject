{
 "cells": [
  {
   "cell_type": "raw",
   "metadata": {},
   "source": [
    "\n",
    "\n",
    "1、https://arxiv.org/abs/1609.05473   seq gan\n",
    "2、https://zhuanlan.zhihu.com/p/38533823  史最全生成对抗网络（GAN）论文串烧\n",
    "3、https://zhuanlan.zhihu.com/p/22549808  Generarive Adversarial Network\n",
    "4、https://arxiv.org/pdf/1406.2661.pdf Generarive Adversarial Network\n",
    "5、https://blog.csdn.net/jizhidexiaoming/article/details/96485095 pytorch GAN 实现\n",
    "6、https://ai.tencent.com/ailab/nlp/en/index.html Text Understanding， Text Generation，Dialogue   ！！！！\n",
    "7、https://mlln.cn/2018/06/28/%E6%9C%80%E5%85%A8%E4%B8%AD%E6%96%87%E8%AF%8D%E5%90%91%E9%87%8F%E6%95%B0%E6%8D%AE%E4%B8%8B%E8%BD%BD-%E9%83%BD%E6%98%AF%E8%AE%AD%E7%BB%83%E5%A5%BD%E7%9A%84%E4%BC%98%E8%B4%A8%E5%90%91%E9%87%8F/  中文词向量\n",
    "8、https://blog.csdn.net/hubin232/article/details/81272126 常用词向量方法比较\n"
   ]
  }
 ],
 "metadata": {
  "kernelspec": {
   "display_name": "Python 3",
   "language": "python",
   "name": "python3"
  },
  "language_info": {
   "codemirror_mode": {
    "name": "ipython",
    "version": 3
   },
   "file_extension": ".py",
   "mimetype": "text/x-python",
   "name": "python",
   "nbconvert_exporter": "python",
   "pygments_lexer": "ipython3",
   "version": "3.7.4"
  },
  "varInspector": {
   "cols": {
    "lenName": 16,
    "lenType": 16,
    "lenVar": 40
   },
   "kernels_config": {
    "python": {
     "delete_cmd_postfix": "",
     "delete_cmd_prefix": "del ",
     "library": "var_list.py",
     "varRefreshCmd": "print(var_dic_list())"
    },
    "r": {
     "delete_cmd_postfix": ") ",
     "delete_cmd_prefix": "rm(",
     "library": "var_list.r",
     "varRefreshCmd": "cat(var_dic_list()) "
    }
   },
   "types_to_exclude": [
    "module",
    "function",
    "builtin_function_or_method",
    "instance",
    "_Feature"
   ],
   "window_display": false
  }
 },
 "nbformat": 4,
 "nbformat_minor": 2
}
