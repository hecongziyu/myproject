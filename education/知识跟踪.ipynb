{
 "cells": [
  {
   "cell_type": "raw",
   "metadata": {},
   "source": [
    "\n",
    "\n",
    "http://educationaldatamining.org/EDM2019/proceedings\n",
    "http://openkg.cn\n",
    "\n",
    "1、http://www.cs.williams.edu/~iris/res/bkt/  What is Bayesian Knowledge Tracing\n",
    "2、https://www2.eecs.berkeley.edu/Pubs/TechRpts/2015/EECS-2015-98.pdf \n",
    "3、https://cloud.tencent.com/developer/article/1411619 从在线教育数据中学习课程关系图\n",
    "4、https://zhuanlan.zhihu.com/p/75466388 BERT与知识图谱的结合——ERNIE模型浅析\n",
    "5、https://www.jianshu.com/p/dd55686c1852 一文读懂知识图谱及其在K12中的应用\n",
    "6、https://www.doc88.com/p-2465055117219.html 教育领域知识图谱的构建方法及应用研究   5.2 基于知识图谱的应试热点预测\n",
    "7、https://aic-fe.bnu.edu.cn/docs/20181205101832069569.pdf  An Automatic Knowledge Graph Construction System forK-12 Education\n",
    "8、https://clgiles.ist.psu.edu/pubs/AAAI2017-course.pdf Recovering Concept Prerequisite Relations from University Course Dependencies\n",
    "9、http://www.columbia.edu/~rd2537/docu/apriori(abstract).pdf Fast Algorithms for Mining Association Rules\n",
    "10、http://www.vldb.org/conf/1994/P487.PDF Fast Algorithms for Mining Association Rules \n",
    "10、https://files.eric.ed.gov/fulltext/ED592683.pdf    Data-driven Automated Induction ofPrerequisite Structure Graphs\n",
    "10、https://www.academia.edu/6595723/Spaces_for_the_Assessment_of_Knowledge  Knowledge spaces\n",
    "10、https://max.book118.com/html/2018/0418/161994294.shtm 知识空间理论\n",
    "10、https://blog.csdn.net/reallocing1/article/details/49789725?utm_medium=distribute.pc_feed_404.none-task-blog-BlogCommendFromBaidu-6.nonecase&depth_1-utm_source=distribute.pc_feed_404.none-task-blog-BlogCommendFromBaidu-6.nonecas  在线教育的那些事--知识空间技术入门\n",
    "10、https://wenku.baidu.com/view/e19868f2bb4cf7ec4afed0e7.html# 知识空间\n",
    "10、https://www.aleks.com/about_aleks/knowledge_space_theory\n",
    "10、https://wenku.baidu.com/view/e19868f2bb4cf7ec4afed0e7.html# 知识空间\n",
    "11、https://blog.csdn.net/qq_39391192/article/details/81703706 数据挖掘算法揭秘篇——关联规则方法  ！！！\n",
    "\n",
    "    关联规则的支持度（Support）： 关联规则的支持度是交易集中同时包含的X和Y的交易数与所有交易数之比，记为support(X=>Y)，即\n",
    "                        support(X=>Y)=supportX∪Y=P(XY)。支持度反映了X和Y中所含的项在事务集中同时出现的概率。\n",
    "   关联规则的置信度（Confidence）： 关联规则的置信度是交易集中包含X和Y的交易数与所有包含X的交易数之比，记为confidence(X=>Y)，\n",
    "                        即：confidence(X=>Y)==P(Y|X)。置信度反映了包含X的事务中，出现Y的条件概率。\n",
    "                        \n",
    "12、https://zhuanlan.zhihu.com/p/56903119  把知识变成图谱一共需要花几步？89页全网最全清华知识图谱报告\n",
    "13、http://www.cs.cmu.edu/~hanxiaol/publications/yang-wsdm15.pdf  Concept Graph Learning from Educational Data   通过学习方式对前置进行分类。\n",
    "14、https://deepai.org/publication/pykg2vec-a-python-library-for-knowledge-graph-embedding  \n",
    "15、https://image.baidu.com/search/detail?ct=503316480&z=0&ipn=d&word=%E7%99%BE%E5%BA%A6%E6%95%99%E8%82%B2%E7%9F%A5%E8%AF%86%E5%9B%BE%E8%B0%B1&step_word=&hs=2&pn=0&spn=0&di=47520&pi=0&rn=1&tn=baiduimagedetail&is=0%2C0&istype=0&ie=utf-8&oe=utf-8&in=&cl=2&lm=-1&st=undefined&cs=3871640372%2C3953104731&os=1907911730%2C1672812541&simid=3292512939%2C282483121&adpicid=0&lpn=0&ln=816&fr=&fmq=1578993845994_R&fm=&ic=undefined&s=undefined&hd=undefined&latest=undefined&copyright=undefined&se=&sme=&tab=0&width=undefined&height=undefined&face=undefined&ist=&jit=&cg=&bdtype=0&oriquery=&objurl=http%3A%2F%2Fcrawl.nosdn.127.net%2Fb900016f45c4abe0ebaa6b0799c64922.jpg&fromurl=ippr_z2C%24qAzdH3FAzdH3F1y_z%26e3B8mn_z%26e3Bv54AzdH3FedAzdH3Fw6ptvsjAzdH3F1jpwtsAzdH3FDPLQmAEMac88bmGT_z%26e3Bip4s&gsm=&rpstart=0&rpnum=0&islist=&querylist=&force=undefined   百度教育知识图谱\n",
    "\n",
    "16、https://openie.allenai.org/# 基于知识图谱智能回答\n",
    "17、https://zhuanlan.zhihu.com/p/67657057?utm_source=wechat_session&utm_medium=social&utm_oi=777186450763440128 基于知识图谱的厨房领域问答系统构建\n",
    "18、https://blog.csdn.net/TgqDT3gGaMdkHasLZv/article/details/79710986 基于Freebase的问答研究 本文给出了一种 end-to-end 的系统来自动将 NL 问题转换成 SPARQL 查询语言。\n",
    "19、https://blog.csdn.net/TgqDT3gGaMdkHasLZv/article/details/80088475 利用 RNN 和 CNN 构建基于 FreeBase 的问答系统\n",
    "20、https://blog.csdn.net/m0_37565948/article/details/84999919 知识图谱—关系抽取—远程监督—OpenNRE\n",
    "21、https://blog.csdn.net/sinat_36972314/article/details/81394246 知识图谱之知识表示\n",
    "22、https://blog.csdn.net/sinat_28978363/article/details/88633698?utm_source=distribute.pc_relevant.none-task  知识图谱知识表示\n",
    "23、https://blog.csdn.net/weixin_40449300/article/details/88771302?utm_source=distribute.pc_relevant.none-task 【知识图谱】——8种Trans模型 ！！！\n",
    "24、https://blog.csdn.net/Evaooooes/article/details/88691356?utm_medium=distribute.pc_relevant.none-task-blog-BlogCommendFromMachineLearnPai2-2.channel_param&depth_1-utm_source=distribute.pc_relevant.none-task-blog-BlogCommendFromMachineLearnPai2-2.channel_param \n",
    "论文笔记 Question Answering over Freebase via Attentive RNN with Similarity Matrix based CNN\n",
    "\n"
   ]
  }
 ],
 "metadata": {
  "kernelspec": {
   "display_name": "Python 3",
   "language": "python",
   "name": "python3"
  },
  "language_info": {
   "codemirror_mode": {
    "name": "ipython",
    "version": 3
   },
   "file_extension": ".py",
   "mimetype": "text/x-python",
   "name": "python",
   "nbconvert_exporter": "python",
   "pygments_lexer": "ipython3",
   "version": "3.7.4"
  },
  "varInspector": {
   "cols": {
    "lenName": 16,
    "lenType": 16,
    "lenVar": 40
   },
   "kernels_config": {
    "python": {
     "delete_cmd_postfix": "",
     "delete_cmd_prefix": "del ",
     "library": "var_list.py",
     "varRefreshCmd": "print(var_dic_list())"
    },
    "r": {
     "delete_cmd_postfix": ") ",
     "delete_cmd_prefix": "rm(",
     "library": "var_list.r",
     "varRefreshCmd": "cat(var_dic_list()) "
    }
   },
   "types_to_exclude": [
    "module",
    "function",
    "builtin_function_or_method",
    "instance",
    "_Feature"
   ],
   "window_display": false
  }
 },
 "nbformat": 4,
 "nbformat_minor": 2
}
