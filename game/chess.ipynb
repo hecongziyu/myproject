{
 "cells": [
  {
   "cell_type": "markdown",
   "metadata": {},
   "source": [
    " https://livebook.manning.com/#!/book/deep-learning-and-the-game-of-go/chapter-1 deep-learning-and-the-game-of-go\n",
    " \n",
    " https://pydealer.readthedocs.io/en/latest/  PyDealer: Playing Card Package\n",
    " \n",
    " https://github.com/EdjeElectronics/OpenCV-Playing-Card-Detector\n",
    " \n",
    " https://www.pygame.org/tags/cards\n",
    " \n",
    " https://www.datacamp.com/community/tutorials/statistics-python-tutorial-probability-1  probability, as this tutorial works with a deck of 52 playing cards.\n",
    " \n",
    " https://www.statisticshowto.datasciencecentral.com/probability-of-picking-from-a-deck-of-cards/ Probability of picking from a deck of cards: Overview"
   ]
  }
 ],
 "metadata": {
  "kernelspec": {
   "display_name": "Python 3",
   "language": "python",
   "name": "python3"
  },
  "language_info": {
   "codemirror_mode": {
    "name": "ipython",
    "version": 3
   },
   "file_extension": ".py",
   "mimetype": "text/x-python",
   "name": "python",
   "nbconvert_exporter": "python",
   "pygments_lexer": "ipython3",
   "version": "3.6.3"
  }
 },
 "nbformat": 4,
 "nbformat_minor": 2
}
