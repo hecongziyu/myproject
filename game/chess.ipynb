{
 "cells": [
  {
   "cell_type": "markdown",
   "metadata": {},
   "source": [
    " https://livebook.manning.com/#!/book/deep-learning-and-the-game-of-go/chapter-1 deep-learning-and-the-game-of-go\n",
    " \n",
    " https://pydealer.readthedocs.io/en/latest/  PyDealer: Playing Card Package\n",
    " \n",
    " https://github.com/EdjeElectronics/OpenCV-Playing-Card-Detector\n",
    " \n",
    " https://www.pygame.org/tags/cards\n",
    " \n",
    " https://www.datacamp.com/community/tutorials/statistics-python-tutorial-probability-1  probability, as this tutorial works with a deck of 52 playing cards.\n",
    " \n",
    " https://www.statisticshowto.datasciencecentral.com/probability-of-picking-from-a-deck-of-cards/ Probability of picking from a deck of cards: Overview\n",
    " \n",
    " \n",
    " https://github.com/NeymarL/ChineseChess-AlphaZero  中国象棋\n",
    " \n",
    " https://github.com/programmingLearner/Chinese-chess-with-Deep-Reinforcement-Learning\n",
    " \n",
    " http://stanford.edu/~dengl11/resource/doc/221-Report.pdf AI Agent for Chinese Chess\n",
    " \n",
    " https://www.technologyreview.com/s/541276/deep-learning-machine-teaches-itself-chess-in-72-hours-plays-at-international-master/\n",
    " \n",
    " https://github.com/dengl11/ChineseChessAI\n",
    " \n",
    " https://github.com/programmingLearner/Chinese-chess-with-Deep-Reinforcement-Learning\n",
    " \n",
    " https://arxiv.org/pdf/1509.01549.pdf"
   ]
  }
 ],
 "metadata": {
  "kernelspec": {
   "display_name": "Python 3",
   "language": "python",
   "name": "python3"
  },
  "language_info": {
   "codemirror_mode": {
    "name": "ipython",
    "version": 3
   },
   "file_extension": ".py",
   "mimetype": "text/x-python",
   "name": "python",
   "nbconvert_exporter": "python",
   "pygments_lexer": "ipython3",
   "version": "3.6.3"
  }
 },
 "nbformat": 4,
 "nbformat_minor": 2
}
