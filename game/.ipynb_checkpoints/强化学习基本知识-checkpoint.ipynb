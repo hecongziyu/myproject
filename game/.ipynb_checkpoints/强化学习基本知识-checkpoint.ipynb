{
 "cells": [
  {
   "cell_type": "markdown",
   "metadata": {},
   "source": [
    " P269\n",
    " \n",
    " https://blog.csdn.net/a6225301/article/details/51437703  python编译\n",
    " https://blog.csdn.net/u010565765/article/details/82180287 \n",
    " 吃角子老虎问题 bandit problem\n",
    " \n",
    " 时序差分算法(Temporal-Difference Learning) https://www.jianshu.com/p/0bfeb09b7d5f\n",
    " \n",
    " Monte Carlo Tree Search P153\n",
    " Policy Gradient Methods P265"
   ]
  },
  {
   "cell_type": "markdown",
   "metadata": {},
   "source": [
    " http://www.cs.ou.edu/~granville/paper.pdf  Applying Reinforcement Learning to Blackjack\n",
    " \n",
    " https://github.com/pradhyo/blackjack"
   ]
  }
 ],
 "metadata": {
  "kernelspec": {
   "display_name": "Python 3",
   "language": "python",
   "name": "python3"
  },
  "language_info": {
   "codemirror_mode": {
    "name": "ipython",
    "version": 3
   },
   "file_extension": ".py",
   "mimetype": "text/x-python",
   "name": "python",
   "nbconvert_exporter": "python",
   "pygments_lexer": "ipython3",
   "version": "3.6.3"
  }
 },
 "nbformat": 4,
 "nbformat_minor": 2
}
