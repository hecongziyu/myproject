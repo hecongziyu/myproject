{
 "cells": [
  {
   "cell_type": "markdown",
   "metadata": {},
   "source": [
    "# 说明 "
   ]
  },
  {
   "cell_type": "markdown",
   "metadata": {},
   "source": [
    "一、off-policy（离线） vs on-policy（在线）\n",
    "    强化学习可以分成off-policy（离线）和on-policy（在线）两种学习方法，按照个人理解，判断一个强化学习是off-policy还是on-policy的依据在于生成样本的policy（value-funciton）和网络参数更新时的policy（value-funciton）是否相同。\n",
    "    Q-learning在计算下一状态的预期收益时使用了max操作，直接选择最优动作，而当前policy并不一定能选择到最优动作，因此这里生成样本的policy和学习时的policy不同，为off-policy算法；\n",
    "    而SARAS则是基于当前的policy直接执行一次动作选择，然后用这个样本更新当前的policy，因此生成样本的policy和学习时的policy相同，算法为on-policy算法。\n",
    "    on-policy 与 off-policy的本质区别在于：更新Q值时所使用的方法是沿用既定的策略（on-policy）还是使用新策略（off-policy）。"
   ]
  },
  {
   "cell_type": "markdown",
   "metadata": {
    "heading_collapsed": true
   },
   "source": [
    "# Q_learning   (off-policy)"
   ]
  },
  {
   "cell_type": "code",
   "execution_count": 14,
   "metadata": {
    "code_folding": [],
    "hidden": true
   },
   "outputs": [
    {
     "name": "stdout",
     "output_type": "stream",
     "text": [
      "[5.0, 5.0, 35.0, 35.0]\n",
      "[5.0, 5.0, 35.0, 35.0]\n",
      "[5.0, 5.0, 35.0, 35.0]\n"
     ]
    },
    {
     "name": "stderr",
     "output_type": "stream",
     "text": [
      "Exception in Tkinter callback\n",
      "Traceback (most recent call last):\n",
      "  File \"D:\\Python36\\lib\\tkinter\\__init__.py\", line 1699, in __call__\n",
      "    return self.func(*args)\n",
      "  File \"D:\\Python36\\lib\\tkinter\\__init__.py\", line 745, in callit\n",
      "    func(*args)\n",
      "  File \"<ipython-input-13-02554bf01632>\", line 15, in update\n",
      "    observation_, reward, done = env.step(action)\n",
      "  File \"D:\\PROJECT_TW\\git\\myproject\\game\\lib\\maze\\maze_env.py\", line 96, in step\n",
      "    s = self.canvas.coords(self.rect)\n",
      "  File \"D:\\Python36\\lib\\tkinter\\__init__.py\", line 2463, in coords\n",
      "    self.tk.call((self._w, 'coords') + args))]\n",
      "_tkinter.TclError: invalid command name \".!canvas\"\n"
     ]
    }
   ],
   "source": [
    "# from lib.maze.maze_env import Maze\n",
    "# from lib.maze.RL_brain import QLearningTable\n",
    "import lib.maze.maze_env as me\n",
    "import lib.maze.Q_RL_brain as rl\n",
    "import importlib\n",
    "importlib.reload(me)\n",
    "importlib.reload(rl)\n",
    "\n",
    "def update():\n",
    "    for episode in range(100):\n",
    "        # initial observation\n",
    "        observation = env.reset()\n",
    "\n",
    "        while True:\n",
    "            # fresh env\n",
    "            env.render()\n",
    "            # RL choose action based on observation\n",
    "            action = RL.choose_action(str(observation))\n",
    "            # RL take action and get next observation and reward\n",
    "            observation_, reward, done = env.step(action)\n",
    "            # RL learn from this transition\n",
    "            RL.learn(str(observation), action, reward, str(observation_))\n",
    "            # swap observation\n",
    "            observation = observation_\n",
    "            # break while loop when end of this episode\n",
    "            if done:\n",
    "                break\n",
    "\n",
    "#         print(RL.q_table)\n",
    "#         print('*' * 20)        \n",
    "\n",
    "    # end of game\n",
    "    print('game over')\n",
    "    env.destroy()\n",
    "\n",
    "env = me.Maze()\n",
    "RL = rl.QLearningTable(actions=list(range(env.n_actions)))\n",
    "env.after(1, update)\n",
    "env.mainloop()    "
   ]
  },
  {
   "cell_type": "code",
   "execution_count": null,
   "metadata": {
    "hidden": true
   },
   "outputs": [],
   "source": []
  },
  {
   "cell_type": "markdown",
   "metadata": {
    "heading_collapsed": true
   },
   "source": [
    "# Sarsa  (on-policy)"
   ]
  },
  {
   "cell_type": "code",
   "execution_count": 2,
   "metadata": {
    "hidden": true
   },
   "outputs": [
    {
     "name": "stderr",
     "output_type": "stream",
     "text": [
      "Exception in Tkinter callback\n",
      "Traceback (most recent call last):\n",
      "  File \"D:\\Python36\\lib\\tkinter\\__init__.py\", line 1699, in __call__\n",
      "    return self.func(*args)\n",
      "  File \"D:\\Python36\\lib\\tkinter\\__init__.py\", line 745, in callit\n",
      "    func(*args)\n",
      "  File \"<ipython-input-2-8ee6499b289e>\", line 20, in update\n",
      "    observation_, reward, done = env.step(action)\n",
      "  File \"D:\\PROJECT_TW\\git\\myproject\\game\\lib\\maze\\maze_env.py\", line 96, in step\n",
      "    s = self.canvas.coords(self.rect)\n",
      "  File \"D:\\Python36\\lib\\tkinter\\__init__.py\", line 2463, in coords\n",
      "    self.tk.call((self._w, 'coords') + args))]\n",
      "_tkinter.TclError: invalid command name \".!canvas\"\n"
     ]
    }
   ],
   "source": [
    "import lib.maze.maze_env as me\n",
    "import lib.maze.S_RL_brain as rl\n",
    "import importlib\n",
    "importlib.reload(me)\n",
    "importlib.reload(rl)\n",
    "\n",
    "def update():\n",
    "    for episode in range(100):\n",
    "        # initial observation\n",
    "        observation = env.reset()\n",
    "\n",
    "        # RL choose action based on observation\n",
    "        action = RL.choose_action(str(observation))\n",
    "\n",
    "        while True:\n",
    "            # fresh env\n",
    "            env.render()\n",
    "\n",
    "            # RL take action and get next observation and reward\n",
    "            observation_, reward, done = env.step(action)\n",
    "\n",
    "            # RL choose action based on next observation\n",
    "            action_ = RL.choose_action(str(observation_))\n",
    "\n",
    "            # RL learn from this transition (s, a, r, s, a) ==> Sarsa\n",
    "            RL.learn(str(observation), action, reward, str(observation_), action_)\n",
    "\n",
    "            # swap observation and action\n",
    "            observation = observation_\n",
    "            action = action_\n",
    "\n",
    "            # break while loop when end of this episode\n",
    "            if done:\n",
    "                break\n",
    "\n",
    "    # end of game\n",
    "    print('game over')\n",
    "    env.destroy()\n",
    "\n",
    "env = me.Maze()\n",
    "RL = rl.SarsaTable(actions=list(range(env.n_actions)))\n",
    "env.after(1, update)\n",
    "env.mainloop()    "
   ]
  },
  {
   "cell_type": "code",
   "execution_count": null,
   "metadata": {
    "hidden": true
   },
   "outputs": [],
   "source": []
  },
  {
   "cell_type": "markdown",
   "metadata": {
    "heading_collapsed": true
   },
   "source": [
    "# SarsaLambda (on-policy)"
   ]
  },
  {
   "cell_type": "code",
   "execution_count": 5,
   "metadata": {
    "hidden": true
   },
   "outputs": [
    {
     "name": "stderr",
     "output_type": "stream",
     "text": [
      "Exception in Tkinter callback\n",
      "Traceback (most recent call last):\n",
      "  File \"D:\\Python36\\lib\\tkinter\\__init__.py\", line 1699, in __call__\n",
      "    return self.func(*args)\n",
      "  File \"D:\\Python36\\lib\\tkinter\\__init__.py\", line 745, in callit\n",
      "    func(*args)\n",
      "  File \"<ipython-input-5-65bae49d0a23>\", line 23, in update\n",
      "    observation_, reward, done = env.step(action)\n",
      "  File \"D:\\PROJECT_TW\\git\\myproject\\game\\lib\\maze\\maze_env.py\", line 96, in step\n",
      "    s = self.canvas.coords(self.rect)\n",
      "  File \"D:\\Python36\\lib\\tkinter\\__init__.py\", line 2463, in coords\n",
      "    self.tk.call((self._w, 'coords') + args))]\n",
      "_tkinter.TclError: invalid command name \".!canvas\"\n"
     ]
    }
   ],
   "source": [
    "# 强化学习各种算法分析及Eligibility Trace教程  https://blog.csdn.net/weixin_37895339/article/details/74644038\n",
    "# eligibility traces是一种将n步的信息备份起来的简洁方式\n",
    "\n",
    "import lib.maze.maze_env as me\n",
    "import lib.maze.S_LAMBDA_RL_brain as rl\n",
    "import importlib\n",
    "importlib.reload(me)\n",
    "importlib.reload(rl)\n",
    "\n",
    "def update():\n",
    "    for episode in range(100):\n",
    "        # initial observation\n",
    "        observation = env.reset()\n",
    "\n",
    "        # RL choose action based on observation\n",
    "        action = RL.choose_action(str(observation))\n",
    "\n",
    "        while True:\n",
    "            # fresh env\n",
    "            env.render()\n",
    "\n",
    "            # RL take action and get next observation and reward\n",
    "            observation_, reward, done = env.step(action)\n",
    "\n",
    "            # RL choose action based on next observation\n",
    "            action_ = RL.choose_action(str(observation_))\n",
    "\n",
    "            # RL learn from this transition (s, a, r, s, a) ==> Sarsa\n",
    "            RL.learn(str(observation), action, reward, str(observation_), action_)\n",
    "\n",
    "            # swap observation and action\n",
    "            observation = observation_\n",
    "            action = action_\n",
    "\n",
    "            # break while loop when end of this episode\n",
    "            if done:\n",
    "                break\n",
    "\n",
    "    # end of game\n",
    "    print('game over')\n",
    "    env.destroy()\n",
    "\n",
    "env = me.Maze()\n",
    "RL = rl.SarsaLambdaTable(actions=list(range(env.n_actions)))\n",
    "env.after(1, update)\n",
    "env.mainloop()    "
   ]
  },
  {
   "cell_type": "code",
   "execution_count": null,
   "metadata": {
    "hidden": true
   },
   "outputs": [],
   "source": []
  },
  {
   "cell_type": "markdown",
   "metadata": {},
   "source": [
    "# DQN"
   ]
  },
  {
   "cell_type": "code",
   "execution_count": null,
   "metadata": {},
   "outputs": [],
   "source": []
  }
 ],
 "metadata": {
  "kernelspec": {
   "display_name": "Python 3",
   "language": "python",
   "name": "python3"
  },
  "language_info": {
   "codemirror_mode": {
    "name": "ipython",
    "version": 3
   },
   "file_extension": ".py",
   "mimetype": "text/x-python",
   "name": "python",
   "nbconvert_exporter": "python",
   "pygments_lexer": "ipython3",
   "version": "3.6.3"
  }
 },
 "nbformat": 4,
 "nbformat_minor": 2
}
