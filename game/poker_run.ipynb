{
 "cells": [
  {
   "cell_type": "code",
   "execution_count": 3,
   "metadata": {},
   "outputs": [
    {
     "name": "stdout",
     "output_type": "stream",
     "text": [
      "play_0\n",
      "play_1\n"
     ]
    }
   ],
   "source": [
    "# https://www.data-blogger.com/2017/11/01/pokerbot-create-your-poker-ai-bot-in-python/\n",
    "# https://github.com/ishikota/PyPokerEngine\n",
    "# pip install PyPokerEngine, pip install pypokergui\n",
    "# https://blog.csdn.net/qq_26437925/article/details/51088364  中国象棋人机对弈搜索算法学习-极大极小值，负极大值，alpha-beta算法\n",
    "import lib.poker.deck as dk\n",
    "import lib.poker.play as play\n",
    "from lib.poker.card import Card\n",
    "import lib.poker.poker_env as pe\n",
    "import importlib\n",
    "importlib.reload(dk)\n",
    "importlib.reload(pe)\n",
    "importlib.reload(play)\n",
    "# deck = dk.Deck(cheat=True, cheat_card_ids=list(range(1,14)))\n",
    "# deck.shuffle()\n",
    "\n",
    "poker = pe.Poker()\n",
    "for item in poker.plays:\n",
    "    print(item.name)"
   ]
  },
  {
   "cell_type": "code",
   "execution_count": null,
   "metadata": {},
   "outputs": [],
   "source": []
  },
  {
   "cell_type": "code",
   "execution_count": null,
   "metadata": {},
   "outputs": [],
   "source": []
  }
 ],
 "metadata": {
  "kernelspec": {
   "display_name": "Python 3",
   "language": "python",
   "name": "python3"
  },
  "language_info": {
   "codemirror_mode": {
    "name": "ipython",
    "version": 3
   },
   "file_extension": ".py",
   "mimetype": "text/x-python",
   "name": "python",
   "nbconvert_exporter": "python",
   "pygments_lexer": "ipython3",
   "version": "3.6.3"
  }
 },
 "nbformat": 4,
 "nbformat_minor": 2
}
