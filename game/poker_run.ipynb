{
 "cells": [
  {
   "cell_type": "code",
   "execution_count": 54,
   "metadata": {},
   "outputs": [
    {
     "name": "stdout",
     "output_type": "stream",
     "text": [
      "CA\n",
      "C7\n",
      "C9\n",
      "CT\n",
      "CQ\n",
      "C4\n",
      "C3\n",
      "C8\n",
      "CJ\n",
      "CK\n",
      "C5\n",
      "C2\n",
      "C6\n"
     ]
    }
   ],
   "source": [
    "# https://www.data-blogger.com/2017/11/01/pokerbot-create-your-poker-ai-bot-in-python/\n",
    "# https://github.com/ishikota/PyPokerEngine\n",
    "# pip install PyPokerEngine, pip install pypokergui\n",
    "import lib.poker.deck as dk\n",
    "from lib.poker.card import Card\n",
    "import importlib\n",
    "importlib.reload(dk)\n",
    "deck = dk.Deck(cheat=True, cheat_card_ids=list(range(1,14)))\n",
    "deck.shuffle()\n",
    "for c in deck.deck:\n",
    "    print(c)\n",
    "# print(Card.from_str('c2'))"
   ]
  },
  {
   "cell_type": "code",
   "execution_count": null,
   "metadata": {},
   "outputs": [],
   "source": []
  },
  {
   "cell_type": "code",
   "execution_count": null,
   "metadata": {},
   "outputs": [],
   "source": []
  }
 ],
 "metadata": {
  "kernelspec": {
   "display_name": "Python 3",
   "language": "python",
   "name": "python3"
  },
  "language_info": {
   "codemirror_mode": {
    "name": "ipython",
    "version": 3
   },
   "file_extension": ".py",
   "mimetype": "text/x-python",
   "name": "python",
   "nbconvert_exporter": "python",
   "pygments_lexer": "ipython3",
   "version": "3.6.3"
  }
 },
 "nbformat": 4,
 "nbformat_minor": 2
}
