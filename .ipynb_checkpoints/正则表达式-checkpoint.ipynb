{
 "cells": [
  {
   "cell_type": "raw",
   "metadata": {},
   "source": [
    "\n",
    "\n",
    "1、https://www.baidu.com/link?url=UTX32dGiIoct3adNrP_O4rOxAWNfQS5J7_yF8DnkXpD0NqW08MJAijcZFGgNf0wPn9OyynEe5pd9PmLAQO69Rq&wd=&eqid=bcb6e520000024af000000065f82d02a\n",
    "2、https://blog.csdn.net/weixin_40907382/article/details/79654372"
   ]
  },
  {
   "cell_type": "code",
   "execution_count": 79,
   "metadata": {
    "ExecuteTime": {
     "end_time": "2020-10-12T01:57:05.706753Z",
     "start_time": "2020-10-12T01:57:05.696738Z"
    }
   },
   "outputs": [
    {
     "name": "stdout",
     "output_type": "stream",
     "text": [
      "[<re.Match object; span=(4, 8), match='[答案]'>, <re.Match object; span=(47, 51), match='[解析]'>, <re.Match object; span=(73, 77), match='[点评]'>]\n"
     ]
    }
   ],
   "source": [
    "import re\n",
    "\n",
    "s = '17. [答案](1)2x+y+2=0;(2)$${\\\\quad\\\\frac{5}{3}.}$$\\n[解析](1)求得\\n两直线的交点为p(-2,2), [点评]\\n1234'\n",
    "# s = s.replace('\\n','$$n$$')\n",
    "# qr = r'([\\[]?(?:答案|解析|点评|知识点)[:|\\)|\\]])'\n",
    "qr = r'([\\[]?(?:答案|解析|点评|知识点)[:|\\)|\\]])'\n",
    "# qr = r'答案' , re.S\n",
    "re.findall(qr,s,re.S)\n",
    "# re.search(qr,s,re.S)\n",
    "# re.findall(qr,s)\n",
    "z = list(re.finditer(qr,s))\n",
    "print(z)\n",
    "# re.split(qr,s)"
   ]
  },
  {
   "cell_type": "code",
   "execution_count": 82,
   "metadata": {
    "ExecuteTime": {
     "end_time": "2020-10-12T02:50:32.723125Z",
     "start_time": "2020-10-12T02:50:32.716121Z"
    }
   },
   "outputs": [
    {
     "data": {
      "text/plain": [
       "['(1)', '(2)']"
      ]
     },
     "execution_count": 82,
     "metadata": {},
     "output_type": "execute_result"
    }
   ],
   "source": [
    "import re\n",
    "s = '(1)2x+y+2=0;(2)中\\n$${\\\\quad\\\\frac{5}{3}.}$$'\n",
    "qr = r'^[(]?[1-9]?\\d[)]{1}'\n",
    "qr = qr.replace('^','')\n",
    "re.findall(qr,s)"
   ]
  },
  {
   "cell_type": "code",
   "execution_count": 28,
   "metadata": {
    "ExecuteTime": {
     "end_time": "2020-10-26T01:20:18.756296Z",
     "start_time": "2020-10-26T01:20:18.746302Z"
    }
   },
   "outputs": [
    {
     "name": "stdout",
     "output_type": "stream",
     "text": [
      "0\n"
     ]
    }
   ],
   "source": [
    "import re\n",
    "s = '(1)求直线l的A=2B方程;\\nA$${\\\\quadx+y-2=0}$$B.x-y+2=0\\nC.$${\\\\quadx+y-3=0}$$\\nD$${\\\\quadx-y+3=0}$$'\n",
    "qr = r'[\\n]B[\\.|\\)]?.*B[\\.|\\)]?.*C[\\.|\\)]?.*D[\\.|\\)]?.*'\n",
    "ss = re.finditer(qr,s,re.S)\n",
    "print(len(list(ss)))\n",
    "for item in ss:\n",
    "    print(item.group())"
   ]
  },
  {
   "cell_type": "code",
   "execution_count": 79,
   "metadata": {
    "ExecuteTime": {
     "end_time": "2020-10-22T07:48:02.923664Z",
     "start_time": "2020-10-22T07:48:02.912671Z"
    }
   },
   "outputs": [
    {
     "data": {
      "text/plain": [
       "'零、'"
      ]
     },
     "execution_count": 79,
     "metadata": {},
     "output_type": "execute_result"
    }
   ],
   "source": [
    "import re\n",
    "# qr = r'^([一|二|三|四|五|六|七|八|九|[1-9][0-9]?][.|、|:])(?:选择题|填空题|解答题|试题开始|填空|解答|试题开始|非选择|简答)'\n",
    "qr = r'^[一|二|三|四|五|六|七|八|九|1-9]?[0-9]?[.|、|:](?:选择|填空|解答|试题开始|填空|解答|试题开始|非选择|简答)'\n",
    "# qr = r'[一|二|三|四|五|六|七|八|九][.|、|:]'\n",
    "qr = r'^\\d+?[.|、|:](选择题|填空题)'\n",
    "s = '10.选择题'\n",
    "# s = '选择题'\n",
    "# re.findall(qr,s)\n",
    "# re.match(qr,s).group(1)\n",
    "\n",
    "qr = r'^([一|二|三|四|五|六|七|八|九|十|零][.|、|:|\\(]+)'\n",
    "s = '零、试题开始'\n",
    "re.match(qr,s).group(1)"
   ]
  },
  {
   "cell_type": "code",
   "execution_count": 76,
   "metadata": {
    "ExecuteTime": {
     "end_time": "2020-10-22T07:47:30.527863Z",
     "start_time": "2020-10-22T07:47:30.513873Z"
    }
   },
   "outputs": [
    {
     "data": {
      "text/plain": [
       "'(①'"
      ]
     },
     "execution_count": 76,
     "metadata": {},
     "output_type": "execute_result"
    }
   ],
   "source": [
    "# https://blog.csdn.net/jk775800/article/details/90236812?utm_medium=distribute.pc_aggpage_search_result.none-task-blog-2~all~first_rank_v2~rank_v25-4-90236812.nonecase&utm_term=python%E6%AD%A3%E5%88%99%E4%B8%8D%E8%83%BD%E5%87%BA%E7%8E%B0%E6%9F%90%E5%AD%97%E7%AC%A6&spm=1000.2123.3001.4430\n",
    "\n",
    "# 暂没有解决, 需解决第一个字符是①,但后面不包括①这种方式\n",
    "import re\n",
    "qr = r'^([(][①②③④⑤])((?!①|②|③|④|⑤).)*$'\n",
    "# qr = r'^[①②③④⑤]'\n",
    "# qr = r'^([(]?[①②③④⑤])((?!①|②|③|④|⑤).)*$'\n",
    "s = '(①构思或选材新颖，见解独特，有个性'\n",
    "# re.match(qr,s).group()[0]\n",
    "re.match(qr,s).group(1)\n",
    "\n"
   ]
  },
  {
   "cell_type": "code",
   "execution_count": 58,
   "metadata": {
    "ExecuteTime": {
     "end_time": "2020-10-22T07:35:10.725298Z",
     "start_time": "2020-10-22T07:35:10.716303Z"
    }
   },
   "outputs": [
    {
     "data": {
      "text/plain": [
       "['\\nA.困于心苛政猛于虎也\\nB.苦其心志帝感其诚\\nC.出则无敌国外患者肉食者谋之\\nD.舜发于畎亩之中何陋之有']"
      ]
     },
     "execution_count": 58,
     "metadata": {},
     "output_type": "execute_result"
    }
   ],
   "source": [
    "import re\n",
    "qr = r'[\\n]A[\\.|\\)]?.*B[\\.|\\)]?.*C[\\.|\\)]?.*D[\\.|\\)]?.*'\n",
    "s = '19.选出下列加点字用法相同的-一项:(1分)\\nA.困于心苛政猛于虎也\\nB.苦其心志帝感其诚\\nC.出则无敌国外患者肉食者谋之\\nD.舜发于畎亩之中何陋之有'\n",
    "re.findall(qr,s,re.S)"
   ]
  },
  {
   "cell_type": "code",
   "execution_count": 65,
   "metadata": {
    "ExecuteTime": {
     "end_time": "2020-10-26T02:35:44.769270Z",
     "start_time": "2020-10-26T02:35:44.758297Z"
    }
   },
   "outputs": [
    {
     "name": "stdout",
     "output_type": "stream",
     "text": [
      "\n",
      "\n",
      "AT8\n",
      "B.9\n",
      "C.10\n",
      "D.11\n"
     ]
    },
    {
     "data": {
      "text/plain": [
       "[('B.', '9'), ('C.', '10'), ('D.', '11')]"
      ]
     },
     "execution_count": 65,
     "metadata": {},
     "output_type": "execute_result"
    }
   ],
   "source": [
    "import re\n",
    "s = '\\nAT8B.9C.10D.11'\n",
    "def add_empty(x):\n",
    "    tmp = x.group()\n",
    "    return f'\\n{tmp}'\n",
    "s = re.sub(r'[A-G].',add_empty,s)\n",
    "print(s)\n",
    "qr = r'([A-G].)(\\S+)'\n",
    "re.findall(qr,s)"
   ]
  },
  {
   "cell_type": "code",
   "execution_count": null,
   "metadata": {},
   "outputs": [],
   "source": []
  },
  {
   "cell_type": "code",
   "execution_count": null,
   "metadata": {},
   "outputs": [],
   "source": []
  }
 ],
 "metadata": {
  "kernelspec": {
   "display_name": "Python 3",
   "language": "python",
   "name": "python3"
  },
  "language_info": {
   "codemirror_mode": {
    "name": "ipython",
    "version": 3
   },
   "file_extension": ".py",
   "mimetype": "text/x-python",
   "name": "python",
   "nbconvert_exporter": "python",
   "pygments_lexer": "ipython3",
   "version": "3.7.4"
  },
  "varInspector": {
   "cols": {
    "lenName": 16,
    "lenType": 16,
    "lenVar": 40
   },
   "kernels_config": {
    "python": {
     "delete_cmd_postfix": "",
     "delete_cmd_prefix": "del ",
     "library": "var_list.py",
     "varRefreshCmd": "print(var_dic_list())"
    },
    "r": {
     "delete_cmd_postfix": ") ",
     "delete_cmd_prefix": "rm(",
     "library": "var_list.r",
     "varRefreshCmd": "cat(var_dic_list()) "
    }
   },
   "types_to_exclude": [
    "module",
    "function",
    "builtin_function_or_method",
    "instance",
    "_Feature"
   ],
   "window_display": false
  }
 },
 "nbformat": 4,
 "nbformat_minor": 2
}
