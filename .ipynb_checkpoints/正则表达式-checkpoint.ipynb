{
 "cells": [
  {
   "cell_type": "raw",
   "metadata": {},
   "source": [
    "\n",
    "\n",
    "1、https://www.baidu.com/link?url=UTX32dGiIoct3adNrP_O4rOxAWNfQS5J7_yF8DnkXpD0NqW08MJAijcZFGgNf0wPn9OyynEe5pd9PmLAQO69Rq&wd=&eqid=bcb6e520000024af000000065f82d02a\n",
    "2、https://blog.csdn.net/weixin_40907382/article/details/79654372"
   ]
  },
  {
   "cell_type": "code",
   "execution_count": 79,
   "metadata": {
    "ExecuteTime": {
     "end_time": "2020-10-12T01:57:05.706753Z",
     "start_time": "2020-10-12T01:57:05.696738Z"
    }
   },
   "outputs": [
    {
     "name": "stdout",
     "output_type": "stream",
     "text": [
      "[<re.Match object; span=(4, 8), match='[答案]'>, <re.Match object; span=(47, 51), match='[解析]'>, <re.Match object; span=(73, 77), match='[点评]'>]\n"
     ]
    }
   ],
   "source": [
    "import re\n",
    "\n",
    "s = '17. [答案](1)2x+y+2=0;(2)$${\\\\quad\\\\frac{5}{3}.}$$\\n[解析](1)求得\\n两直线的交点为p(-2,2), [点评]\\n1234'\n",
    "# s = s.replace('\\n','$$n$$')\n",
    "# qr = r'([\\[]?(?:答案|解析|点评|知识点)[:|\\)|\\]])'\n",
    "qr = r'([\\[]?(?:答案|解析|点评|知识点)[:|\\)|\\]])'\n",
    "# qr = r'答案' , re.S\n",
    "re.findall(qr,s,re.S)\n",
    "# re.search(qr,s,re.S)\n",
    "# re.findall(qr,s)\n",
    "z = list(re.finditer(qr,s))\n",
    "print(z)\n",
    "# re.split(qr,s)"
   ]
  },
  {
   "cell_type": "code",
   "execution_count": 82,
   "metadata": {
    "ExecuteTime": {
     "end_time": "2020-10-12T02:50:32.723125Z",
     "start_time": "2020-10-12T02:50:32.716121Z"
    }
   },
   "outputs": [
    {
     "data": {
      "text/plain": [
       "['(1)', '(2)']"
      ]
     },
     "execution_count": 82,
     "metadata": {},
     "output_type": "execute_result"
    }
   ],
   "source": [
    "import re\n",
    "s = '(1)2x+y+2=0;(2)中\\n$${\\\\quad\\\\frac{5}{3}.}$$'\n",
    "qr = r'^[(]?[1-9]?\\d[)]{1}'\n",
    "qr = qr.replace('^','')\n",
    "re.findall(qr,s)"
   ]
  },
  {
   "cell_type": "code",
   "execution_count": 100,
   "metadata": {
    "ExecuteTime": {
     "end_time": "2020-10-12T03:57:47.949355Z",
     "start_time": "2020-10-12T03:57:47.941341Z"
    }
   },
   "outputs": [
    {
     "data": {
      "text/plain": [
       "<callable_iterator at 0x1cfd692de48>"
      ]
     },
     "execution_count": 100,
     "metadata": {},
     "output_type": "execute_result"
    }
   ],
   "source": [
    "import re\n",
    "s = '(1)求直线l的A=2B方程;\\nA$${\\\\quadx+y-2=0}$$B.x-y+2=0\\nC.$${\\\\quadx+y-3=0}$$\\nD$${\\\\quadx-y+3=0}$$'\n",
    "qr = r'[\\n]B[\\.|\\)]?.*B[\\.|\\)]?.*C[\\.|\\)]?.*D[\\.|\\)]?.*'\n",
    "re.finditer(qr,s,re.S)"
   ]
  },
  {
   "cell_type": "code",
   "execution_count": null,
   "metadata": {},
   "outputs": [],
   "source": []
  },
  {
   "cell_type": "code",
   "execution_count": null,
   "metadata": {},
   "outputs": [],
   "source": []
  },
  {
   "cell_type": "code",
   "execution_count": null,
   "metadata": {},
   "outputs": [],
   "source": []
  }
 ],
 "metadata": {
  "kernelspec": {
   "display_name": "Python 3",
   "language": "python",
   "name": "python3"
  },
  "language_info": {
   "codemirror_mode": {
    "name": "ipython",
    "version": 3
   },
   "file_extension": ".py",
   "mimetype": "text/x-python",
   "name": "python",
   "nbconvert_exporter": "python",
   "pygments_lexer": "ipython3",
   "version": "3.7.4"
  },
  "varInspector": {
   "cols": {
    "lenName": 16,
    "lenType": 16,
    "lenVar": 40
   },
   "kernels_config": {
    "python": {
     "delete_cmd_postfix": "",
     "delete_cmd_prefix": "del ",
     "library": "var_list.py",
     "varRefreshCmd": "print(var_dic_list())"
    },
    "r": {
     "delete_cmd_postfix": ") ",
     "delete_cmd_prefix": "rm(",
     "library": "var_list.r",
     "varRefreshCmd": "cat(var_dic_list()) "
    }
   },
   "types_to_exclude": [
    "module",
    "function",
    "builtin_function_or_method",
    "instance",
    "_Feature"
   ],
   "window_display": false
  }
 },
 "nbformat": 4,
 "nbformat_minor": 2
}
