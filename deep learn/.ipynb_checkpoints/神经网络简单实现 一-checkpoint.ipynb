{
 "cells": [
  {
   "cell_type": "raw",
   "metadata": {},
   "source": [
    "\n",
    "1、https://blog.csdn.net/kun_csdn/article/details/88853907\n",
    "2、https://blog.csdn.net/net_wolf_007/article/details/52055718\n",
    "3、https://blog.csdn.net/clayanddev/article/details/53955544 ！\n",
    "4、http://www.wildml.com/2015/09/implementing-a-neural-network-from-scratch/ ！！！！！！！！！！！！！！！！！"
   ]
  },
  {
   "cell_type": "markdown",
   "metadata": {},
   "source": [
    "# 实例一"
   ]
  },
  {
   "cell_type": "code",
   "execution_count": 3,
   "metadata": {
    "ExecuteTime": {
     "end_time": "2020-06-01T04:04:40.392734Z",
     "start_time": "2020-06-01T04:04:36.691751Z"
    }
   },
   "outputs": [
    {
     "ename": "AttributeError",
     "evalue": "module 'sklearn' has no attribute 'datasets'",
     "output_type": "error",
     "traceback": [
      "\u001b[1;31m---------------------------------------------------------------------------\u001b[0m",
      "\u001b[1;31mAttributeError\u001b[0m                            Traceback (most recent call last)",
      "\u001b[1;32m<ipython-input-3-b453870179b1>\u001b[0m in \u001b[0;36m<module>\u001b[1;34m\u001b[0m\n\u001b[0;32m      7\u001b[0m \u001b[1;33m\u001b[0m\u001b[0m\n\u001b[0;32m      8\u001b[0m \u001b[0mnp\u001b[0m\u001b[1;33m.\u001b[0m\u001b[0mrandom\u001b[0m\u001b[1;33m.\u001b[0m\u001b[0mseed\u001b[0m\u001b[1;33m(\u001b[0m\u001b[1;36m0\u001b[0m\u001b[1;33m)\u001b[0m\u001b[1;33m\u001b[0m\u001b[1;33m\u001b[0m\u001b[0m\n\u001b[1;32m----> 9\u001b[1;33m \u001b[0mX\u001b[0m\u001b[1;33m,\u001b[0m \u001b[0my\u001b[0m \u001b[1;33m=\u001b[0m \u001b[0msklearn\u001b[0m\u001b[1;33m.\u001b[0m\u001b[0mdatasets\u001b[0m\u001b[1;33m.\u001b[0m\u001b[0mmake_moons\u001b[0m\u001b[1;33m(\u001b[0m\u001b[1;36m200\u001b[0m\u001b[1;33m,\u001b[0m \u001b[0mnoise\u001b[0m\u001b[1;33m=\u001b[0m\u001b[1;36m0.20\u001b[0m\u001b[1;33m)\u001b[0m\u001b[1;33m\u001b[0m\u001b[1;33m\u001b[0m\u001b[0m\n\u001b[0m\u001b[0;32m     10\u001b[0m \u001b[0mplt\u001b[0m\u001b[1;33m.\u001b[0m\u001b[0mscatter\u001b[0m\u001b[1;33m(\u001b[0m\u001b[0mX\u001b[0m\u001b[1;33m[\u001b[0m\u001b[1;33m:\u001b[0m\u001b[1;33m,\u001b[0m\u001b[1;36m0\u001b[0m\u001b[1;33m]\u001b[0m\u001b[1;33m,\u001b[0m \u001b[0mX\u001b[0m\u001b[1;33m[\u001b[0m\u001b[1;33m:\u001b[0m\u001b[1;33m,\u001b[0m\u001b[1;36m1\u001b[0m\u001b[1;33m]\u001b[0m\u001b[1;33m,\u001b[0m \u001b[0ms\u001b[0m\u001b[1;33m=\u001b[0m\u001b[1;36m40\u001b[0m\u001b[1;33m,\u001b[0m \u001b[0mc\u001b[0m\u001b[1;33m=\u001b[0m\u001b[0my\u001b[0m\u001b[1;33m,\u001b[0m \u001b[0mcmap\u001b[0m\u001b[1;33m=\u001b[0m\u001b[0mplt\u001b[0m\u001b[1;33m.\u001b[0m\u001b[0mcm\u001b[0m\u001b[1;33m.\u001b[0m\u001b[0mSpectral\u001b[0m\u001b[1;33m)\u001b[0m\u001b[1;33m\u001b[0m\u001b[1;33m\u001b[0m\u001b[0m\n",
      "\u001b[1;31mAttributeError\u001b[0m: module 'sklearn' has no attribute 'datasets'"
     ]
    }
   ],
   "source": [
    "'''\n",
    "http://www.wildml.com/2015/09/implementing-a-neural-network-from-scratch/\n",
    "'''\n",
    "import numpy as np\n",
    "import sklearn\n",
    "from matplotlib import pyplot as plt \n",
    "\n",
    "np.random.seed(0)\n",
    "X, y = sklearn.datasets.make_moons(200, noise=0.20)\n",
    "plt.scatter(X[:,0], X[:,1], s=40, c=y, cmap=plt.cm.Spectral)\n"
   ]
  },
  {
   "cell_type": "code",
   "execution_count": null,
   "metadata": {},
   "outputs": [],
   "source": []
  },
  {
   "cell_type": "markdown",
   "metadata": {},
   "source": [
    "# 实例二"
   ]
  },
  {
   "cell_type": "code",
   "execution_count": 2,
   "metadata": {
    "ExecuteTime": {
     "end_time": "2020-06-01T01:40:49.414024Z",
     "start_time": "2020-06-01T01:40:49.399030Z"
    }
   },
   "outputs": [],
   "source": [
    "'''\n",
    "在这个神经元里，输入总共经历了3步数学运算，\n",
    "1、先将输入乘以权重（weight）：\n",
    "    x1→x1∗w1\n",
    "    x2→x2∗w2\n",
    "    (x1∗w1)+(x2∗w2)+b\n",
    "2、最后经过激活函数（activation function）处理得到输出：\n",
    "    y=f((x1∗w1)+(x2∗w2)+b)\n",
    "\n",
    "激活函数的作用是将无限制的输入转换为可预测形式的输出， 一种常用的激活函数是sigmoid函数。\n",
    "\n",
    "'''\n",
    "\n",
    "def logistic(x):\n",
    "    return 1 / (1 + np.exp(-x))\n",
    "     \n",
    "def logistic_derivative(x):\n",
    "    return logistic(x) * (1 - logistic(x))\n",
    "\n",
    "class Neuron:\n",
    "    def __init__(self, len_input):\n",
    "        # 输入的初始参数, 随机取很小的值(<0.1)\n",
    "        self.weights = np.random.random(len_input) * 0.1\n",
    "        # 当前实例的输入\n",
    "        self.input = np.ones(len_input)\n",
    "        # 对下一层的输出值\n",
    "        self.output = 1\n",
    "        # 误差项\n",
    "        self.deltas_item = 0\n",
    "        # 上一次权重增加的量，记录起来方便后面扩展时可考虑增加冲量\n",
    "        self.last_weight_add = 0\n",
    "\n",
    "    def calc_output(self, x):\n",
    "        # 计算输出值\n",
    "        self.input = x\n",
    "        self.output = logistic(np.dot(self.weights.T, self.input))\n",
    "        return self.output\n",
    "    \n",
    "    def get_back_weight(self):\n",
    "        # 获取反馈差值\n",
    "        return self.weights * self.deltas_item\n",
    "\n",
    "    def update_weight(self, target=0, back_weight=0, learning_rate=0.1, layer=\"OUTPUT\"):\n",
    "        # 更新权传\n",
    "        if layer == \"OUTPUT\":\n",
    "            self.deltas_item = (target - self.output) * logistic_derivative(self.output)\n",
    "        elif layer == \"HIDDEN\":\n",
    "            self.deltas_item = back_weight * logistic_derivative(self.output)\n",
    "        \n",
    "        weight_add = self.input * self.deltas_item * learning_rate + 0.9 * self.last_weight_add#添加冲量\n",
    "        self.weights += weight_add\n",
    "        self.last_weight_add = weight_add\n",
    "        "
   ]
  },
  {
   "cell_type": "code",
   "execution_count": null,
   "metadata": {},
   "outputs": [],
   "source": []
  }
 ],
 "metadata": {
  "kernelspec": {
   "display_name": "Python 3",
   "language": "python",
   "name": "python3"
  },
  "language_info": {
   "codemirror_mode": {
    "name": "ipython",
    "version": 3
   },
   "file_extension": ".py",
   "mimetype": "text/x-python",
   "name": "python",
   "nbconvert_exporter": "python",
   "pygments_lexer": "ipython3",
   "version": "3.7.4"
  },
  "varInspector": {
   "cols": {
    "lenName": 16,
    "lenType": 16,
    "lenVar": 40
   },
   "kernels_config": {
    "python": {
     "delete_cmd_postfix": "",
     "delete_cmd_prefix": "del ",
     "library": "var_list.py",
     "varRefreshCmd": "print(var_dic_list())"
    },
    "r": {
     "delete_cmd_postfix": ") ",
     "delete_cmd_prefix": "rm(",
     "library": "var_list.r",
     "varRefreshCmd": "cat(var_dic_list()) "
    }
   },
   "types_to_exclude": [
    "module",
    "function",
    "builtin_function_or_method",
    "instance",
    "_Feature"
   ],
   "window_display": false
  }
 },
 "nbformat": 4,
 "nbformat_minor": 2
}
