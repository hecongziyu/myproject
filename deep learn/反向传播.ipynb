{
 "cells": [
  {
   "cell_type": "raw",
   "metadata": {},
   "source": [
    "\n",
    "\n",
    "1、https://cs231n.github.io/optimization-2/   ！！！\n",
    "2、https://colah.github.io/posts/2015-08-Backprop/ !!!!\n",
    "3、https://blog.csdn.net/slx_share/article/details/80236070  神经网络反向传播及python实现\n",
    "5、https://blog.csdn.net/qq_29762941/article/details/80343185 \n",
    "8、https://blog.csdn.net/programmer_wei/article/details/51941358 梯度下降原理及Python实现  ！！！！！！！！\n",
    "9、https://baijiahao.baidu.com/s?id=1612925424330804001&wfr=spider&for=pc 梯度下降——通向神经网络的必经之路\n",
    "10、 https://www.cnblogs.com/noluye/p/11108513.html   Python 实现简单的梯度下降法 ！！！！！！！！ （在机器学习中这常常是一个损失函数。不管怎么称呼，它就是一个函数 f(x)，而梯度下降法的目的就是获取这个函数的极小值。）  ！！！！！！！！！！！\n",
    "11、https://www.zhihu.com/question/36301367  如何直观形象的理解方向导数与梯度以及它们之间的关系？\n",
    "12、https://blog.csdn.net/chuiyuqiong7534/article/details/101022055  梯度"
   ]
  },
  {
   "cell_type": "markdown",
   "metadata": {
    "heading_collapsed": true
   },
   "source": [
    "# 实例一"
   ]
  },
  {
   "cell_type": "code",
   "execution_count": null,
   "metadata": {
    "hidden": true
   },
   "outputs": [],
   "source": [
    "'''\n",
    "https://blog.csdn.net/programmer_wei/article/details/51941358\n",
    "\n",
    "梯度是从 n 维推广出来的概念，类似于斜率。梯度的本意是一个向量，表示某一函数在该点处的方向导数沿着该方向取得最大值，即函数在该点处沿着该\n",
    "方向（此梯度的方向）变化最快，变化率最大（为该梯度的模）。\n",
    "\n",
    "Python来实现一个梯度下降算法\n",
    "求解:   y=2x1+x2+3\n",
    "也就是求解: y=ax1+bx2+c  中的a，b，c三个参数 。\n",
    "'''\n",
    "import numpy as np\n",
    "import matplotlib.pyplot as plt\n",
    "#y=2 * (x1) + (x2) + 3 \n",
    "rate = 0.001\n",
    "x_train = np.array([    [1, 2],    [2, 1],    [2, 3],    [3, 5],    [1, 3],    [4, 2],    [7, 3],    [4, 5],    [11, 3],    [8, 7]    ])\n",
    "y_train = np.array([7, 8, 10, 14, 8, 13, 20, 16, 28, 26])\n",
    "x_test  = np.array([    [1, 4],    [2, 2],    [2, 5],    [5, 3],    [1, 5],    [4, 1]    ])\n",
    "\n",
    "a = np.random.normal()\n",
    "b = np.random.normal()\n",
    "c = np.random.normal()\n",
    "\n",
    "def h(x):\n",
    "    return a*x[0]+b*x[1]+c\n",
    "\n",
    "for i in range(10000):\n",
    "    sum_a=0\n",
    "    sum_b=0\n",
    "    sum_c=0\n",
    "    for x, y in zip(x_train, y_train):\n",
    "        sum_a = sum_a + rate*(y-h(x))*x[0]\n",
    "        sum_b = sum_b + rate*(y-h(x))*x[1]\n",
    "        sum_c = sum_c + rate*(y-h(x))\n",
    "    a = a + sum_a\n",
    "    b = b + sum_b\n",
    "    c = c + sum_c\n",
    "    plt.plot([h(xi) for xi in x_test])\n",
    "\n",
    "print(a)\n",
    "print(b)\n",
    "print(c)\n",
    "\n",
    "result=[h(xi) for xi in x_train]\n",
    "print(result)\n",
    "\n",
    "result=[h(xi) for xi in x_test]\n",
    "print(result)\n",
    "\n",
    "plt.show()\n",
    "\n"
   ]
  },
  {
   "cell_type": "markdown",
   "metadata": {},
   "source": [
    "# 实例二"
   ]
  },
  {
   "cell_type": "code",
   "execution_count": null,
   "metadata": {},
   "outputs": [],
   "source": [
    "'''\n",
    "https://www.cnblogs.com/noluye/p/11108513.html\n",
    "'''"
   ]
  }
 ],
 "metadata": {
  "kernelspec": {
   "display_name": "Python 3",
   "language": "python",
   "name": "python3"
  },
  "language_info": {
   "codemirror_mode": {
    "name": "ipython",
    "version": 3
   },
   "file_extension": ".py",
   "mimetype": "text/x-python",
   "name": "python",
   "nbconvert_exporter": "python",
   "pygments_lexer": "ipython3",
   "version": "3.7.4"
  },
  "varInspector": {
   "cols": {
    "lenName": 16,
    "lenType": 16,
    "lenVar": 40
   },
   "kernels_config": {
    "python": {
     "delete_cmd_postfix": "",
     "delete_cmd_prefix": "del ",
     "library": "var_list.py",
     "varRefreshCmd": "print(var_dic_list())"
    },
    "r": {
     "delete_cmd_postfix": ") ",
     "delete_cmd_prefix": "rm(",
     "library": "var_list.r",
     "varRefreshCmd": "cat(var_dic_list()) "
    }
   },
   "types_to_exclude": [
    "module",
    "function",
    "builtin_function_or_method",
    "instance",
    "_Feature"
   ],
   "window_display": false
  }
 },
 "nbformat": 4,
 "nbformat_minor": 2
}
