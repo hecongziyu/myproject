{
 "cells": [
  {
   "cell_type": "markdown",
   "metadata": {},
   "source": [
    "# 求排列组合数"
   ]
  },
  {
   "cell_type": "code",
   "execution_count": 4,
   "metadata": {},
   "outputs": [
    {
     "name": "stdout",
     "output_type": "stream",
     "text": [
      "12.0\n",
      "635013559600.0\n"
     ]
    }
   ],
   "source": [
    "from scipy.special import comb, perm\n",
    "print(perm(4,2))\n",
    "print(comb(52,13))\n",
    "\n",
    "# 调用 itertools 获取排列组合的全部情况数\n",
    "from itertools import combinations, permutations\n",
    "list(permutations([1, 2, 3], 2))\n",
    "list(combinations([1,2,3,4],2))"
   ]
  },
  {
   "cell_type": "markdown",
   "metadata": {
    "heading_collapsed": true
   },
   "source": [
    "# 导数、偏导数    "
   ]
  },
  {
   "cell_type": "markdown",
   "metadata": {
    "hidden": true
   },
   "source": [
    "    https://blog.csdn.net/Sagittarius_Warrior/article/details/78327327\n",
    "    \n",
    "    导数和偏导没有本质区别,都是当自变量的变化量趋于0时，函数值的变化量与自变量变化量比值的极限。一元函数，一个y对应一个x，导数只有一个。二元函数，一个z对应一个x和一个y，那就有两个导数了，一个是z对x的导数，一个是z对y的导数,称之为偏导。\n",
    "    导数，是对含有一个自变量的函数进行求导。偏导数，是对含有两个自变量的函数中的一个自变量求导。\n",
    "    \n",
    "    几何意义：\n",
    "    导数：函数y=f（x）在x0点的导数f'（x0）的几何意义：表示函数曲线在点P0（x0,f（x0））处的切线的斜率（导数的几何意义是该函数曲线在这一点上的切线斜率）。\n",
    "    偏导数 f'x(x0,y0) 表示固定面上一点对 x 轴的切线斜率；偏导数 f'y(x0,y0) 表示固定面上一点对 y 轴的切线斜率。\n",
    "    高阶偏导数：如果二元函数 z=f(x,y) 的偏导数 f'x(x,y) 与 f'y(x,y) 仍然可导，那么这两个偏导函数的偏导数称为 z=f(x,y) 的二阶偏导数。二元函数的二阶偏导数有四个：f\"xx，f\"xy，f\"yx，f\"yy。\n",
    "\n",
    "    \n",
    "    1、偏导数工具 sympy"
   ]
  },
  {
   "cell_type": "code",
   "execution_count": 4,
   "metadata": {
    "hidden": true
   },
   "outputs": [
    {
     "data": {
      "image/png": "[encoded data removed]",
      "text/latex": [
       "$$\\left ( \\sin{\\left (x y \\right )}, \\quad - x \\left(x y \\cos{\\left (x y \\right )} + 2 \\sin{\\left (x y \\right )}\\right)\\right )$$"
      ],
      "text/plain": [
       "(sin(x⋅y), -x⋅(x⋅y⋅cos(x⋅y) + 2⋅sin(x⋅y)))"
      ]
     },
     "execution_count": 4,
     "metadata": {},
     "output_type": "execute_result"
    }
   ],
   "source": [
    "# z=sin(xy),∂z3/∂x∂y2=?     ??????\n",
    "from sympy import *\n",
    "init_printing()\n",
    "x,y = symbols('x y')\n",
    "f,g = symbols('f g', cls=Function)\n",
    "f = sin(x * y)\n",
    "f, f.diff(x, y, y)"
   ]
  },
  {
   "cell_type": "markdown",
   "metadata": {
    "heading_collapsed": true
   },
   "source": [
    "# 矩阵、向量"
   ]
  },
  {
   "cell_type": "markdown",
   "metadata": {
    "heading_collapsed": true
   },
   "source": [
    "# 概率和概率分布"
   ]
  },
  {
   "cell_type": "markdown",
   "metadata": {
    "hidden": true
   },
   "source": [
    "    http://python.jobbole.com/81321/  如何在Python中实现这五类强大的概率分布"
   ]
  },
  {
   "cell_type": "code",
   "execution_count": 14,
   "metadata": {
    "hidden": true
   },
   "outputs": [],
   "source": [
    "import scipy.stats as stats\n",
    "import numpy as np\n",
    "# 一、 二项分布    https://blog.csdn.net/huangjx36/article/details/77990392\n",
    "#  https://wiki.mbalib.com/wiki/%E4%BA%8C%E9%A1%B9%E5%88%86%E5%B8%83  二项分布\n",
    "# https://jingyan.baidu.com/article/0a52e3f4000a06bf63ed726e.html\n",
    "# 在概率论和统计学里面，带有参数n和p的二项分布表示的是n次独立试验的成功次数的概率分布。在每次独立试验中只有取\n",
    "# 两个值，表示成功的值的概率为p，那么表示试验不成功的概率为1-p。这样一种判断成功和失败的二值试验又叫做伯努利试验。\n",
    "# 特殊地，当n=1的时候，我们把二项分布称为伯努利分布。\n",
    "\n",
    "# 二项分布的例子：抛掷10次硬币，恰好两次正面朝上的概率是多少？\n",
    "# 假设在该试验中正面朝上的概率为0.3，这意味着平均来说，我们可以期待有3次是硬币正面朝\n",
    "# 上的。我定义掷硬币的所有可能结果为k = np.arange(0,11)：你可能观测到0次正面朝上、1次正面朝上，一直到\n",
    "# 10次正面朝上。我使用stats.binom.pmf计算每次观测的概率质量函数。它返回一个含有11个元素的列表（list），这些\n",
    "# 元素表示与每个观测相关联的概率值。记为C(k,n)，是从n个不同元素中取出x个组合数\n",
    "n = 10\n",
    "p = 0.3\n",
    "k = np.arange(0,11)\n",
    "binoms = stats.binom.pmf(k,n,p)\n",
    "# binoms\n"
   ]
  },
  {
   "cell_type": "code",
   "execution_count": 15,
   "metadata": {
    "hidden": true
   },
   "outputs": [],
   "source": [
    "import scipy.stats as stats\n",
    "import numpy as np\n",
    "# 二、泊松分布（Poisson Distribution）  https://blog.csdn.net/ccnt_2012/article/details/81114920  如何通俗理解泊松分布\n",
    "# 泊松分布的参数λ是单位时间(或单位面积)内随机事件的平均发生次数。 泊松分布适合于描述单位时间内随机事件发生的次数。\n",
    "# 当二项分布的n很大而p很小时，泊松分布可作为二项分布的近似，其中λ为np。通常当n≧20,p≦0.05时，就可以用泊松公式近似得计算。\n",
    "\n",
    "# 泊松分布的例子：已知某路口发生事故的比率是每天2次，那么在此处一天内发生4次事故的概率是多少？\n",
    "# 让我们考虑这个平均每天发生2起事故的例子。泊松分布的实现和二项分布有些类似，在泊松分布中我们需要指定比率参数。泊松分布的输出\n",
    "# 是一个数列，包含了发生0次、1次、2次，直到10次事故的概率。\n",
    "rate = 2\n",
    "n = np.arange(0,10)\n",
    "y = stats.poisson.pmf(n,rate)\n",
    "# print(y)"
   ]
  },
  {
   "cell_type": "code",
   "execution_count": 13,
   "metadata": {
    "hidden": true
   },
   "outputs": [],
   "source": [
    "import scipy.stats as stats\n",
    "import numpy as np\n",
    "# 三、正态分布（Normal Distribution）\n",
    "# 正态分布是一种连续分布，其函数可以在实线上的任何地方取值。正态分布由两个参数描述：分布的平均值μ和方差σ2 。\n",
    "mu = 0 # mean\n",
    "sigma = 1 # 方差\n",
    "x = np.arange(-5,5,0.1)\n",
    "y = stats.norm.pdf(x,mu,sigma)\n",
    "# print(y)"
   ]
  },
  {
   "cell_type": "code",
   "execution_count": 16,
   "metadata": {
    "hidden": true
   },
   "outputs": [],
   "source": [
    "import scipy.stats as stats\n",
    "import numpy as np\n",
    "# 四、β分布（Beta Distribution）  \n",
    "# https://baijiahao.baidu.com/s?id=1580447203705059178&wfr=spider&for=pc  五分钟概率论-Beta 分布\n",
    "# https://blog.csdn.net/a358463121/article/details/52562940 带你理解beta分布\n",
    "# β分布是一个取值在 [0, 1] 之间的连续分布，它由两个形态参数α和β的取值所刻画\n",
    "# 其中 B(a,b) 是标准化函数，他的作用是使总概率为1，a 和 b 是形状参数，不同的参数选择不但可以表示常见\n",
    "#  的二项分布，几何分布等，它更有一个好处，那就是你跟本不用去管某个试验服从什么分布。用形状参数 a,b 可\n",
    "# 以调出任意你想使用的分布图像。β分布的形状取决于α和β的值。贝叶斯分析中大量使用了β分布\n",
    "a = 0.5\n",
    "b = 0.5\n",
    "x = np.arange(0.1,1,0.1)\n",
    "y = stats.beta.pdf(x,a,b)"
   ]
  },
  {
   "cell_type": "code",
   "execution_count": null,
   "metadata": {
    "hidden": true
   },
   "outputs": [],
   "source": [
    "import scipy.stats as stats\n",
    "import numpy as np\n",
    "# 五、指数分布（Exponential Distribution） https://www.imooc.com/article/details/id/29670 泊松分布和指数分布：通俗易懂\n",
    "# 指数分布是一种连续概率分布，用于表示独立随机事件发生的时间间隔。比如旅客进入机场的时间间隔、打进客服中心电话的时间间隔、中文维\n",
    "# 基百科新条目出现的时间间隔等等。\n",
    "# 举个例子吧，假设我平均每三天去超市一次，服从指数分布。\n",
    "# 那么我平均每天去超市1/3次。 λ就表示平均每单位时间发生该事件的次数，是指数函数的分布参数。此处的λ=1/3。\n",
    "# 那么，指数分布概率分布是解决什么问题呢。\n",
    "# 我今天去了超市，那么\n",
    "# 我隔了1天没有去超市的概率，根据指数分布可以算出0.7165，隔了1天就又去了超市的概率，根据指数分布可以算出0.2835；\n",
    "# 我隔了2天没有去超市的概率，根据指数分布可以算出0.5134，我在2天内去了超市的概率，根据指数分布可以算出0.4866；"
   ]
  },
  {
   "cell_type": "markdown",
   "metadata": {
    "heading_collapsed": true
   },
   "source": [
    "# 点估计、拉普拉斯近似、矩阵逆、协方差"
   ]
  },
  {
   "cell_type": "markdown",
   "metadata": {
    "heading_collapsed": true
   },
   "source": [
    "# 贝叶斯法则"
   ]
  },
  {
   "cell_type": "markdown",
   "metadata": {
    "hidden": true
   },
   "source": [
    "    http://python.jobbole.com/81720/ 以 Python 为实例，介绍贝叶斯理论\n",
    "    https://baike.baidu.com/item/%E4%BC%BD%E7%8E%9B%E5%87%BD%E6%95%B0/3540177?fr=aladdin 伽玛函数\n",
    "    https://baike.baidu.com/item/%E8%B4%9D%E5%8F%B6%E6%96%AF%E6%B3%95%E5%88%99/8541594?fr=aladdin\n",
    "    \n",
    "    http://python.jobbole.com/88318/?utm_source=blog.jobbole.com&utm_medium=relatedPosts 不识贝叶斯，虽知数据也枉然\n",
    "    \n",
    "    http://python.jobbole.com/85954/?utm_source=blog.jobbole.com&utm_medium=relatedPosts 用 Python 进行贝叶斯模型建模\n",
    "    \n",
    "    https://www.zhihu.com/question/19725590/answer/217025594\n",
    "    \n",
    "    贝叶斯法则（Bayes'theorem/Bayes theorem/Bayesian law） 贝叶斯的统计学中有一个基本的工具叫“贝叶斯法则”， 尽管它是一个数学公式，但其原理毋需数字也可明了。如果看到一个人总是做一些好事，则那个人多半会是一个好人。这就是说，当不能准确知悉一个事物的本质时，可以依靠与事物特定本质相关的事件出现的多少去判断其本质属性的概率。 用数学语言表达就是：支持某项属性的事件发生得愈多，则该属性成立的可能性就愈大。通常，事件A在事件B(发生)的条件下的概率，与事件B在事件A的条件下的概率是不一样的；然而，这两者是有确定的关系,贝叶斯法则就是这种关系的陈述。\n",
    "    \n",
    "    P（B） 为先验概率，即在得到新数据前某一假设的概率；\n",
    "    P（B|A） 为后验概率，即在观察到新数据后计算该假设的概率；\n",
    "    P（A|B）为似然度，即在该假设下得到这一数据的概率；\n",
    "    P（A）为标准化常量，即在任何假设下得到这一数据的概率。\n",
    "    \n",
    "    按这些术语，Bayes法则可表述为：\n",
    "        后验概率 = (相似度 * 先验概率)/标准化常量\n",
    "        也就是说，后验概率与先验概率和相似度的乘积成正比。    \n",
    "        \n",
    "        P94"
   ]
  },
  {
   "cell_type": "markdown",
   "metadata": {
    "heading_collapsed": true
   },
   "source": [
    "# 贝叶斯推理"
   ]
  },
  {
   "cell_type": "markdown",
   "metadata": {
    "hidden": true
   },
   "source": [
    "    https://www.cnblogs.com/hxsyl/p/4876465.html 浅谈贝叶斯推断    重点看一下"
   ]
  },
  {
   "cell_type": "markdown",
   "metadata": {
    "hidden": true
   },
   "source": [
    " 测试题一 来源 ：https://www.cnblogs.com/hxsyl/p/4876465.html 、 \n",
    " 两个一模一样的碗，一号碗有30颗水果糖和10颗巧克力糖，二号碗有水果糖和巧克力糖各20颗。现在随机选择一个碗，从中摸出一颗糖，\n",
    " 发现是水果糖。请问这颗水果糖来自一号碗的概率有多大？\n",
    " \n",
    " P(A) = 一号   P(B) = 二号  P(C) = 水果   P(D) = 巧克力\n",
    " P(A|C) = P(A) * P(C/A) / P(C) \n",
    " P(A) = 0.5, P(C/A) = 30/40\n",
    " P(C) = 30 + 20 / 40 + 40 \n",
    " P(A|C) = (0.5 * 3/4 ) * 8/5 = 0.5 * 3 * 2 / 5 = 0.6"
   ]
  },
  {
   "cell_type": "markdown",
   "metadata": {
    "hidden": true
   },
   "source": [
    " 测试题二 来源 ：https://www.cnblogs.com/hxsyl/p/4876465.html 、 \n",
    " 已知某种疾病的发病率是0.001，即1000人中会有1个人得病。现有一种试剂可以检验患者是否得病，它的准确率是0.99，即在患者确实\n",
    " 得病的情况下，它有99%的可能呈现阳性。它的误报率是5%，即在患者没有得病的情况下，它有5%的可能呈现阳性。现有一个病人的检\n",
    " 验结果为阳性，请问他确实得病的可能性有多大？\n",
    " \n",
    " P(A) = 0.001, P(B) =  (检测阳性） , P(C) = （检测阴性）， P(D) = 生病, P(E) 没有生病\n",
    " P(D|B) = P(B|D) * P(D) /  P(B)\n",
    " P(D) = P(A) = 0.001\n",
    " P(B|D) = 0.99\n",
    " P(B) = P(D) * P(B|D) + P(E) * P(B|E) "
   ]
  },
  {
   "cell_type": "markdown",
   "metadata": {
    "hidden": true
   },
   "source": [
    " 测试题三 来源： P114\n",
    " 玩飞镖游戏, 每人投三支飞镖, 当前需需40分，玩家只剩一支飞镖，他需要投到20分的双倍区才能赢，那么玩家赢的概率是多少？\n",
    " \n",
    "  P(y) = 投到20分区概率， P(y|r) = 投中位置概率， P(r) = 玩家技术\n",
    "  \n",
    "  T = f(y) , 如果y在区域内，T = 1,否则 T = 0， 转为求 P(T=1|x)  二值化问题\n",
    "  \n",
    "  P(T=1|x) = 积分f(y)P(y|x)dx   近似于 求 N次f(y)的平均值。 因此需从P(y|x)进行采样\n",
    "  \n",
    "  关于抽样  P115, 抽样注意即抽样的概率密度分布情况      ???? 没看懂\n",
    "  \n",
    "  \n",
    "  \n",
    "  \n",
    "  \n",
    "  \n",
    "  \n",
    "  \n",
    "  \n",
    "  "
   ]
  },
  {
   "cell_type": "code",
   "execution_count": null,
   "metadata": {
    "hidden": true
   },
   "outputs": [],
   "source": [
    " P105  重点再看一下"
   ]
  },
  {
   "cell_type": "markdown",
   "metadata": {
    "heading_collapsed": true
   },
   "source": [
    "# 贝叶斯分类器"
   ]
  },
  {
   "cell_type": "code",
   "execution_count": 2,
   "metadata": {
    "code_folding": [
     8,
     12,
     17,
     23
    ],
    "hidden": true
   },
   "outputs": [],
   "source": [
    "# https://blog.csdn.net/qq_25948717/article/details/81744277\n",
    "#    P124\n",
    "#    实例：\n",
    "#    水果分类。P(T=C|x1,x2,x3...xn) C = 水果类别， x1..xn= 水果的属性概率  X(n) 表示属于某类时的属性  X = {x1,x2 .. xn}\n",
    "#    P(C)  各种水果的先验概率   P(C|X(n), ) = P(X(n)|C) * P(C)  /  P(X(n))   注意要求： P(C|X(n)) >= 0 AND <=1,  且SUM（P(C|X(n))) =1 \n",
    "#    P(Xn) ?    \n",
    "\n",
    "？？？ \n",
    "\n",
    "####训练数据集---->合适参数\n",
    "datasets = {'banala':{'long':400,'not_long':100,'sweet':350,'not_sweet':150,'yellow':450,'not_yellow':50},\n",
    "            'orange':{'long':0,'not_long':300,'sweet':150,'not_sweet':150,'yellow':300,'not_yellow':0},\n",
    "            'other_fruit':{'long':100,'not_long':100,'sweet':150,'not_sweet':50,'yellow':50,'not_yellow':150}\n",
    "}\n",
    "def count_total(data):\n",
    "    '''计算各种水果的总数\n",
    "    return {‘banala’:500 ...}'''\n",
    "    count = {}\n",
    "    total = 0\n",
    "    for fruit in data:\n",
    "        '''因为水果要么甜要么不甜，可以用 这两种特征来统计总数'''\n",
    "        count[fruit] = data[fruit]['sweet'] + data[fruit]['not_sweet']\n",
    "        total += count[fruit]\n",
    "    return count,total\n",
    "\n",
    "def likelihold_prob(data):\n",
    "    '''计算各个特征值在已知水果下的概率（likelihood probabilities）\n",
    "    {'banala':{'long':0.8}...}'''\n",
    "    count,_ = count_total(data)\n",
    "    likelihold = {}\n",
    "    for fruit in data:\n",
    "        '''创建一个临时的字典，临时存储各个特征值的概率'''\n",
    "        attr_prob = {}\n",
    "        for attr in data[fruit]:\n",
    "            #计算各个特征值在已知水果下的概率\n",
    "            attr_prob[attr] = data[fruit][attr]/count[fruit]\n",
    "        likelihold[fruit] = attr_prob\n",
    "    return likelihold\n",
    "\n",
    "\n"
   ]
  },
  {
   "cell_type": "code",
   "execution_count": 6,
   "metadata": {
    "hidden": true
   },
   "outputs": [
    {
     "name": "stdout",
     "output_type": "stream",
     "text": [
      "高斯朴素贝叶斯，样本总数： 150 错误样本数 : 6\n",
      "多项分布朴素贝叶斯，样本总数： 150 错误样本数 : 7\n",
      "伯努利朴素贝叶斯，样本总数： 150 错误样本数 : 100\n"
     ]
    }
   ],
   "source": [
    "# 朴素贝叶斯分类  p125\n",
    "# https://blog.csdn.net/luanpeng825485697/article/details/78967139 python机器学习库sklearn——朴素贝叶斯分类器     \n",
    "# http://blog.csdn.net/luanpeng825485697/article/details/78769233  文档贝叶斯分类器的相关的知识内容可以参考 \n",
    "# 在scikit-learn中，一共有3个朴素贝叶斯的分类算法类。分别是GaussianNB，MultinomialNB和BernoulliNB。其中GaussianNB就\n",
    "# 是先验为高斯分布的朴素贝叶斯，MultinomialNB就是先验为多项式分布的朴素贝叶斯，而BernoulliNB就是先验为伯努利分布的朴\n",
    "# 素贝叶斯。\n",
    "\n",
    "# 一、高斯分布的朴素贝叶斯 ， 实现了运用于分类的高斯朴素贝叶斯算法。特征的可能性(即概率)假设为高斯分布， 参数σyσy 和 μyμy\n",
    "# 使用最大似然法估计\n",
    "from sklearn import datasets\n",
    "iris = datasets.load_iris()\n",
    "from sklearn.naive_bayes import GaussianNB\n",
    "clf = GaussianNB()\n",
    "clf = clf.fit(iris.data, iris.target)\n",
    "y_pred=clf.predict(iris.data)\n",
    "print(\"高斯朴素贝叶斯，样本总数： %d 错误样本数 : %d\" % (iris.data.shape[0],(iris.target != y_pred).sum()))\n",
    "\n",
    "# 二、多项分布朴素贝叶斯, MultinomialNB 实现了服从多项分布数据的朴素贝叶斯算法，也是用于文本分类(这个领域中数据往往\n",
    "# 以词向量表示，尽管在实践中 tf-idf 向量在预测时表现良好)的两大经典朴素贝叶斯算法之一。 分布参数由每类 y 的 \n",
    "# θy=(θy1,…,θyn)θy=(θy1,…,θyn)向量决定， 式中 n 是特征的数量,(对于文本分类，是词汇量的大小) θyiθyi是样\n",
    "# 本中属于类 y 中特征 i 概率 P(xi∣y)P(xi∣y)。参数 θyθy 使用平滑过的最大似然估计法来估计，即相对频率计数\n",
    "from sklearn import datasets\n",
    "iris = datasets.load_iris()\n",
    "from sklearn.naive_bayes import MultinomialNB\n",
    "clf = MultinomialNB()\n",
    "clf = clf.fit(iris.data, iris.target)\n",
    "y_pred=clf.predict(iris.data)\n",
    "print(\"多项分布朴素贝叶斯，样本总数： %d 错误样本数 : %d\" % (iris.data.shape[0],(iris.target != y_pred).sum()))\n",
    "\n",
    "\n",
    "# 三、伯努利朴素贝叶斯， BernoulliNB 实现了用于多重伯努利分布数据的朴素贝叶斯训练和分类算法，即有多个特征，但每个\n",
    "# 特征 都假设是一个二元 (Bernoulli, boolean) 变量。 因此，这类算法要求样本以二元值特征向量表示；如果样本含有其他类型\n",
    "# 的数据， 一个 BernoulliNB 实例会将其二值化(取决于 binarize 参数)。\n",
    "from sklearn import datasets\n",
    "iris = datasets.load_iris()\n",
    "\n",
    "from sklearn.naive_bayes import BernoulliNB\n",
    "clf = BernoulliNB()\n",
    "clf = clf.fit(iris.data, iris.target)\n",
    "y_pred=clf.predict(iris.data)\n",
    "print(\"伯努利朴素贝叶斯，样本总数： %d 错误样本数 : %d\" % (iris.data.shape[0],(iris.target != y_pred).sum()))\n",
    "\n",
    "# 文档贝叶斯分类器案例  https://blog.csdn.net/luanpeng825485697/article/details/78967139\n",
    "    "
   ]
  },
  {
   "cell_type": "markdown",
   "metadata": {
    "heading_collapsed": true
   },
   "source": [
    "# 逻辑回归   实现 ？？？"
   ]
  },
  {
   "cell_type": "code",
   "execution_count": null,
   "metadata": {
    "hidden": true
   },
   "outputs": [],
   "source": [
    "# P131\n",
    "# https://www.jianshu.com/p/4cfb4f734358  机器学习之逻辑回归(纯python实现)\n",
    "# https://blog.csdn.net/csqazwsxedc/article/details/69690655  逻辑回归原理（python代码实现）\n"
   ]
  },
  {
   "cell_type": "markdown",
   "metadata": {
    "heading_collapsed": true
   },
   "source": [
    "# 非概率分类器"
   ]
  },
  {
   "cell_type": "code",
   "execution_count": null,
   "metadata": {
    "hidden": true
   },
   "outputs": [],
   "source": [
    "# K 近邻算法"
   ]
  },
  {
   "cell_type": "code",
   "execution_count": null,
   "metadata": {
    "hidden": true
   },
   "outputs": [],
   "source": [
    "# SVM 支持向量机"
   ]
  },
  {
   "cell_type": "markdown",
   "metadata": {
    "heading_collapsed": true
   },
   "source": [
    "# 积分"
   ]
  },
  {
   "cell_type": "markdown",
   "metadata": {
    "hidden": true
   },
   "source": [
    "    https://jingyan.baidu.com/article/25648fc16df9909190fd004d.html   python数学工具之积分\n",
    "    https://blog.csdn.net/sagittarius_warrior/article/details/77650785 用Python学《微积分B》（不定积分的概念）"
   ]
  },
  {
   "cell_type": "markdown",
   "metadata": {
    "heading_collapsed": true
   },
   "source": [
    "# 梯度下降法\n",
    "    https://blog.csdn.net/yhao2014/article/details/51554910"
   ]
  },
  {
   "cell_type": "code",
   "execution_count": null,
   "metadata": {
    "hidden": true
   },
   "outputs": [],
   "source": []
  },
  {
   "cell_type": "markdown",
   "metadata": {
    "heading_collapsed": true
   },
   "source": [
    "# 线性回归\n",
    "    https://www.cnblogs.com/hhh5460/p/5786115.html\n",
    "    https://baijiahao.baidu.com/s?id=1589000357170305884&wfr=spider&for=pc  8种用Python实现线性回归的方法\n",
    "    https://mbd.baidu.com/newspage/data/landingsuper?context=%7B%22nid%22%3A%22news_9461878021829434755%22%7D&n_type=1&p_from=3  吴恩达发布《AI转型指南》：喊话CEO们，AI转型分五步\n",
    "    \n",
    "    线性回归w0,w1的数值可参看 基础教程 P13， 主要是通过平方损失函数来"
   ]
  },
  {
   "cell_type": "code",
   "execution_count": null,
   "metadata": {
    "hidden": true
   },
   "outputs": [],
   "source": []
  }
 ],
 "metadata": {
  "kernelspec": {
   "display_name": "Python 3",
   "language": "python",
   "name": "python3"
  },
  "language_info": {
   "codemirror_mode": {
    "name": "ipython",
    "version": 3
   },
   "file_extension": ".py",
   "mimetype": "text/x-python",
   "name": "python",
   "nbconvert_exporter": "python",
   "pygments_lexer": "ipython3",
   "version": "3.6.5"
  }
 },
 "nbformat": 4,
 "nbformat_minor": 2
}
