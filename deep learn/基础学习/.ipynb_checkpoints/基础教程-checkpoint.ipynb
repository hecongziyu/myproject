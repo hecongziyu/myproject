{
 "cells": [
  {
   "cell_type": "markdown",
   "metadata": {},
   "source": [
    "# 基本知识"
   ]
  },
  {
   "cell_type": "markdown",
   "metadata": {},
   "source": [
    "     https://blog.csdn.net/sagittarius_warrior/article/details/77650785 用Python学《微积分B》（不定积分的概念）\n",
    "     https://jingyan.baidu.com/article/25648fc16df9909190fd004d.html  python数学工具之积分（2\n",
    "     https://blog.csdn.net/weixin_41947081/article/details/81105555 python实现beta分布概率密度函数\n",
    "     \n",
    "     https://github.com/Sierkinhane/CS229-ML-Implementation   吴恩达-斯坦福CS229机器学习课程资料与算法的Python实现"
   ]
  },
  {
   "cell_type": "code",
   "execution_count": null,
   "metadata": {},
   "outputs": [],
   "source": []
  },
  {
   "cell_type": "markdown",
   "metadata": {
    "heading_collapsed": true
   },
   "source": [
    "# 线性建模 : 最小二乘法  P11"
   ]
  },
  {
   "cell_type": "markdown",
   "metadata": {
    "hidden": true
   },
   "source": [
    "    1、向量、矩阵符号   P22\n",
    "    2、线性模型的非线性响应  P29\n",
    "    3、正则化最小二乘法  P35   ???"
   ]
  },
  {
   "cell_type": "markdown",
   "metadata": {
    "heading_collapsed": true
   },
   "source": [
    "# 线性建模：最大似然方法  P38"
   ]
  },
  {
   "cell_type": "markdown",
   "metadata": {
    "hidden": true
   },
   "source": [
    "    1、随机变量和概率  P40\n",
    "    2、贝叶斯规则介绍  P46  \n",
    "       Y=y条件下X的概率 P(X=x|Y=y),这依赖于X=x条件下Y的概率，这就是著名的贝叶斯规则。\n",
    "       因为 P(X=x|Y=y) *  P(Y=y) =  P(Y=y|X=x) * P(X=x)\n",
    "       \n",
    "       所以： P(X=x|Y=y) = P(Y=y|X=x) * P(X=x) / P(Y=y)\n",
    "    \n",
    "    3、常见的离散分布  P49\n",
    "        3.1 、伯努利分布  \n",
    "                用于像抛硬币的具有二个可能结果的事件。对于随机变量X、可以取值0、1，将其取值为1的概率计为q\n",
    "                \n",
    "                \n",
    "        3.2、二项式分布\n",
    "        3.3、多项式分布\n",
    "    4、连续型随机变量  P50\n",
    "    \n",
    "        积分公式 P51\n",
    "        \n",
    "        4.1、常见的连续概率密度函数  P52\n",
    "        4.2、多元高斯  P54\n",
    "        \n",
    "        矩陈的行列式 P55\n",
    "        \n",
    "    5、似然估计 P57\n",
    "        5.1、数据集的似然值  P58\n",
    "        5.2、最大似然   P59\n",
    "        \n",
    "        Hessian矩陈  P61\n",
    "        \n",
    "    6、噪声对参数估计的影响  P63\n",
    "    \n",
    "    7、预测值的变异性  P69\n",
    "    \n",
    "    \n",
    "    P68"
   ]
  },
  {
   "cell_type": "code",
   "execution_count": null,
   "metadata": {
    "hidden": true
   },
   "outputs": [],
   "source": []
  },
  {
   "cell_type": "markdown",
   "metadata": {
    "heading_collapsed": true
   },
   "source": [
    "# 机器学习的贝叶斯方法 P76"
   ]
  },
  {
   "cell_type": "markdown",
   "metadata": {
    "hidden": true
   },
   "source": [
    "    1、贝叶斯方法 P78\n",
    "        1.1、似然值  P78\n",
    "        1.2、先验分布 P78\n",
    "        1.3、后验分布 P80\n",
    "    2、边缘似然估计"
   ]
  },
  {
   "cell_type": "markdown",
   "metadata": {
    "heading_collapsed": true
   },
   "source": [
    "# 贝叶斯推理  P104"
   ]
  },
  {
   "cell_type": "markdown",
   "metadata": {
    "hidden": true
   },
   "source": [
    "    1、点估计：最大后验估计方案  P106\n",
    "        1.1、链式规则  P108\n",
    "    2、拉普拉斯近似  P110\n",
    "        2.1、泰勒展开 P110\n",
    "    3、抽样技术 P113\n",
    "        "
   ]
  },
  {
   "cell_type": "markdown",
   "metadata": {
    "heading_collapsed": true
   },
   "source": [
    "# 分类  P123"
   ]
  },
  {
   "cell_type": "markdown",
   "metadata": {
    "hidden": true
   },
   "source": [
    "    1、概率分类  P123\n",
    "    2、非概率分类器 P133\n",
    "        2.1、K近邻处法  P133\n",
    "                K值的选取 ？？？？\n",
    "        2.2、支持向量机和其它核方法 P135\n",
    "        \n",
    "        2.3、评价分类器的性能  P143\n",
    "    3、聚类分析   P148\n",
    "    \n",
    "    "
   ]
  },
  {
   "cell_type": "markdown",
   "metadata": {},
   "source": [
    "# 主成分分析与隐变量模型 P169"
   ]
  },
  {
   "cell_type": "code",
   "execution_count": null,
   "metadata": {},
   "outputs": [],
   "source": [
    "1、主成分分析  P171"
   ]
  }
 ],
 "metadata": {
  "kernelspec": {
   "display_name": "Python 3",
   "language": "python",
   "name": "python3"
  },
  "language_info": {
   "codemirror_mode": {
    "name": "ipython",
    "version": 3
   },
   "file_extension": ".py",
   "mimetype": "text/x-python",
   "name": "python",
   "nbconvert_exporter": "python",
   "pygments_lexer": "ipython3",
   "version": "3.7.4"
  },
  "varInspector": {
   "cols": {
    "lenName": 16,
    "lenType": 16,
    "lenVar": 40
   },
   "kernels_config": {
    "python": {
     "delete_cmd_postfix": "",
     "delete_cmd_prefix": "del ",
     "library": "var_list.py",
     "varRefreshCmd": "print(var_dic_list())"
    },
    "r": {
     "delete_cmd_postfix": ") ",
     "delete_cmd_prefix": "rm(",
     "library": "var_list.r",
     "varRefreshCmd": "cat(var_dic_list()) "
    }
   },
   "types_to_exclude": [
    "module",
    "function",
    "builtin_function_or_method",
    "instance",
    "_Feature"
   ],
   "window_display": false
  }
 },
 "nbformat": 4,
 "nbformat_minor": 2
}
