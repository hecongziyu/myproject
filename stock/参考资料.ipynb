{
 "cells": [
  {
   "cell_type": "code",
   "execution_count": null,
   "metadata": {},
   "outputs": [],
   "source": [
    "http://www.cs.tau.ac.il/thesis/thesis/Gofer.Eyal-PhD.pdf\n",
    "\n",
    "    \n",
    "https://news.efinancialcareers.com/uk-en/285249/machine-learning-and-big-data-j-p-morgan/\n",
    "    \n",
    "http://discovery.ucl.ac.uk/1338146/1/1338146.pdf"
   ]
  }
 ],
 "metadata": {
  "kernelspec": {
   "display_name": "Python 3",
   "language": "python",
   "name": "python3"
  },
  "language_info": {
   "codemirror_mode": {
    "name": "ipython",
    "version": 3
   },
   "file_extension": ".py",
   "mimetype": "text/x-python",
   "name": "python",
   "nbconvert_exporter": "python",
   "pygments_lexer": "ipython3",
   "version": "3.6.3"
  }
 },
 "nbformat": 4,
 "nbformat_minor": 2
}
