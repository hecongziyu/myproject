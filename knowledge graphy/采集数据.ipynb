{
 "cells": [
  {
   "cell_type": "code",
   "execution_count": 4,
   "metadata": {},
   "outputs": [
    {
     "name": "stdout",
     "output_type": "stream",
     "text": [
      "600309 当前记录最后一天 20190615\n"
     ]
    }
   ],
   "source": [
    "\n",
    "import lib.utils.sdata_gather as ga\n",
    "import os\n",
    "from root import get_root_path\n",
    "import importlib\n",
    "importlib.reload(ga)\n",
    "\n",
    "code = '600309'\n",
    "#  采集新数据\n",
    "gather = ga.StockDataGather(os.path.sep.join([get_root_path(),'data']))\n",
    "gather.increment_gather([code])\n"
   ]
  },
  {
   "cell_type": "code",
   "execution_count": 5,
   "metadata": {},
   "outputs": [],
   "source": [
    "# 数据保存到LMDB数据库中\n",
    "import lmdb\n",
    "import lib.utils.sdata as sdata\n",
    "env = lmdb.open(os.path.sep.join([get_root_path(),'lmdb']), map_size=524288000)\n",
    "txn = env.begin(write=True)\n",
    "data = sdata.StockData(code,os.path.sep.join([get_root_path(),'data']))\n",
    "txn.put(code.encode(), data.datas.to_json().encode())\n",
    "txn.commit()\n",
    "\n",
    "env.close()"
   ]
  },
  {
   "cell_type": "code",
   "execution_count": 5,
   "metadata": {
    "ExecuteTime": {
     "end_time": "2020-04-14T08:20:51.913767Z",
     "start_time": "2020-04-14T08:20:51.864796Z"
    }
   },
   "outputs": [
    {
     "name": "stdout",
     "output_type": "stream",
     "text": [
      "key --> 000557\n",
      "key --> 000955\n",
      "key --> 000998\n",
      "key --> 002261\n",
      "key --> 600309\n",
      "key --> 600893\n"
     ]
    }
   ],
   "source": [
    "import numpy as np\n",
    "import pandas as pd\n",
    "import lmdb\n",
    "import os\n",
    "from root import get_root_path\n",
    "\n",
    "env = lmdb.open(os.path.sep.join([get_root_path(),'lmdb']), map_size=524288000)\n",
    "txn = env.begin(write=False)\n",
    "\n",
    "# data_json = txn.get(code.encode())\n",
    "# print()\n",
    "# ss = pd.read_json(data_json.decode())\n",
    "for key, value in txn.cursor():\n",
    "    print('key --> {}'.format(key.decode()))\n",
    "env.close()"
   ]
  },
  {
   "cell_type": "code",
   "execution_count": null,
   "metadata": {},
   "outputs": [],
   "source": []
  }
 ],
 "metadata": {
  "kernelspec": {
   "display_name": "Python 3",
   "language": "python",
   "name": "python3"
  },
  "language_info": {
   "codemirror_mode": {
    "name": "ipython",
    "version": 3
   },
   "file_extension": ".py",
   "mimetype": "text/x-python",
   "name": "python",
   "nbconvert_exporter": "python",
   "pygments_lexer": "ipython3",
   "version": "3.7.4"
  },
  "toc": {
   "base_numbering": 1,
   "nav_menu": {},
   "number_sections": true,
   "sideBar": true,
   "skip_h1_title": false,
   "title_cell": "Table of Contents",
   "title_sidebar": "Contents",
   "toc_cell": false,
   "toc_position": {},
   "toc_section_display": true,
   "toc_window_display": false
  },
  "varInspector": {
   "cols": {
    "lenName": 16,
    "lenType": 16,
    "lenVar": 40
   },
   "kernels_config": {
    "python": {
     "delete_cmd_postfix": "",
     "delete_cmd_prefix": "del ",
     "library": "var_list.py",
     "varRefreshCmd": "print(var_dic_list())"
    },
    "r": {
     "delete_cmd_postfix": ") ",
     "delete_cmd_prefix": "rm(",
     "library": "var_list.r",
     "varRefreshCmd": "cat(var_dic_list()) "
    }
   },
   "types_to_exclude": [
    "module",
    "function",
    "builtin_function_or_method",
    "instance",
    "_Feature"
   ],
   "window_display": false
  }
 },
 "nbformat": 4,
 "nbformat_minor": 2
}
