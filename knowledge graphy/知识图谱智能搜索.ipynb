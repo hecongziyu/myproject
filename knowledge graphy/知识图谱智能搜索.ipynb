{
 "cells": [
  {
   "cell_type": "markdown",
   "metadata": {},
   "source": [
    "# 关键字搜索"
   ]
  },
  {
   "cell_type": "code",
   "execution_count": 1,
   "metadata": {},
   "outputs": [],
   "source": [
    "'''\n",
    "限制，搜索串不长于N， 通过Jaccard相似度匹配到相关知识点。 \n",
    "适用于知识点查找 \n",
    "'''\n",
    "# source 源句子分词后队列，dest需比较的字符串，注意（这里不需要再分词，已经是抽取出来的知识点）\n",
    "def Jaccrad(source, dest):\n",
    "    grams_source = set(source) # 去重；如果不需要就改为list\n",
    "    grams_dest = set(dest)\n",
    "    temp=0\n",
    "    for item in grams_dest:\n",
    "        if item in grams_source:\n",
    "            temp=temp+1\n",
    "    fenmu=len(grams_model)+len(grams_reference)-temp #并集\n",
    "    jaccard_coefficient=float(temp/fenmu)#交集\n",
    "    return jaccard_coefficient\n"
   ]
  },
  {
   "cell_type": "markdown",
   "metadata": {},
   "source": [
    "# 内容分析搜索"
   ]
  },
  {
   "cell_type": "code",
   "execution_count": null,
   "metadata": {},
   "outputs": [],
   "source": [
    "'''\n",
    "预先根据习题内容进行知识点分类训练，根据训练好的模型匹配到适合的知识点\n",
    "适用于用户查找习题相关知识点. 注意：习题可以包含多个知识点？？？ 多标签任务 ？？？\n",
    "'''"
   ]
  }
 ],
 "metadata": {
  "kernelspec": {
   "display_name": "Python 3",
   "language": "python",
   "name": "python3"
  },
  "language_info": {
   "codemirror_mode": {
    "name": "ipython",
    "version": 3
   },
   "file_extension": ".py",
   "mimetype": "text/x-python",
   "name": "python",
   "nbconvert_exporter": "python",
   "pygments_lexer": "ipython3",
   "version": "3.7.4"
  },
  "toc": {
   "base_numbering": 1,
   "nav_menu": {},
   "number_sections": true,
   "sideBar": true,
   "skip_h1_title": false,
   "title_cell": "Table of Contents",
   "title_sidebar": "Contents",
   "toc_cell": false,
   "toc_position": {},
   "toc_section_display": true,
   "toc_window_display": false
  },
  "varInspector": {
   "cols": {
    "lenName": 16,
    "lenType": 16,
    "lenVar": 40
   },
   "kernels_config": {
    "python": {
     "delete_cmd_postfix": "",
     "delete_cmd_prefix": "del ",
     "library": "var_list.py",
     "varRefreshCmd": "print(var_dic_list())"
    },
    "r": {
     "delete_cmd_postfix": ") ",
     "delete_cmd_prefix": "rm(",
     "library": "var_list.r",
     "varRefreshCmd": "cat(var_dic_list()) "
    }
   },
   "types_to_exclude": [
    "module",
    "function",
    "builtin_function_or_method",
    "instance",
    "_Feature"
   ],
   "window_display": false
  }
 },
 "nbformat": 4,
 "nbformat_minor": 2
}
