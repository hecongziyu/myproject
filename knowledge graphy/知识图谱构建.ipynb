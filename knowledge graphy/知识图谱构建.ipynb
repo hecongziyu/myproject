{
 "cells": [
  {
   "cell_type": "markdown",
   "metadata": {},
   "source": [
    "# 数据源"
   ]
  },
  {
   "cell_type": "raw",
   "metadata": {},
   "source": [
    "https://wenku.baidu.com/view/c9f4e5e67f1922791788e82a.html\n",
    "https://wenku.baidu.com/view/dd6b730c76c66137ee06199e.html\n",
    "https://wenku.baidu.com/view/328ffe89195f312b3169a5f7.html\n",
    "https://www.sohu.com/a/324251797_818374 !!!!\n",
    "https://wenku.baidu.com/view/c9f4e5e67f1922791788e82a.html ！！！！！"
   ]
  },
  {
   "cell_type": "markdown",
   "metadata": {
    "heading_collapsed": true
   },
   "source": [
    "## 相关技术"
   ]
  },
  {
   "cell_type": "raw",
   "metadata": {
    "hidden": true
   },
   "source": [
    " 对文本进行处理，提取关键词，包括分词技术等，知识图谱基础技术"
   ]
  },
  {
   "cell_type": "markdown",
   "metadata": {
    "heading_collapsed": true
   },
   "source": [
    "## 数据预处理"
   ]
  },
  {
   "cell_type": "raw",
   "metadata": {
    "hidden": true
   },
   "source": [
    "整理好的 ” 小学生数据知识点.txt\" 基本为半结构化数据， 知识点基本以”：“隔开 前部分是知识点，后部分是内容。"
   ]
  },
  {
   "cell_type": "markdown",
   "metadata": {},
   "source": [
    "# 图谱构建"
   ]
  },
  {
   "cell_type": "markdown",
   "metadata": {},
   "source": [
    "## 知识抽取"
   ]
  },
  {
   "cell_type": "raw",
   "metadata": {},
   "source": [
    "实体结构：\n",
    "  实体名， 属性：（内容描述， 归类）\n",
    "处理流程：\n",
    "一、提取专家半结构化数据进行知识点实体抽取\n",
    "1、 按层级及相对结构化文本的特点提取所有知识点\n",
    "2、 知识点归类、合并， （暂时合并不需要，合并主要针对两个实体代表同一实体的情况下）。归类暂时先通过导级关系进行归类，根据实际情况再通过SVM类似的方法进行处理。\n",
    "二、扩展方式\n",
    "1、实体通过百度百科类似的搜索引擎查找方式进行扩展。  （略）"
   ]
  },
  {
   "cell_type": "code",
   "execution_count": 53,
   "metadata": {},
   "outputs": [
    {
     "name": "stdout",
     "output_type": "stream",
     "text": [
      "over !\n"
     ]
    }
   ],
   "source": [
    "# -*- coding: utf-8 -*-\n",
    "import re\n",
    "file_name = 'D:\\\\PROJECT_TW\\\\twedu\\\\解决方案\\\\小学数学知识点.txt'\n",
    "out_file_name = 'D:\\\\PROJECT_TW\\\\twedu\\\\解决方案\\\\小学数学知识点.csv'\n",
    "pattern = r'[:|：]' \n",
    "\n",
    "# 得到当前层级数\n",
    "def get_level(line):\n",
    "    ret_level = -1\n",
    "    lev = {\n",
    "        1 : r'第[一|二|三|四|五|六]章',\n",
    "        2 : r'[一|二|三|四|五|六|七|八|九]、',\n",
    "        3 : r'（[一|二|三|四|五|六]）',\n",
    "        4 : r'\\d+、',\n",
    "        5 : r'[⑴|⑵|⑶|⑷|⑸|⑹|⑺|⑻|(\\d+)]'}\n",
    "    for key in lev.keys():\n",
    "        if re.match(lev[key],line):\n",
    "            break\n",
    "            \n",
    "    if key:\n",
    "        ret_level = key\n",
    "    return ret_level, lev\n",
    "details = []\n",
    "\n",
    "with open(file_name,'r',encoding='utf-8') as f:\n",
    "    current_lev_map = {}\n",
    "    for line in f.readlines():\n",
    "        line = line.strip('\\n').strip()\n",
    "        if len(line) > 0:\n",
    "            result = re.split(pattern, line, maxsplit=1)\n",
    "            level,lev_define = get_level(line)\n",
    "            result = [x.strip('\\n') for x in result]\n",
    "#             print('level --> ',level, ' result --> ', result[0])\n",
    "            result[0] = re.split(lev_define[level],result[0],maxsplit=1)[1]\n",
    "            current_lev_map[level] = result[0]\n",
    "            up_title = ''\n",
    "            if level >= 2:\n",
    "                up_title = current_lev_map[level-1]\n",
    "            details.append([up_title, result[0], result[1] if len(result) > 1 else '' ])\n",
    "#             print('title:{}-->{}'.format(up_title, result))\n",
    "import pandas as pd\n",
    "import numpy as np\n",
    "dataframe = pd.DataFrame(np.array(details))\n",
    "dataframe.to_csv(out_file_name,index=False,sep=',',encoding='utf_8_sig')\n",
    "        \n",
    "print('over !')\n",
    "\n",
    "'''\n",
    "注意生成的csv文件需保存到 neo4j 应用目录import 下\n",
    "执行脚本：\n",
    "LOAD CSV WITH HEADERS FROM \"file:/math.csv\" AS row\n",
    "CREATE (n:Knowledge)\n",
    "set n=row;\n",
    "'''\n",
    "    "
   ]
  },
  {
   "cell_type": "markdown",
   "metadata": {},
   "source": [
    "## 关系抽取 "
   ]
  },
  {
   "cell_type": "raw",
   "metadata": {},
   "source": [
    "关系说明：\n",
    "    关系现各类分为： 属于， 前提（即该知识点需要掌握的其它知识点）  \n",
    "处理流程：\n",
    "一、根据提取的专家半结构化数据的数据进行关系抽取\n",
    "1、 按文本中的层级抽取”属于“关系， 注意需关闭某些”概念“这样一类的层级\n",
    "\n",
    "2、 ”前提\"关系的抽取从知识点描述中提取，检测其内容中是否包含其它知识点.  \n",
    "\n",
    "Chaplot  andKoedinger  use  educational  data  to  induce  the  prerequisiterelations among multiple units in a course [2], and Liang et al.recovers prerequisite relations from course dependencies [4].Another group of researchers utilize the observed relationsamong courses to create a directed universal concept graph.  In addition,  we utilize students’performance data rather than course descriptions to identifyrelations."
   ]
  },
  {
   "cell_type": "markdown",
   "metadata": {},
   "source": [
    "### 简单关系抽取"
   ]
  },
  {
   "cell_type": "code",
   "execution_count": 56,
   "metadata": {},
   "outputs": [
    {
     "name": "stdout",
     "output_type": "stream",
     "text": [
      "0      数和数的运算\n",
      "1    数和数的运算概念\n",
      "2          整数\n",
      "3       整数的意义\n",
      "4         自然数\n",
      "5        计数单位\n",
      "6          数位\n",
      "7       整数的读法\n",
      "8       整数的写法\n",
      "9         准确数\n",
      "Name: name, dtype: object\n"
     ]
    }
   ],
   "source": [
    "\n",
    "'''\n",
    "1、根据文档结构建立PARTOF关系\n",
    "执行脚本：\n",
    "MATCH (a:Knowledge), (b:Knowledge) \n",
    "   WHERE a.name = b.title\n",
    "CREATE (a)-[:PARTOF]->(b) \n",
    "RETURN a,b \n",
    "\n",
    "2、根据CSV知识点内容中检索方式，建立USE关系\n",
    "处理流程（极简流程）：\n",
    "1） 对内容分词，然后通过分词去匹配， 注意（这里关系有可能是引用和使用两种，怎么样进行区分？？？）\n",
    "'''\n",
    "import pandas as pd\n",
    "file_name = 'D:\\\\PROJECT_TW\\\\twedu\\\\解决方案\\\\小学数学知识点.csv'\n",
    "dataframe = pd.read_csv(file_name)\n",
    "print(dataframe.name.to)\n",
    "\n"
   ]
  },
  {
   "cell_type": "markdown",
   "metadata": {},
   "source": [
    "# 图谱扩展"
   ]
  },
  {
   "cell_type": "code",
   "execution_count": null,
   "metadata": {},
   "outputs": [],
   "source": []
  }
 ],
 "metadata": {
  "kernelspec": {
   "display_name": "Python 3",
   "language": "python",
   "name": "python3"
  },
  "language_info": {
   "codemirror_mode": {
    "name": "ipython",
    "version": 3
   },
   "file_extension": ".py",
   "mimetype": "text/x-python",
   "name": "python",
   "nbconvert_exporter": "python",
   "pygments_lexer": "ipython3",
   "version": "3.7.4"
  },
  "toc": {
   "base_numbering": 1,
   "nav_menu": {},
   "number_sections": true,
   "sideBar": true,
   "skip_h1_title": false,
   "title_cell": "Table of Contents",
   "title_sidebar": "Contents",
   "toc_cell": false,
   "toc_position": {},
   "toc_section_display": true,
   "toc_window_display": false
  },
  "varInspector": {
   "cols": {
    "lenName": 16,
    "lenType": 16,
    "lenVar": 40
   },
   "kernels_config": {
    "python": {
     "delete_cmd_postfix": "",
     "delete_cmd_prefix": "del ",
     "library": "var_list.py",
     "varRefreshCmd": "print(var_dic_list())"
    },
    "r": {
     "delete_cmd_postfix": ") ",
     "delete_cmd_prefix": "rm(",
     "library": "var_list.r",
     "varRefreshCmd": "cat(var_dic_list()) "
    }
   },
   "types_to_exclude": [
    "module",
    "function",
    "builtin_function_or_method",
    "instance",
    "_Feature"
   ],
   "window_display": false
  }
 },
 "nbformat": 4,
 "nbformat_minor": 2
}
