{
 "cells": [
  {
   "cell_type": "markdown",
   "metadata": {},
   "source": [
    "# 贝叶斯网络"
   ]
  },
  {
   "cell_type": "markdown",
   "metadata": {},
   "source": [
    "## 按时间"
   ]
  },
  {
   "cell_type": "code",
   "execution_count": 1,
   "metadata": {
    "ExecuteTime": {
     "end_time": "2021-02-20T07:07:35.909685Z",
     "start_time": "2021-02-20T07:07:31.147318Z"
    }
   },
   "outputs": [
    {
     "ename": "ModuleNotFoundError",
     "evalue": "No module named 'root'",
     "output_type": "error",
     "traceback": [
      "\u001b[1;31m---------------------------------------------------------------------------\u001b[0m",
      "\u001b[1;31mModuleNotFoundError\u001b[0m                       Traceback (most recent call last)",
      "\u001b[1;32m<ipython-input-1-4978c6ae7830>\u001b[0m in \u001b[0;36m<module>\u001b[1;34m\u001b[0m\n\u001b[0;32m     10\u001b[0m \u001b[1;32mfrom\u001b[0m \u001b[0mbokeh\u001b[0m\u001b[1;33m.\u001b[0m\u001b[0mplotting\u001b[0m \u001b[1;32mimport\u001b[0m \u001b[0mfigure\u001b[0m\u001b[1;33m\u001b[0m\u001b[1;33m\u001b[0m\u001b[0m\n\u001b[0;32m     11\u001b[0m \u001b[1;32mfrom\u001b[0m \u001b[0mpgmpy\u001b[0m\u001b[1;33m.\u001b[0m\u001b[0mreadwrite\u001b[0m \u001b[1;32mimport\u001b[0m \u001b[0mXMLBIFReader\u001b[0m\u001b[1;33m\u001b[0m\u001b[1;33m\u001b[0m\u001b[0m\n\u001b[1;32m---> 12\u001b[1;33m \u001b[1;32mfrom\u001b[0m \u001b[0mroot\u001b[0m \u001b[1;32mimport\u001b[0m \u001b[0mget_root_path\u001b[0m\u001b[1;33m\u001b[0m\u001b[1;33m\u001b[0m\u001b[0m\n\u001b[0m\u001b[0;32m     13\u001b[0m \u001b[1;32mfrom\u001b[0m \u001b[0mbokeh\u001b[0m\u001b[1;33m.\u001b[0m\u001b[0mmodels\u001b[0m \u001b[1;32mimport\u001b[0m \u001b[0mPlot\u001b[0m\u001b[1;33m,\u001b[0m \u001b[0mRange1d\u001b[0m\u001b[1;33m,\u001b[0m \u001b[0mMultiLine\u001b[0m\u001b[1;33m,\u001b[0m \u001b[0mCircle\u001b[0m\u001b[1;33m,\u001b[0m \u001b[0mHoverTool\u001b[0m\u001b[1;33m,\u001b[0m \u001b[0mTapTool\u001b[0m\u001b[1;33m,\u001b[0m \u001b[0mBoxSelectTool\u001b[0m\u001b[1;33m,\u001b[0m\u001b[0mLabelSet\u001b[0m\u001b[1;33m,\u001b[0m\u001b[0mColumnDataSource\u001b[0m\u001b[1;33m\u001b[0m\u001b[1;33m\u001b[0m\u001b[0m\n\u001b[0;32m     14\u001b[0m \u001b[1;32mfrom\u001b[0m \u001b[0mbokeh\u001b[0m\u001b[1;33m.\u001b[0m\u001b[0mmodels\u001b[0m\u001b[1;33m.\u001b[0m\u001b[0mgraphs\u001b[0m \u001b[1;32mimport\u001b[0m \u001b[0mfrom_networkx\u001b[0m\u001b[1;33m,\u001b[0m \u001b[0mNodesAndLinkedEdges\u001b[0m\u001b[1;33m,\u001b[0m \u001b[0mEdgesAndLinkedNodes\u001b[0m\u001b[1;33m\u001b[0m\u001b[1;33m\u001b[0m\u001b[0m\n",
      "\u001b[1;31mModuleNotFoundError\u001b[0m: No module named 'root'"
     ]
    }
   ],
   "source": [
    "# https://stackoverflow.com/questions/52673098/how-to-pass-node-attributes-from-networkx-to-bokeh\n",
    "# https://stackoverflow.com/questions/49136867/networkx-plotting-in-bokeh-how-to-set-edge-width-based-on-graph-edge-weight\n",
    "# https://github.com/paulbrodersen/netgraph !!!\n",
    "# https://stackoverflow.com/questions/50430696/how-to-plot-networkx-graph-with-holoviews-bokeh-with-same-location-of-nodes-and\n",
    "# https://stackoverflow.com/questions/55492898/slider-based-on-networkx-node-attribute-value-with-bokeh#\n",
    "\n",
    "import networkx as nx\n",
    "\n",
    "from bokeh.io import show, output_file,output_notebook\n",
    "from bokeh.plotting import figure\n",
    "from pgmpy.readwrite import XMLBIFReader\n",
    "from root import get_root_path\n",
    "from bokeh.models import Plot, Range1d, MultiLine, Circle, HoverTool, TapTool, BoxSelectTool,LabelSet,ColumnDataSource\n",
    "from bokeh.models.graphs import from_networkx, NodesAndLinkedEdges, EdgesAndLinkedNodes\n",
    "from bokeh.palettes import Spectral4\n",
    "import os\n",
    "# import holoviews as hv\n",
    "# hv.extension('bokeh')\n",
    "model = XMLBIFReader(os.path.sep.join([get_root_path(),'data','train','600893_signal.bif'])).get_model()\n",
    "g = nx.DiGraph()\n",
    "g.clear()\n",
    "g.add_nodes_from(model.nodes)\n",
    "g.add_edges_from(model.edges)\n",
    "output_notebook() "
   ]
  },
  {
   "cell_type": "code",
   "execution_count": 2,
   "metadata": {
    "ExecuteTime": {
     "end_time": "2020-03-24T01:48:07.133523Z",
     "start_time": "2020-03-24T01:48:06.866677Z"
    }
   },
   "outputs": [
    {
     "name": "stdout",
     "output_type": "stream",
     "text": [
      "position -->{'AROON': array([-0.11475521, -0.96989335]), 'BBANDS': array([ 1.97853575, -2.40610633]), 'CCI': array([0.61698892, 3.        ]), 'MACD': array([-2.57588832,  0.16127116]), 'MFI': array([-1.37469864, -1.93219144]), 'SAR': array([-0.54981811,  1.74740081]), 'ST': array([2.01963561, 0.39951916])}\n",
      "{'start': ['AROON', 'BBANDS', 'CCI', 'MACD', 'MFI', 'SAR'], 'end': ['ST', 'ST', 'ST', 'ST', 'ST', 'ST']}\n",
      "x,y [1.2739867707414618, -2.9, 1.335451858406277, 0.9771093580987656, 2.4710345747484315, -0.7787928136232105, -1.6787897483717267] - (2.146368795857751, 0.010819419031954143, -2.042406969868621, 0.879837662665813, -0.40856336809118515, 2.2852774179797817, -2.871332957575494)\n",
      "index ---> \n"
     ]
    },
    {
     "data": {
      "text/html": [
       "\n",
       "\n",
       "\n",
       "\n",
       "\n",
       "\n",
       "  <div class=\"bk-root\" id=\"12c7a90a-a573-4f0f-9652-62e940b92dfa\" data-root-id=\"1004\"></div>\n"
      ]
     },
     "metadata": {},
     "output_type": "display_data"
    },
    {
     "data": {
      "application/javascript": [
       "(function(root) {\n",
       "  function embed_document(root) {\n",
       "    \n",
       "  var docs_json = {\"a2079dd5-16ed-40c2-b0ec-6cf4014c177a\":{\"roots\":{\"references\":[{\"attributes\":{\"renderers\":[{\"id\":\"1018\",\"type\":\"GraphRenderer\"},{\"id\":\"1071\",\"type\":\"LabelSet\"}],\"title\":{\"id\":\"1007\",\"type\":\"Title\"},\"toolbar\":{\"id\":\"1012\",\"type\":\"Toolbar\"},\"x_range\":{\"id\":\"1002\",\"type\":\"Range1d\"},\"x_scale\":{\"id\":\"1073\",\"type\":\"LinearScale\"},\"y_range\":{\"id\":\"1003\",\"type\":\"Range1d\"},\"y_scale\":{\"id\":\"1076\",\"type\":\"LinearScale\"}},\"id\":\"1004\",\"type\":\"Plot\"},{\"attributes\":{\"callback\":null,\"end\":3.5,\"start\":-3.5},\"id\":\"1002\",\"type\":\"Range1d\"},{\"attributes\":{},\"id\":\"1090\",\"type\":\"UnionRenderers\"},{\"attributes\":{\"callback\":null},\"id\":\"1009\",\"type\":\"TapTool\"},{\"attributes\":{},\"id\":\"1073\",\"type\":\"LinearScale\"},{\"attributes\":{\"graph_layout\":{\"AROON\":[1.1739867707414617,2.146368795857751],\"BBANDS\":[-3.0,0.010819419031954143],\"CCI\":[1.2354518584062768,-2.042406969868621],\"MACD\":[0.8771093580987657,0.879837662665813],\"MFI\":[2.3710345747484314,-0.40856336809118515],\"SAR\":[-0.8787928136232105,2.2852774179797817],\"ST\":[-1.7787897483717268,-2.871332957575494]}},\"id\":\"1027\",\"type\":\"StaticLayoutProvider\"},{\"attributes\":{},\"id\":\"1091\",\"type\":\"Selection\"},{\"attributes\":{},\"id\":\"1062\",\"type\":\"NodesAndLinkedEdges\"},{\"attributes\":{\"edge_renderer\":{\"id\":\"1025\",\"type\":\"GlyphRenderer\"},\"inspection_policy\":{\"id\":\"1064\",\"type\":\"EdgesAndLinkedNodes\"},\"layout_provider\":{\"id\":\"1027\",\"type\":\"StaticLayoutProvider\"},\"node_renderer\":{\"id\":\"1021\",\"type\":\"GlyphRenderer\"},\"selection_policy\":{\"id\":\"1062\",\"type\":\"NodesAndLinkedEdges\"}},\"id\":\"1018\",\"type\":\"GraphRenderer\"},{\"attributes\":{\"callback\":null,\"end\":3.1,\"start\":-3.1},\"id\":\"1003\",\"type\":\"Range1d\"},{\"attributes\":{},\"id\":\"1076\",\"type\":\"LinearScale\"},{\"attributes\":{},\"id\":\"1088\",\"type\":\"UnionRenderers\"},{\"attributes\":{\"line_color\":{\"value\":\"#fdae61\"},\"line_width\":{\"value\":5}},\"id\":\"1052\",\"type\":\"MultiLine\"},{\"attributes\":{},\"id\":\"1085\",\"type\":\"UnionRenderers\"},{\"attributes\":{\"line_alpha\":{\"value\":0.8},\"line_color\":{\"value\":\"#CCCCCC\"},\"line_width\":{\"value\":5}},\"id\":\"1047\",\"type\":\"MultiLine\"},{\"attributes\":{\"callback\":null,\"data\":{\"index\":[\"AROON\",\"BBANDS\",\"CCI\",\"MACD\",\"MFI\",\"SAR\",\"ST\"]},\"selected\":{\"id\":\"1089\",\"type\":\"Selection\"},\"selection_policy\":{\"id\":\"1088\",\"type\":\"UnionRenderers\"}},\"id\":\"1020\",\"type\":\"ColumnDataSource\"},{\"attributes\":{\"callback\":null,\"tooltips\":[[\"Name:\",\"@name\"]]},\"id\":\"1008\",\"type\":\"HoverTool\"},{\"attributes\":{\"data_source\":{\"id\":\"1020\",\"type\":\"ColumnDataSource\"},\"glyph\":{\"id\":\"1032\",\"type\":\"Circle\"},\"hover_glyph\":{\"id\":\"1042\",\"type\":\"Circle\"},\"muted_glyph\":null,\"selection_glyph\":{\"id\":\"1037\",\"type\":\"Circle\"},\"view\":{\"id\":\"1022\",\"type\":\"CDSView\"}},\"id\":\"1021\",\"type\":\"GlyphRenderer\"},{\"attributes\":{\"background_fill_color\":{\"value\":\"white\"},\"source\":{\"id\":\"1070\",\"type\":\"ColumnDataSource\"},\"text\":{\"field\":\"name\"},\"x\":{\"field\":\"x\"},\"y\":{\"field\":\"y\"}},\"id\":\"1071\",\"type\":\"LabelSet\"},{\"attributes\":{\"active_drag\":\"auto\",\"active_inspect\":\"auto\",\"active_multi\":null,\"active_scroll\":\"auto\",\"active_tap\":\"auto\",\"tools\":[{\"id\":\"1008\",\"type\":\"HoverTool\"},{\"id\":\"1009\",\"type\":\"TapTool\"},{\"id\":\"1010\",\"type\":\"BoxSelectTool\"},{\"id\":\"1011\",\"type\":\"TapTool\"}]},\"id\":\"1012\",\"type\":\"Toolbar\"},{\"attributes\":{\"source\":{\"id\":\"1020\",\"type\":\"ColumnDataSource\"}},\"id\":\"1022\",\"type\":\"CDSView\"},{\"attributes\":{\"fill_color\":{\"value\":\"#abdda4\"},\"size\":{\"units\":\"screen\",\"value\":15}},\"id\":\"1042\",\"type\":\"Circle\"},{\"attributes\":{\"data_source\":{\"id\":\"1024\",\"type\":\"ColumnDataSource\"},\"glyph\":{\"id\":\"1047\",\"type\":\"MultiLine\"},\"hover_glyph\":{\"id\":\"1057\",\"type\":\"MultiLine\"},\"muted_glyph\":null,\"selection_glyph\":{\"id\":\"1052\",\"type\":\"MultiLine\"},\"view\":{\"id\":\"1026\",\"type\":\"CDSView\"}},\"id\":\"1025\",\"type\":\"GlyphRenderer\"},{\"attributes\":{\"fill_color\":{\"value\":\"#2b83ba\"},\"size\":{\"units\":\"screen\",\"value\":15}},\"id\":\"1032\",\"type\":\"Circle\"},{\"attributes\":{\"fill_color\":{\"value\":\"#fdae61\"},\"size\":{\"units\":\"screen\",\"value\":15}},\"id\":\"1037\",\"type\":\"Circle\"},{\"attributes\":{\"callback\":null,\"data\":{\"name\":[\"AROON\",\"BBANDS\",\"CCI\",\"MACD\",\"MFI\",\"SAR\",\"ST\"],\"x\":[1.2739867707414618,-2.9,1.335451858406277,0.9771093580987656,2.4710345747484315,-0.7787928136232105,-1.6787897483717267],\"y\":[2.146368795857751,0.010819419031954143,-2.042406969868621,0.879837662665813,-0.40856336809118515,2.2852774179797817,-2.871332957575494]},\"selected\":{\"id\":\"1086\",\"type\":\"Selection\"},\"selection_policy\":{\"id\":\"1085\",\"type\":\"UnionRenderers\"}},\"id\":\"1070\",\"type\":\"ColumnDataSource\"},{\"attributes\":{\"callback\":null,\"overlay\":{\"id\":\"1087\",\"type\":\"BoxAnnotation\"}},\"id\":\"1010\",\"type\":\"BoxSelectTool\"},{\"attributes\":{\"callback\":null,\"data\":{\"end\":[\"ST\",\"ST\",\"ST\",\"ST\",\"ST\",\"ST\"],\"start\":[\"AROON\",\"BBANDS\",\"CCI\",\"MACD\",\"MFI\",\"SAR\"]},\"selected\":{\"id\":\"1091\",\"type\":\"Selection\"},\"selection_policy\":{\"id\":\"1090\",\"type\":\"UnionRenderers\"}},\"id\":\"1024\",\"type\":\"ColumnDataSource\"},{\"attributes\":{\"line_color\":{\"value\":\"#abdda4\"},\"line_width\":{\"value\":5}},\"id\":\"1057\",\"type\":\"MultiLine\"},{\"attributes\":{},\"id\":\"1086\",\"type\":\"Selection\"},{\"attributes\":{},\"id\":\"1089\",\"type\":\"Selection\"},{\"attributes\":{},\"id\":\"1064\",\"type\":\"EdgesAndLinkedNodes\"},{\"attributes\":{\"text\":\"Graph Interaction Demonstration\"},\"id\":\"1007\",\"type\":\"Title\"},{\"attributes\":{\"bottom_units\":\"screen\",\"fill_alpha\":{\"value\":0.5},\"fill_color\":{\"value\":\"lightgrey\"},\"left_units\":\"screen\",\"level\":\"overlay\",\"line_alpha\":{\"value\":1.0},\"line_color\":{\"value\":\"black\"},\"line_dash\":[4,4],\"line_width\":{\"value\":2},\"render_mode\":\"css\",\"right_units\":\"screen\",\"top_units\":\"screen\"},\"id\":\"1087\",\"type\":\"BoxAnnotation\"},{\"attributes\":{\"callback\":null},\"id\":\"1011\",\"type\":\"TapTool\"},{\"attributes\":{\"source\":{\"id\":\"1024\",\"type\":\"ColumnDataSource\"}},\"id\":\"1026\",\"type\":\"CDSView\"}],\"root_ids\":[\"1004\"]},\"title\":\"Bokeh Application\",\"version\":\"1.4.0\"}};\n",
       "  var render_items = [{\"docid\":\"a2079dd5-16ed-40c2-b0ec-6cf4014c177a\",\"roots\":{\"1004\":\"12c7a90a-a573-4f0f-9652-62e940b92dfa\"}}];\n",
       "  root.Bokeh.embed.embed_items_notebook(docs_json, render_items);\n",
       "\n",
       "  }\n",
       "  if (root.Bokeh !== undefined) {\n",
       "    embed_document(root);\n",
       "  } else {\n",
       "    var attempts = 0;\n",
       "    var timer = setInterval(function(root) {\n",
       "      if (root.Bokeh !== undefined) {\n",
       "        clearInterval(timer);\n",
       "        embed_document(root);\n",
       "      } else {\n",
       "        attempts++;\n",
       "        if (attempts > 100) {\n",
       "          clearInterval(timer);\n",
       "          console.log(\"Bokeh: ERROR: Unable to run BokehJS code because BokehJS library is missing\");\n",
       "        }\n",
       "      }\n",
       "    }, 10, root)\n",
       "  }\n",
       "})(window);"
      ],
      "application/vnd.bokehjs_exec.v0+json": ""
     },
     "metadata": {
      "application/vnd.bokehjs_exec.v0+json": {
       "id": "1004"
      }
     },
     "output_type": "display_data"
    }
   ],
   "source": [
    "position = nx.spring_layout(g, scale=3)\n",
    "print('position -->{}'.format(position))\n",
    "# nx.draw(g,position)\n",
    "# hv.extension('bokeh')\n",
    "# padding = dict(x=(-1.1, 1.1), y=(-1.1, 1.1))\n",
    "# hv.Graph.from_networkx(g, position).redim.range(**padding)\n",
    "\n",
    "\n",
    "plot = Plot(x_range=Range1d(-3.5,3.5), y_range=Range1d(-3.1,3.1))\n",
    "plot.title.text = \"Graph Interaction Demonstration\"\n",
    "# plot.add_tools(HoverTool(tooltips=None), TapTool(), BoxSelectTool())\n",
    "hover = HoverTool(tooltips=[(\"Name:\", \"@name\")])\n",
    "plot.add_tools(hover, TapTool(), BoxSelectTool(), TapTool())\n",
    "\n",
    "graph_renderer = from_networkx(g, nx.spring_layout, scale=3, center=(0,0))\n",
    "print(graph_renderer.edge_renderer.data_source.data)\n",
    "graph_renderer.node_renderer.glyph = Circle(size=15, fill_color=Spectral4[0])\n",
    "graph_renderer.node_renderer.selection_glyph = Circle(size=15, fill_color=Spectral4[2])\n",
    "graph_renderer.node_renderer.hover_glyph = Circle(size=15, fill_color=Spectral4[1])\n",
    "graph_renderer.edge_renderer.glyph = MultiLine(line_color=\"#CCCCCC\", line_alpha=0.8, line_width=5)\n",
    "graph_renderer.edge_renderer.selection_glyph = MultiLine(line_color=Spectral4[2], line_width=5)\n",
    "graph_renderer.edge_renderer.hover_glyph = MultiLine(line_color=Spectral4[1], line_width=5)\n",
    "graph_renderer.selection_policy = NodesAndLinkedEdges()\n",
    "graph_renderer.inspection_policy = EdgesAndLinkedNodes()\n",
    "\n",
    "# 得到位置信息, 并设置label\n",
    "x, y = zip(*graph_renderer.layout_provider.graph_layout.values())\n",
    "x = [j+0.1 for j in x]\n",
    "print('x,y',x,'-',y)\n",
    "node_labels = graph_renderer.node_renderer.data_source.data['index']\n",
    "print('index ---> ',)\n",
    "source = ColumnDataSource({'x': x, 'y': y,\n",
    "                           'name': [node_labels[i] for i in range(len(x))]})\n",
    "labels = LabelSet(x='x', y='y', text='name', source=source, background_fill_color='white')\n",
    "plot.renderers.append(graph_renderer)\n",
    "plot.renderers.append(labels)\n",
    "\n",
    "\n",
    "show(plot)"
   ]
  },
  {
   "cell_type": "code",
   "execution_count": 31,
   "metadata": {},
   "outputs": [],
   "source": [
    "??MultiLine"
   ]
  },
  {
   "cell_type": "code",
   "execution_count": null,
   "metadata": {},
   "outputs": [],
   "source": []
  }
 ],
 "metadata": {
  "kernelspec": {
   "display_name": "Python 3",
   "language": "python",
   "name": "python3"
  },
  "language_info": {
   "codemirror_mode": {
    "name": "ipython",
    "version": 3
   },
   "file_extension": ".py",
   "mimetype": "text/x-python",
   "name": "python",
   "nbconvert_exporter": "python",
   "pygments_lexer": "ipython3",
   "version": "3.7.4"
  },
  "toc": {
   "base_numbering": 1,
   "nav_menu": {},
   "number_sections": true,
   "sideBar": true,
   "skip_h1_title": false,
   "title_cell": "Table of Contents",
   "title_sidebar": "Contents",
   "toc_cell": false,
   "toc_position": {},
   "toc_section_display": true,
   "toc_window_display": false
  },
  "varInspector": {
   "cols": {
    "lenName": 16,
    "lenType": 16,
    "lenVar": 40
   },
   "kernels_config": {
    "python": {
     "delete_cmd_postfix": "",
     "delete_cmd_prefix": "del ",
     "library": "var_list.py",
     "varRefreshCmd": "print(var_dic_list())"
    },
    "r": {
     "delete_cmd_postfix": ") ",
     "delete_cmd_prefix": "rm(",
     "library": "var_list.r",
     "varRefreshCmd": "cat(var_dic_list()) "
    }
   },
   "types_to_exclude": [
    "module",
    "function",
    "builtin_function_or_method",
    "instance",
    "_Feature"
   ],
   "window_display": false
  }
 },
 "nbformat": 4,
 "nbformat_minor": 2
}
