{
 "cells": [
  {
   "cell_type": "raw",
   "metadata": {},
   "source": [
    "1、 https://blog.csdn.net/Hello_word5/article/details/91344730?depth_1-utm_source=distribute.pc_relevant.none-task&utm_source=distribute.pc_relevant.none-task 用图网络做知识图谱实体对齐\n",
    "2、https://blog.csdn.net/for_yayun/article/details/100292617 基于Neo4j 图数据库的知识图谱的关联对齐\n",
    "3、https://blog.csdn.net/bensonrachel/article/details/86434860  python实现——Jaccard相似度（jaccard_coefficient）\n",
    "4、https://blog.csdn.net/guojingjuan/article/details/50396254 十种距离计算公式及Python简单实践（余弦距离、欧式距离、jaccard距离等） ！！！！！！\n",
    "5、https://blog.csdn.net/kydkong/article/details/77512193 搜索引擎关键字智能提示的一种实现\n",
    "6、https://people.eng.unimelb.edu.au/jianzhongq/papers/AAAI2019_EntityAlignment.pdf Entity Alignment between Knowledge Graphs Using Attribute Embeddings"
   ]
  }
 ],
 "metadata": {
  "kernelspec": {
   "display_name": "Python 3",
   "language": "python",
   "name": "python3"
  },
  "language_info": {
   "codemirror_mode": {
    "name": "ipython",
    "version": 3
   },
   "file_extension": ".py",
   "mimetype": "text/x-python",
   "name": "python",
   "nbconvert_exporter": "python",
   "pygments_lexer": "ipython3",
   "version": "3.7.4"
  },
  "toc": {
   "base_numbering": 1,
   "nav_menu": {},
   "number_sections": true,
   "sideBar": true,
   "skip_h1_title": false,
   "title_cell": "Table of Contents",
   "title_sidebar": "Contents",
   "toc_cell": false,
   "toc_position": {},
   "toc_section_display": true,
   "toc_window_display": false
  },
  "varInspector": {
   "cols": {
    "lenName": 16,
    "lenType": 16,
    "lenVar": 40
   },
   "kernels_config": {
    "python": {
     "delete_cmd_postfix": "",
     "delete_cmd_prefix": "del ",
     "library": "var_list.py",
     "varRefreshCmd": "print(var_dic_list())"
    },
    "r": {
     "delete_cmd_postfix": ") ",
     "delete_cmd_prefix": "rm(",
     "library": "var_list.r",
     "varRefreshCmd": "cat(var_dic_list()) "
    }
   },
   "types_to_exclude": [
    "module",
    "function",
    "builtin_function_or_method",
    "instance",
    "_Feature"
   ],
   "window_display": false
  }
 },
 "nbformat": 4,
 "nbformat_minor": 2
}
