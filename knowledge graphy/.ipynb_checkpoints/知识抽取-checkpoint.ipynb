{
 "cells": [
  {
   "cell_type": "raw",
   "metadata": {},
   "source": [
    "1、https://zhuanlan.zhihu.com/p/75466388\n",
    "2、https://blog.csdn.net/u012102306/article/details/80047103\n",
    "3、https://baijiahao.baidu.com/s?id=1650526419042842719&wfr=spider&for=pc 实体关系抽取的现状与未来\n",
    "4、https://arxiv.org/pdf/1904.09223v1.pdf  ERNIE: Enhanced Representation through Knowledge Integration\n",
    "5、https://arxiv.org/pdf/1905.07129.pdf ERNIE: Enhanced Language Representation with Informative Entities\n",
    "6、https://blog.csdn.net/sty945/article/details/95450681 知识图谱中传统关系抽取方法\n",
    "7、https://blog.csdn.net/qq_36426650/article/details/84668741 基于深度学习的命名实体识别与关系抽取  !!!!!!!!!!!!!!\n",
    "8、https://github.com/qq547276542/Agriculture_KnowledgeGraph 项目实例：面向智慧农业的知识图谱及其应用系统   ！！！！！！\n",
    "9、https://www.wjn1996.cn/zxai/index 智学AI·基于深度学习的学科知识图谱\n",
    "10、https://blog.csdn.net/manmanxiaowugun/article/details/81157105 知识图谱_关系抽取_文献笔记（一）\n",
    "11、https://blog.csdn.net/TgqDT3gGaMdkHasLZv/article/details/82766183 ！！！！！！！！！！！！！！！\n",
    "12、https://blog.csdn.net/m0_37565948/article/details/84999919 知识图谱—关系抽取—远程监督—OpenNRE   ！！！！\n",
    "13、https://blog.csdn.net/songbinxu/article/details/80209197 自然语言处理NLP中的N-gram模型\n",
    "14、https://github.com/thunlp/NRE \n",
    "15、https://github.com/thunlp/OpenNRE OpenNRE is an open-source and extensible toolkit that provides a unified framework to implement relation extraction models\n",
    "16、 https://blog.csdn.net/u012102306/article/details/80047103  TransE算法（Translating Embedding）\n",
    "17、https://www.cnblogs.com/jclian91/p/11107323.html 利用关系抽取构建知识图谱的一次尝试\n",
    "18、https://www.wisers.ai/zh-cn/browse/named-entity-recognition/demo/ ！！！\n",
    "19、http://oss.wanfangdata.com.cn/www/download.ashx/%E9%9D%A2%E5%90%91%E4%BC%81%E4%B8%9A%E7%9F%A5%E8%AF%86%E5%9B%BE%E8%B0%B1%E6%9E%84%E5%BB%BA%E7%9A%84%E4%B8%AD%E6%96%87%E5%AE%9E%E4%BD%93%E5%85%B3%E7%B3%BB%E6%8A%BD%E5%8F%96.ashx?isread=true&type=perio&resourceId=hdsfdxxb201803007&transaction=%7B%22id%22%3Anull%2C%22transferOutAccountsStatus%22%3Anull%2C%22transaction%22%3A%7B%22id%22%3A%221230037716264050688%22%2C%22status%22%3A1%2C%22createDateTime%22%3Anull%2C%22payDateTime%22%3A1582098819210%2C%22authToken%22%3A%22TGT-15298602-wSbfdGmNXZKBAkzluMEfNqz6WnthawraQDnWbpePnzjJ14xl3Y-my.wanfangdata.com.cn%22%2C%22user%22%3A%7B%22accountType%22%3A%22Group%22%2C%22key%22%3A%22g_cskjcgzhfwzx%22%7D%2C%22transferIn%22%3A%7B%22accountType%22%3A%22Income%22%2C%22key%22%3A%22PeriodicalFulltext%22%7D%2C%22transferOut%22%3A%7B%22GBalanceLimit.g_cskjcgzhfwzx%22%3A3.0%7D%2C%22turnover%22%3A3.0%2C%22orderTurnover%22%3A0.0%2C%22productDetail%22%3A%22perio_hdsfdxxb201803007%22%2C%22productTitle%22%3Anull%2C%22userIP%22%3A%22222.247.54.19%22%2C%22organName%22%3Anull%2C%22memo%22%3Anull%2C%22orderUser%22%3A%22g_cskjcgzhfwzx%22%2C%22orderChannel%22%3A%22pc%22%2C%22payTag%22%3A%22%22%2C%22webTransactionRequest%22%3Anull%2C%22signature%22%3A%22PZIwF9pnxUDIop3aR3unpZsKd83TXbF9oRCNgBAoZNhoAuQ%2Fb5oItqhhcgmCVaUH%2Bc%2BO%2F%2FosX7yY%5CnD%2FE0Jmft2%2FaRwvkzPjmOxtRWxaGonrXl2KHRwcK%2FtbCA1VWZqBRlzSJPi91bCvlbkVATSNQmuxG4%5CnCq7CCadpqcd%2BKDMcW3k%3D%22%2C%22delete%22%3Afalse%7D%2C%22isCache%22%3Afalse%7D\n",
    "\n",
    "20、https://blog.csdn.net/weixin_40871455/article/details/83341561?utm_source=distribute.pc_relevant.none-task TransE模型：知识图谱的经典表示学习方法\n",
    "\n",
    "21、http://oss.wanfangdata.com.cn/www/download.ashx/%E7%9F%A5%E8%AF%86%E8%A1%A8%E7%A4%BA%E5%AD%A6%E4%B9%A0%E7%A0%94%E7%A9%B6%E8%BF%9B%E5%B1%95.ashx?isread=true&type=perio&resourceId=jsjyjyfz201602002&transaction=%7B%22id%22%3Anull%2C%22transferOutAccountsStatus%22%3Anull%2C%22transaction%22%3A%7B%22id%22%3A%221230056371454492672%22%2C%22status%22%3A1%2C%22createDateTime%22%3Anull%2C%22payDateTime%22%3A1582103266954%2C%22authToken%22%3A%22TGT-15298602-wSbfdGmNXZKBAkzluMEfNqz6WnthawraQDnWbpePnzjJ14xl3Y-my.wanfangdata.com.cn%22%2C%22user%22%3A%7B%22accountType%22%3A%22Group%22%2C%22key%22%3A%22g_cskjcgzhfwzx%22%7D%2C%22transferIn%22%3A%7B%22accountType%22%3A%22Income%22%2C%22key%22%3A%22PeriodicalFulltext%22%7D%2C%22transferOut%22%3A%7B%22GBalanceLimit.g_cskjcgzhfwzx%22%3A3.0%7D%2C%22turnover%22%3A3.0%2C%22orderTurnover%22%3A0.0%2C%22productDetail%22%3A%22perio_jsjyjyfz201602002%22%2C%22productTitle%22%3Anull%2C%22userIP%22%3A%22222.247.54.19%22%2C%22organName%22%3Anull%2C%22memo%22%3Anull%2C%22orderUser%22%3A%22g_cskjcgzhfwzx%22%2C%22orderChannel%22%3A%22pc%22%2C%22payTag%22%3A%22%22%2C%22webTransactionRequest%22%3Anull%2C%22signature%22%3A%22WQzohVJLI3d4v0SKZsBg2QB%2FXy8D12zj0BOUDhlKt1CqaQZCaKSc4OvHtVESUQVj5BhEO935ghby%5Cnp8YD8tknOZL21XxpXPEr9qE4XCcsaZnmW02%2BGU1vxZUzptDAVpXCU78PkSD9k7FGVmDU7THyE3Lg%5Cncd1nyuPpnB9xkJVmluU%3D%22%2C%22delete%22%3Afalse%7D%2C%22isCache%22%3Afalse%7D ！！！！"
   ]
  },
  {
   "cell_type": "markdown",
   "metadata": {},
   "source": [
    "# 相关技术"
   ]
  },
  {
   "cell_type": "markdown",
   "metadata": {},
   "source": [
    "## 条件随机场"
   ]
  },
  {
   "cell_type": "raw",
   "metadata": {},
   "source": [
    "    条件随机场(CRF)是给定一组输入序列条件下另一组输出序列的条件概率分布模型，在自然语言处理中得到了广泛应用。对于命名实体识别这一类的序列标注问题，通常采用的是线性条件随机场（linear-CRF），通过运用HMM和CRF模型实现命名实体识别，需要首先初始化相应的参数，例如对于HMM模型，需要初始化转移状态矩阵 AA、观测序列与状态的关联（混淆矩阵） BB ，以及初始化状态概率（即第一个时刻为某一状态的概率）；对于CRF模型，需要初始化两个特征函数以及其对应的系数。其次通过观测序列和状态序列对这些参数进行训练，训练即属于三个问题中的学习问题。最后通过已学习的模型，通过训练集样本进行解码测试。\n",
    "  现如今非常常用的模型是Bi-LSTM+CRF，即应用Bi-LSTM实现对序列（一个句子）进行编码（encoding），使得该编码保存了整个语句的前后关系，其次将Bi-LSTM的输出通过CRF进行解码，已获取最为可能的序列标注。\n",
    "  \n",
    "  依存句法分析实现关系抽取, "
   ]
  },
  {
   "cell_type": "markdown",
   "metadata": {
    "heading_collapsed": true
   },
   "source": [
    "## 远程监督"
   ]
  },
  {
   "cell_type": "raw",
   "metadata": {
    "hidden": true
   },
   "source": [
    "   神经网络关系抽取需要大量的训练数据，但是人工标注这些训练数据非常费时昂贵。为了自动获取更多的训练数据训练模型，工作 [16] 提出了远程监督（Distant Supervision）的思想，将纯文本与现有知识图谱进行对齐，能够自动标注大规模训练数据。远程监督的思想并不复杂，具体来说：如果两个实体在知识图谱中被标记为某个关系，那么我们就认为同时包含这两个实体的所有句子也在表达这种关系。再以（清华大学，位于，北京）为例，我们会把同时包含「清华大学」和「北京」两个实体的所有句子，都视为「位于」这个关系的训练样例。远程监督的这种启发式标注规则是把双刃剑，它是自动标注训练数据的有效策略，但其过强的设定不可避免地产生错误标注。例如对于知识图谱中（清华大学，校长，邱勇）这个三元组事实，句子「邱勇担任清华大学校长」可以反映「清华大学」与「邱勇」之间「校长」的关系；但是句子「邱勇考入清华大学化学与化学工程系」以及「邱勇担任清华大学党委常委」并不表达「校长」关系，但却会被远程监督的启发式规则错误地标注为「校长」关系的训练实例。虽然远程监督思想非常简单也存在很多问题，不过它为更多收集训练数据开启了新的纪元。受到这个思路的启发，很多学者积极考虑如何尽可能排除远程监督数据中的噪音标注的干扰。从 2015 年开始，基于远程监督与降噪机制的神经关系抽取模型得到了长足的发展，工作 [17] 引入了多实例学习方法，利用包含同一实体对的所有实例来共同预测实体间关系。\n",
    "    总结来说，已有对远程监督的降噪方法可以兼顾了关系抽取的鲁棒性与有效性，也具有较强的可操作性和实用性。不过，使用已有知识图谱对齐文本来获取数据训练关系抽取模型，再利用该模型来抽取知识加入知识图谱，本身就有一种鸡生蛋与蛋生鸡的味道。不完善的知识图谱对齐所得到的文本训练数据也将是不完善的，对那些长尾知识而言，仍难以通过这种远程监督机制来得到训练实例。如何提出更有效的机制来高效获取高质量、高覆盖、高平衡的训练数据，仍然是一个值得深入思考的问题。\n",
    "    即使通过远程监督等办法能够自动获取高质量的训练数据，由于真实场景中关系和实体对的长尾分布特点，绝大部分的关系和实体对的可用样例仍然较少。而且，对于医疗、金融等专业领域的专门关系，受限于数据规模的问题可用样例也很有限。而神经网络模型作为典型的 data-hungry 技术，在训练样例过少时性能会受到极大影响。因此，研究者们希望探索有效提升模型学习能力的方法，以更好地利用有限训练样例取得满意的抽取性能。\n",
    "    实际上，人类可以通过少量样本快速学习知识，具有「举一反三」的能力。为了探索深度学习和机器学习「举一反三」的能力，提出了少次学习（Few-shot learning）任务。通过设计少次学习机制，模型能够利用从过往数据中学到的泛化知识，结合新类型数据的少量训练样本，实现快速迁移学习，具有一定的举一反三能力。\n",
    "    \n",
    "\n",
    "   现有关系抽取工作主要聚焦于句子级关系抽取，即根据句内信息进行关系抽取，各类神经网络模型也擅长编码句子级语义信息，在很多公开评测数据能够取得最佳效果。而在实际场景中，大量的实体间关系是通过多个句子表达的。如下图所示，文本中提到多个实体，并表现出复杂的相互关联。根据从维基百科采样的人工标注数据的统计表明，至少 40％的实体关系事实只能从多个句子中联合获取。为了实现多个实体间的跨句关系抽取，需要对文档中的多个句子进行阅读推理，这显然超出了句子级关系抽取方法的能力范围。因此，进行文档级关系抽取势在必行。现有关系抽取工作主要聚焦于句子级关系抽取，即根据句内信息进行关系抽取，各类神经网络模型也擅长编码句子级语义信息，在很多公开评测数据能够取得最佳效果。而在实际场景中，大量的实体间关系是通过多个句子表达的。如下图所示，文本中提到多个实体，并表现出复杂的相互关联。根据从维基百科采样的人工标注数据的统计表明，至少 40％的实体关系事实只能从多个句子中联合获取。为了实现多个实体间的跨句关系抽取，需要对文档中的多个句子进行阅读推理，这显然超出了句子级关系抽取方法的能力范围。因此，进行文档级关系抽取势在必行。\n",
    "   \n",
    "   为了更及时地扩展知识图谱，自动从海量数据中获取新的世界知识已成为必由之路。以实体关系抽取为代表的知识获取技术已经取得了一些成果，特别是近年来深度学习模型极大地推动了关系抽取的发展。但是，与实际场景的关系抽取复杂挑战的需求相比，现有技术仍有较大的局限性。我们亟需从实际场景需求出发，解决训练数据获取、少次学习能力、复杂文本语境、开放关系建模等挑战问题，建立有效而鲁棒的关系抽取系统，这也是实体关系抽取任务需要继续努力的方向\n",
    "    "
   ]
  },
  {
   "cell_type": "markdown",
   "metadata": {},
   "source": [
    "## Tensorflow实现命名实体识别与关系抽取"
   ]
  },
  {
   "cell_type": "raw",
   "metadata": {},
   "source": [
    "    本文以及详细的分析了实现命名实体识别与关系抽取的各种模型，本节将提供两个项目程序，一个是基于Bi-LSTM和CRF的命名实体识别，另一个是基于Bi-LSTM-LSTM和Text-CNN的端到端模型的实体与关系的联合抽取。"
   ]
  },
  {
   "cell_type": "markdown",
   "metadata": {},
   "source": [
    "# 实体抽取"
   ]
  },
  {
   "cell_type": "raw",
   "metadata": {},
   "source": [
    "1、 https://blog.csdn.net/Hello_word5/article/details/91344730?depth_1-utm_source=distribute.pc_relevant.none-task&utm_source=distribute.pc_relevant.none-task 用图网络做知识图谱实体对齐\n",
    "2、https://blog.csdn.net/for_yayun/article/details/100292617 基于Neo4j 图数据库的知识图谱的关联对齐\n",
    "3、https://blog.csdn.net/bensonrachel/article/details/86434860  python实现——Jaccard相似度（jaccard_coefficient）\n",
    "4、https://blog.csdn.net/guojingjuan/article/details/50396254 十种距离计算公式及Python简单实践（余弦距离、欧式距离、jaccard距离等） ！！！！！！\n",
    "5、https://blog.csdn.net/kydkong/article/details/77512193 搜索引擎关键字智能提示的一种实现\n",
    "6、https://people.eng.unimelb.edu.au/jianzhongq/papers/AAAI2019_EntityAlignment.pdf Entity Alignment between Knowledge Graphs Using Attribute Embeddings\n",
    "7、http://xuebao.neu.edu.cn/natural/CN/html/2018-11-1535.htm\n",
    "8、http://www.doc88.com/p-0088679185558.html ！！！！！！\n",
    "9、http://ddrv.cn/a/145943 自然语言处理系列篇——关键词智能提取\n",
    "10、https://blog.csdn.net/weixin_34226706/article/details/93841423\n",
    "11、https://www.jianshu.com/p/5a297d4315ea  搜索引擎关键字智能提示的一种实现\n",
    "12、https://ke.qq.com/course/474978 大数据人工智能关键词提取和文本摘要Python机器学习算法\n",
    "13、 https://zhuanlan.zhihu.com/p/25889937 自然语言处理系列篇——关键词智能提取\n",
    "14、https://max.book118.com/html/2017/1025/137883950.shtm 智能搜索\n",
    "15、http://www.shuang0420.com/2018/09/15/%E7%9F%A5%E8%AF%86%E6%8A%BD%E5%8F%96-%E5%AE%9E%E4%BD%93%E5%8F%8A%E5%85%B3%E7%B3%BB%E6%8A%BD%E5%8F%96/ ！！！！\n",
    "\n",
    "    实体抽取或者说命名实体识别（NER）在信息抽取中扮演着重要角色，主要抽取的是文本中的原子信息元素，如人名、组织/机构名、地理位置、事件/日期、字符值、金额值等。实体抽取任务有两个关键词：find & classify，找到命名实体，并进行分类（如人类、地名之类）。\n",
    "    通过命名实体识别能够在非结构化的文本中找到对应的实体，主要用于自动识别非结构化文本中找到已定义的命名实体，可用于关系抽取、智能搜索等方面。\n",
    "    有几种实现方式 ：  \n",
    "    1、文本进行分词的处理。\n",
    "      将已定义好的实体加到分词工具库中。\n",
    "      好处：实现简单方便。 缺点：对于没有严格匹配的实体不能识别出来。如（小数的常识、小数常识）\n",
    "    \n",
    "    2、文本实体的获取\n",
    "      采用机器学习或深刻学习的方式，训练模型，对命名实体进行识别并查找并分类属于哪一类实体。\n",
    "    \n",
    "一、传统机器学习方法\n",
    "Training:\n",
    "1、收集代表性的训练文档\n",
    "2、为每个 token 标记命名实体(不属于任何实体就标 Others O)\n",
    "3、设计适合该文本和类别的特征提取方法\n",
    "4、训练一个 sequence classifier 来预测数据的 label\n",
    "\n",
    "二、深度学习方法\n",
    "LSTM+CRF  \n",
    "\n",
    "\n",
    "其他： 实体链接\n",
    "\n",
    "实体识别完成之后还需要进行归一化，比如万达集团、大连万达集团、万达集团有限公司这些实体其实是可以融合的。\n",
    "主要步骤如下：\n",
    "1、实体识别\n",
    "    命名实体识别，词典匹配\n",
    "2、候选实体生成\n",
    "    表层名字扩展，搜索引擎，查询实体引用表\n",
    "3、候选实体消歧\n",
    "    图方法，概率生成模型，主题模型，深度学习\n",
    "\n",
    "开源系统:\n",
    "http://acube.di.unipi.it/tagme\n",
    "https://github.com/parthatalukdar/junto\n",
    "http://orion.tw.rpi.edu/~zhengj3/wod/wikify.php\n",
    "https://github.com/yahoo/FEL\n",
    "https://github.com/yago-naga/aida\n",
    "http://www.nzdl.org/wikification/about.html\n",
    "http://aksw.org/Projects/AGDISTIS.html\n",
    "https://github.com/dalab/pboh-entity-linking"
   ]
  },
  {
   "cell_type": "code",
   "execution_count": 1,
   "metadata": {
    "ExecuteTime": {
     "end_time": "2020-03-26T07:33:52.024785Z",
     "start_time": "2020-03-26T07:33:48.051055Z"
    }
   },
   "outputs": [],
   "source": [
    "# 取出从结构化（专家）数据中取出来的实体定义 \n",
    "import pandas as pd\n",
    "import pkuseg\n",
    "import numpy as np\n",
    "dict_file_name = \"D:\\\\PROJECT_TW\\\\twedu\\\\解决方案\\\\小学数学知识点字典.txt\"\n",
    "file_name = 'D:\\\\PROJECT_TW\\\\twedu\\\\解决方案\\\\小学数学知识点.csv'\n",
    "dataframe = pd.read_csv(file_name)\n",
    "kn_dict = None\n",
    "with open(dict_file_name,'r',encoding='utf-8') as f:\n",
    "    lines = f.readlines()\n",
    "    kn_dict = [x.strip() for x in lines]\n",
    "# KN_DICT 为专家定义的知识点\n",
    "kn_dict.remove('圆点')"
   ]
  },
  {
   "cell_type": "markdown",
   "metadata": {},
   "source": [
    "## 训练数准备 "
   ]
  },
  {
   "cell_type": "code",
   "execution_count": null,
   "metadata": {},
   "outputs": [],
   "source": [
    "# 采用Bert Label 方式训练\n",
    "# 1、读取D:\\\\PROJECT_TW\\\\twedu\\\\解决方案\\\\小学数学知识点字典.txt文件，并结合已产生的“实体知识”进行分词，并进行标注"
   ]
  },
  {
   "cell_type": "markdown",
   "metadata": {
    "heading_collapsed": true
   },
   "source": [
    "# 关系抽取"
   ]
  },
  {
   "cell_type": "raw",
   "metadata": {
    "hidden": true
   },
   "source": [
    "http://www.shuang0420.com/2018/09/15/%E7%9F%A5%E8%AF%86%E6%8A%BD%E5%8F%96-%E5%AE%9E%E4%BD%93%E5%8F%8A%E5%85%B3%E7%B3%BB%E6%8A%BD%E5%8F%96/ !!!!\n",
    "关系抽取 需要从文本中抽取两个或多个实体之间的语义关系，主要方法有下面几类：\n",
    "1、基于模板的方法(hand-written patterns)\n",
    "    基于触发词/字符串\n",
    "    基于依存句法   https://baike.baidu.com/item/%E4%BE%9D%E5%AD%98%E5%8F%A5%E6%B3%95/802726?fr=aladdin\n",
    "    \n",
    "    手写规则的 优点 是：\n",
    "        人工规则有高准确率(high-precision)\n",
    "        可以为特定领域定制(tailor)\n",
    "        在小规模数据集上容易实现，构建简单\n",
    "    缺点：\n",
    "        低召回率(low-recall)\n",
    "        特定领域的模板需要专家构建，要考虑周全所有可能的 pattern 很难，也很费时间精力\n",
    "        需要为每条关系来定义 pattern\n",
    "        难以维护\n",
    "        可移植性差\n",
    "    \n",
    "2、监督学习(supervised machine learning)\n",
    "    机器学习\n",
    "    深度学习（Pipeline vs Joint Model）\n",
    "    \n",
    "    \n",
    "    基于神经网络的方法，需要大量的语料进行模型训练，因此这些方法都不适用于构建大规模的 Knowledge Base。为了提高 efficiency，通常我们会训练两个分类器，第一个分类器是 yes/no 的二分类，判断命名实体间是否有关系，如果有关系，再送到第二个分类器，给实体分配关系类别。这样做的好处是通过排除大多数的实体对来加快分类器的训练过程，另一方面，对每个任务可以使用 task-specific feature-set。可以采用的分类器可以是 MaxEnt、Naive Bayes、SVM 等。\n",
    "    如果测试集和训练集很相似，那么监督学习的准确率会很高，然而，它对不同 genre 的泛化能力有限，模型比较脆弱，也很难扩展新的关系；另一方面，获取这么大的训练集代价也是昂贵的。\n",
    "        \n",
    "3、半监督/无监督学习(semi-supervised and unsupervised)\n",
    "    Bootstrapping\n",
    "    Distant supervision\n",
    "    Unsupervised learning from the web\n",
    "    \n",
    "    通过少量的实例学习种子模板，从网络上大量非结构化文本中抽取新的实例，同时学习新的抽取模板，其主要贡献是构建了 DIPRE 系统；Agichtein[24]在 Brin 的基础上对新抽取的实例进行可信度的评分和完善关系描述的模式，设计实现了 Snowball 抽取系统；此后的一些系统都沿着 Bootstrap 的方法，但会加入更合理的对 pattern 描述、更加合理的限制条件和评分策略，或者基于先前系统抽取结果上构建大规模 pattern；如 NELL（Never-EndingLanguage Learner）系统[25-26]，NELL 初始化一个本体和种子 pattern，从大规模的 Web 文本中学习，通过对学习到的内容进行打分来提高准确率，目前已经获得了 280 万个事实。\n",
    "    半监督学习主要是利用少量的标注信息进行学习，这方面的工作主要是基于 Bootstrap 的方法以及远程监督方法（distance supervision）。基于 Bootstrap 的方法 主要是利用少量实例作为初始种子(seed tuples)的集合，然后利用 pattern 学习方法进行学习，通过不断迭代从非结构化数据中抽取实例，然后从新学到的实例中学习新的 pattern 并扩充 pattern 集合，寻找和发现新的潜在关系三元组。远程监督 方法主要是对知识库与非结构化文本对齐来自动构建大量训练数据，减少模型对人工标注数据的依赖，增强模型跨领域适应能力。\n"
   ]
  },
  {
   "cell_type": "markdown",
   "metadata": {
    "heading_collapsed": true
   },
   "source": [
    "# 知识表示"
   ]
  },
  {
   "cell_type": "raw",
   "metadata": {
    "hidden": true
   },
   "source": [
    "https://blog.csdn.net/weixin_40871455/article/details/83341561?utm_source=distribute.pc_relevant.none-task\n",
    "https://zhidao.baidu.com/question/1835182356821350140.html 向量加减\n",
    "https://blog.csdn.net/sinat_36972314/article/details/81394246 知识图谱之知识表示\n",
    "https://blog.csdn.net/sinat_28978363/article/details/88633698?utm_source=distribute.pc_relevant.none-task 基于知识图谱的表示学习——Trans系列算法介绍\n",
    "https://blog.csdn.net/weixin_40449300/article/details/88771302?utm_source=distribute.pc_relevant.none-task 【知识图谱】——8种Trans模型 ！！！\n",
    "\n",
    "    在社交网络分析上，知识图谱补全和链接预测很相似，但是由于以下原因知识图谱补有更多的挑战：\n",
    "（1）知识图谱中的实体具有不同的类型和属性；\n",
    "（2）知识图谱中的关系具有不同的类型。对于知识图谱补全，我们不仅要判断两个实体之间是否有关系，而且还要预测关系的具体类型。\n",
    " 由于这个原因，传统的链接预测的方法并不能胜任知识图谱补全。近年来，一种很有前景的方法被应用到知识图谱补全，它将知识图谱嵌入到一个连续的向量空间并且保留一定的图中的信息。\n",
    "\n",
    "    知识表示学习是面向知识库中实体和关系的表示学习．通过将实体或关系投影到低维向量空间，我们能够实现对实体和关系的语义信息的表示，可以高效地计算实体、关系及其之间的复杂语义关联．这对知识库的构建、推理与应用均有重要意义．\n",
    "    \n",
    "    知识表示学习得到的分布式表示有以下典型应用：\n",
    " 1) 相似度计算．利用实体的分布式表示，我们可以快速计算实体间的语义相似度，这对于自然语言处理和信息检索的很多任务具有重要意义．\n",
    " 2) 知识图谱补全．构建大规模知识图谱，需要不断补充实体间的关系．利用知识表示学习模型，可以预测2个实体的关系，这一般称为知识库的链接预测(1inkprediction)，又称为知识图谱补全(know一1edgegraph．completion)．\n",
    " 3) 其他应用．知识表示学习已被广泛用于关系抽取、自动问答、实体链指等任务，展现出巨大的应用潜力．随着深度学习在自然语言处理各项重要任务中得到广泛应用，这将为知识表示学习带来更广阔的应用空间．    \n"
   ]
  }
 ],
 "metadata": {
  "kernelspec": {
   "display_name": "Python 3",
   "language": "python",
   "name": "python3"
  },
  "language_info": {
   "codemirror_mode": {
    "name": "ipython",
    "version": 3
   },
   "file_extension": ".py",
   "mimetype": "text/x-python",
   "name": "python",
   "nbconvert_exporter": "python",
   "pygments_lexer": "ipython3",
   "version": "3.7.4"
  },
  "toc": {
   "base_numbering": 1,
   "nav_menu": {},
   "number_sections": true,
   "sideBar": true,
   "skip_h1_title": false,
   "title_cell": "Table of Contents",
   "title_sidebar": "Contents",
   "toc_cell": false,
   "toc_position": {},
   "toc_section_display": true,
   "toc_window_display": false
  },
  "varInspector": {
   "cols": {
    "lenName": 16,
    "lenType": 16,
    "lenVar": 40
   },
   "kernels_config": {
    "python": {
     "delete_cmd_postfix": "",
     "delete_cmd_prefix": "del ",
     "library": "var_list.py",
     "varRefreshCmd": "print(var_dic_list())"
    },
    "r": {
     "delete_cmd_postfix": ") ",
     "delete_cmd_prefix": "rm(",
     "library": "var_list.r",
     "varRefreshCmd": "cat(var_dic_list()) "
    }
   },
   "types_to_exclude": [
    "module",
    "function",
    "builtin_function_or_method",
    "instance",
    "_Feature"
   ],
   "window_display": false
  }
 },
 "nbformat": 4,
 "nbformat_minor": 2
}
