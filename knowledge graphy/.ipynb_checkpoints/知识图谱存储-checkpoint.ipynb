{
 "cells": [
  {
   "cell_type": "raw",
   "metadata": {},
   "source": [
    "https://neo4j.com/docs/getting-started/current/\n",
    "https://www.tutorialspoint.com/neo4j/index.htm\n",
    "https://neo4j.com/docs/cypher-manual/4.0/introduction/neo4j-databases-graphs/ \n",
    "https://neo4j.com/developer/example-project/ 例子\n",
    "https://py2neo.org/v4/database.html py2neo"
   ]
  },
  {
   "cell_type": "code",
   "execution_count": 25,
   "metadata": {},
   "outputs": [
    {
     "name": "stdout",
     "output_type": "stream",
     "text": [
      "[{'P.name': '小数的读法'}, {'P.name': '小数的意义'}, {'P.name': '小数的写法'}, {'P.name': '比较小数的大小'}, {'P.name': '小数的分类'}]\n"
     ]
    }
   ],
   "source": [
    "from py2neo import Graph\n",
    "graph = Graph(uri='bolt://127.0.0.1:7687',auth=('neo4j','654321')) \n",
    "kdata = graph.run(\"MATCH (k:Knowledge) RETURN k.name LIMIT 10\").data() \n",
    "rdata = graph.run(\"MATCH (K:Knowledge {name:'小数'}) - [:INCLUDE] -> (P:Knowledge {name:'小数的意义'}) RETURN P.name \").data()\n",
    "print(rdata)"
   ]
  },
  {
   "cell_type": "code",
   "execution_count": 22,
   "metadata": {},
   "outputs": [
    {
     "name": "stdout",
     "output_type": "stream",
     "text": [
      "[{'K': (_281:Knowledge {name: '\\u5c0f\\u6570', title: '\\u6570\\u548c\\u6570\\u7684\\u8fd0\\u7b97\\u6982\\u5ff5'}), 'P': (_283:Knowledge {detail: '\\u8bfb\\u5c0f\\u6570\\u7684\\u65f6\\u5019\\uff0c\\u6574\\u6570\\u90e8\\u5206\\u6309\\u7167\\u6574\\u6570\\u7684\\u8bfb\\u6cd5\\u8bfb\\uff0c\\u5c0f\\u6570\\u70b9\\u8bfb\\u4f5c\\u201c\\u70b9\\u201d\\uff0c\\u5c0f\\u6570\\u90e8\\u5206\\u4ece\\u5de6\\u5411\\u53f3\\u987a\\u6b21\\u8bfb\\u51fa\\u6bcf\\u4e00\\u4f4d\\u6570\\u4f4d\\u4e0a\\u7684\\u6570\\u5b57\\u3002', name: '\\u5c0f\\u6570\\u7684\\u8bfb\\u6cd5', title: '\\u5c0f\\u6570'})}, {'K': (_281:Knowledge {name: '\\u5c0f\\u6570', title: '\\u6570\\u548c\\u6570\\u7684\\u8fd0\\u7b97\\u6982\\u5ff5'}), 'P': (_282:Knowledge {detail: '\\u628a\\u6574\\u65701\\u5e73\\u5747\\u5206\\u621010\\u4efd\\u3001100\\u4efd\\u30011000\\u4efd\\u2026\\u2026 \\u5f97\\u5230\\u7684\\u5341\\u5206\\u4e4b\\u51e0\\u3001\\u767e\\u5206\\u4e4b\\u51e0\\u3001\\u5343\\u5206\\u4e4b\\u51e0\\u2026\\u2026 \\u53ef\\u4ee5\\u7528\\u5c0f\\u6570\\u8868\\u793a\\u3002\\u59821/10\\u8bb0\\u4f5c0.1,7/100\\u8bb0\\u4f5c0.07\\u3002 \\u4e00\\u4f4d\\u5c0f\\u6570\\u8868\\u793a\\u5341\\u5206\\u4e4b\\u51e0\\uff0c\\u4e24\\u4f4d\\u5c0f\\u6570\\u8868\\u793a\\u767e\\u5206\\u4e4b\\u51e0\\uff0c\\u4e09\\u4f4d\\u5c0f\\u6570\\u8868\\u793a\\u5343\\u5206\\u4e4b\\u51e0\\u2026\\u2026 \\u4e00\\u4e2a\\u5c0f\\u6570\\u7531\\u6574\\u6570\\u90e8\\u5206\\u3001\\u5c0f\\u6570\\u90e8\\u5206\\u548c\\u5c0f\\u6570\\u70b9\\u90e8\\u5206\\u7ec4\\u6210\\u3002\\u6570\\u4e2d\\u7684\\u5706\\u70b9\\u53eb\\u505a\\u5c0f\\u6570\\u70b9\\uff0c\\u5c0f\\u6570\\u70b9\\u5de6\\u8fb9\\u7684\\u6570\\u53eb\\u505a\\u6574\\u6570\\u90e8\\u5206\\uff0c\\u5c0f\\u6570\\u70b9\\u5de6\\u8fb9\\u7684\\u6570\\u53eb\\u505a\\u6574\\u6570\\u90e8\\u5206\\uff0c\\u5c0f\\u6570\\u70b9\\u53f3\\u8fb9\\u7684\\u6570\\u53eb\\u505a\\u5c0f\\u6570\\u90e8\\u5206\\u3002\\u5c0f\\u6570\\u70b9\\u53f3\\u8fb9\\u7b2c\\u4e00\\u4f4d\\u53eb\\u5341\\u5206\\u4f4d\\uff0c\\u8ba1\\u6570\\u5355\\u4f4d\\u662f\\u5341\\u5206\\u4e4b\\u4e00\\uff080.1\\uff09\\uff1b\\u7b2c\\u4e8c\\u4f4d\\u53eb\\u767e\\u5206\\u4f4d\\uff0c\\u8ba1\\u6570\\u5355\\u4f4d\\u662f\\u767e\\u5206\\u4e4b\\u4e00\\uff080.01\\uff09\\u2026\\u2026\\u5c0f\\u6570\\u90e8\\u5206\\u6700\\u5927\\u7684\\u8ba1\\u6570\\u5355\\u4f4d\\u662f\\u5341\\u5206\\u4e4b\\u4e00\\uff0c\\u6ca1\\u6709\\u6700\\u5c0f\\u7684\\u8ba1\\u6570\\u5355\\u4f4d\\u3002\\u5c0f\\u6570\\u90e8\\u5206\\u6709\\u51e0\\u4e2a\\u6570\\u4f4d\\uff0c\\u5c31\\u53eb\\u505a\\u51e0\\u4f4d\\u5c0f\\u6570\\u3002\\u59820.36\\u662f\\u4e24\\u4f4d\\u5c0f\\u6570\\uff0c3.066\\u662f\\u4e09\\u4f4d\\u5c0f\\u6570   \\u5728\\u5c0f\\u6570\\u91cc\\uff0c\\u6bcf\\u76f8\\u90bb\\u4e24\\u4e2a\\u8ba1\\u6570\\u5355\\u4f4d\\u4e4b\\u95f4\\u7684\\u8fdb\\u7387\\u90fd\\u662f10\\u3002\\u5c0f\\u6570\\u90e8\\u5206\\u7684\\u6700\\u9ad8\\u5206\\u6570\\u5355\\u4f4d\\u201c\\u5341\\u5206\\u4e4b\\u4e00\\u201d\\u548c\\u6574\\u6570\\u90e8\\u5206\\u7684\\u6700\\u4f4e\\u5355\\u4f4d\\u201c\\u4e00\\u201d\\u4e4b\\u95f4\\u7684\\u8fdb\\u7387\\u4e5f\\u662f10\\u3002', name: '\\u5c0f\\u6570\\u7684\\u610f\\u4e49', title: '\\u5c0f\\u6570'})}, {'K': (_281:Knowledge {name: '\\u5c0f\\u6570', title: '\\u6570\\u548c\\u6570\\u7684\\u8fd0\\u7b97\\u6982\\u5ff5'}), 'P': (_284:Knowledge {detail: '\\u5199\\u5c0f\\u6570\\u7684\\u65f6\\u5019\\uff0c\\u6574\\u6570\\u90e8\\u5206\\u6309\\u7167\\u6574\\u6570\\u7684\\u5199\\u6cd5\\u6765\\u5199\\uff0c\\u5c0f\\u6570\\u70b9\\u5199\\u5728\\u4e2a\\u4f4d\\u53f3\\u4e0b\\u89d2\\uff0c\\u5c0f\\u6570\\u90e8\\u5206\\u987a\\u6b21\\u5199\\u51fa\\u6bcf\\u4e00\\u4e2a\\u6570\\u4f4d\\u4e0a\\u7684\\u6570\\u5b57\\u3002', name: '\\u5c0f\\u6570\\u7684\\u5199\\u6cd5', title: '\\u5c0f\\u6570'})}, {'K': (_281:Knowledge {name: '\\u5c0f\\u6570', title: '\\u6570\\u548c\\u6570\\u7684\\u8fd0\\u7b97\\u6982\\u5ff5'}), 'P': (_285:Knowledge {detail: '\\u5148\\u770b\\u5b83\\u4eec\\u7684\\u6574\\u6570\\u90e8\\u5206\\uff0c\\uff0c\\u6574\\u6570\\u90e8\\u5206\\u5927\\u7684\\u90a3\\u4e2a\\u6570\\u5c31\\u5927\\uff1b\\u6574\\u6570\\u90e8\\u5206\\u76f8\\u540c\\u7684\\uff0c\\u5341\\u5206\\u4f4d\\u4e0a\\u7684\\u6570\\u5927\\u7684\\u90a3\\u4e2a\\u6570\\u5c31\\u5927\\uff1b\\u5341\\u5206\\u4f4d\\u4e0a\\u7684\\u6570\\u4e5f\\u76f8\\u540c\\u7684\\uff0c\\u767e\\u5206\\u4f4d\\u4e0a\\u7684\\u6570\\u5927\\u7684\\u90a3\\u4e2a\\u6570\\u5c31\\u5927\\u2026\\u2026', name: '\\u6bd4\\u8f83\\u5c0f\\u6570\\u7684\\u5927\\u5c0f', title: '\\u5c0f\\u6570'})}, {'K': (_281:Knowledge {name: '\\u5c0f\\u6570', title: '\\u6570\\u548c\\u6570\\u7684\\u8fd0\\u7b97\\u6982\\u5ff5'}), 'P': (_0:Knowledge {name: '\\u5c0f\\u6570\\u7684\\u5206\\u7c7b', title: '\\u5c0f\\u6570'})}]\n"
     ]
    }
   ],
   "source": [
    "print(rdata)"
   ]
  },
  {
   "cell_type": "code",
   "execution_count": null,
   "metadata": {},
   "outputs": [],
   "source": []
  }
 ],
 "metadata": {
  "kernelspec": {
   "display_name": "Python 3",
   "language": "python",
   "name": "python3"
  },
  "language_info": {
   "codemirror_mode": {
    "name": "ipython",
    "version": 3
   },
   "file_extension": ".py",
   "mimetype": "text/x-python",
   "name": "python",
   "nbconvert_exporter": "python",
   "pygments_lexer": "ipython3",
   "version": "3.7.4"
  },
  "toc": {
   "base_numbering": 1,
   "nav_menu": {},
   "number_sections": true,
   "sideBar": true,
   "skip_h1_title": false,
   "title_cell": "Table of Contents",
   "title_sidebar": "Contents",
   "toc_cell": false,
   "toc_position": {},
   "toc_section_display": true,
   "toc_window_display": false
  },
  "varInspector": {
   "cols": {
    "lenName": 16,
    "lenType": 16,
    "lenVar": 40
   },
   "kernels_config": {
    "python": {
     "delete_cmd_postfix": "",
     "delete_cmd_prefix": "del ",
     "library": "var_list.py",
     "varRefreshCmd": "print(var_dic_list())"
    },
    "r": {
     "delete_cmd_postfix": ") ",
     "delete_cmd_prefix": "rm(",
     "library": "var_list.r",
     "varRefreshCmd": "cat(var_dic_list()) "
    }
   },
   "types_to_exclude": [
    "module",
    "function",
    "builtin_function_or_method",
    "instance",
    "_Feature"
   ],
   "window_display": false
  }
 },
 "nbformat": 4,
 "nbformat_minor": 2
}
