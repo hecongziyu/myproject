{
 "cells": [
  {
   "cell_type": "raw",
   "metadata": {},
   "source": []
  },
  {
   "cell_type": "raw",
   "metadata": {},
   "source": [
    "\n",
    "http://zhishi.me/api ！！！ 国内的http://Zhishi.me从开放的百科数据中抽取结构化数据，当前已融合了包括百度百科、互动百科、中文维基三大百科的数据，拥有1000万个实体数据、一亿两千万个RDF三元组\n",
    "\n",
    "1、https://github.com/lemonhu/stock-knowledge-graph \n",
    "2、https://link.springer.com/chapter/10.1007%2F978-3-319-97289-3_8\n",
    "3、https://towardsdatascience.com/aifortrading-2edd6fac689d\n",
    "4、https://www.ctolib.com/sangyx-deep-stock.html\n",
    "5、https://arxiv.org/pdf/2003.01859.pdf\n",
    "6、https://arxiv.org/pdf/1809.09441.pdf\n",
    "7、https://arxiv.org/pdf/1909.10660.pdf\n",
    "8、https://www.aclweb.org/anthology/C16-1201.pdf\n",
    "9、https://www.zhihu.com/question/54504471 图卷积网络\n",
    "10、https://blog.csdn.net/qq_36793545/article/details/84844867\n",
    "11、https://blog.csdn.net/lijunweiyhn/article/details/87926425\n",
    "12、!!! https://blog.csdn.net/weixin_40013463/article/details/81089223?utm_medium=distribute.pc_relevant.none-task-blog-BlogCommendFromMachineLearnPai2-2.nonecase&depth_1-utm_source=distribute.pc_relevant.none-task-blog-BlogCommendFromMachineLearnPai2-2.nonecase\n",
    "13、 http://proceedings.mlr.press/v48/niepert16.pdf Learning Convolutional Neural Networks for Graphs ！\n",
    "14、https://zhuanlan.zhihu.com/p/54525205 GCN的简单实现（pytorch）\n",
    "15、https://www.zhihu.com/question/305395488 graph convolutional network有什么比较好的应用   ！！！！！！！！！！！！！\n",
    "16、https://blog.csdn.net/qq_41995574/article/details/99931294 在GCN中引入注意力机制——GAT\n",
    "17、https://blog.csdn.net/r1254/article/details/88399485?utm_medium=distribute.pc_relevant.none-task-blog-BlogCommendFromMachineLearnPai2-11.nonecase&depth_1-utm_source=distribute.pc_relevant.none-task-blog-BlogCommendFromMachineLearnPai2-11.nonecase  Graph Convolutional Networks for Text Classification阅读笔记 ！！！！！！\n",
    "18、https://www.zhihu.com/question/54504471 如何理解 Graph Convolutional Network（GCN）？ ！！！！！！！！！！！！！！！！！！！！！ \n",
    "14、https://blog.csdn.net/qq_41995574/article/details/99712339?utm_medium=distribute.pc_relevant.none-task-blog-baidujs-4 ！！！\n",
    "12、https://baijiahao.baidu.com/s?id=1651421160406506321&wfr=spider&for=pc  CIKM最佳应用论文：11亿节点的大型图，闲鱼用图卷积过滤垃圾评论\n",
    "7、https://www.google.com/search?q=Stock+Price+Movement+Prediction+from+Financial+News+with+Deep+Learning+and+Knowledge+Graph+Embedding&ei=2CPnXo7cK7WSr7wP5IaOmAg&start=10&sa=N&ved=2ahUKEwiOqObVpoPqAhU1yYsBHWSDA4MQ8NMDegQICxBA&biw=1366&bih=654\n"
   ]
  },
  {
   "cell_type": "raw",
   "metadata": {},
   "source": [
    "https://baijiahao.baidu.com/s?id=1633127045731574322&wfr=spider&for=pc 金融领域中的自然语言处理，弄懂这五个问题就够了\n",
    "根据上文其将实体关系划分成： 竞争对手、支柱产业、对外投资、高管等方面 ， "
   ]
  },
  {
   "cell_type": "markdown",
   "metadata": {
    "heading_collapsed": true
   },
   "source": [
    "# 数据采集"
   ]
  },
  {
   "cell_type": "code",
   "execution_count": 14,
   "metadata": {
    "ExecuteTime": {
     "end_time": "2020-04-27T08:04:51.364740Z",
     "start_time": "2020-04-27T08:04:51.355745Z"
    },
    "hidden": true
   },
   "outputs": [],
   "source": [
    "'''\n",
    "新闻\n",
    "基本知识：类别，同类别产品\n",
    "'''\n",
    "\n",
    "from fake_useragent import UserAgent\n",
    "\n",
    "ua = UserAgent()\n",
    "# print(ua.random)\n",
    "agent = ua.random\n",
    "\n",
    "headers={\"User-Agent\":agent}"
   ]
  },
  {
   "cell_type": "code",
   "execution_count": 1,
   "metadata": {
    "ExecuteTime": {
     "end_time": "2020-05-12T08:20:29.534712Z",
     "start_time": "2020-05-12T08:20:29.520718Z"
    },
    "hidden": true
   },
   "outputs": [
    {
     "data": {
      "text/plain": [
       "'\\n处理流程：\\n1、访问http://vip.stock.finance.sina.com.cn/quotes_service/api/json_v2.php/Market_Center.getHQNodes，并保存，得到概念的编码\\n2、调用http://vip.stock.finance.sina.com.cn/quotes_service/api/json_v2.php/Market_Center.getHQNodeData?page=1&num=200&sort=symbol&asc=1&node=chgn_700896&symbol=&_s_r_a=setlen\\n   替换概念代码得到所有编码\\n'"
      ]
     },
     "execution_count": 1,
     "metadata": {},
     "output_type": "execute_result"
    }
   ],
   "source": [
    "'''\n",
    "基本信息，取出中文名、所在行业、概念\n",
    "1、https://blog.csdn.net/Xidian2850/article/details/103121087?depth_1-utm_source=distribute.pc_relevant.none-task-blog-OPENSEARCH-4&utm_source=distribute.pc_relevant.none-task-blog-OPENSEARCH-4\n",
    "'''\n",
    "\n",
    "# url = 'http://vip.stock.finance.sina.com.cn/corp/go.php/vCI_CorpOtherInfo/stockid/002261/menu_num/2.phtml'\n",
    "# url = 'http://hq.sinajs.cn/list=sh601006'\n",
    "# url = 'https://hq.sinajs.cn/rn=1587975245746&list=sz002261' # 实时行情\n",
    "# url = 'http://vip.stock.finance.sina.com.cn/mkt/#chgn_700896' # 概念详情况，股票信息\n",
    "# http://vip.stock.finance.sina.com.cn/quotes_service/api/json_v2.php/Market_Center.getHQNodeData?page=1&num=100&sort=symbol&asc=1&node=chgn_700896&symbol=&_s_r_a=setlen\n",
    "# url = 'http://vip.stock.finance.sina.com.cn/quotes_service/api/json_v2.php/Market_Center.getHQNodes'  # 行业，热门概念信息\n",
    "\n",
    "'''\n",
    "处理流程：\n",
    "1、访问http://vip.stock.finance.sina.com.cn/quotes_service/api/json_v2.php/Market_Center.getHQNodes，并保存，得到概念的编码\n",
    "2、调用http://vip.stock.finance.sina.com.cn/quotes_service/api/json_v2.php/Market_Center.getHQNodeData?page=1&num=200&sort=symbol&asc=1&node=chgn_700896&symbol=&_s_r_a=setlen\n",
    "   替换概念代码得到所有编码\n",
    "'''\n",
    "\n",
    "\n",
    "\n",
    "\n"
   ]
  },
  {
   "cell_type": "code",
   "execution_count": 10,
   "metadata": {
    "ExecuteTime": {
     "end_time": "2020-04-27T08:03:28.191579Z",
     "start_time": "2020-04-27T08:03:28.035748Z"
    },
    "hidden": true
   },
   "outputs": [],
   "source": [
    "??requests.get"
   ]
  },
  {
   "cell_type": "markdown",
   "metadata": {
    "heading_collapsed": true
   },
   "source": [
    "# 关系"
   ]
  },
  {
   "cell_type": "markdown",
   "metadata": {
    "heading_collapsed": true,
    "hidden": true
   },
   "source": [
    "## 基于类别关系 "
   ]
  },
  {
   "cell_type": "code",
   "execution_count": 30,
   "metadata": {
    "ExecuteTime": {
     "end_time": "2020-05-12T09:57:42.099318Z",
     "start_time": "2020-05-12T09:57:36.520595Z"
    },
    "hidden": true
   },
   "outputs": [
    {
     "name": "stdout",
     "output_type": "stream",
     "text": [
      "create over \n"
     ]
    }
   ],
   "source": [
    "'''\n",
    "创建实体，关系\n",
    "实体关系\n",
    "1、概念（如：在线教育）：包括（Include）：股票 （属性：代码、总股本、近一个月平均价）\n",
    "2、股票主：股价相关性（属性：正向，关联系数）：股票副\n",
    "'''\n",
    "\n",
    "from py2neo import Graph\n",
    "from root import get_root_path\n",
    "from lib.utils.sdata_gather import StockDataGather\n",
    "import os\n",
    "graph = Graph(uri='bolt://127.0.0.1:7687',auth=('neo4j','654321')) \n",
    "# 新建概念信息\n",
    "# create_concept = 'CREATE (OnlineEducation:Concept {title:\\'OnlineEducation\\',name:\\'在线教育\\', code:\\'' + 'chgn_700185' + '\\'})'\n",
    "# graph.run(create_concept)\n",
    "\n",
    "# 新建该概念下的股票信息\n",
    "create_stock = '''CREATE (Stock%s:Stock {name:'%s', code:'%s'})'''\n",
    "# create_stock_r_concept = 'CREATE (OnlineEducation) - [:CONTAIN] - (Stock%s)'\n",
    "create_stock_r_concept = '''MATCH (K1:Concept {title:'OnlineEducation'}), (K2:Stock {code:'%s'}) CREATE (K1) - [:CONTAIN] -> (K2)'''\n",
    "\n",
    "gather = StockDataGather(os.path.sep.join([get_root_path(),'data']))\n",
    "stocks = gather.get_concept_stocks('在线教育')\n",
    "# print(len(stocks))\n",
    "for item in stocks:\n",
    "    code = item['symbol'].replace('sh','').replace('sz','')\n",
    "    crs = create_stock % (code,item['name'],code)\n",
    "    cr_r_s = create_stock_r_concept % (code)\n",
    "    graph.run(crs)\n",
    "    graph.run(cr_r_s)\n",
    "\n",
    "print('create over ')\n"
   ]
  },
  {
   "cell_type": "code",
   "execution_count": 10,
   "metadata": {
    "ExecuteTime": {
     "end_time": "2020-05-15T08:25:36.428127Z",
     "start_time": "2020-05-15T08:25:36.387149Z"
    },
    "hidden": true
   },
   "outputs": [
    {
     "ename": "TypeError",
     "evalue": "'numpy.int32' object is not callable",
     "output_type": "error",
     "traceback": [
      "\u001b[1;31m---------------------------------------------------------------------------\u001b[0m",
      "\u001b[1;31mTypeError\u001b[0m                                 Traceback (most recent call last)",
      "\u001b[1;32m<ipython-input-10-0015c02447a9>\u001b[0m in \u001b[0;36m<module>\u001b[1;34m\u001b[0m\n\u001b[0;32m      7\u001b[0m \u001b[0mrel_query\u001b[0m \u001b[1;33m=\u001b[0m \u001b[1;34m'''MATCH (C:Concept {name:'%s'}) -[:CONTAIN] -> (S:Stock) RETURN S'''\u001b[0m\u001b[1;33m\u001b[0m\u001b[1;33m\u001b[0m\u001b[0m\n\u001b[0;32m      8\u001b[0m \u001b[0mdetail\u001b[0m \u001b[1;33m=\u001b[0m \u001b[0mgraph\u001b[0m\u001b[1;33m.\u001b[0m\u001b[0mrun\u001b[0m\u001b[1;33m(\u001b[0m\u001b[0mrel_query\u001b[0m \u001b[1;33m%\u001b[0m \u001b[1;33m(\u001b[0m\u001b[1;34m'在线教育'\u001b[0m\u001b[1;33m)\u001b[0m\u001b[1;33m)\u001b[0m\u001b[1;33m.\u001b[0m\u001b[0mto_data_frame\u001b[0m\u001b[1;33m(\u001b[0m\u001b[1;33m)\u001b[0m\u001b[1;33m\u001b[0m\u001b[1;33m\u001b[0m\u001b[0m\n\u001b[1;32m----> 9\u001b[1;33m \u001b[0mprint\u001b[0m\u001b[1;33m(\u001b[0m\u001b[0mtype\u001b[0m\u001b[1;33m(\u001b[0m\u001b[0mdetail\u001b[0m\u001b[1;33m)\u001b[0m\u001b[1;33m,\u001b[0m \u001b[0mdetail\u001b[0m\u001b[1;33m.\u001b[0m\u001b[0msize\u001b[0m\u001b[1;33m(\u001b[0m\u001b[1;33m)\u001b[0m\u001b[1;33m)\u001b[0m\u001b[1;33m\u001b[0m\u001b[1;33m\u001b[0m\u001b[0m\n\u001b[0m\u001b[0;32m     10\u001b[0m \u001b[1;31m# print(detail.iloc(0,0))\u001b[0m\u001b[1;33m\u001b[0m\u001b[1;33m\u001b[0m\u001b[1;33m\u001b[0m\u001b[0m\n\u001b[0;32m     11\u001b[0m \u001b[1;31m# print(detail[0])\u001b[0m\u001b[1;33m\u001b[0m\u001b[1;33m\u001b[0m\u001b[1;33m\u001b[0m\u001b[0m\n",
      "\u001b[1;31mTypeError\u001b[0m: 'numpy.int32' object is not callable"
     ]
    }
   ],
   "source": [
    "# https://blog.csdn.net/sinat_26917383/article/details/79901207 py2neo查询方式\n",
    "from py2neo import Graph\n",
    "from root import get_root_path\n",
    "from lib.utils.sdata_gather import StockDataGather\n",
    "import os\n",
    "graph = Graph(uri='bolt://127.0.0.1:7687',auth=('neo4j','654321')) \n",
    "rel_query = '''MATCH (C:Concept {name:'%s'}) -[:CONTAIN] -> (S:Stock) RETURN S'''\n",
    "detail = graph.run(rel_query % ('在线教育')).data()\n",
    "print(type(detail), detail.size())\n",
    "# print(detail.iloc(0,0))\n",
    "# print(detail[0])\n",
    "# print(detail[0].get('S').get('code'))\n",
    "# for item in detail:\n",
    "#     print(item['S'].get('code'),item['S'].get('name'))"
   ]
  },
  {
   "cell_type": "markdown",
   "metadata": {
    "hidden": true
   },
   "source": [
    "## 基于数据关系 "
   ]
  },
  {
   "cell_type": "code",
   "execution_count": null,
   "metadata": {
    "hidden": true
   },
   "outputs": [],
   "source": []
  }
 ],
 "metadata": {
  "kernelspec": {
   "display_name": "Python 3",
   "language": "python",
   "name": "python3"
  },
  "language_info": {
   "codemirror_mode": {
    "name": "ipython",
    "version": 3
   },
   "file_extension": ".py",
   "mimetype": "text/x-python",
   "name": "python",
   "nbconvert_exporter": "python",
   "pygments_lexer": "ipython3",
   "version": "3.7.4"
  },
  "varInspector": {
   "cols": {
    "lenName": 16,
    "lenType": 16,
    "lenVar": 40
   },
   "kernels_config": {
    "python": {
     "delete_cmd_postfix": "",
     "delete_cmd_prefix": "del ",
     "library": "var_list.py",
     "varRefreshCmd": "print(var_dic_list())"
    },
    "r": {
     "delete_cmd_postfix": ") ",
     "delete_cmd_prefix": "rm(",
     "library": "var_list.r",
     "varRefreshCmd": "cat(var_dic_list()) "
    }
   },
   "types_to_exclude": [
    "module",
    "function",
    "builtin_function_or_method",
    "instance",
    "_Feature"
   ],
   "window_display": false
  }
 },
 "nbformat": 4,
 "nbformat_minor": 2
}
