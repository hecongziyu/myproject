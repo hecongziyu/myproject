{
 "cells": [
  {
   "cell_type": "raw",
   "metadata": {},
   "source": [
    "\n",
    "1、学生进入知识点后，检测知识点前置知识点，得到前置知识点权重，并根据学生在前置知识点的学习成绩，预测学生在该知识点可能的掌握情况，并规划学习路径\n",
    "2、学生进入知识点后，检测知识点前置知识点，得到前置知识点权重，根据预测模型，预测学生在前置知识点的掌握情况\n",
    "\n",
    "以“平行四边形面积”知识点学习为场景"
   ]
  },
  {
   "cell_type": "markdown",
   "metadata": {},
   "source": [
    "# 生成学生模拟表现数据"
   ]
  },
  {
   "cell_type": "code",
   "execution_count": 9,
   "metadata": {
    "ExecuteTime": {
     "end_time": "2020-03-20T01:57:29.721694Z",
     "start_time": "2020-03-20T01:57:28.953148Z"
    }
   },
   "outputs": [
    {
     "name": "stdout",
     "output_type": "stream",
     "text": [
      "      K1  K2  K3  K4  K5  K6  K7  K8  K9  K10  K0 NAME\n",
      "0     83  80  80  76  73  75  80  80  62   88  77   陈涛\n",
      "1     89  80  83  83  76  71  80  87  74   75  82   李伟\n",
      "2     76  73  70  75  67  71  77  82  85   71  70   位想\n",
      "3     77  77  77  76  84  81  84  88  84   68  76  栗红梅\n",
      "4     85  87  81  86  70  72  67  89  85   73  81   蔡文\n",
      "...   ..  ..  ..  ..  ..  ..  ..  ..  ..  ...  ..  ...\n",
      "2995  76  62  72  72  86  83  75  85  86   82  78  段玉梅\n",
      "2996  77  82  79  79  63  58  68  84  84   77  76   关凯\n",
      "2997  86  84  89  85  76  79  77  70  72   73  80  刘淑兰\n",
      "2998  82  69  78  76  83  83  76  85  89   63  76  顾小红\n",
      "2999  73  78  79  78  77  73  66  68  75   66  72  曾淑华\n",
      "\n",
      "[3000 rows x 12 columns]\n"
     ]
    }
   ],
   "source": [
    "# 使用 python faker\n",
    "import faker\n",
    "import scipy.stats as stats\n",
    "import pandas as pd\n",
    "import numpy as np\n",
    "\n",
    "K_MAP = {'K0':'平行四边形计算公式', 'K1':'整数加法', 'K2':'整数减法', 'K3':'整数乘法', 'K4':'整数除法','K5':'常用的面积单位',\n",
    "         'K6':'单位之间的换算','K7':'货币单位换算','K8':'质量常用换算','K9':'时间单位换算','K10':'鸡兔问题'}\n",
    "\n",
    "gen_size = 3000\n",
    "\n",
    "# 生成范围之内的正太分布数据\n",
    "def gen_k_performance(lower=60,uper=95, mu=80,sigma=10, size=1000):\n",
    "    x = stats.truncnorm(int((lower-mu)/sigma), int((uper-mu)/sigma), mu, sigma)\n",
    "    data = x.rvs(size)\n",
    "    data = data.astype(np.int)\n",
    "    return data\n",
    "\n",
    "# 生成模拟成绩数据\n",
    "def gen_all_data(size=1000):\n",
    "    data = {}\n",
    "    data['K1'] = gen_k_performance(size=size)\n",
    "    data['K2'] = gen_k_performance(size=size)\n",
    "    data['K3'] = ((data['K1'] + data['K2']) / 2).astype(np.int) + np.random.randint(-5,5,size)\n",
    "    data['K4'] = ((data['K1'] + data['K2']) / 2).astype(np.int) + np.random.randint(-5,5,size)\n",
    "    data['K5'] = gen_k_performance(size=size)\n",
    "    data['K6'] = data['K5'] + np.random.randint(-5,5,size)\n",
    "    data['K7'] = gen_k_performance(size=size)\n",
    "    data['K8'] = gen_k_performance(size=size)\n",
    "    data['K9']=  gen_k_performance(size=size)\n",
    "    data['K10'] = gen_k_performance(size=size)\n",
    "    data['K0'] = ((data['K3'] + data['K4'] + data['K6']) / 3).astype(np.int) +  np.random.randint(-5,5,size)\n",
    "    return data\n",
    "\n",
    "fk = faker.Faker(locale='zh-CN')\n",
    "s_names = np.array([fk.name() for _ in range(gen_size)])\n",
    "p_data  = gen_all_data(gen_size)\n",
    "p_data_values = np.array([x.tolist() for x in p_data.values()])\n",
    "p_data =  pd.DataFrame(p_data_values.T, columns=p_data.keys())\n",
    "p_data['NAME'] = s_names\n",
    "p_data.to_csv('D:/PROJECT_TW/git/data/kg/s_performance.csv')\n",
    "print(p_data)\n",
    "\n",
    "\n"
   ]
  },
  {
   "cell_type": "markdown",
   "metadata": {},
   "source": [
    "# 模型训练"
   ]
  },
  {
   "cell_type": "code",
   "execution_count": null,
   "metadata": {},
   "outputs": [],
   "source": [
    "# 处理流程："
   ]
  },
  {
   "cell_type": "markdown",
   "metadata": {
    "heading_collapsed": true
   },
   "source": [
    "# 已有该学生历史成绩，规划学习路径"
   ]
  },
  {
   "cell_type": "code",
   "execution_count": null,
   "metadata": {
    "hidden": true
   },
   "outputs": [],
   "source": [
    "# MATCH (K1:Knowledge {name:'平行四边形计算公式'})-[relN:NEXT]- (K2:Knowledge) return K1,K2,relN\n",
    "# 注意：数据因为是模拟生成的不一定精准， 得到平行四边形计算前置的知识点包括：整数加、减、乘、除及常用面积单位，并得到影响权重系数\n",
    "# 根据学生历史成绩预测 本知识点可能的掌握情况， 并根据学生在该知识点想达到的目标，得到其它的前置知识点需要的最低掌握情况\n",
    "'''\n",
    "处理流程：\n",
    "1、训练贝叶斯模型（根据历史所有成绩）\n",
    "2、根据该学生成绩，预测知识点的掌握情况。（？是否可以根据权重系数来判断，？？？？？？）\n",
    "'''"
   ]
  },
  {
   "cell_type": "code",
   "execution_count": null,
   "metadata": {
    "hidden": true
   },
   "outputs": [],
   "source": []
  },
  {
   "cell_type": "markdown",
   "metadata": {
    "heading_collapsed": true
   },
   "source": [
    "# 无该学生历史成绩，预测学生前置知识点掌握情况"
   ]
  },
  {
   "cell_type": "code",
   "execution_count": null,
   "metadata": {
    "hidden": true
   },
   "outputs": [],
   "source": [
    "# 无学生历史成绩， 根据学生在该知识点的掌握情况（通过测试得到），得到其它前置知识点掌握情况\n"
   ]
  }
 ],
 "metadata": {
  "kernelspec": {
   "display_name": "Python 3",
   "language": "python",
   "name": "python3"
  },
  "language_info": {
   "codemirror_mode": {
    "name": "ipython",
    "version": 3
   },
   "file_extension": ".py",
   "mimetype": "text/x-python",
   "name": "python",
   "nbconvert_exporter": "python",
   "pygments_lexer": "ipython3",
   "version": "3.7.4"
  },
  "varInspector": {
   "cols": {
    "lenName": 16,
    "lenType": 16,
    "lenVar": 40
   },
   "kernels_config": {
    "python": {
     "delete_cmd_postfix": "",
     "delete_cmd_prefix": "del ",
     "library": "var_list.py",
     "varRefreshCmd": "print(var_dic_list())"
    },
    "r": {
     "delete_cmd_postfix": ") ",
     "delete_cmd_prefix": "rm(",
     "library": "var_list.r",
     "varRefreshCmd": "cat(var_dic_list()) "
    }
   },
   "types_to_exclude": [
    "module",
    "function",
    "builtin_function_or_method",
    "instance",
    "_Feature"
   ],
   "window_display": false
  }
 },
 "nbformat": 4,
 "nbformat_minor": 2
}
