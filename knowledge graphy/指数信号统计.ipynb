{
 "cells": [
  {
   "cell_type": "code",
   "execution_count": 28,
   "metadata": {},
   "outputs": [
    {
     "name": "stderr",
     "output_type": "stream",
     "text": [
      "D:\\PROJECT_TW\\git\\finance\\lib\\utils\\sdata.py:49: SettingWithCopyWarning: \n",
      "A value is trying to be set on a copy of a slice from a DataFrame.\n",
      "Try using .loc[row_indexer,col_indexer] = value instead\n",
      "\n",
      "See the caveats in the documentation: http://pandas.pydata.org/pandas-docs/stable/user_guide/indexing.html#returning-a-view-versus-a-copy\n",
      "  self.datas['Flag'] = list(map(lambda x: 0 if x <= buy else 1, self.datas.INCOME))\n"
     ]
    }
   ],
   "source": [
    "# 取数据\n",
    "from lib.utils.lmdb_dataset import get_dataset\n",
    "from root import get_root_path\n",
    "import lib.utils.sdata as sd\n",
    "import lib.model.index_model as im\n",
    "import importlib\n",
    "import os\n",
    "import numpy as np\n",
    "importlib.reload(sd)\n",
    "importlib.reload(im)\n",
    "code = '600893'\n",
    "db_path = os.path.sep.join([get_root_path(),'lmdb'])\n",
    "dataframe = get_dataset(db_path,code)\n",
    "sdata = sd.StockData(code, datas=dataframe)\n",
    "data = sdata.combine_income(ndays=5,buy=2)\n"
   ]
  },
  {
   "cell_type": "markdown",
   "metadata": {},
   "source": [
    "# 计算信号"
   ]
  },
  {
   "cell_type": "code",
   "execution_count": 44,
   "metadata": {},
   "outputs": [
    {
     "name": "stderr",
     "output_type": "stream",
     "text": [
      "d:\\project_tw\\twedu\\venv37\\lib\\site-packages\\pandas\\core\\generic.py:5208: SettingWithCopyWarning: \n",
      "A value is trying to be set on a copy of a slice from a DataFrame.\n",
      "Try using .loc[row_indexer,col_indexer] = value instead\n",
      "\n",
      "See the caveats in the documentation: http://pandas.pydata.org/pandas-docs/stable/user_guide/indexing.html#returning-a-view-versus-a-copy\n",
      "  self[name] = value\n"
     ]
    }
   ],
   "source": [
    "data_out_path = os.path.sep.join([get_root_path(),'data','train','{}_signal.txt'.format(code)])\n",
    "index_keys=['MACD','MFI','BBANDS','MFI','AROON','SAR','CCI']\n",
    "data_s = sdata.combine_index_signal(data, index_keys=index_keys)\n",
    "for ikey in index_keys:\n",
    "    data_s[ikey] = data_s[ikey].apply(lambda x: 'BS' if x==1 else 'HS')\n",
    "data_s['Flag'] = data_s['Flag'].apply(lambda x: 'BUY' if x ==1 else 'HOLD')\n",
    "data_s.rename(columns={'Flag':'ST'},inplace=True) \n",
    "index_keys.append('ST')\n",
    "data_s=data_s.dropna()\n",
    "data_s[index_keys]\n",
    "data_s[index_keys].to_csv(data_out_path, sep=',', index=False)"
   ]
  },
  {
   "cell_type": "code",
   "execution_count": null,
   "metadata": {},
   "outputs": [],
   "source": []
  }
 ],
 "metadata": {
  "kernelspec": {
   "display_name": "Python 3",
   "language": "python",
   "name": "python3"
  },
  "language_info": {
   "codemirror_mode": {
    "name": "ipython",
    "version": 3
   },
   "file_extension": ".py",
   "mimetype": "text/x-python",
   "name": "python",
   "nbconvert_exporter": "python",
   "pygments_lexer": "ipython3",
   "version": "3.7.4"
  },
  "toc": {
   "base_numbering": 1,
   "nav_menu": {},
   "number_sections": true,
   "sideBar": true,
   "skip_h1_title": false,
   "title_cell": "Table of Contents",
   "title_sidebar": "Contents",
   "toc_cell": false,
   "toc_position": {},
   "toc_section_display": true,
   "toc_window_display": false
  },
  "varInspector": {
   "cols": {
    "lenName": 16,
    "lenType": 16,
    "lenVar": 40
   },
   "kernels_config": {
    "python": {
     "delete_cmd_postfix": "",
     "delete_cmd_prefix": "del ",
     "library": "var_list.py",
     "varRefreshCmd": "print(var_dic_list())"
    },
    "r": {
     "delete_cmd_postfix": ") ",
     "delete_cmd_prefix": "rm(",
     "library": "var_list.r",
     "varRefreshCmd": "cat(var_dic_list()) "
    }
   },
   "types_to_exclude": [
    "module",
    "function",
    "builtin_function_or_method",
    "instance",
    "_Feature"
   ],
   "window_display": false
  }
 },
 "nbformat": 4,
 "nbformat_minor": 2
}
