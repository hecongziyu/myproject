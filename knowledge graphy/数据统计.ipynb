{
 "cells": [
  {
   "cell_type": "raw",
   "metadata": {},
   "source": [
    "1、https://financetrain.com/best-python-librariespackages-finance-financial-data-scientists/ \n",
    "2、https://stackoverflow.com/questions/20000726/calculate-daily-returns-with-pandas-dataframe\n",
    "3、http://pmorissette.github.io/ffn/quick.html  ffn\n",
    "4、http://pmorissette.github.io/bt/   策略测试\n",
    "5、https://github.com/backtrader/backtrader 策略测试 !!!\n",
    "6、https://github.com/femtotrader/pandas_talib talib python实现\n",
    "7、https://arch.readthedocs.io/en/latest/univariate/univariate.html  RCH and other tools for financial econometrics in Python\n",
    "  provides both high-level (arch.arch_model()) and low-level methods (see Mean Models) to specify models. All models can be used to produce forecasts either analytically (when tractable) or using simulation-based methods (Monte Carlo or residual Bootstrap).\n",
    "8、https://github.com/statsmodels/statsmodels 数据统计分析工具\n"
   ]
  },
  {
   "cell_type": "code",
   "execution_count": 1,
   "metadata": {
    "code_folding": [
     0
    ]
   },
   "outputs": [
    {
     "name": "stderr",
     "output_type": "stream",
     "text": [
      "D:\\PROJECT_TW\\git\\finance\\lib\\utils\\sdata.py:49: SettingWithCopyWarning: \n",
      "A value is trying to be set on a copy of a slice from a DataFrame.\n",
      "Try using .loc[row_indexer,col_indexer] = value instead\n",
      "\n",
      "See the caveats in the documentation: http://pandas.pydata.org/pandas-docs/stable/user_guide/indexing.html#returning-a-view-versus-a-copy\n",
      "  self.datas['Flag'] = list(map(lambda x: 0 if x <= buy else 1, self.datas.INCOME))\n"
     ]
    }
   ],
   "source": [
    "# 取数据\n",
    "from lib.utils.lmdb_dataset import get_dataset\n",
    "from root import get_root_path\n",
    "import lib.utils.sdata as sd\n",
    "import lib.model.index_model as im\n",
    "import importlib\n",
    "import os\n",
    "import numpy as np\n",
    "importlib.reload(sd)\n",
    "importlib.reload(im)\n",
    "code = '600893'\n",
    "db_path = os.path.sep.join([get_root_path(),'lmdb'])\n",
    "dataframe = get_dataset(db_path,code)\n",
    "sdata = sd.StockData(code, datas=dataframe)\n",
    "data = sdata.combine_income(ndays=5,buy=2)"
   ]
  },
  {
   "cell_type": "markdown",
   "metadata": {},
   "source": [
    "# 按时间统计"
   ]
  },
  {
   "cell_type": "code",
   "execution_count": 1,
   "metadata": {},
   "outputs": [
    {
     "name": "stdout",
     "output_type": "stream",
     "text": [
      "{0: 0.5272108843537415, 1: 0.5198675496688742, 2: 0.46818923327895595, 3: 0.5199335548172758, 4: 0.5443886097152428}\n"
     ]
    },
    {
     "name": "stderr",
     "output_type": "stream",
     "text": [
      "D:\\PROJECT_TW\\git\\finance\\lib\\utils\\sdata.py:49: SettingWithCopyWarning: \n",
      "A value is trying to be set on a copy of a slice from a DataFrame.\n",
      "Try using .loc[row_indexer,col_indexer] = value instead\n",
      "\n",
      "See the caveats in the documentation: http://pandas.pydata.org/pandas-docs/stable/user_guide/indexing.html#returning-a-view-versus-a-copy\n",
      "  self.datas['Flag'] = list(map(lambda x: 0 if x <= buy else 1, self.datas.INCOME))\n"
     ]
    }
   ],
   "source": [
    "# 统计数据\n",
    "from lib.utils.lmdb_dataset import get_dataset\n",
    "from root import get_root_path\n",
    "import lib.utils.sdata as sd\n",
    "import importlib\n",
    "import os\n",
    "import numpy as np\n",
    "importlib.reload(sd)\n",
    "code = '600893'\n",
    "db_path = os.path.sep.join([get_root_path(),'lmdb'])\n",
    "datas = get_dataset(db_path,code)\n",
    "sdata = sd.StockData(code, datas=datas)\n",
    "# 5 天内上涨 2 个点\n",
    "datas = sdata.combine_income(ndays=5,buy=2)\n",
    "datas['weekDay'] = datas.index.dayofweek\n",
    "group = datas.groupby(['weekDay','Flag'])\n",
    "week_day_array = np.array([[x[0],x[1],len(y)] for x,y in group])\n",
    "week_day_up = {}\n",
    "# print(week_day_array)\n",
    "for iday in range(5):\n",
    "    select_day_array = week_day_array[np.where(week_day_array[:,0]==iday)]\n",
    "    total = np.sum(select_day_array[:,2])\n",
    "    prob = select_day_array[np.where(select_day_array[:,1]==1)][:,2] / total\n",
    "    week_day_up[iday] = prob[0]\n",
    "print(week_day_up)\n",
    "\n"
   ]
  },
  {
   "cell_type": "code",
   "execution_count": 2,
   "metadata": {},
   "outputs": [
    {
     "name": "stdout",
     "output_type": "stream",
     "text": [
      "<class 'pandas.core.indexes.datetimes.DatetimeIndex'>\n",
      "over \n"
     ]
    },
    {
     "name": "stderr",
     "output_type": "stream",
     "text": [
      "D:\\PROJECT_TW\\git\\finance\\lib\\utils\\sdata.py:49: SettingWithCopyWarning: \n",
      "A value is trying to be set on a copy of a slice from a DataFrame.\n",
      "Try using .loc[row_indexer,col_indexer] = value instead\n",
      "\n",
      "See the caveats in the documentation: http://pandas.pydata.org/pandas-docs/stable/user_guide/indexing.html#returning-a-view-versus-a-copy\n",
      "  self.datas['Flag'] = list(map(lambda x: 0 if x <= buy else 1, self.datas.INCOME))\n"
     ]
    }
   ],
   "source": [
    "# 按周日期生成训练数据\n",
    "'''\n",
    "数据格式：\n",
    "  WD, STATUS\n",
    "0 0,  BUY\n",
    "1 1,  HOLD\n",
    "'''\n",
    "# 统计数据\n",
    "from lib.utils.lmdb_dataset import get_dataset\n",
    "from root import get_root_path\n",
    "import lib.utils.sdata as sd\n",
    "import importlib\n",
    "import os\n",
    "import numpy as np\n",
    "importlib.reload(sd)\n",
    "code = '600893'\n",
    "db_path = os.path.sep.join([get_root_path(),'lmdb'])\n",
    "datas = get_dataset(db_path,code)\n",
    "sdata = sd.StockData(code, datas=datas)\n",
    "# 5 天内上涨 2 个点\n",
    "datas = sdata.combine_income(ndays=5,buy=2)\n",
    "datas['weekDay'] = datas.index.dayofweek\n",
    "datas['Month'] = datas.index.month\n",
    "print(type(datas.index))\n",
    "data_out_path = os.path.sep.join([get_root_path(),'data','train','{}.txt'.format(code)])\n",
    "datas.rename(columns={'weekDay':'WD'},inplace=True) \n",
    "datas.rename(columns={'Flag':'ST'},inplace=True) \n",
    "# datas['WD'] = datas['WD'].apply(lambda x:'W'+str(x+1))\n",
    "# datas['Month'] = datas['Month'].apply(lambda x: 'M' + str(x))\n",
    "datas['ST'] = datas['ST'].apply(lambda x: '1' if x ==1 else '0')\n",
    "# print(datas['WD'])\n",
    "datas[['WD','ST','Month']].to_csv(data_out_path, sep=',', index=True)\n",
    "print('over ')"
   ]
  },
  {
   "cell_type": "markdown",
   "metadata": {},
   "source": [
    "# 按连续天数统计"
   ]
  },
  {
   "cell_type": "code",
   "execution_count": 52,
   "metadata": {},
   "outputs": [
    {
     "name": "stderr",
     "output_type": "stream",
     "text": [
      "D:\\PROJECT_TW\\git\\finance\\lib\\model\\base_static.py:43: SettingWithCopyWarning: \n",
      "A value is trying to be set on a copy of a slice from a DataFrame\n",
      "\n",
      "See the caveats in the documentation: http://pandas.pydata.org/pandas-docs/stable/user_guide/indexing.html#returning-a-view-versus-a-copy\n",
      "  row['cont_incr'] = 0\n",
      "D:\\PROJECT_TW\\git\\finance\\lib\\model\\base_static.py:41: SettingWithCopyWarning: \n",
      "A value is trying to be set on a copy of a slice from a DataFrame\n",
      "\n",
      "See the caveats in the documentation: http://pandas.pydata.org/pandas-docs/stable/user_guide/indexing.html#returning-a-view-versus-a-copy\n",
      "  row['cont_incr'] = df['cont_incr'][idx-1] + 1\n"
     ]
    }
   ],
   "source": [
    "import pandas as pd\n",
    "import random\n",
    "import lib.model.base_static as bs\n",
    "from lib.utils.lmdb_dataset import get_dataset\n",
    "from root import get_root_path\n",
    "import lib.utils.sdata as sd\n",
    "import os\n",
    "import importlib\n",
    "importlib.reload(bs)\n",
    "code = '600893'\n",
    "\n",
    "data_out_path = os.path.sep.join([get_root_path(),'data','train','{}_static.txt'.format(code)])\n",
    "db_path = os.path.sep.join([get_root_path(),'lmdb'])\n",
    "data = get_dataset(db_path,code)\n",
    "sdata = sd.StockData(code, datas=data.copy())\n",
    "data_static = bs.count_continue_incr(data)['count_incr']\n",
    "# 5 天内上涨 2 个点\n",
    "datas = sdata.combine_income(ndays=5,buy=2)\n",
    "datas = pd.merge(datas, data_static, left_index=True, right_index=True)\n",
    "datas.rename(columns={'count_incr':'CNTS'},inplace=True) \n",
    "datas.rename(columns={'Flag':'ST'},inplace=True) \n",
    "datas['CNTS'] = datas['CNTS'].apply(lambda x:'HI' if x >=5 else 'MI' if x >= 3 else 'LO')\n",
    "datas['ST'] = datas['ST'].apply(lambda x: 'BUY' if x ==1 else 'HOLD')\n",
    "datas[['ST','CNTS']].to_csv(data_out_path, sep=',', index=False)\n"
   ]
  },
  {
   "cell_type": "code",
   "execution_count": 54,
   "metadata": {},
   "outputs": [
    {
     "name": "stdout",
     "output_type": "stream",
     "text": [
      "('BUY', 'HI') : 42\n",
      "('BUY', 'LO') : 1363\n",
      "('BUY', 'MI') : 144\n",
      "('HOLD', 'HI') : 26\n",
      "('HOLD', 'LO') : 1309\n",
      "('HOLD', 'MI') : 120\n"
     ]
    }
   ],
   "source": [
    "datas = pd.read_csv(data_out_path,sep=\",\")\n",
    "group = datas.groupby(['ST','CNTS'])\n",
    "for x,y in group:\n",
    "    print(x, \":\", len(y))\n"
   ]
  },
  {
   "cell_type": "code",
   "execution_count": null,
   "metadata": {},
   "outputs": [],
   "source": []
  },
  {
   "cell_type": "markdown",
   "metadata": {},
   "source": [
    "# 按指标信号统计"
   ]
  },
  {
   "cell_type": "code",
   "execution_count": 3,
   "metadata": {},
   "outputs": [],
   "source": [
    "data_out_path = os.path.sep.join([get_root_path(),'data','train','{}_signal.txt'.format(code)])\n",
    "index_keys=['MACD','MFI','BBANDS','AROON','SAR','CCI']\n",
    "data_s = sdata.combine_index_signal(data, index_keys=index_keys)\n",
    "for ikey in index_keys:\n",
    "    data_s[ikey] = data_s[ikey].apply(lambda x: 'BS' if x==1 else 'HS')\n",
    "data_s['Flag'] = data_s['Flag'].apply(lambda x: 'BUY' if x ==1 else 'HOLD')\n",
    "data_s.rename(columns={'Flag':'ST'},inplace=True) \n",
    "index_keys.append('ST')\n",
    "data_s=data_s.dropna()\n",
    "data_s[index_keys]\n",
    "data_s[index_keys].to_csv(data_out_path, sep=',', index=False)"
   ]
  },
  {
   "cell_type": "code",
   "execution_count": null,
   "metadata": {},
   "outputs": [],
   "source": []
  }
 ],
 "metadata": {
  "kernelspec": {
   "display_name": "Python 3",
   "language": "python",
   "name": "python3"
  },
  "language_info": {
   "codemirror_mode": {
    "name": "ipython",
    "version": 3
   },
   "file_extension": ".py",
   "mimetype": "text/x-python",
   "name": "python",
   "nbconvert_exporter": "python",
   "pygments_lexer": "ipython3",
   "version": "3.7.4"
  },
  "toc": {
   "base_numbering": 1,
   "nav_menu": {},
   "number_sections": true,
   "sideBar": true,
   "skip_h1_title": false,
   "title_cell": "Table of Contents",
   "title_sidebar": "Contents",
   "toc_cell": false,
   "toc_position": {},
   "toc_section_display": true,
   "toc_window_display": false
  },
  "varInspector": {
   "cols": {
    "lenName": 16,
    "lenType": 16,
    "lenVar": 40
   },
   "kernels_config": {
    "python": {
     "delete_cmd_postfix": "",
     "delete_cmd_prefix": "del ",
     "library": "var_list.py",
     "varRefreshCmd": "print(var_dic_list())"
    },
    "r": {
     "delete_cmd_postfix": ") ",
     "delete_cmd_prefix": "rm(",
     "library": "var_list.r",
     "varRefreshCmd": "cat(var_dic_list()) "
    }
   },
   "types_to_exclude": [
    "module",
    "function",
    "builtin_function_or_method",
    "instance",
    "_Feature"
   ],
   "window_display": false
  }
 },
 "nbformat": 4,
 "nbformat_minor": 2
}
