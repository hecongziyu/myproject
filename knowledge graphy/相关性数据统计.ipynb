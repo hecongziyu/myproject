{
 "cells": [
  {
   "cell_type": "markdown",
   "metadata": {},
   "source": [
    "# 配对"
   ]
  },
  {
   "cell_type": "markdown",
   "metadata": {
    "heading_collapsed": true
   },
   "source": [
    "## 最小距离 "
   ]
  },
  {
   "cell_type": "code",
   "execution_count": 1,
   "metadata": {
    "hidden": true
   },
   "outputs": [
    {
     "name": "stdout",
     "output_type": "stream",
     "text": [
      "code 000998 26.65603913570967\n",
      "code 002261 44.36596668620415\n",
      "code 000955 29.32107150339057\n",
      "code 600309 27.566102713911494\n",
      "code 600893 0.0\n"
     ]
    }
   ],
   "source": [
    "# 收益比相差最小\n",
    "\n",
    "from lib.utils.lmdb_dataset import get_dataset\n",
    "from root import get_root_path\n",
    "import lib.utils.sdata as sd\n",
    "import importlib\n",
    "import os\n",
    "import numpy as np\n",
    "import lib.model.pairs_model as pm\n",
    "importlib.reload(sd)\n",
    "importlib.reload(pm)\n",
    "\n",
    "\n",
    "main_code = '600893'\n",
    "other_code = ['000998','002261','000955','600309','600893']\n",
    "db_path = os.path.sep.join([get_root_path(),'lmdb'])\n",
    "pmodel = pm.PairTrading()\n",
    "\n",
    "main_datas = get_dataset(db_path,main_code)\n",
    "# print(main_datas.head(5))\n",
    "for icode in other_code:\n",
    "    other_datas = get_dataset(db_path, icode)\n",
    "    instance = pmodel.SSD(main_datas.Close, other_datas.Close)\n",
    "    print('code {}'.format(icode), instance)\n",
    "    "
   ]
  },
  {
   "cell_type": "markdown",
   "metadata": {},
   "source": [
    "## 相关性，协方差比较 "
   ]
  },
  {
   "cell_type": "markdown",
   "metadata": {
    "heading_collapsed": true
   },
   "source": [
    "### 数据准备 "
   ]
  },
  {
   "cell_type": "code",
   "execution_count": 19,
   "metadata": {
    "hidden": true,
    "scrolled": true
   },
   "outputs": [
    {
     "name": "stdout",
     "output_type": "stream",
     "text": [
      "000998\n",
      "002261\n",
      "000955\n",
      "600309\n",
      "600893\n"
     ]
    }
   ],
   "source": [
    "#  https://blog.csdn.net/weixin_34111790/article/details/89622651  相关性corr，协方差 cov\n",
    "#  https://blog.csdn.net/qq_40946639/article/details/102984166     pandas——相关系数函数corr()\n",
    "'''\n",
    "协方差: 如果返回的是正数，代表两组数据“同向”发展,数值越大，“同向”程度越高 , 如为负数，则“反向”程序越高\n",
    "相关系数(判断两组数据是否相似): 取值为[-1,1] 越接近1，代表相似程度越高\n",
    "'''\n",
    "from lib.utils.lmdb_dataset import get_dataset\n",
    "from root import get_root_path\n",
    "import lib.utils.sdata as sd\n",
    "import importlib\n",
    "import os\n",
    "import numpy as np\n",
    "import lib.model.pairs_model as pm\n",
    "import pandas as pd\n",
    "importlib.reload(sd)\n",
    "importlib.reload(pm)\n",
    "\n",
    "codes = ['000998','002261','000955','600309','600893']\n",
    "db_path = os.path.sep.join([get_root_path(),'lmdb'])\n",
    "datagroups = None\n",
    "\n",
    "for icode in codes:\n",
    "    print(icode)\n",
    "    data = get_dataset(db_path, icode)\n",
    "    price = data.Close\n",
    "    #  收益\n",
    "    priceReturn = (price - price.shift(1)) / price.shift(1)[1:]\n",
    "    priceReturnDf = pd.DataFrame(index=data.index, data=priceReturn.values, columns=[icode])\n",
    "    if datagroups is None:\n",
    "        datagroups = priceReturnDf.copy();\n",
    "    else:\n",
    "        datagroups = pd.merge(datagroups,priceReturnDf,left_index=True, right_index=True)"
   ]
  },
  {
   "cell_type": "markdown",
   "metadata": {
    "heading_collapsed": true
   },
   "source": [
    "### 相关性分析"
   ]
  },
  {
   "cell_type": "code",
   "execution_count": 26,
   "metadata": {
    "hidden": true
   },
   "outputs": [
    {
     "name": "stdout",
     "output_type": "stream",
     "text": [
      "相关性-->\n",
      "           000998    002261    000955    600309    600893\n",
      "000998  1.000000  0.312504  0.324196  0.353775  0.328119\n",
      "002261  0.312504  1.000000  0.371431  0.277506  0.342566\n",
      "000955  0.324196  0.371431  1.000000  0.375740  0.356382\n",
      "600309  0.353775  0.277506  0.375740  1.000000  0.333643\n",
      "600893  0.328119  0.342566  0.356382  0.333643  1.000000\n",
      "\n",
      "协方差-->\n",
      "           000998    002261    000955    600309    600893\n",
      "000998  0.000956  0.000376  0.000305  0.000293  0.000333\n",
      "002261  0.000376  0.001513  0.000439  0.000289  0.000437\n",
      "000955  0.000305  0.000439  0.000925  0.000306  0.000355\n",
      "600309  0.000293  0.000289  0.000306  0.000719  0.000293\n",
      "600893  0.000333  0.000437  0.000355  0.000293  0.001075\n"
     ]
    }
   ],
   "source": [
    "data_corr = datagroups.corr()\n",
    "print(\"相关性-->\\n\" , data_corr)\n",
    "\n",
    "data_cov = datagroups.cov()\n",
    "print('\\n协方差-->\\n', data_cov)"
   ]
  },
  {
   "cell_type": "code",
   "execution_count": null,
   "metadata": {
    "hidden": true
   },
   "outputs": [],
   "source": []
  },
  {
   "cell_type": "markdown",
   "metadata": {},
   "source": [
    "### 网络结点图"
   ]
  },
  {
   "cell_type": "code",
   "execution_count": null,
   "metadata": {},
   "outputs": [],
   "source": []
  }
 ],
 "metadata": {
  "kernelspec": {
   "display_name": "Python 3",
   "language": "python",
   "name": "python3"
  },
  "language_info": {
   "codemirror_mode": {
    "name": "ipython",
    "version": 3
   },
   "file_extension": ".py",
   "mimetype": "text/x-python",
   "name": "python",
   "nbconvert_exporter": "python",
   "pygments_lexer": "ipython3",
   "version": "3.7.4"
  },
  "toc": {
   "base_numbering": 1,
   "nav_menu": {},
   "number_sections": true,
   "sideBar": true,
   "skip_h1_title": false,
   "title_cell": "Table of Contents",
   "title_sidebar": "Contents",
   "toc_cell": false,
   "toc_position": {},
   "toc_section_display": true,
   "toc_window_display": false
  },
  "varInspector": {
   "cols": {
    "lenName": 16,
    "lenType": 16,
    "lenVar": 40
   },
   "kernels_config": {
    "python": {
     "delete_cmd_postfix": "",
     "delete_cmd_prefix": "del ",
     "library": "var_list.py",
     "varRefreshCmd": "print(var_dic_list())"
    },
    "r": {
     "delete_cmd_postfix": ") ",
     "delete_cmd_prefix": "rm(",
     "library": "var_list.r",
     "varRefreshCmd": "cat(var_dic_list()) "
    }
   },
   "types_to_exclude": [
    "module",
    "function",
    "builtin_function_or_method",
    "instance",
    "_Feature"
   ],
   "window_display": false
  }
 },
 "nbformat": 4,
 "nbformat_minor": 2
}
