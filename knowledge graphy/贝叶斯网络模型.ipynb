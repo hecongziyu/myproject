{
 "cells": [
  {
   "cell_type": "raw",
   "metadata": {},
   "source": [
    "1、http://www.doc88.com/p-6475915229653.html  基于贝叶斯网络的股票预测参考\n",
    "2、https://www.sciencedirect.com/science/article/abs/pii/S0957417411017064 Stock price forecast using Bayesian network\n",
    "3、https://github.com/Rishub21/Stock_Bayesian_Network \n",
    "4、https://zhuanlan.zhihu.com/p/41923765?utm_source=wechat_session&utm_medium=social&utm_oi=777186450763440128\n",
    "5、http://www.eecs.harvard.edu/~parkes/cs286r/spring08/reading3/stock-trading-dbn.pdf \n",
    "6、https://www.researchgate.net/publication/2855827_Bayesian_Network_Models_of_Portfolio_Risk_and_Return \n",
    "7、https://arxiv.org/pdf/1903.06478.pdf Multimodal Deep Learning for Finance:Integrating and Forecasting International Stock   ！！！！！！！\n",
    "8、https://link.springer.com/content/pdf/10.1007/s13042-019-01041-1.pdf \n",
    "9、https://www.ijrte.org/wp-content/uploads/papers/v8i1/F2804037619.pdf\n",
    "10、https://rpubs.com/kapage/523169 Stock Price Forecasting Using Time Series Analysis, Machine Learning and single layer neural network Models\n",
    "11、https://reader.elsevier.com/reader/sd/pii/S1877050919319684?token=83792371AC71A903D633A98DCEC3BD1CD8A412B888C0E41D41CF35045B69ED222C2DD04474B2742EB0DA24BF2A63B83A \n",
    "12、 https://rpubs.com/kapage/523169 ！！！！！！！！！！！！！！！！！！！\n",
    "13、https://mpra.ub.uni-muenchen.de/92634/1/MPRA_paper_92634.pdf  The econometrics of Bayesian graphicalmodels: a review with financial application\n",
    "14、https://wiki.mbalib.com/wiki/%E5%90%91%E9%87%8F%E8%87%AA%E5%9B%9E%E5%BD%92%E6%A8%A1%E5%9E%8B VAR 向量自回归模型\n",
    "15、https://towardsdatascience.com/stock-prediction-using-recurrent-neural-networks-c03637437578 \n",
    "16、https://github.com/fmfn/BayesianOptimization  ！！！！！！！！！！\n",
    "17、https://towardsdatascience.com/aifortrading-2edd6fac689d ！！！！！！！！！！！！！！！！！！！！！！！！！！！！！  (https://github.com/borisbanushev/stockpredictionai) \n",
    "18、https://www.zhihu.com/question/19714540  傅里叶变换\n",
    "19、https://www.cnblogs.com/h2zZhou/p/8405717.html 深入浅出的讲解傅里叶变换（真正的通俗易懂）\n",
    "20、https://blog.csdn.net/GarfieldEr007/article/details/51685256?depth_1-utm_source=distribute.pc_relevant.none-task&utm_source=distribute.pc_relevant.none-task 傅里叶变换应用\n",
    "21、https://towardsdatascience.com/self-organizing-maps-ff5853a118d4 ！\n",
    "22、http://blog.yhat.com/posts/self-organizing-maps-1.html  Self-Organising Maps: An Introduction ！！！ \n",
    "23、https://www.sciencedirect.com/topics/engineering/self-organizing-map \n"
   ]
  },
  {
   "cell_type": "markdown",
   "metadata": {},
   "source": [
    "# 结构学习"
   ]
  },
  {
   "cell_type": "code",
   "execution_count": 3,
   "metadata": {
    "ExecuteTime": {
     "end_time": "2020-11-17T13:01:31.108307Z",
     "start_time": "2020-11-17T12:40:36.035939Z"
    }
   },
   "outputs": [
    {
     "name": "stdout",
     "output_type": "stream",
     "text": [
      "D:\\PROJECT_TW\\git\\finance\\data\\train\\600893.txt\n"
     ]
    },
    {
     "ename": "KeyboardInterrupt",
     "evalue": "",
     "output_type": "error",
     "traceback": [
      "\u001b[1;31m---------------------------------------------------------------------------\u001b[0m",
      "\u001b[1;31mKeyboardInterrupt\u001b[0m                         Traceback (most recent call last)",
      "\u001b[1;32m<ipython-input-3-6d9064ab6a8d>\u001b[0m in \u001b[0;36m<module>\u001b[1;34m\u001b[0m\n\u001b[0;32m     17\u001b[0m \u001b[1;31m# print(k2_score.score(model))\u001b[0m\u001b[1;33m\u001b[0m\u001b[1;33m\u001b[0m\u001b[1;33m\u001b[0m\u001b[0m\n\u001b[0;32m     18\u001b[0m \u001b[0mes\u001b[0m \u001b[1;33m=\u001b[0m \u001b[0mExhaustiveSearch\u001b[0m\u001b[1;33m(\u001b[0m\u001b[0mdata\u001b[0m\u001b[1;33m,\u001b[0m \u001b[0mscoring_method\u001b[0m\u001b[1;33m=\u001b[0m\u001b[0mbic_score\u001b[0m\u001b[1;33m)\u001b[0m\u001b[1;33m\u001b[0m\u001b[1;33m\u001b[0m\u001b[0m\n\u001b[1;32m---> 19\u001b[1;33m \u001b[0mbest_model\u001b[0m \u001b[1;33m=\u001b[0m \u001b[0mes\u001b[0m\u001b[1;33m.\u001b[0m\u001b[0mestimate\u001b[0m\u001b[1;33m(\u001b[0m\u001b[1;33m)\u001b[0m\u001b[1;33m\u001b[0m\u001b[1;33m\u001b[0m\u001b[0m\n\u001b[0m\u001b[0;32m     20\u001b[0m \u001b[0mprint\u001b[0m\u001b[1;33m(\u001b[0m\u001b[0mbest_model\u001b[0m\u001b[1;33m.\u001b[0m\u001b[0medges\u001b[0m\u001b[1;33m(\u001b[0m\u001b[1;33m)\u001b[0m\u001b[1;33m)\u001b[0m\u001b[1;33m\u001b[0m\u001b[1;33m\u001b[0m\u001b[0m\n\u001b[0;32m     21\u001b[0m \u001b[1;33m\u001b[0m\u001b[0m\n",
      "\u001b[1;32md:\\project_tw\\twedu\\venv37\\lib\\site-packages\\pgmpy\\estimators\\ExhaustiveSearch.py\u001b[0m in \u001b[0;36mestimate\u001b[1;34m(self)\u001b[0m\n\u001b[0;32m    184\u001b[0m         \"\"\"\n\u001b[0;32m    185\u001b[0m \u001b[1;33m\u001b[0m\u001b[0m\n\u001b[1;32m--> 186\u001b[1;33m         \u001b[0mbest_dag\u001b[0m \u001b[1;33m=\u001b[0m \u001b[0mmax\u001b[0m\u001b[1;33m(\u001b[0m\u001b[0mself\u001b[0m\u001b[1;33m.\u001b[0m\u001b[0mall_dags\u001b[0m\u001b[1;33m(\u001b[0m\u001b[1;33m)\u001b[0m\u001b[1;33m,\u001b[0m \u001b[0mkey\u001b[0m\u001b[1;33m=\u001b[0m\u001b[0mself\u001b[0m\u001b[1;33m.\u001b[0m\u001b[0mscoring_method\u001b[0m\u001b[1;33m.\u001b[0m\u001b[0mscore\u001b[0m\u001b[1;33m)\u001b[0m\u001b[1;33m\u001b[0m\u001b[1;33m\u001b[0m\u001b[0m\n\u001b[0m\u001b[0;32m    187\u001b[0m \u001b[1;33m\u001b[0m\u001b[0m\n\u001b[0;32m    188\u001b[0m         \u001b[0mbest_model\u001b[0m \u001b[1;33m=\u001b[0m \u001b[0mDAG\u001b[0m\u001b[1;33m(\u001b[0m\u001b[1;33m)\u001b[0m\u001b[1;33m\u001b[0m\u001b[1;33m\u001b[0m\u001b[0m\n",
      "\u001b[1;32md:\\project_tw\\twedu\\venv37\\lib\\site-packages\\pgmpy\\estimators\\StructureScore.py\u001b[0m in \u001b[0;36mscore\u001b[1;34m(self, model)\u001b[0m\n\u001b[0;32m     68\u001b[0m         \u001b[0mscore\u001b[0m \u001b[1;33m=\u001b[0m \u001b[1;36m0\u001b[0m\u001b[1;33m\u001b[0m\u001b[1;33m\u001b[0m\u001b[0m\n\u001b[0;32m     69\u001b[0m         \u001b[1;32mfor\u001b[0m \u001b[0mnode\u001b[0m \u001b[1;32min\u001b[0m \u001b[0mmodel\u001b[0m\u001b[1;33m.\u001b[0m\u001b[0mnodes\u001b[0m\u001b[1;33m(\u001b[0m\u001b[1;33m)\u001b[0m\u001b[1;33m:\u001b[0m\u001b[1;33m\u001b[0m\u001b[1;33m\u001b[0m\u001b[0m\n\u001b[1;32m---> 70\u001b[1;33m             \u001b[0mscore\u001b[0m \u001b[1;33m+=\u001b[0m \u001b[0mself\u001b[0m\u001b[1;33m.\u001b[0m\u001b[0mlocal_score\u001b[0m\u001b[1;33m(\u001b[0m\u001b[0mnode\u001b[0m\u001b[1;33m,\u001b[0m \u001b[0mmodel\u001b[0m\u001b[1;33m.\u001b[0m\u001b[0mpredecessors\u001b[0m\u001b[1;33m(\u001b[0m\u001b[0mnode\u001b[0m\u001b[1;33m)\u001b[0m\u001b[1;33m)\u001b[0m\u001b[1;33m\u001b[0m\u001b[1;33m\u001b[0m\u001b[0m\n\u001b[0m\u001b[0;32m     71\u001b[0m         \u001b[0mscore\u001b[0m \u001b[1;33m+=\u001b[0m \u001b[0mself\u001b[0m\u001b[1;33m.\u001b[0m\u001b[0mstructure_prior\u001b[0m\u001b[1;33m(\u001b[0m\u001b[0mmodel\u001b[0m\u001b[1;33m)\u001b[0m\u001b[1;33m\u001b[0m\u001b[1;33m\u001b[0m\u001b[0m\n\u001b[0;32m     72\u001b[0m         \u001b[1;32mreturn\u001b[0m \u001b[0mscore\u001b[0m\u001b[1;33m\u001b[0m\u001b[1;33m\u001b[0m\u001b[0m\n",
      "\u001b[1;32md:\\project_tw\\twedu\\venv37\\lib\\site-packages\\pgmpy\\estimators\\BicScore.py\u001b[0m in \u001b[0;36mlocal_score\u001b[1;34m(self, variable, parents)\u001b[0m\n\u001b[0;32m     58\u001b[0m \u001b[1;33m\u001b[0m\u001b[0m\n\u001b[0;32m     59\u001b[0m             \u001b[1;32mfor\u001b[0m \u001b[0mstate\u001b[0m \u001b[1;32min\u001b[0m \u001b[0mvar_states\u001b[0m\u001b[1;33m:\u001b[0m\u001b[1;33m\u001b[0m\u001b[1;33m\u001b[0m\u001b[0m\n\u001b[1;32m---> 60\u001b[1;33m                 \u001b[1;32mif\u001b[0m \u001b[0mstate_counts\u001b[0m\u001b[1;33m[\u001b[0m\u001b[0mparents_state\u001b[0m\u001b[1;33m]\u001b[0m\u001b[1;33m[\u001b[0m\u001b[0mstate\u001b[0m\u001b[1;33m]\u001b[0m \u001b[1;33m>\u001b[0m \u001b[1;36m0\u001b[0m\u001b[1;33m:\u001b[0m\u001b[1;33m\u001b[0m\u001b[1;33m\u001b[0m\u001b[0m\n\u001b[0m\u001b[0;32m     61\u001b[0m                     score += state_counts[parents_state][state] * (\n\u001b[0;32m     62\u001b[0m                         \u001b[0mlog\u001b[0m\u001b[1;33m(\u001b[0m\u001b[0mstate_counts\u001b[0m\u001b[1;33m[\u001b[0m\u001b[0mparents_state\u001b[0m\u001b[1;33m]\u001b[0m\u001b[1;33m[\u001b[0m\u001b[0mstate\u001b[0m\u001b[1;33m]\u001b[0m\u001b[1;33m)\u001b[0m\u001b[1;33m\u001b[0m\u001b[1;33m\u001b[0m\u001b[0m\n",
      "\u001b[1;32md:\\project_tw\\twedu\\venv37\\lib\\site-packages\\pandas\\core\\series.py\u001b[0m in \u001b[0;36m__getitem__\u001b[1;34m(self, key)\u001b[0m\n\u001b[0;32m   1066\u001b[0m         \u001b[0mkey\u001b[0m \u001b[1;33m=\u001b[0m \u001b[0mcom\u001b[0m\u001b[1;33m.\u001b[0m\u001b[0mapply_if_callable\u001b[0m\u001b[1;33m(\u001b[0m\u001b[0mkey\u001b[0m\u001b[1;33m,\u001b[0m \u001b[0mself\u001b[0m\u001b[1;33m)\u001b[0m\u001b[1;33m\u001b[0m\u001b[1;33m\u001b[0m\u001b[0m\n\u001b[0;32m   1067\u001b[0m         \u001b[1;32mtry\u001b[0m\u001b[1;33m:\u001b[0m\u001b[1;33m\u001b[0m\u001b[1;33m\u001b[0m\u001b[0m\n\u001b[1;32m-> 1068\u001b[1;33m             \u001b[0mresult\u001b[0m \u001b[1;33m=\u001b[0m \u001b[0mself\u001b[0m\u001b[1;33m.\u001b[0m\u001b[0mindex\u001b[0m\u001b[1;33m.\u001b[0m\u001b[0mget_value\u001b[0m\u001b[1;33m(\u001b[0m\u001b[0mself\u001b[0m\u001b[1;33m,\u001b[0m \u001b[0mkey\u001b[0m\u001b[1;33m)\u001b[0m\u001b[1;33m\u001b[0m\u001b[1;33m\u001b[0m\u001b[0m\n\u001b[0m\u001b[0;32m   1069\u001b[0m \u001b[1;33m\u001b[0m\u001b[0m\n\u001b[0;32m   1070\u001b[0m             \u001b[1;32mif\u001b[0m \u001b[1;32mnot\u001b[0m \u001b[0mis_scalar\u001b[0m\u001b[1;33m(\u001b[0m\u001b[0mresult\u001b[0m\u001b[1;33m)\u001b[0m\u001b[1;33m:\u001b[0m\u001b[1;33m\u001b[0m\u001b[1;33m\u001b[0m\u001b[0m\n",
      "\u001b[1;32md:\\project_tw\\twedu\\venv37\\lib\\site-packages\\pandas\\core\\indexes\\base.py\u001b[0m in \u001b[0;36mget_value\u001b[1;34m(self, series, key)\u001b[0m\n\u001b[0;32m   4700\u001b[0m         \"\"\"\n\u001b[0;32m   4701\u001b[0m \u001b[1;33m\u001b[0m\u001b[0m\n\u001b[1;32m-> 4702\u001b[1;33m     \u001b[1;33m@\u001b[0m\u001b[0mAppender\u001b[0m\u001b[1;33m(\u001b[0m\u001b[0m_index_shared_docs\u001b[0m\u001b[1;33m[\u001b[0m\u001b[1;34m\"get_value\"\u001b[0m\u001b[1;33m]\u001b[0m \u001b[1;33m%\u001b[0m \u001b[0m_index_doc_kwargs\u001b[0m\u001b[1;33m)\u001b[0m\u001b[1;33m\u001b[0m\u001b[1;33m\u001b[0m\u001b[0m\n\u001b[0m\u001b[0;32m   4703\u001b[0m     \u001b[1;32mdef\u001b[0m \u001b[0mget_value\u001b[0m\u001b[1;33m(\u001b[0m\u001b[0mself\u001b[0m\u001b[1;33m,\u001b[0m \u001b[0mseries\u001b[0m\u001b[1;33m,\u001b[0m \u001b[0mkey\u001b[0m\u001b[1;33m)\u001b[0m\u001b[1;33m:\u001b[0m\u001b[1;33m\u001b[0m\u001b[1;33m\u001b[0m\u001b[0m\n\u001b[0;32m   4704\u001b[0m \u001b[1;33m\u001b[0m\u001b[0m\n",
      "\u001b[1;31mKeyboardInterrupt\u001b[0m: "
     ]
    }
   ],
   "source": [
    "import pandas as pd\n",
    "import numpy as np\n",
    "from pgmpy.estimators import BdeuScore, K2Score, BicScore\n",
    "from pgmpy.models import BayesianModel\n",
    "import os\n",
    "# from root import get_root_path\n",
    "from pgmpy.estimators import ExhaustiveSearch\n",
    "from pgmpy.estimators import HillClimbSearch\n",
    "\n",
    "data_path = r'D:\\PROJECT_TW\\git\\finance'\n",
    "path = os.path.sep.join([data_path,'data','train','600893.txt'])\n",
    "print(path)\n",
    "data = pd.read_csv(path, sep=',')\n",
    "k2_score = K2Score(data)\n",
    "bic_score = BicScore(data)\n",
    "# model = BayesianModel([('WD', 'ST'), ('Month', 'ST')])  # WD -> ST <- Month\n",
    "# print(k2_score.score(model))\n",
    "es = ExhaustiveSearch(data, scoring_method=bic_score)\n",
    "best_model = es.estimate()\n",
    "print(best_model.edges())\n",
    "\n",
    "print(\"\\nAll DAGs by score:\")\n",
    "for score, dag in reversed(es.all_scores()):\n",
    "    print(score, dag.edges())\n",
    "    \n",
    "hc = HillClimbSearch(data, scoring_method=BicScore(data))\n",
    "best_model = hc.estimate()\n",
    "print(best_model.edges())\n",
    "# for score, dag in reversed(hc.all_scores()):\n",
    "#     print(score, dag.edges())"
   ]
  },
  {
   "cell_type": "markdown",
   "metadata": {},
   "source": [
    "# 数据网络"
   ]
  },
  {
   "cell_type": "markdown",
   "metadata": {},
   "source": [
    "## 按时间划分网络"
   ]
  },
  {
   "cell_type": "code",
   "execution_count": 5,
   "metadata": {
    "ExecuteTime": {
     "end_time": "2020-11-17T13:02:07.842319Z",
     "start_time": "2020-11-17T13:02:07.768777Z"
    }
   },
   "outputs": [
    {
     "name": "stdout",
     "output_type": "stream",
     "text": [
      "D:\\PROJECT_TW\\git\\finance\\data\\train\\600893.txt\n",
      "['WD', 'ST', 'Month']\n",
      "\n"
     ]
    }
   ],
   "source": [
    "import pandas as pd\n",
    "import numpy as np\n",
    "from pgmpy.estimators import BdeuScore, K2Score, BicScore\n",
    "from pgmpy.models import BayesianModel\n",
    "import os\n",
    "# from root import get_root_path\n",
    "from pgmpy.readwrite import ProbModelXMLWriter, get_probmodel_data\n",
    "data_path = r'D:\\PROJECT_TW\\git\\finance'\n",
    "path = os.path.sep.join([data_path,'data','train','600893.txt'])\n",
    "print(path)\n",
    "data = pd.read_csv(path, sep=',')\n",
    "model = BayesianModel([('WD', 'ST'), ('Month', 'ST')])  # WD -> ST <- Month\n",
    "print(model.nodes)\n",
    "print(model)\n",
    "\n"
   ]
  },
  {
   "cell_type": "code",
   "execution_count": 2,
   "metadata": {
    "ExecuteTime": {
     "end_time": "2020-03-23T01:22:56.473530Z",
     "start_time": "2020-03-23T01:22:56.254796Z"
    }
   },
   "outputs": [
    {
     "name": "stdout",
     "output_type": "stream",
     "text": [
      "\n",
      "     WD\n",
      "0  588\n",
      "1  604\n",
      "2  613\n",
      "3  602\n",
      "4  597\n"
     ]
    }
   ],
   "source": [
    "# 状态统计\n",
    "from pgmpy.estimators import ParameterEstimator\n",
    "pe = ParameterEstimator(model, data)\n",
    "print(\"\\n\", pe.state_counts('WD'))\n",
    "# print(\"\\n \", pe.state_counts('ST'))\n",
    "# print(\"\\n\", pe.state_counts('Month'))"
   ]
  },
  {
   "cell_type": "code",
   "execution_count": 5,
   "metadata": {
    "ExecuteTime": {
     "end_time": "2020-03-24T03:30:55.422728Z",
     "start_time": "2020-03-24T03:30:52.624411Z"
    },
    "scrolled": true
   },
   "outputs": [
    {
     "name": "stdout",
     "output_type": "stream",
     "text": [
      "model: \n",
      "data:             Date  WD  ST  Month\n",
      "0     2005-01-05   2   0      1\n",
      "1     2005-01-06   3   1      1\n",
      "2     2005-01-07   4   1      1\n",
      "3     2005-01-10   0   1      1\n",
      "4     2005-01-11   1   1      1\n",
      "...          ...  ..  ..    ...\n",
      "2999  2019-12-11   2   1     12\n",
      "3000  2019-12-12   3   1     12\n",
      "3001  2019-12-13   4   0     12\n",
      "3002  2019-12-16   0   0     12\n",
      "3003  2019-12-17   1   0     12\n",
      "\n",
      "[3004 rows x 4 columns]\n",
      "\n",
      " +-------+----------+\n",
      "| WD(0) | 0.195739 |\n",
      "+-------+----------+\n",
      "| WD(1) | 0.201065 |\n",
      "+-------+----------+\n",
      "| WD(2) | 0.204061 |\n",
      "+-------+----------+\n",
      "| WD(3) | 0.200399 |\n",
      "+-------+----------+\n",
      "| WD(4) | 0.198735 |\n",
      "+-------+----------+\n",
      "\n",
      " +-----------+-----------+\n",
      "| Month(1)  | 0.0792277 |\n",
      "+-----------+-----------+\n",
      "| Month(2)  | 0.0649134 |\n",
      "+-----------+-----------+\n",
      "| Month(3)  | 0.0888815 |\n",
      "+-----------+-----------+\n",
      "| Month(4)  | 0.0765646 |\n",
      "+-----------+-----------+\n",
      "| Month(5)  | 0.0845539 |\n",
      "+-----------+-----------+\n",
      "| Month(6)  | 0.0845539 |\n",
      "+-----------+-----------+\n",
      "| Month(7)  | 0.0895473 |\n",
      "+-----------+-----------+\n",
      "| Month(8)  | 0.0912117 |\n",
      "+-----------+-----------+\n",
      "| Month(9)  | 0.0878828 |\n",
      "+-----------+-----------+\n",
      "| Month(10) | 0.0672437 |\n",
      "+-----------+-----------+\n",
      "| Month(11) | 0.0932091 |\n",
      "+-----------+-----------+\n",
      "| Month(12) | 0.0922104 |\n",
      "+-----------+-----------+\n",
      "{'Month': ['Month_0', 'Month_1', 'Month_2', 'Month_3', 'Month_4', 'Month_5', 'Month_6', 'Month_7', 'Month_8', 'Month_9', 'Month_10', 'Month_11'], 'ST': ['ST_0', 'ST_1'], 'WD': ['WD_0', 'WD_1', 'WD_2', 'WD_3', 'WD_4']}\n",
      "unknown\n"
     ]
    },
    {
     "name": "stderr",
     "output_type": "stream",
     "text": [
      "Finding Elimination Order: : 100%|██████████████████████████████████████████████████████████████████████████████████████████████████████████████████████████████| 1/1 [00:00<00:00, 333.68it/s]\n",
      "Eliminating: Month: 100%|███████████████████████████████████████████████████████████████████████████████████████████████████████████████████████████████████████| 1/1 [00:00<00:00, 333.60it/s]\n"
     ]
    },
    {
     "name": "stdout",
     "output_type": "stream",
     "text": [
      "+----------+-----------+\n",
      "| ST       |   phi(ST) |\n",
      "+==========+===========+\n",
      "| ST(ST_0) |    0.4739 |\n",
      "+----------+-----------+\n",
      "| ST(ST_1) |    0.5261 |\n",
      "+----------+-----------+\n"
     ]
    }
   ],
   "source": [
    "# Maximum Likelihood Estimation \n",
    "from pgmpy.estimators import MaximumLikelihoodEstimator\n",
    "print('model:', model)\n",
    "print('data:', data)\n",
    "mle = MaximumLikelihoodEstimator(model, data)\n",
    "# model.fit(data, estimator=MaximumLikelihoodEstimator)\n",
    "print(\"\\n\", mle.estimate_cpd('WD'))\n",
    "print(\"\\n\", mle.estimate_cpd('Month'))\n",
    "from pgmpy.readwrite import XMLBIFWriter,XMLBIFReader,BIFReader,BIFWriter\n",
    "\n",
    "writer = BIFWriter(model)\n",
    "writer.write_bif(filename=os.path.sep.join([get_root_path(),'save','600893','600893.bif']))\n",
    "reader = BIFReader(os.path.sep.join([get_root_path(),'save','600893','600893.bif']))\n",
    "mod = reader.get_model()\n",
    "print(reader.get_states())\n",
    "print(mod)\n",
    "\n",
    "from pgmpy.inference import VariableElimination\n",
    "inference = VariableElimination(mod)\n",
    "print(inference.query(['ST'],evidence={'WD':'WD_0'}))"
   ]
  },
  {
   "cell_type": "code",
   "execution_count": 56,
   "metadata": {},
   "outputs": [],
   "source": [
    "??inference.query"
   ]
  },
  {
   "cell_type": "code",
   "execution_count": 17,
   "metadata": {
    "ExecuteTime": {
     "end_time": "2020-03-23T02:13:18.383111Z",
     "start_time": "2020-03-23T02:13:18.226873Z"
    }
   },
   "outputs": [
    {
     "name": "stdout",
     "output_type": "stream",
     "text": [
      "model: \n",
      "data:      MACD MFI    ST\n",
      "0      HS  HS  HOLD\n",
      "1      HS  HS  HOLD\n",
      "2      HS  HS  HOLD\n",
      "3      HS  HS  HOLD\n",
      "4      HS  HS   BUY\n",
      "...   ...  ..   ...\n",
      "2959   HS  HS   BUY\n",
      "2960   HS  HS   BUY\n",
      "2961   HS  HS  HOLD\n",
      "2962   HS  HS  HOLD\n",
      "2963   HS  HS  HOLD\n",
      "\n",
      "[2964 rows x 3 columns]\n"
     ]
    },
    {
     "ename": "AttributeError",
     "evalue": "'NoneType' object has no attribute 'estimate_cpd'",
     "output_type": "error",
     "traceback": [
      "\u001b[1;31m---------------------------------------------------------------------------\u001b[0m",
      "\u001b[1;31mAttributeError\u001b[0m                            Traceback (most recent call last)",
      "\u001b[1;32m<ipython-input-17-73e3fff88392>\u001b[0m in \u001b[0;36m<module>\u001b[1;34m\u001b[0m\n\u001b[0;32m     25\u001b[0m \u001b[0mprint\u001b[0m\u001b[1;33m(\u001b[0m\u001b[1;34m'data:'\u001b[0m\u001b[1;33m,\u001b[0m \u001b[0mdata\u001b[0m\u001b[1;33m)\u001b[0m\u001b[1;33m\u001b[0m\u001b[1;33m\u001b[0m\u001b[0m\n\u001b[0;32m     26\u001b[0m \u001b[0mmle\u001b[0m \u001b[1;33m=\u001b[0m \u001b[0mmodel\u001b[0m\u001b[1;33m.\u001b[0m\u001b[0mfit\u001b[0m\u001b[1;33m(\u001b[0m\u001b[0mdata\u001b[0m\u001b[1;33m,\u001b[0m \u001b[0mestimator\u001b[0m\u001b[1;33m=\u001b[0m\u001b[0mMaximumLikelihoodEstimator\u001b[0m\u001b[1;33m)\u001b[0m\u001b[1;33m\u001b[0m\u001b[1;33m\u001b[0m\u001b[0m\n\u001b[1;32m---> 27\u001b[1;33m \u001b[0mprint\u001b[0m\u001b[1;33m(\u001b[0m\u001b[1;34m\"\\n\"\u001b[0m\u001b[1;33m,\u001b[0m \u001b[0mmle\u001b[0m\u001b[1;33m.\u001b[0m\u001b[0mestimate_cpd\u001b[0m\u001b[1;33m(\u001b[0m\u001b[1;34m'MACD'\u001b[0m\u001b[1;33m)\u001b[0m\u001b[1;33m)\u001b[0m\u001b[1;33m\u001b[0m\u001b[1;33m\u001b[0m\u001b[0m\n\u001b[0m\u001b[0;32m     28\u001b[0m \u001b[0mprint\u001b[0m\u001b[1;33m(\u001b[0m\u001b[1;34m\"\\n\"\u001b[0m\u001b[1;33m,\u001b[0m \u001b[0mmle\u001b[0m\u001b[1;33m.\u001b[0m\u001b[0mestimate_cpd\u001b[0m\u001b[1;33m(\u001b[0m\u001b[1;34m'MFI'\u001b[0m\u001b[1;33m)\u001b[0m\u001b[1;33m)\u001b[0m\u001b[1;33m\u001b[0m\u001b[1;33m\u001b[0m\u001b[0m\n\u001b[0;32m     29\u001b[0m \u001b[1;31m# print(model.get_root_path())\u001b[0m\u001b[1;33m\u001b[0m\u001b[1;33m\u001b[0m\u001b[1;33m\u001b[0m\u001b[0m\n",
      "\u001b[1;31mAttributeError\u001b[0m: 'NoneType' object has no attribute 'estimate_cpd'"
     ]
    }
   ],
   "source": [
    "# 推断\n",
    "import pandas as pd\n",
    "import numpy as np\n",
    "from pgmpy.estimators import BdeuScore, K2Score, BicScore\n",
    "from pgmpy.models import BayesianModel\n",
    "import os\n",
    "from root import get_root_path\n",
    "from pgmpy.estimators import ParameterEstimator\n",
    "from pgmpy.estimators import MaximumLikelihoodEstimator\n",
    "from pgmpy.inference import VariableElimination\n",
    "\n",
    "path = os.path.sep.join([get_root_path(),'data','train','ider_600893.txt'])\n",
    "data = pd.read_csv(path, sep=',')\n",
    "model = BayesianModel([('MACD', 'ST'), ('MFI', 'ST')])  # WD -> ST <- Month\n",
    "print('model:', model)\n",
    "# pe = ParameterEstimator(model, data)\n",
    "# print(\"\\n\", pe.state_counts('MACD'))\n",
    "# print(\"\\n\", pe.state_counts('MFI'))\n",
    "\n",
    "# # mle.estimate_cpd(variable) computes the state counts and divides each cell by the (conditional) sample size. The mle.get_parameters()-method returns a list of CPDs for all variable of the model.\n",
    "# # The built-in fit()-method of BayesianModel provides more convenient access to parameter estimators:\n",
    "# mle = MaximumLikelihoodEstimator(model, data)\n",
    "# print(\"\\n\", mle.estimate_cpd('MACD'))\n",
    "# print(\"\\n\", mle.estimate_cpd('MFI'))\n",
    "print('data:', data)\n",
    "mle = model.fit(data, estimator=MaximumLikelihoodEstimator)\n",
    "\n",
    "# print(model.get_root_path())\n",
    "# model_data = get_probmodel_data(model)\n",
    "# writer = ProbModelXMLWriter(model_data=model_data)\n",
    "# writer.write_file(os.path.join([get_root_path(),'data','train','600893.pgmx']))\n",
    "infer = VariableElimination(model)\n",
    "print('MACD:BS\\n',infer.query(['ST'], evidence={'MACD': 'BS'}))\n",
    "print('MFI:BS\\n',infer.query(['ST'], evidence={'MFI': 'BS'}))\n"
   ]
  },
  {
   "cell_type": "markdown",
   "metadata": {
    "heading_collapsed": true
   },
   "source": [
    "## 按连续性划分网络"
   ]
  },
  {
   "cell_type": "markdown",
   "metadata": {
    "heading_collapsed": true
   },
   "source": [
    "## 按指标数据划分"
   ]
  },
  {
   "cell_type": "code",
   "execution_count": 3,
   "metadata": {
    "hidden": true
   },
   "outputs": [
    {
     "name": "stdout",
     "output_type": "stream",
     "text": [
      "D:\\PROJECT_TW\\git\\finance\\data\\train\\600893_signal.txt\n"
     ]
    },
    {
     "name": "stderr",
     "output_type": "stream",
     "text": [
      "Finding Elimination Order: : 100%|█████████████████████████████████████████████████████████████████████████████████████████████████████| 4/4 [00:00<00:00, 1332.48it/s]\n",
      "Eliminating: MFI: 100%|█████████████████████████████████████████████████████████████████████████████████████████████████████████████████| 4/4 [00:00<00:00, 138.01it/s]\n"
     ]
    },
    {
     "name": "stdout",
     "output_type": "stream",
     "text": [
      "MACD:BS\n",
      " +----------+------------+--------------------+\n",
      "| MACD     | BBANDS     |   phi(MACD,BBANDS) |\n",
      "+==========+============+====================+\n",
      "| MACD(BS) | BBANDS(BS) |             0.0078 |\n",
      "+----------+------------+--------------------+\n",
      "| MACD(BS) | BBANDS(HS) |             0.0324 |\n",
      "+----------+------------+--------------------+\n",
      "| MACD(HS) | BBANDS(BS) |             0.1649 |\n",
      "+----------+------------+--------------------+\n",
      "| MACD(HS) | BBANDS(HS) |             0.7950 |\n",
      "+----------+------------+--------------------+\n"
     ]
    }
   ],
   "source": [
    "import pandas as pd\n",
    "import numpy as np\n",
    "from pgmpy.estimators import BdeuScore, K2Score, BicScore\n",
    "from pgmpy.models import BayesianModel\n",
    "import os\n",
    "from root import get_root_path\n",
    "\n",
    "code = '600893'\n",
    "path = os.path.sep.join([get_root_path(),'data','train','{}_signal.txt'.format(code)])\n",
    "print(path)\n",
    "data = pd.read_csv(path, sep=',')\n",
    "index_keys=['MACD','MFI','BBANDS','AROON','SAR','CCI']\n",
    "model = BayesianModel([('MACD', 'ST'), ('MFI', 'ST'),('BBANDS','ST'),('AROON','ST'),('SAR','ST'),('CCI','ST')])\n",
    "# pe = ParameterEstimator(model, data)\n",
    "mle = MaximumLikelihoodEstimator(model, data)\n",
    "# print(\"\\n\", mle.estimate_cpd('MACD'))\n",
    "# print(\"\\n\", mle.estimate_cpd('MFI'))\n",
    "model.fit(data, estimator=MaximumLikelihoodEstimator)\n",
    "infer = VariableElimination(model)\n",
    "# print('MACD:BS\\n',infer.query(['ST'], evidence={'MACD':'BS','AROON':'BS','BBANDS':'BS','SAR':'BS','CCI':'BS'}))\n",
    "print('MACD:BS\\n',infer.query(['BBANDS','MACD'], evidence={'ST':'BUY'}))\n",
    "# print('MFI:BS\\n',infer.query(['ST'], evidence={'MFI': 'BS'}))\n",
    "# print('BBANDS:BS\\n',infer.query(['ST'], evidence={'BBANDS': 'BS'}))\n",
    "# print('AROON:BS\\n',infer.query(['ST'], evidence={'AROON': 'BS'}))\n",
    "# print('SAR:BS\\n',infer.query(['ST'], evidence={'SAR': 'BS'}))\n",
    "# print('CCI:BS\\n',infer.query(['ST'], evidence={'CCI': 'BS'}))\n",
    "from pgmpy.readwrite import XMLBIFWriter\n",
    "writer = XMLBIFWriter(model)\n",
    "writer.write_xmlbif(filename=os.path.sep.join([get_root_path(),'data','train','600893_signal.bif']))\n",
    "\n"
   ]
  },
  {
   "cell_type": "code",
   "execution_count": 30,
   "metadata": {
    "hidden": true
   },
   "outputs": [
    {
     "name": "stderr",
     "output_type": "stream",
     "text": [
      "Finding Elimination Order: : 100%|█████████████████████████████████████████████████████████████████████████████████████████████████████| 5/5 [00:00<00:00, 2500.78it/s]\n",
      "Eliminating: MFI: 100%|█████████████████████████████████████████████████████████████████████████████████████████████████████████████████| 5/5 [00:00<00:00, 111.18it/s]\n"
     ]
    },
    {
     "name": "stdout",
     "output_type": "stream",
     "text": [
      "+----------+-----------+\n",
      "| ST       |   phi(ST) |\n",
      "+==========+===========+\n",
      "| ST(BUY)  |    0.5166 |\n",
      "+----------+-----------+\n",
      "| ST(HOLD) |    0.4834 |\n",
      "+----------+-----------+\n",
      "['ST']\n",
      "[2]\n",
      "[0.51661481 0.48338519]\n"
     ]
    },
    {
     "ename": "AttributeError",
     "evalue": "'DiscreteFactor' object has no attribute 'evidence'",
     "output_type": "error",
     "traceback": [
      "\u001b[1;31m---------------------------------------------------------------------------\u001b[0m",
      "\u001b[1;31mAttributeError\u001b[0m                            Traceback (most recent call last)",
      "\u001b[1;32m<ipython-input-30-2e16e46e419a>\u001b[0m in \u001b[0;36m<module>\u001b[1;34m\u001b[0m\n\u001b[0;32m     10\u001b[0m \u001b[0mprint\u001b[0m\u001b[1;33m(\u001b[0m\u001b[0mresult\u001b[0m\u001b[1;33m.\u001b[0m\u001b[0mcardinality\u001b[0m\u001b[1;33m)\u001b[0m\u001b[1;33m\u001b[0m\u001b[1;33m\u001b[0m\u001b[0m\n\u001b[0;32m     11\u001b[0m \u001b[0mprint\u001b[0m\u001b[1;33m(\u001b[0m\u001b[0mresult\u001b[0m\u001b[1;33m.\u001b[0m\u001b[0mvalues\u001b[0m\u001b[1;33m)\u001b[0m\u001b[1;33m\u001b[0m\u001b[1;33m\u001b[0m\u001b[0m\n\u001b[1;32m---> 12\u001b[1;33m \u001b[0mprint\u001b[0m\u001b[1;33m(\u001b[0m\u001b[0mresult\u001b[0m\u001b[1;33m.\u001b[0m\u001b[0mevidence\u001b[0m\u001b[1;33m)\u001b[0m\u001b[1;33m\u001b[0m\u001b[1;33m\u001b[0m\u001b[0m\n\u001b[0m\u001b[0;32m     13\u001b[0m \u001b[0mprint\u001b[0m\u001b[1;33m(\u001b[0m\u001b[0mresult\u001b[0m\u001b[1;33m.\u001b[0m\u001b[0mget_cardinality\u001b[0m\u001b[1;33m(\u001b[0m\u001b[1;33m[\u001b[0m\u001b[1;34m'ST'\u001b[0m\u001b[1;33m]\u001b[0m\u001b[1;33m)\u001b[0m\u001b[1;33m)\u001b[0m\u001b[1;33m\u001b[0m\u001b[1;33m\u001b[0m\u001b[0m\n",
      "\u001b[1;31mAttributeError\u001b[0m: 'DiscreteFactor' object has no attribute 'evidence'"
     ]
    }
   ],
   "source": [
    "from pgmpy.readwrite import XMLBIFWriter,XMLBIFReader\n",
    "reader = XMLBIFReader(os.path.sep.join([get_root_path(),'data','train','600893_signal.bif']))\n",
    "# reader.get_edges\n",
    "model = reader.get_model()\n",
    "infer = VariableElimination(model)\n",
    "# print('BBANDS:BS\\n',infer.query(['ST'], evidence={'BBANDS': 'BS'}))\n",
    "result = infer.query(['ST'], evidence={'MACD': 'BS'})\n",
    "print(result)\n",
    "print(result.variables)\n",
    "print(result.cardinality)\n",
    "print(result.values)\n",
    "print(result.evidence)\n",
    "print(result.get_cardinality(['ST']))"
   ]
  },
  {
   "cell_type": "code",
   "execution_count": 31,
   "metadata": {
    "hidden": true
   },
   "outputs": [],
   "source": [
    "??result"
   ]
  },
  {
   "cell_type": "code",
   "execution_count": null,
   "metadata": {
    "hidden": true
   },
   "outputs": [],
   "source": []
  }
 ],
 "metadata": {
  "kernelspec": {
   "display_name": "Python 3",
   "language": "python",
   "name": "python3"
  },
  "language_info": {
   "codemirror_mode": {
    "name": "ipython",
    "version": 3
   },
   "file_extension": ".py",
   "mimetype": "text/x-python",
   "name": "python",
   "nbconvert_exporter": "python",
   "pygments_lexer": "ipython3",
   "version": "3.7.4"
  },
  "toc": {
   "base_numbering": 1,
   "nav_menu": {},
   "number_sections": true,
   "sideBar": true,
   "skip_h1_title": false,
   "title_cell": "Table of Contents",
   "title_sidebar": "Contents",
   "toc_cell": false,
   "toc_position": {},
   "toc_section_display": true,
   "toc_window_display": false
  },
  "varInspector": {
   "cols": {
    "lenName": 16,
    "lenType": 16,
    "lenVar": 40
   },
   "kernels_config": {
    "python": {
     "delete_cmd_postfix": "",
     "delete_cmd_prefix": "del ",
     "library": "var_list.py",
     "varRefreshCmd": "print(var_dic_list())"
    },
    "r": {
     "delete_cmd_postfix": ") ",
     "delete_cmd_prefix": "rm(",
     "library": "var_list.r",
     "varRefreshCmd": "cat(var_dic_list()) "
    }
   },
   "types_to_exclude": [
    "module",
    "function",
    "builtin_function_or_method",
    "instance",
    "_Feature"
   ],
   "window_display": false
  }
 },
 "nbformat": 4,
 "nbformat_minor": 2
}
