{
 "cells": [
  {
   "cell_type": "raw",
   "metadata": {},
   "source": [
    "1、http://www.doc88.com/p-6475915229653.html  基于贝叶斯网络的股票预测参考\n",
    "2、https://www.sciencedirect.com/science/article/abs/pii/S0957417411017064 Stock price forecast using Bayesian network\n",
    "3、https://github.com/Rishub21/Stock_Bayesian_Network \n",
    "4、https://zhuanlan.zhihu.com/p/41923765?utm_source=wechat_session&utm_medium=social&utm_oi=777186450763440128\n",
    "5、http://www.eecs.harvard.edu/~parkes/cs286r/spring08/reading3/stock-trading-dbn.pdf \n",
    "6、https://www.researchgate.net/publication/2855827_Bayesian_Network_Models_of_Portfolio_Risk_and_Return \n",
    "7、https://arxiv.org/pdf/1903.06478.pdf Multimodal Deep Learning for Finance:Integrating and Forecasting International Stock   ！！！！！！！\n",
    "8、https://link.springer.com/content/pdf/10.1007/s13042-019-01041-1.pdf \n",
    "9、https://www.ijrte.org/wp-content/uploads/papers/v8i1/F2804037619.pdf\n",
    "10、https://rpubs.com/kapage/523169 Stock Price Forecasting Using Time Series Analysis, Machine Learning and single layer neural network Models\n",
    "11、https://reader.elsevier.com/reader/sd/pii/S1877050919319684?token=83792371AC71A903D633A98DCEC3BD1CD8A412B888C0E41D41CF35045B69ED222C2DD04474B2742EB0DA24BF2A63B83A \n",
    "12、 https://rpubs.com/kapage/523169 ！！！！！！！！！！！！！！！！！！！\n",
    "13、https://mpra.ub.uni-muenchen.de/92634/1/MPRA_paper_92634.pdf  The econometrics of Bayesian graphicalmodels: a review with financial application\n",
    "14、https://wiki.mbalib.com/wiki/%E5%90%91%E9%87%8F%E8%87%AA%E5%9B%9E%E5%BD%92%E6%A8%A1%E5%9E%8B VAR 向量自回归模型\n",
    "15、https://towardsdatascience.com/stock-prediction-using-recurrent-neural-networks-c03637437578 \n",
    "16、https://github.com/fmfn/BayesianOptimization  ！！！！！！！！！！\n",
    "17、https://towardsdatascience.com/aifortrading-2edd6fac689d ！！！！！！！！！！！！！！！！！！！！！！！！！！！！！  (https://github.com/borisbanushev/stockpredictionai) \n",
    "18、https://www.zhihu.com/question/19714540  傅里叶变换\n",
    "19、https://www.cnblogs.com/h2zZhou/p/8405717.html 深入浅出的讲解傅里叶变换（真正的通俗易懂）\n",
    "20、https://blog.csdn.net/GarfieldEr007/article/details/51685256?depth_1-utm_source=distribute.pc_relevant.none-task&utm_source=distribute.pc_relevant.none-task 傅里叶变换应用\n",
    "21、https://towardsdatascience.com/self-organizing-maps-ff5853a118d4 ！\n",
    "22、http://blog.yhat.com/posts/self-organizing-maps-1.html  Self-Organising Maps: An Introduction ！！！ \n",
    "23、https://www.sciencedirect.com/topics/engineering/self-organizing-map \n"
   ]
  },
  {
   "cell_type": "markdown",
   "metadata": {},
   "source": [
    "# 结构学习"
   ]
  },
  {
   "cell_type": "code",
   "execution_count": 1,
   "metadata": {
    "ExecuteTime": {
     "end_time": "2020-11-25T05:22:25.376446Z",
     "start_time": "2020-11-25T02:39:01.008912Z"
    }
   },
   "outputs": [
    {
     "name": "stdout",
     "output_type": "stream",
     "text": [
      "D:\\PROJECT_TW\\git\\finance\\data\\train\\600893.txt\n",
      "[]\n",
      "\n",
      "All DAGs by score:\n",
      "-50504.05359149926 []\n",
      "-50516.116125264605 [('WD', 'ST')]\n",
      "-50516.116125264605 [('ST', 'WD')]\n",
      "-50531.86083187595 [('ST', 'Month')]\n",
      "-50531.86083187595 [('Month', 'ST')]\n",
      "-50543.9233656413 [('ST', 'Month'), ('WD', 'ST')]\n",
      "-50543.9233656413 [('ST', 'WD'), ('ST', 'Month')]\n",
      "-50543.9233656413 [('Month', 'ST'), ('ST', 'WD')]\n",
      "-50678.80715554881 [('WD', 'Month')]\n",
      "-50678.80715554881 [('Month', 'WD')]\n",
      "-50690.86968931416 [('WD', 'Month'), ('WD', 'ST')]\n",
      "-50690.86968931416 [('ST', 'WD'), ('WD', 'Month')]\n",
      "-50690.86968931416 [('Month', 'WD'), ('WD', 'ST')]\n",
      "-50702.79815592117 [('Month', 'ST'), ('WD', 'ST')]\n",
      "-50706.614395925506 [('Month', 'WD'), ('ST', 'Month')]\n",
      "-50706.614395925506 [('Month', 'ST'), ('WD', 'Month')]\n",
      "-50706.614395925506 [('Month', 'ST'), ('Month', 'WD')]\n",
      "-50849.74447959403 [('Month', 'WD'), ('ST', 'WD')]\n",
      "-50865.48918620537 [('ST', 'Month'), ('WD', 'Month')]\n",
      "-50877.55171997072 [('ST', 'Month'), ('WD', 'Month'), ('WD', 'ST')]\n",
      "-50877.55171997072 [('ST', 'WD'), ('ST', 'Month'), ('WD', 'Month')]\n",
      "-50877.551719970725 [('Month', 'WD'), ('ST', 'WD'), ('ST', 'Month')]\n",
      "-50877.551719970725 [('Month', 'ST'), ('WD', 'Month'), ('WD', 'ST')]\n",
      "-50877.551719970725 [('Month', 'ST'), ('Month', 'WD'), ('WD', 'ST')]\n",
      "-50877.551719970725 [('Month', 'ST'), ('Month', 'WD'), ('ST', 'WD')]\n",
      "-60446.87197627287 [('Date', 'ST')]\n",
      "-60446.87197627381 [('ST', 'Date')]\n",
      "-60458.93451003822 [('Date', 'ST'), ('ST', 'WD')]\n",
      "-60458.93451003916 [('ST', 'Date'), ('WD', 'ST')]\n",
      "-60458.93451003916 [('ST', 'WD'), ('ST', 'Date')]\n",
      "-60474.679216649565 [('Date', 'ST'), ('ST', 'Month')]\n",
      "-60474.679216650504 [('ST', 'Date'), ('ST', 'Month')]\n",
      "-60474.679216650504 [('Month', 'ST'), ('ST', 'Date')]\n",
      "-60486.74175041491 [('Date', 'ST'), ('ST', 'WD'), ('ST', 'Month')]\n",
      "-60486.74175041585 [('ST', 'Date'), ('ST', 'Month'), ('WD', 'ST')]\n",
      "-60486.74175041585 [('ST', 'WD'), ('ST', 'Date'), ('ST', 'Month')]\n",
      "-60486.74175041585 [('Month', 'ST'), ('ST', 'WD'), ('ST', 'Date')]\n",
      "-60621.62554032243 [('Date', 'ST'), ('WD', 'Month')]\n",
      "-60621.62554032243 [('Date', 'ST'), ('Month', 'WD')]\n",
      "-60621.625540323366 [('ST', 'Date'), ('WD', 'Month')]\n",
      "-60621.625540323366 [('Month', 'WD'), ('ST', 'Date')]\n",
      "-60633.688074087775 [('Date', 'ST'), ('ST', 'WD'), ('WD', 'Month')]\n",
      "-60633.68807408871 [('ST', 'Date'), ('WD', 'Month'), ('WD', 'ST')]\n",
      "-60633.68807408871 [('ST', 'WD'), ('ST', 'Date'), ('WD', 'Month')]\n",
      "-60633.68807408871 [('Month', 'WD'), ('ST', 'Date'), ('WD', 'ST')]\n",
      "-60645.61654069572 [('Month', 'ST'), ('ST', 'Date'), ('WD', 'ST')]\n",
      "-60649.43278069912 [('Date', 'ST'), ('Month', 'WD'), ('ST', 'Month')]\n",
      "-60649.43278070006 [('Month', 'WD'), ('ST', 'Date'), ('ST', 'Month')]\n",
      "-60649.43278070006 [('Month', 'ST'), ('ST', 'Date'), ('WD', 'Month')]\n",
      "-60649.43278070006 [('Month', 'ST'), ('Month', 'WD'), ('ST', 'Date')]\n",
      "-60792.56286436765 [('Date', 'ST'), ('Month', 'WD'), ('ST', 'WD')]\n",
      "-60792.562864368585 [('Month', 'WD'), ('ST', 'WD'), ('ST', 'Date')]\n",
      "-60808.307570978985 [('Date', 'ST'), ('ST', 'Month'), ('WD', 'Month')]\n",
      "-60808.30757097992 [('ST', 'Date'), ('ST', 'Month'), ('WD', 'Month')]\n",
      "-60820.37010474433 [('Date', 'ST'), ('ST', 'WD'), ('ST', 'Month'), ('WD', 'Month')]\n",
      "-60820.37010474434 [('Date', 'ST'), ('Month', 'WD'), ('ST', 'WD'), ('ST', 'Month')]\n",
      "-60820.37010474527 [('ST', 'Date'), ('ST', 'Month'), ('WD', 'Month'), ('WD', 'ST')]\n",
      "-60820.37010474527 [('ST', 'WD'), ('ST', 'Date'), ('ST', 'Month'), ('WD', 'Month')]\n",
      "-60820.37010474528 [('Month', 'WD'), ('ST', 'WD'), ('ST', 'Date'), ('ST', 'Month')]\n",
      "-60820.37010474528 [('Month', 'ST'), ('ST', 'Date'), ('WD', 'Month'), ('WD', 'ST')]\n",
      "-60820.37010474528 [('Month', 'ST'), ('Month', 'WD'), ('ST', 'Date'), ('WD', 'ST')]\n",
      "-60820.37010474528 [('Month', 'ST'), ('Month', 'WD'), ('ST', 'WD'), ('ST', 'Date')]\n",
      "-93763.83049559432 [('Date', 'WD')]\n",
      "-93763.83049559435 [('WD', 'Date')]\n",
      "-93775.89302935966 [('Date', 'WD'), ('WD', 'ST')]\n",
      "-93775.8930293597 [('WD', 'Date'), ('WD', 'ST')]\n",
      "-93775.8930293597 [('ST', 'WD'), ('WD', 'Date')]\n",
      "-93791.63773597102 [('Date', 'WD'), ('ST', 'Month')]\n",
      "-93791.63773597102 [('Date', 'WD'), ('Month', 'ST')]\n",
      "-93791.63773597103 [('Month', 'ST'), ('WD', 'Date')]\n",
      "-93791.63773597105 [('ST', 'Month'), ('WD', 'Date')]\n",
      "-93803.70026973635 [('Date', 'WD'), ('ST', 'Month'), ('WD', 'ST')]\n",
      "-93803.70026973638 [('Month', 'ST'), ('ST', 'WD'), ('WD', 'Date')]\n",
      "-93803.7002697364 [('ST', 'Month'), ('WD', 'Date'), ('WD', 'ST')]\n",
      "-93803.7002697364 [('ST', 'WD'), ('ST', 'Month'), ('WD', 'Date')]\n",
      "-93938.58405964388 [('Date', 'WD'), ('WD', 'Month')]\n",
      "-93938.5840596439 [('Month', 'WD'), ('WD', 'Date')]\n",
      "-93938.58405964391 [('WD', 'Date'), ('WD', 'Month')]\n",
      "-93950.64659340921 [('Date', 'WD'), ('WD', 'Month'), ('WD', 'ST')]\n",
      "-93950.64659340924 [('Month', 'WD'), ('WD', 'Date'), ('WD', 'ST')]\n",
      "-93950.64659340926 [('WD', 'Date'), ('WD', 'Month'), ('WD', 'ST')]\n",
      "-93950.64659340926 [('ST', 'WD'), ('WD', 'Date'), ('WD', 'Month')]\n",
      "-93962.57506001623 [('Date', 'WD'), ('Month', 'ST'), ('WD', 'ST')]\n",
      "-93962.57506001626 [('Month', 'ST'), ('WD', 'Date'), ('WD', 'ST')]\n",
      "-93966.39130002056 [('Date', 'WD'), ('Month', 'ST'), ('WD', 'Month')]\n",
      "-93966.39130002058 [('Month', 'ST'), ('Month', 'WD'), ('WD', 'Date')]\n",
      "-93966.3913000206 [('Month', 'WD'), ('ST', 'Month'), ('WD', 'Date')]\n",
      "-93966.3913000206 [('Month', 'ST'), ('WD', 'Date'), ('WD', 'Month')]\n",
      "-94109.52138368912 [('Month', 'WD'), ('ST', 'WD'), ('WD', 'Date')]\n",
      "-94125.26609030043 [('Date', 'WD'), ('ST', 'Month'), ('WD', 'Month')]\n",
      "-94125.26609030047 [('ST', 'Month'), ('WD', 'Date'), ('WD', 'Month')]\n",
      "-94137.32862406578 [('Date', 'WD'), ('ST', 'Month'), ('WD', 'Month'), ('WD', 'ST')]\n",
      "-94137.32862406579 [('Date', 'WD'), ('Month', 'ST'), ('WD', 'Month'), ('WD', 'ST')]\n",
      "-94137.3286240658 [('Month', 'ST'), ('Month', 'WD'), ('WD', 'Date'), ('WD', 'ST')]\n",
      "-94137.3286240658 [('Month', 'ST'), ('Month', 'WD'), ('ST', 'WD'), ('WD', 'Date')]\n",
      "-94137.32862406582 [('ST', 'Month'), ('WD', 'Date'), ('WD', 'Month'), ('WD', 'ST')]\n",
      "-94137.32862406582 [('ST', 'WD'), ('ST', 'Month'), ('WD', 'Date'), ('WD', 'Month')]\n",
      "-94137.32862406582 [('Month', 'WD'), ('ST', 'WD'), ('ST', 'Month'), ('WD', 'Date')]\n",
      "-94137.32862406582 [('Month', 'ST'), ('WD', 'Date'), ('WD', 'Month'), ('WD', 'ST')]\n",
      "-103706.64888036792 [('Date', 'ST'), ('Date', 'WD')]\n",
      "-103706.64888036797 [('Date', 'ST'), ('WD', 'Date')]\n",
      "-103706.64888036887 [('Date', 'WD'), ('ST', 'Date')]\n",
      "-103734.45612074462 [('Date', 'ST'), ('Date', 'WD'), ('ST', 'Month')]\n",
      "-103734.45612074467 [('Date', 'ST'), ('ST', 'Month'), ('WD', 'Date')]\n",
      "-103734.45612074557 [('Date', 'WD'), ('ST', 'Date'), ('ST', 'Month')]\n",
      "-103734.45612074557 [('Date', 'WD'), ('Month', 'ST'), ('ST', 'Date')]\n",
      "-103881.40244441749 [('Date', 'ST'), ('Date', 'WD'), ('WD', 'Month')]\n",
      "-103881.40244441752 [('Date', 'ST'), ('Month', 'WD'), ('WD', 'Date')]\n",
      "-103881.40244441753 [('Date', 'ST'), ('WD', 'Date'), ('WD', 'Month')]\n",
      "-103881.40244441843 [('Date', 'WD'), ('ST', 'Date'), ('WD', 'Month')]\n",
      "-104068.08447507405 [('Date', 'ST'), ('Date', 'WD'), ('ST', 'Month'), ('WD', 'Month')]\n",
      "-104068.0844750741 [('Date', 'ST'), ('ST', 'Month'), ('WD', 'Date'), ('WD', 'Month')]\n",
      "-104068.08447507498 [('Date', 'WD'), ('ST', 'Date'), ('ST', 'Month'), ('WD', 'Month')]\n",
      "-108557.1336536801 [('Date', 'ST'), ('WD', 'ST')]\n",
      "-108584.9408940568 [('Date', 'ST'), ('ST', 'Month'), ('WD', 'ST')]\n",
      "-108731.88721772964 [('Date', 'ST'), ('Month', 'WD'), ('WD', 'ST')]\n",
      "-108731.88721772966 [('Date', 'ST'), ('WD', 'Month'), ('WD', 'ST')]\n",
      "-108918.56924838622 [('Date', 'ST'), ('ST', 'Month'), ('WD', 'Month'), ('WD', 'ST')]\n",
      "-141874.09217300155 [('Date', 'WD'), ('ST', 'WD')]\n",
      "-141901.89941337824 [('Date', 'WD'), ('ST', 'WD'), ('ST', 'Month')]\n",
      "-141901.89941337824 [('Date', 'WD'), ('Month', 'ST'), ('ST', 'WD')]\n",
      "-142048.8457370511 [('Date', 'WD'), ('ST', 'WD'), ('WD', 'Month')]\n",
      "-142235.52776770765 [('Date', 'WD'), ('ST', 'WD'), ('ST', 'Month'), ('WD', 'Month')]\n",
      "-151804.84802401013 [('ST', 'Date'), ('WD', 'Date')]\n",
      "-151816.91055777515 [('Date', 'ST'), ('Date', 'WD'), ('WD', 'ST')]\n",
      "-151816.91055777518 [('Date', 'ST'), ('WD', 'Date'), ('WD', 'ST')]\n",
      "-151816.91055777518 [('Date', 'ST'), ('Date', 'WD'), ('ST', 'WD')]\n",
      "-151816.9105577755 [('ST', 'Date'), ('WD', 'Date'), ('WD', 'ST')]\n",
      "-151816.9105577755 [('ST', 'WD'), ('ST', 'Date'), ('WD', 'Date')]\n",
      "-151816.9105577761 [('Date', 'WD'), ('ST', 'WD'), ('ST', 'Date')]\n",
      "-151832.65526438682 [('ST', 'Date'), ('ST', 'Month'), ('WD', 'Date')]\n",
      "-151832.65526438685 [('Month', 'ST'), ('ST', 'Date'), ('WD', 'Date')]\n",
      "-151844.71779815186 [('Date', 'ST'), ('Date', 'WD'), ('ST', 'Month'), ('WD', 'ST')]\n",
      "-151844.71779815186 [('Date', 'ST'), ('Date', 'WD'), ('ST', 'WD'), ('ST', 'Month')]\n",
      "-151844.7177981519 [('Date', 'ST'), ('ST', 'Month'), ('WD', 'Date'), ('WD', 'ST')]\n",
      "-151844.71779815218 [('ST', 'Date'), ('ST', 'Month'), ('WD', 'Date'), ('WD', 'ST')]\n",
      "-151844.71779815218 [('ST', 'WD'), ('ST', 'Date'), ('ST', 'Month'), ('WD', 'Date')]\n",
      "-151844.7177981522 [('Month', 'ST'), ('ST', 'WD'), ('ST', 'Date'), ('WD', 'Date')]\n",
      "-151844.7177981528 [('Date', 'WD'), ('ST', 'WD'), ('ST', 'Date'), ('ST', 'Month')]\n",
      "-151844.7177981528 [('Date', 'WD'), ('Month', 'ST'), ('ST', 'WD'), ('ST', 'Date')]\n",
      "-151979.60158805968 [('ST', 'Date'), ('WD', 'Date'), ('WD', 'Month')]\n",
      "-151979.60158805968 [('Month', 'WD'), ('ST', 'Date'), ('WD', 'Date')]\n",
      "-151991.66412182472 [('Date', 'ST'), ('Month', 'WD'), ('WD', 'Date'), ('WD', 'ST')]\n",
      "-151991.66412182472 [('Date', 'ST'), ('Date', 'WD'), ('WD', 'Month'), ('WD', 'ST')]\n",
      "-151991.66412182472 [('Date', 'ST'), ('Date', 'WD'), ('ST', 'WD'), ('WD', 'Month')]\n",
      "-151991.66412182475 [('Date', 'ST'), ('WD', 'Date'), ('WD', 'Month'), ('WD', 'ST')]\n",
      "-151991.66412182504 [('ST', 'Date'), ('WD', 'Date'), ('WD', 'Month'), ('WD', 'ST')]\n",
      "-151991.66412182504 [('ST', 'WD'), ('ST', 'Date'), ('WD', 'Date'), ('WD', 'Month')]\n",
      "-151991.66412182504 [('Month', 'WD'), ('ST', 'Date'), ('WD', 'Date'), ('WD', 'ST')]\n",
      "-151991.66412182566 [('Date', 'WD'), ('ST', 'WD'), ('ST', 'Date'), ('WD', 'Month')]\n",
      "-152003.59258843205 [('Month', 'ST'), ('ST', 'Date'), ('WD', 'Date'), ('WD', 'ST')"
     ]
    },
    {
     "data": {
      "text/html": [
       "<b>limit_output extension: Maximum message size of 10000 exceeded with 44383 characters</b>"
      ]
     },
     "metadata": {},
     "output_type": "display_data"
    }
   ],
   "source": [
    "import pandas as pd\n",
    "import numpy as np\n",
    "from pgmpy.estimators import BdeuScore, K2Score, BicScore\n",
    "from pgmpy.models import BayesianModel\n",
    "import os\n",
    "# from root import get_root_path\n",
    "from pgmpy.estimators import ExhaustiveSearch\n",
    "from pgmpy.estimators import HillClimbSearch\n",
    "\n",
    "data_path = r'D:\\PROJECT_TW\\git\\finance'\n",
    "path = os.path.sep.join([data_path,'data','train','600893.txt'])\n",
    "print(path)\n",
    "data = pd.read_csv(path, sep=',')\n",
    "k2_score = K2Score(data)\n",
    "bic_score = BicScore(data)\n",
    "# model = BayesianModel([('WD', 'ST'), ('Month', 'ST')])  # WD -> ST <- Month\n",
    "# print(k2_score.score(model))\n",
    "es = ExhaustiveSearch(data, scoring_method=bic_score)\n",
    "best_model = es.estimate()\n",
    "print(best_model.edges())\n",
    "\n",
    "print(\"\\nAll DAGs by score:\")\n",
    "for score, dag in reversed(es.all_scores()):\n",
    "    print(score, dag.edges())\n",
    "    \n",
    "hc = HillClimbSearch(data, scoring_method=BicScore(data))\n",
    "best_model = hc.estimate()\n",
    "print(best_model.edges())\n",
    "# for score, dag in reversed(hc.all_scores()):\n",
    "#     print(score, dag.edges())"
   ]
  },
  {
   "cell_type": "markdown",
   "metadata": {},
   "source": [
    "# 数据网络"
   ]
  },
  {
   "cell_type": "markdown",
   "metadata": {},
   "source": [
    "## 按时间划分网络"
   ]
  },
  {
   "cell_type": "code",
   "execution_count": 5,
   "metadata": {
    "ExecuteTime": {
     "end_time": "2020-11-17T13:02:07.842319Z",
     "start_time": "2020-11-17T13:02:07.768777Z"
    }
   },
   "outputs": [
    {
     "name": "stdout",
     "output_type": "stream",
     "text": [
      "D:\\PROJECT_TW\\git\\finance\\data\\train\\600893.txt\n",
      "['WD', 'ST', 'Month']\n",
      "\n"
     ]
    }
   ],
   "source": [
    "import pandas as pd\n",
    "import numpy as np\n",
    "from pgmpy.estimators import BdeuScore, K2Score, BicScore\n",
    "from pgmpy.models import BayesianModel\n",
    "import os\n",
    "# from root import get_root_path\n",
    "from pgmpy.readwrite import ProbModelXMLWriter, get_probmodel_data\n",
    "data_path = r'D:\\PROJECT_TW\\git\\finance'\n",
    "path = os.path.sep.join([data_path,'data','train','600893.txt'])\n",
    "print(path)\n",
    "data = pd.read_csv(path, sep=',')\n",
    "model = BayesianModel([('WD', 'ST'), ('Month', 'ST')])  # WD -> ST <- Month\n",
    "print(model.nodes)\n",
    "print(model)\n",
    "\n"
   ]
  },
  {
   "cell_type": "code",
   "execution_count": 2,
   "metadata": {
    "ExecuteTime": {
     "end_time": "2020-03-23T01:22:56.473530Z",
     "start_time": "2020-03-23T01:22:56.254796Z"
    }
   },
   "outputs": [
    {
     "name": "stdout",
     "output_type": "stream",
     "text": [
      "\n",
      "     WD\n",
      "0  588\n",
      "1  604\n",
      "2  613\n",
      "3  602\n",
      "4  597\n"
     ]
    }
   ],
   "source": [
    "# 状态统计\n",
    "from pgmpy.estimators import ParameterEstimator\n",
    "pe = ParameterEstimator(model, data)\n",
    "print(\"\\n\", pe.state_counts('WD'))\n",
    "# print(\"\\n \", pe.state_counts('ST'))\n",
    "# print(\"\\n\", pe.state_counts('Month'))"
   ]
  },
  {
   "cell_type": "code",
   "execution_count": 5,
   "metadata": {
    "ExecuteTime": {
     "end_time": "2020-03-24T03:30:55.422728Z",
     "start_time": "2020-03-24T03:30:52.624411Z"
    },
    "scrolled": true
   },
   "outputs": [
    {
     "name": "stdout",
     "output_type": "stream",
     "text": [
      "model: \n",
      "data:             Date  WD  ST  Month\n",
      "0     2005-01-05   2   0      1\n",
      "1     2005-01-06   3   1      1\n",
      "2     2005-01-07   4   1      1\n",
      "3     2005-01-10   0   1      1\n",
      "4     2005-01-11   1   1      1\n",
      "...          ...  ..  ..    ...\n",
      "2999  2019-12-11   2   1     12\n",
      "3000  2019-12-12   3   1     12\n",
      "3001  2019-12-13   4   0     12\n",
      "3002  2019-12-16   0   0     12\n",
      "3003  2019-12-17   1   0     12\n",
      "\n",
      "[3004 rows x 4 columns]\n",
      "\n",
      " +-------+----------+\n",
      "| WD(0) | 0.195739 |\n",
      "+-------+----------+\n",
      "| WD(1) | 0.201065 |\n",
      "+-------+----------+\n",
      "| WD(2) | 0.204061 |\n",
      "+-------+----------+\n",
      "| WD(3) | 0.200399 |\n",
      "+-------+----------+\n",
      "| WD(4) | 0.198735 |\n",
      "+-------+----------+\n",
      "\n",
      " +-----------+-----------+\n",
      "| Month(1)  | 0.0792277 |\n",
      "+-----------+-----------+\n",
      "| Month(2)  | 0.0649134 |\n",
      "+-----------+-----------+\n",
      "| Month(3)  | 0.0888815 |\n",
      "+-----------+-----------+\n",
      "| Month(4)  | 0.0765646 |\n",
      "+-----------+-----------+\n",
      "| Month(5)  | 0.0845539 |\n",
      "+-----------+-----------+\n",
      "| Month(6)  | 0.0845539 |\n",
      "+-----------+-----------+\n",
      "| Month(7)  | 0.0895473 |\n",
      "+-----------+-----------+\n",
      "| Month(8)  | 0.0912117 |\n",
      "+-----------+-----------+\n",
      "| Month(9)  | 0.0878828 |\n",
      "+-----------+-----------+\n",
      "| Month(10) | 0.0672437 |\n",
      "+-----------+-----------+\n",
      "| Month(11) | 0.0932091 |\n",
      "+-----------+-----------+\n",
      "| Month(12) | 0.0922104 |\n",
      "+-----------+-----------+\n",
      "{'Month': ['Month_0', 'Month_1', 'Month_2', 'Month_3', 'Month_4', 'Month_5', 'Month_6', 'Month_7', 'Month_8', 'Month_9', 'Month_10', 'Month_11'], 'ST': ['ST_0', 'ST_1'], 'WD': ['WD_0', 'WD_1', 'WD_2', 'WD_3', 'WD_4']}\n",
      "unknown\n"
     ]
    },
    {
     "name": "stderr",
     "output_type": "stream",
     "text": [
      "Finding Elimination Order: : 100%|██████████████████████████████████████████████████████████████████████████████████████████████████████████████████████████████| 1/1 [00:00<00:00, 333.68it/s]\n",
      "Eliminating: Month: 100%|███████████████████████████████████████████████████████████████████████████████████████████████████████████████████████████████████████| 1/1 [00:00<00:00, 333.60it/s]\n"
     ]
    },
    {
     "name": "stdout",
     "output_type": "stream",
     "text": [
      "+----------+-----------+\n",
      "| ST       |   phi(ST) |\n",
      "+==========+===========+\n",
      "| ST(ST_0) |    0.4739 |\n",
      "+----------+-----------+\n",
      "| ST(ST_1) |    0.5261 |\n",
      "+----------+-----------+\n"
     ]
    }
   ],
   "source": [
    "# Maximum Likelihood Estimation \n",
    "from pgmpy.estimators import MaximumLikelihoodEstimator\n",
    "print('model:', model)\n",
    "print('data:', data)\n",
    "mle = MaximumLikelihoodEstimator(model, data)\n",
    "# model.fit(data, estimator=MaximumLikelihoodEstimator)\n",
    "print(\"\\n\", mle.estimate_cpd('WD'))\n",
    "print(\"\\n\", mle.estimate_cpd('Month'))\n",
    "from pgmpy.readwrite import XMLBIFWriter,XMLBIFReader,BIFReader,BIFWriter\n",
    "\n",
    "writer = BIFWriter(model)\n",
    "writer.write_bif(filename=os.path.sep.join([get_root_path(),'save','600893','600893.bif']))\n",
    "reader = BIFReader(os.path.sep.join([get_root_path(),'save','600893','600893.bif']))\n",
    "mod = reader.get_model()\n",
    "print(reader.get_states())\n",
    "print(mod)\n",
    "\n",
    "from pgmpy.inference import VariableElimination\n",
    "inference = VariableElimination(mod)\n",
    "print(inference.query(['ST'],evidence={'WD':'WD_0'}))"
   ]
  },
  {
   "cell_type": "code",
   "execution_count": 56,
   "metadata": {},
   "outputs": [],
   "source": [
    "??inference.query"
   ]
  },
  {
   "cell_type": "code",
   "execution_count": 17,
   "metadata": {
    "ExecuteTime": {
     "end_time": "2020-03-23T02:13:18.383111Z",
     "start_time": "2020-03-23T02:13:18.226873Z"
    }
   },
   "outputs": [
    {
     "name": "stdout",
     "output_type": "stream",
     "text": [
      "model: \n",
      "data:      MACD MFI    ST\n",
      "0      HS  HS  HOLD\n",
      "1      HS  HS  HOLD\n",
      "2      HS  HS  HOLD\n",
      "3      HS  HS  HOLD\n",
      "4      HS  HS   BUY\n",
      "...   ...  ..   ...\n",
      "2959   HS  HS   BUY\n",
      "2960   HS  HS   BUY\n",
      "2961   HS  HS  HOLD\n",
      "2962   HS  HS  HOLD\n",
      "2963   HS  HS  HOLD\n",
      "\n",
      "[2964 rows x 3 columns]\n"
     ]
    },
    {
     "ename": "AttributeError",
     "evalue": "'NoneType' object has no attribute 'estimate_cpd'",
     "output_type": "error",
     "traceback": [
      "\u001b[1;31m---------------------------------------------------------------------------\u001b[0m",
      "\u001b[1;31mAttributeError\u001b[0m                            Traceback (most recent call last)",
      "\u001b[1;32m<ipython-input-17-73e3fff88392>\u001b[0m in \u001b[0;36m<module>\u001b[1;34m\u001b[0m\n\u001b[0;32m     25\u001b[0m \u001b[0mprint\u001b[0m\u001b[1;33m(\u001b[0m\u001b[1;34m'data:'\u001b[0m\u001b[1;33m,\u001b[0m \u001b[0mdata\u001b[0m\u001b[1;33m)\u001b[0m\u001b[1;33m\u001b[0m\u001b[1;33m\u001b[0m\u001b[0m\n\u001b[0;32m     26\u001b[0m \u001b[0mmle\u001b[0m \u001b[1;33m=\u001b[0m \u001b[0mmodel\u001b[0m\u001b[1;33m.\u001b[0m\u001b[0mfit\u001b[0m\u001b[1;33m(\u001b[0m\u001b[0mdata\u001b[0m\u001b[1;33m,\u001b[0m \u001b[0mestimator\u001b[0m\u001b[1;33m=\u001b[0m\u001b[0mMaximumLikelihoodEstimator\u001b[0m\u001b[1;33m)\u001b[0m\u001b[1;33m\u001b[0m\u001b[1;33m\u001b[0m\u001b[0m\n\u001b[1;32m---> 27\u001b[1;33m \u001b[0mprint\u001b[0m\u001b[1;33m(\u001b[0m\u001b[1;34m\"\\n\"\u001b[0m\u001b[1;33m,\u001b[0m \u001b[0mmle\u001b[0m\u001b[1;33m.\u001b[0m\u001b[0mestimate_cpd\u001b[0m\u001b[1;33m(\u001b[0m\u001b[1;34m'MACD'\u001b[0m\u001b[1;33m)\u001b[0m\u001b[1;33m)\u001b[0m\u001b[1;33m\u001b[0m\u001b[1;33m\u001b[0m\u001b[0m\n\u001b[0m\u001b[0;32m     28\u001b[0m \u001b[0mprint\u001b[0m\u001b[1;33m(\u001b[0m\u001b[1;34m\"\\n\"\u001b[0m\u001b[1;33m,\u001b[0m \u001b[0mmle\u001b[0m\u001b[1;33m.\u001b[0m\u001b[0mestimate_cpd\u001b[0m\u001b[1;33m(\u001b[0m\u001b[1;34m'MFI'\u001b[0m\u001b[1;33m)\u001b[0m\u001b[1;33m)\u001b[0m\u001b[1;33m\u001b[0m\u001b[1;33m\u001b[0m\u001b[0m\n\u001b[0;32m     29\u001b[0m \u001b[1;31m# print(model.get_root_path())\u001b[0m\u001b[1;33m\u001b[0m\u001b[1;33m\u001b[0m\u001b[1;33m\u001b[0m\u001b[0m\n",
      "\u001b[1;31mAttributeError\u001b[0m: 'NoneType' object has no attribute 'estimate_cpd'"
     ]
    }
   ],
   "source": [
    "# 推断\n",
    "import pandas as pd\n",
    "import numpy as np\n",
    "from pgmpy.estimators import BdeuScore, K2Score, BicScore\n",
    "from pgmpy.models import BayesianModel\n",
    "import os\n",
    "from root import get_root_path\n",
    "from pgmpy.estimators import ParameterEstimator\n",
    "from pgmpy.estimators import MaximumLikelihoodEstimator\n",
    "from pgmpy.inference import VariableElimination\n",
    "\n",
    "path = os.path.sep.join([get_root_path(),'data','train','ider_600893.txt'])\n",
    "data = pd.read_csv(path, sep=',')\n",
    "model = BayesianModel([('MACD', 'ST'), ('MFI', 'ST')])  # WD -> ST <- Month\n",
    "print('model:', model)\n",
    "# pe = ParameterEstimator(model, data)\n",
    "# print(\"\\n\", pe.state_counts('MACD'))\n",
    "# print(\"\\n\", pe.state_counts('MFI'))\n",
    "\n",
    "# # mle.estimate_cpd(variable) computes the state counts and divides each cell by the (conditional) sample size. The mle.get_parameters()-method returns a list of CPDs for all variable of the model.\n",
    "# # The built-in fit()-method of BayesianModel provides more convenient access to parameter estimators:\n",
    "# mle = MaximumLikelihoodEstimator(model, data)\n",
    "# print(\"\\n\", mle.estimate_cpd('MACD'))\n",
    "# print(\"\\n\", mle.estimate_cpd('MFI'))\n",
    "print('data:', data)\n",
    "mle = model.fit(data, estimator=MaximumLikelihoodEstimator)\n",
    "\n",
    "# print(model.get_root_path())\n",
    "# model_data = get_probmodel_data(model)\n",
    "# writer = ProbModelXMLWriter(model_data=model_data)\n",
    "# writer.write_file(os.path.join([get_root_path(),'data','train','600893.pgmx']))\n",
    "infer = VariableElimination(model)\n",
    "print('MACD:BS\\n',infer.query(['ST'], evidence={'MACD': 'BS'}))\n",
    "print('MFI:BS\\n',infer.query(['ST'], evidence={'MFI': 'BS'}))\n"
   ]
  },
  {
   "cell_type": "markdown",
   "metadata": {
    "heading_collapsed": true
   },
   "source": [
    "## 按连续性划分网络"
   ]
  },
  {
   "cell_type": "markdown",
   "metadata": {
    "heading_collapsed": true
   },
   "source": [
    "## 按指标数据划分"
   ]
  },
  {
   "cell_type": "code",
   "execution_count": 3,
   "metadata": {
    "hidden": true
   },
   "outputs": [
    {
     "name": "stdout",
     "output_type": "stream",
     "text": [
      "D:\\PROJECT_TW\\git\\finance\\data\\train\\600893_signal.txt\n"
     ]
    },
    {
     "name": "stderr",
     "output_type": "stream",
     "text": [
      "Finding Elimination Order: : 100%|█████████████████████████████████████████████████████████████████████████████████████████████████████| 4/4 [00:00<00:00, 1332.48it/s]\n",
      "Eliminating: MFI: 100%|█████████████████████████████████████████████████████████████████████████████████████████████████████████████████| 4/4 [00:00<00:00, 138.01it/s]\n"
     ]
    },
    {
     "name": "stdout",
     "output_type": "stream",
     "text": [
      "MACD:BS\n",
      " +----------+------------+--------------------+\n",
      "| MACD     | BBANDS     |   phi(MACD,BBANDS) |\n",
      "+==========+============+====================+\n",
      "| MACD(BS) | BBANDS(BS) |             0.0078 |\n",
      "+----------+------------+--------------------+\n",
      "| MACD(BS) | BBANDS(HS) |             0.0324 |\n",
      "+----------+------------+--------------------+\n",
      "| MACD(HS) | BBANDS(BS) |             0.1649 |\n",
      "+----------+------------+--------------------+\n",
      "| MACD(HS) | BBANDS(HS) |             0.7950 |\n",
      "+----------+------------+--------------------+\n"
     ]
    }
   ],
   "source": [
    "import pandas as pd\n",
    "import numpy as np\n",
    "from pgmpy.estimators import BdeuScore, K2Score, BicScore\n",
    "from pgmpy.models import BayesianModel\n",
    "import os\n",
    "from root import get_root_path\n",
    "\n",
    "code = '600893'\n",
    "path = os.path.sep.join([get_root_path(),'data','train','{}_signal.txt'.format(code)])\n",
    "print(path)\n",
    "data = pd.read_csv(path, sep=',')\n",
    "index_keys=['MACD','MFI','BBANDS','AROON','SAR','CCI']\n",
    "model = BayesianModel([('MACD', 'ST'), ('MFI', 'ST'),('BBANDS','ST'),('AROON','ST'),('SAR','ST'),('CCI','ST')])\n",
    "# pe = ParameterEstimator(model, data)\n",
    "mle = MaximumLikelihoodEstimator(model, data)\n",
    "# print(\"\\n\", mle.estimate_cpd('MACD'))\n",
    "# print(\"\\n\", mle.estimate_cpd('MFI'))\n",
    "model.fit(data, estimator=MaximumLikelihoodEstimator)\n",
    "infer = VariableElimination(model)\n",
    "# print('MACD:BS\\n',infer.query(['ST'], evidence={'MACD':'BS','AROON':'BS','BBANDS':'BS','SAR':'BS','CCI':'BS'}))\n",
    "print('MACD:BS\\n',infer.query(['BBANDS','MACD'], evidence={'ST':'BUY'}))\n",
    "# print('MFI:BS\\n',infer.query(['ST'], evidence={'MFI': 'BS'}))\n",
    "# print('BBANDS:BS\\n',infer.query(['ST'], evidence={'BBANDS': 'BS'}))\n",
    "# print('AROON:BS\\n',infer.query(['ST'], evidence={'AROON': 'BS'}))\n",
    "# print('SAR:BS\\n',infer.query(['ST'], evidence={'SAR': 'BS'}))\n",
    "# print('CCI:BS\\n',infer.query(['ST'], evidence={'CCI': 'BS'}))\n",
    "from pgmpy.readwrite import XMLBIFWriter\n",
    "writer = XMLBIFWriter(model)\n",
    "writer.write_xmlbif(filename=os.path.sep.join([get_root_path(),'data','train','600893_signal.bif']))\n",
    "\n"
   ]
  },
  {
   "cell_type": "code",
   "execution_count": 30,
   "metadata": {
    "hidden": true
   },
   "outputs": [
    {
     "name": "stderr",
     "output_type": "stream",
     "text": [
      "Finding Elimination Order: : 100%|█████████████████████████████████████████████████████████████████████████████████████████████████████| 5/5 [00:00<00:00, 2500.78it/s]\n",
      "Eliminating: MFI: 100%|█████████████████████████████████████████████████████████████████████████████████████████████████████████████████| 5/5 [00:00<00:00, 111.18it/s]\n"
     ]
    },
    {
     "name": "stdout",
     "output_type": "stream",
     "text": [
      "+----------+-----------+\n",
      "| ST       |   phi(ST) |\n",
      "+==========+===========+\n",
      "| ST(BUY)  |    0.5166 |\n",
      "+----------+-----------+\n",
      "| ST(HOLD) |    0.4834 |\n",
      "+----------+-----------+\n",
      "['ST']\n",
      "[2]\n",
      "[0.51661481 0.48338519]\n"
     ]
    },
    {
     "ename": "AttributeError",
     "evalue": "'DiscreteFactor' object has no attribute 'evidence'",
     "output_type": "error",
     "traceback": [
      "\u001b[1;31m---------------------------------------------------------------------------\u001b[0m",
      "\u001b[1;31mAttributeError\u001b[0m                            Traceback (most recent call last)",
      "\u001b[1;32m<ipython-input-30-2e16e46e419a>\u001b[0m in \u001b[0;36m<module>\u001b[1;34m\u001b[0m\n\u001b[0;32m     10\u001b[0m \u001b[0mprint\u001b[0m\u001b[1;33m(\u001b[0m\u001b[0mresult\u001b[0m\u001b[1;33m.\u001b[0m\u001b[0mcardinality\u001b[0m\u001b[1;33m)\u001b[0m\u001b[1;33m\u001b[0m\u001b[1;33m\u001b[0m\u001b[0m\n\u001b[0;32m     11\u001b[0m \u001b[0mprint\u001b[0m\u001b[1;33m(\u001b[0m\u001b[0mresult\u001b[0m\u001b[1;33m.\u001b[0m\u001b[0mvalues\u001b[0m\u001b[1;33m)\u001b[0m\u001b[1;33m\u001b[0m\u001b[1;33m\u001b[0m\u001b[0m\n\u001b[1;32m---> 12\u001b[1;33m \u001b[0mprint\u001b[0m\u001b[1;33m(\u001b[0m\u001b[0mresult\u001b[0m\u001b[1;33m.\u001b[0m\u001b[0mevidence\u001b[0m\u001b[1;33m)\u001b[0m\u001b[1;33m\u001b[0m\u001b[1;33m\u001b[0m\u001b[0m\n\u001b[0m\u001b[0;32m     13\u001b[0m \u001b[0mprint\u001b[0m\u001b[1;33m(\u001b[0m\u001b[0mresult\u001b[0m\u001b[1;33m.\u001b[0m\u001b[0mget_cardinality\u001b[0m\u001b[1;33m(\u001b[0m\u001b[1;33m[\u001b[0m\u001b[1;34m'ST'\u001b[0m\u001b[1;33m]\u001b[0m\u001b[1;33m)\u001b[0m\u001b[1;33m)\u001b[0m\u001b[1;33m\u001b[0m\u001b[1;33m\u001b[0m\u001b[0m\n",
      "\u001b[1;31mAttributeError\u001b[0m: 'DiscreteFactor' object has no attribute 'evidence'"
     ]
    }
   ],
   "source": [
    "from pgmpy.readwrite import XMLBIFWriter,XMLBIFReader\n",
    "reader = XMLBIFReader(os.path.sep.join([get_root_path(),'data','train','600893_signal.bif']))\n",
    "# reader.get_edges\n",
    "model = reader.get_model()\n",
    "infer = VariableElimination(model)\n",
    "# print('BBANDS:BS\\n',infer.query(['ST'], evidence={'BBANDS': 'BS'}))\n",
    "result = infer.query(['ST'], evidence={'MACD': 'BS'})\n",
    "print(result)\n",
    "print(result.variables)\n",
    "print(result.cardinality)\n",
    "print(result.values)\n",
    "print(result.evidence)\n",
    "print(result.get_cardinality(['ST']))"
   ]
  },
  {
   "cell_type": "code",
   "execution_count": 31,
   "metadata": {
    "hidden": true
   },
   "outputs": [],
   "source": [
    "??result"
   ]
  },
  {
   "cell_type": "code",
   "execution_count": null,
   "metadata": {
    "hidden": true
   },
   "outputs": [],
   "source": []
  }
 ],
 "metadata": {
  "kernelspec": {
   "display_name": "Python 3",
   "language": "python",
   "name": "python3"
  },
  "language_info": {
   "codemirror_mode": {
    "name": "ipython",
    "version": 3
   },
   "file_extension": ".py",
   "mimetype": "text/x-python",
   "name": "python",
   "nbconvert_exporter": "python",
   "pygments_lexer": "ipython3",
   "version": "3.7.4"
  },
  "toc": {
   "base_numbering": 1,
   "nav_menu": {},
   "number_sections": true,
   "sideBar": true,
   "skip_h1_title": false,
   "title_cell": "Table of Contents",
   "title_sidebar": "Contents",
   "toc_cell": false,
   "toc_position": {},
   "toc_section_display": true,
   "toc_window_display": false
  },
  "varInspector": {
   "cols": {
    "lenName": 16,
    "lenType": 16,
    "lenVar": 40
   },
   "kernels_config": {
    "python": {
     "delete_cmd_postfix": "",
     "delete_cmd_prefix": "del ",
     "library": "var_list.py",
     "varRefreshCmd": "print(var_dic_list())"
    },
    "r": {
     "delete_cmd_postfix": ") ",
     "delete_cmd_prefix": "rm(",
     "library": "var_list.r",
     "varRefreshCmd": "cat(var_dic_list()) "
    }
   },
   "types_to_exclude": [
    "module",
    "function",
    "builtin_function_or_method",
    "instance",
    "_Feature"
   ],
   "window_display": false
  }
 },
 "nbformat": 4,
 "nbformat_minor": 2
}
