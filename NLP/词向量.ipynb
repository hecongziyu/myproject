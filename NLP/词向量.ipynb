{
 "cells": [
  {
   "cell_type": "code",
   "execution_count": 1,
   "metadata": {},
   "outputs": [],
   "source": [
    "# Put these at the top of every notebook, to get automatic reloading and inline plotting\n",
    "%reload_ext autoreload\n",
    "%autoreload 2\n",
    "%matplotlib inline"
   ]
  },
  {
   "cell_type": "code",
   "execution_count": 2,
   "metadata": {
    "code_folding": []
   },
   "outputs": [
    {
     "name": "stderr",
     "output_type": "stream",
     "text": [
      "d:\\project_tw\\anly\\venv\\lib\\site-packages\\gensim\\utils.py:1212: UserWarning: detected Windows; aliasing chunkize to chunkize_serial\n",
      "  warnings.warn(\"detected Windows; aliasing chunkize to chunkize_serial\")\n",
      "Building prefix dict from the default dictionary ...\n",
      "Loading model from cache C:\\Users\\ADMINI~1\\AppData\\Local\\Temp\\jieba.cache\n",
      "Loading model cost 1.087 seconds.\n",
      "Prefix dict has been built succesfully.\n"
     ]
    }
   ],
   "source": [
    "# https://www.cnblogs.com/pinard/p/7278324.html\n",
    "from gensim.models import word2vec\n",
    "# -*- coding: utf-8 -*-\n",
    "\n",
    "import jieba\n",
    "import jieba.analyse\n",
    "\n",
    "jieba.suggest_freq('沙瑞金', True)\n",
    "jieba.suggest_freq('田国富', True)\n",
    "jieba.suggest_freq('高育良', True)\n",
    "jieba.suggest_freq('侯亮平', True)\n",
    "jieba.suggest_freq('钟小艾', True)\n",
    "jieba.suggest_freq('陈岩石', True)\n",
    "jieba.suggest_freq('欧阳菁', True)\n",
    "jieba.suggest_freq('易学习', True)\n",
    "jieba.suggest_freq('王大路', True)\n",
    "jieba.suggest_freq('蔡成功', True)\n",
    "jieba.suggest_freq('孙连城', True)\n",
    "jieba.suggest_freq('季昌明', True)\n",
    "jieba.suggest_freq('丁义珍', True)\n",
    "jieba.suggest_freq('郑西坡', True)\n",
    "jieba.suggest_freq('赵东来', True)\n",
    "jieba.suggest_freq('高小琴', True)\n",
    "jieba.suggest_freq('赵瑞龙', True)\n",
    "jieba.suggest_freq('林华华', True)\n",
    "jieba.suggest_freq('陆亦可', True)\n",
    "jieba.suggest_freq('刘新建', True)\n",
    "jieba.suggest_freq('刘庆祝', True)\n",
    "\n",
    "with open('D:/PROJECT_TW/git/data/nlp/in_the_name_of_people/in_the_name_of_people.txt', 'rb') as f:\n",
    "    document = f.read()\n",
    "    #document_decode = document.decode('GBK')\n",
    "    document_cut = jieba.cut(document)\n",
    "    #print  ' '.join(jieba_cut)  //如果打印结果，则分词效果消失，后面的result无法显示\n",
    "    result = ' '.join(document_cut)\n",
    "    \n",
    "    result = result.encode('utf-8')\n",
    "    \n",
    "    with open('D:/PROJECT_TW/git/data/nlp/in_the_name_of_people/in_the_name_of_people_segment.txt', 'wb') as f2:\n",
    "        f2.write(result)\n",
    "f.close()\n",
    "f2.close()"
   ]
  },
  {
   "cell_type": "code",
   "execution_count": 13,
   "metadata": {
    "code_folding": []
   },
   "outputs": [
    {
     "name": "stderr",
     "output_type": "stream",
     "text": [
      "2019-03-18 14:45:04,362 : INFO : collecting all words and their counts\n",
      "2019-03-18 14:45:04,365 : INFO : PROGRESS: at sentence #0, processed 0 words, keeping 0 word types\n",
      "2019-03-18 14:45:04,448 : INFO : collected 17877 word types from a corpus of 161342 raw words and 2310 sentences\n",
      "2019-03-18 14:45:04,450 : INFO : Loading a fresh vocabulary\n",
      "2019-03-18 14:45:04,476 : INFO : effective_min_count=2 retains 8375 unique words (46% of original 17877, drops 9502)\n",
      "2019-03-18 14:45:04,478 : INFO : effective_min_count=2 leaves 151840 word corpus (94% of original 161342, drops 9502)\n",
      "2019-03-18 14:45:04,517 : INFO : deleting the raw counts dictionary of 17877 items\n",
      "2019-03-18 14:45:04,518 : INFO : sample=0.001 downsamples 41 most-common words\n",
      "2019-03-18 14:45:04,519 : INFO : downsampling leaves estimated 110165 word corpus (72.6% of prior 151840)\n",
      "2019-03-18 14:45:04,532 : INFO : constructing a huffman tree from 8375 words\n",
      "2019-03-18 14:45:04,783 : INFO : built huffman tree with maximum node depth 16\n",
      "2019-03-18 14:45:04,807 : INFO : estimated required memory for 8375 words and 100 dimensions: 15912500 bytes\n",
      "2019-03-18 14:45:04,809 : INFO : resetting layer weights\n",
      "2019-03-18 14:45:04,968 : INFO : training model with 3 workers on 8375 vocabulary and 100 features, using sg=0 hs=1 sample=0.001 negative=5 window=8\n",
      "2019-03-18 14:45:05,273 : INFO : worker thread finished; awaiting finish of 2 more threads\n",
      "2019-03-18 14:45:05,279 : INFO : worker thread finished; awaiting finish of 1 more threads\n",
      "2019-03-18 14:45:05,302 : INFO : worker thread finished; awaiting finish of 0 more threads\n",
      "2019-03-18 14:45:05,304 : INFO : EPOCH - 1 : training on 161342 raw words (110190 effective words) took 0.3s, 332167 effective words/s\n",
      "2019-03-18 14:45:05,594 : INFO : worker thread finished; awaiting finish of 2 more threads\n",
      "2019-03-18 14:45:05,600 : INFO : worker thread finished; awaiting finish of 1 more threads\n",
      "2019-03-18 14:45:05,627 : INFO : worker thread finished; awaiting finish of 0 more threads\n",
      "2019-03-18 14:45:05,632 : INFO : EPOCH - 2 : training on 161342 raw words (110289 effective words) took 0.3s, 346831 effective words/s\n",
      "2019-03-18 14:45:06,055 : INFO : worker thread finished; awaiting finish of 2 more threads\n",
      "2019-03-18 14:45:06,065 : INFO : worker thread finished; awaiting finish of 1 more threads\n",
      "2019-03-18 14:45:06,078 : INFO : worker thread finished; awaiting finish of 0 more threads\n",
      "2019-03-18 14:45:06,080 : INFO : EPOCH - 3 : training on 161342 raw words (110202 effective words) took 0.4s, 251211 effective words/s\n",
      "2019-03-18 14:45:06,447 : INFO : worker thread finished; awaiting finish of 2 more threads\n",
      "2019-03-18 14:45:06,459 : INFO : worker thread finished; awaiting finish of 1 more threads\n",
      "2019-03-18 14:45:06,508 : INFO : worker thread finished; awaiting finish of 0 more threads\n",
      "2019-03-18 14:45:06,511 : INFO : EPOCH - 4 : training on 161342 raw words (110068 effective words) took 0.4s, 258206 effective words/s\n",
      "2019-03-18 14:45:06,939 : INFO : worker thread finished; awaiting finish of 2 more threads\n",
      "2019-03-18 14:45:06,947 : INFO : worker thread finished; awaiting finish of 1 more threads\n",
      "2019-03-18 14:45:06,971 : INFO : worker thread finished; awaiting finish of 0 more threads\n",
      "2019-03-18 14:45:06,978 : INFO : EPOCH - 5 : training on 161342 raw words (110244 effective words) took 0.5s, 241996 effective words/s\n",
      "2019-03-18 14:45:07,406 : INFO : worker thread finished; awaiting finish of 2 more threads\n",
      "2019-03-18 14:45:07,409 : INFO : worker thread finished; awaiting finish of 1 more threads\n",
      "2019-03-18 14:45:07,434 : INFO : worker thread finished; awaiting finish of 0 more threads\n",
      "2019-03-18 14:45:07,437 : INFO : EPOCH - 6 : training on 161342 raw words (110276 effective words) took 0.5s, 244085 effective words/s\n",
      "2019-03-18 14:45:07,734 : INFO : worker thread finished; awaiting finish of 2 more threads\n",
      "2019-03-18 14:45:07,761 : INFO : worker thread finished; awaiting finish of 1 more threads\n",
      "2019-03-18 14:45:07,770 : INFO : worker thread finished; awaiting finish of 0 more threads\n",
      "2019-03-18 14:45:07,772 : INFO : EPOCH - 7 : training on 161342 raw words (110158 effective words) took 0.3s, 335502 effective words/s\n",
      "2019-03-18 14:45:08,060 : INFO : worker thread finished; awaiting finish of 2 more threads\n",
      "2019-03-18 14:45:08,071 : INFO : worker thread finished; awaiting finish of 1 more threads\n",
      "2019-03-18 14:45:08,099 : INFO : worker thread finished; awaiting finish of 0 more threads\n",
      "2019-03-18 14:45:08,101 : INFO : EPOCH - 8 : training on 161342 raw words (110166 effective words) took 0.3s, 341916 effective words/s\n",
      "2019-03-18 14:45:08,397 : INFO : worker thread finished; awaiting finish of 2 more threads\n",
      "2019-03-18 14:45:08,400 : INFO : worker thread finished; awaiting finish of 1 more threads\n",
      "2019-03-18 14:45:08,429 : INFO : worker thread finished; awaiting finish of 0 more threads\n",
      "2019-03-18 14:45:08,431 : INFO : EPOCH - 9 : training on 161342 raw words (110128 effective words) took 0.3s, 339049 effective words/s\n",
      "2019-03-18 14:45:08,727 : INFO : worker thread finished; awaiting finish of 2 more threads\n",
      "2019-03-18 14:45:08,737 : INFO : worker thread finished; awaiting finish of 1 more threads\n",
      "2019-03-18 14:45:08,752 : INFO : worker thread finished; awaiting finish of 0 more threads\n",
      "2019-03-18 14:45:08,757 : INFO : EPOCH - 10 : training on 161342 raw words (110327 effective words) took 0.3s, 346856 effective words/s\n",
      "2019-03-18 14:45:09,055 : INFO : worker thread finished; awaiting finish of 2 more threads\n",
      "2019-03-18 14:45:09,058 : INFO : worker thread finished; awaiting finish of 1 more threads\n",
      "2019-03-18 14:45:09,083 : INFO : worker thread finished; awaiting finish of 0 more threads\n",
      "2019-03-18 14:45:09,085 : INFO : EPOCH - 11 : training on 161342 raw words (110170 effective words) took 0.3s, 341861 effective words/s\n",
      "2019-03-18 14:45:09,377 : INFO : worker thread finished; awaiting finish of 2 more threads\n",
      "2019-03-18 14:45:09,388 : INFO : worker thread finished; awaiting finish of 1 more threads\n",
      "2019-03-18 14:45:09,409 : INFO : worker thread finished; awaiting finish of 0 more threads\n",
      "2019-03-18 14:45:09,412 : INFO : EPOCH - 12 : training on 161342 raw words (110098 effective words) took 0.3s, 340869 effective words/s\n",
      "2019-03-18 14:45:09,709 : INFO : worker thread finished; awaiting finish of 2 more threads\n",
      "2019-03-18 14:45:09,720 : INFO : worker thread finished; awaiting finish of 1 more threads\n",
      "2019-03-18 14:45:09,763 : INFO : worker thread finished; awaiting finish of 0 more threads\n",
      "2019-03-18 14:45:09,765 : INFO : EPOCH - 13 : training on 161342 raw words (110361 effective words) took 0.3s, 321415 effective words/s\n",
      "2019-03-18 14:45:10,048 : INFO : worker thread finished; awaiting finish of 2 more threads\n",
      "2019-03-18 14:45:10,071 : INFO : worker thread finished; awaiting finish of 1 more threads\n",
      "2019-03-18 14:45:10,080 : INFO : worker thread finished; awaiting finish of 0 more threads\n",
      "2019-03-18 14:45:10,082 : INFO : EPOCH - 14 : training on 161342 raw words (110133 effective words) took 0.3s, 352593 effective words/s\n",
      "2019-03-18 14:45:10,377 : INFO : worker thread finished; awaiting finish of 2 more threads\n",
      "2019-03-18 14:45:10,384 : INFO : worker thread finished; awaiting finish of 1 more threads\n",
      "2019-03-18 14:45:10,413 : INFO : worker thread finished; awaiting finish of 0 more threads\n",
      "2019-03-18 14:45:10,417 : INFO : EPOCH - 15 : training on 161342 raw words (110186 effective words) took 0.3s, 332286 effective words/s\n",
      "2019-03-18 14:45:10,701 : INFO : worker thread finished; awaiting finish of 2 more threads\n",
      "2019-03-18 14:45:10,708 : INFO : worker thread finished; awaiting finish of 1 more threads\n",
      "2019-03-18 14:45:10,738 : INFO : worker thread finished; awaiting finish of 0 more threads\n",
      "2019-03-18 14:45:10,741 : INFO : EPOCH - 16 : training on 161342 raw words (110203 effective words) took 0.3s, 345846 effective words/s\n",
      "2019-03-18 14:45:11,084 : INFO : worker thread finished; awaiting finish of 2 more threads\n",
      "2019-03-18 14:45:11,099 : INFO : worker thread finished; awaiting finish of 1 more threads\n",
      "2019-03-18 14:45:11,138 : INFO : worker thread finished; awaiting finish of 0 more threads\n",
      "2019-03-18 14:45:11,142 : INFO : EPOCH - 17 : training on 161342 raw words (110080 effective words) took 0.4s, 278466 effective words/s\n"
     ]
    },
    {
     "name": "stderr",
     "output_type": "stream",
     "text": [
      "2019-03-18 14:45:11,443 : INFO : worker thread finished; awaiting finish of 2 more threads\n",
      "2019-03-18 14:45:11,446 : INFO : worker thread finished; awaiting finish of 1 more threads\n",
      "2019-03-18 14:45:11,474 : INFO : worker thread finished; awaiting finish of 0 more threads\n",
      "2019-03-18 14:45:11,476 : INFO : EPOCH - 18 : training on 161342 raw words (110118 effective words) took 0.3s, 338227 effective words/s\n",
      "2019-03-18 14:45:11,777 : INFO : worker thread finished; awaiting finish of 2 more threads\n",
      "2019-03-18 14:45:11,780 : INFO : worker thread finished; awaiting finish of 1 more threads\n",
      "2019-03-18 14:45:11,806 : INFO : worker thread finished; awaiting finish of 0 more threads\n",
      "2019-03-18 14:45:11,808 : INFO : EPOCH - 19 : training on 161342 raw words (110354 effective words) took 0.3s, 336147 effective words/s\n",
      "2019-03-18 14:45:12,337 : INFO : worker thread finished; awaiting finish of 2 more threads\n",
      "2019-03-18 14:45:12,346 : INFO : worker thread finished; awaiting finish of 1 more threads\n",
      "2019-03-18 14:45:12,357 : INFO : worker thread finished; awaiting finish of 0 more threads\n",
      "2019-03-18 14:45:12,360 : INFO : EPOCH - 20 : training on 161342 raw words (110031 effective words) took 0.5s, 201123 effective words/s\n",
      "2019-03-18 14:45:12,748 : INFO : worker thread finished; awaiting finish of 2 more threads\n",
      "2019-03-18 14:45:12,751 : INFO : worker thread finished; awaiting finish of 1 more threads\n",
      "2019-03-18 14:45:12,782 : INFO : worker thread finished; awaiting finish of 0 more threads\n",
      "2019-03-18 14:45:12,784 : INFO : EPOCH - 21 : training on 161342 raw words (110260 effective words) took 0.4s, 262958 effective words/s\n",
      "2019-03-18 14:45:13,205 : INFO : worker thread finished; awaiting finish of 2 more threads\n",
      "2019-03-18 14:45:13,216 : INFO : worker thread finished; awaiting finish of 1 more threads\n",
      "2019-03-18 14:45:13,251 : INFO : worker thread finished; awaiting finish of 0 more threads\n",
      "2019-03-18 14:45:13,256 : INFO : EPOCH - 22 : training on 161342 raw words (110180 effective words) took 0.5s, 236793 effective words/s\n",
      "2019-03-18 14:45:13,667 : INFO : worker thread finished; awaiting finish of 2 more threads\n",
      "2019-03-18 14:45:13,676 : INFO : worker thread finished; awaiting finish of 1 more threads\n",
      "2019-03-18 14:45:13,704 : INFO : worker thread finished; awaiting finish of 0 more threads\n",
      "2019-03-18 14:45:13,706 : INFO : EPOCH - 23 : training on 161342 raw words (110213 effective words) took 0.4s, 247742 effective words/s\n",
      "2019-03-18 14:45:14,005 : INFO : worker thread finished; awaiting finish of 2 more threads\n",
      "2019-03-18 14:45:14,008 : INFO : worker thread finished; awaiting finish of 1 more threads\n",
      "2019-03-18 14:45:14,025 : INFO : worker thread finished; awaiting finish of 0 more threads\n",
      "2019-03-18 14:45:14,027 : INFO : EPOCH - 24 : training on 161342 raw words (110101 effective words) took 0.3s, 347120 effective words/s\n",
      "2019-03-18 14:45:14,308 : INFO : worker thread finished; awaiting finish of 2 more threads\n",
      "2019-03-18 14:45:14,312 : INFO : worker thread finished; awaiting finish of 1 more threads\n",
      "2019-03-18 14:45:14,328 : INFO : worker thread finished; awaiting finish of 0 more threads\n",
      "2019-03-18 14:45:14,329 : INFO : EPOCH - 25 : training on 161342 raw words (110324 effective words) took 0.3s, 371237 effective words/s\n",
      "2019-03-18 14:45:14,606 : INFO : worker thread finished; awaiting finish of 2 more threads\n",
      "2019-03-18 14:45:14,613 : INFO : worker thread finished; awaiting finish of 1 more threads\n",
      "2019-03-18 14:45:14,642 : INFO : worker thread finished; awaiting finish of 0 more threads\n",
      "2019-03-18 14:45:14,643 : INFO : EPOCH - 26 : training on 161342 raw words (110261 effective words) took 0.3s, 354534 effective words/s\n",
      "2019-03-18 14:45:15,081 : INFO : worker thread finished; awaiting finish of 2 more threads\n",
      "2019-03-18 14:45:15,110 : INFO : worker thread finished; awaiting finish of 1 more threads\n",
      "2019-03-18 14:45:15,138 : INFO : worker thread finished; awaiting finish of 0 more threads\n",
      "2019-03-18 14:45:15,143 : INFO : EPOCH - 27 : training on 161342 raw words (110302 effective words) took 0.5s, 223204 effective words/s\n",
      "2019-03-18 14:45:15,526 : INFO : worker thread finished; awaiting finish of 2 more threads\n",
      "2019-03-18 14:45:15,535 : INFO : worker thread finished; awaiting finish of 1 more threads\n",
      "2019-03-18 14:45:15,550 : INFO : worker thread finished; awaiting finish of 0 more threads\n",
      "2019-03-18 14:45:15,552 : INFO : EPOCH - 28 : training on 161342 raw words (110135 effective words) took 0.4s, 274809 effective words/s\n",
      "2019-03-18 14:45:15,861 : INFO : worker thread finished; awaiting finish of 2 more threads\n",
      "2019-03-18 14:45:15,864 : INFO : worker thread finished; awaiting finish of 1 more threads\n",
      "2019-03-18 14:45:15,888 : INFO : worker thread finished; awaiting finish of 0 more threads\n",
      "2019-03-18 14:45:15,891 : INFO : EPOCH - 29 : training on 161342 raw words (110274 effective words) took 0.3s, 333692 effective words/s\n",
      "2019-03-18 14:45:16,198 : INFO : worker thread finished; awaiting finish of 2 more threads\n",
      "2019-03-18 14:45:16,208 : INFO : worker thread finished; awaiting finish of 1 more threads\n",
      "2019-03-18 14:45:16,238 : INFO : worker thread finished; awaiting finish of 0 more threads\n",
      "2019-03-18 14:45:16,240 : INFO : EPOCH - 30 : training on 161342 raw words (110075 effective words) took 0.3s, 321488 effective words/s\n",
      "2019-03-18 14:45:16,241 : INFO : training on a 4840260 raw words (3305907 effective words) took 11.3s, 293285 effective words/s\n"
     ]
    }
   ],
   "source": [
    "# import modules & set up logging\n",
    "import logging\n",
    "import os\n",
    "from gensim.models import word2vec\n",
    "\n",
    "logging.basicConfig(format='%(asctime)s : %(levelname)s : %(message)s', level=logging.INFO)\n",
    "\n",
    "sentences = word2vec.LineSentence('D:/PROJECT_TW/git/data/nlp/in_the_name_of_people/in_the_name_of_people_segment.txt') \n",
    "\n",
    "model = word2vec.Word2Vec(sentences, hs=1,min_count=2,window=8,size=100,iter=30)"
   ]
  },
  {
   "cell_type": "code",
   "execution_count": 14,
   "metadata": {},
   "outputs": [
    {
     "name": "stderr",
     "output_type": "stream",
     "text": [
      "2019-03-18 14:45:20,047 : INFO : precomputing L2-norms of word weight vectors\n"
     ]
    },
    {
     "name": "stdout",
     "output_type": "stream",
     "text": [
      "得罪人 0.4948596656322479\n",
      "不相称 0.4019709825515747\n",
      "建新厂 0.39064139127731323\n",
      "心里话 0.3481234312057495\n",
      "侦察兵 0.3411102294921875\n"
     ]
    },
    {
     "name": "stderr",
     "output_type": "stream",
     "text": [
      "d:\\project_tw\\anly\\venv\\lib\\site-packages\\gensim\\matutils.py:737: FutureWarning: Conversion of the second argument of issubdtype from `int` to `np.signedinteger` is deprecated. In future, it will be treated as `np.int32 == np.dtype(int).type`.\n",
      "  if np.issubdtype(vec.dtype, np.int):\n"
     ]
    }
   ],
   "source": [
    "req_count = 5\n",
    "for key in model.wv.similar_by_word('生活', topn =100):\n",
    "    if len(key[0])==3:\n",
    "        req_count -= 1\n",
    "        print(key[0], key[1])\n",
    "        if req_count == 0:\n",
    "            break;"
   ]
  },
  {
   "cell_type": "code",
   "execution_count": 35,
   "metadata": {},
   "outputs": [
    {
     "name": "stdout",
     "output_type": "stream",
     "text": [
      "[-0.2977822  -0.1549249   0.6507554  -0.86602515  0.48811993  0.15175906\n",
      " -0.8515805   0.0853966   0.17270194 -0.5203295  -0.14943494  0.01982061\n",
      " -0.6090729  -0.86523277 -0.44711593  0.6055544  -0.36828125  0.10310514\n",
      " -0.27452558  0.40815416  0.33610743  0.81392145 -0.5017918  -0.19998638\n",
      " -0.00470507 -0.20221017 -1.2513229   0.20913582 -0.22376093  0.1306105\n",
      " -0.16843657 -0.49765563 -0.19133562 -0.45680067  0.05764126 -0.6980426\n",
      " -0.13555478 -0.23315376 -0.1934328   1.1323106  -0.4410691   0.9976971\n",
      " -0.50883985  0.05570252 -0.1614298  -0.64328146 -0.04559267 -0.7231889\n",
      "  0.23745288  0.02226086  0.973284    0.03555081  0.5893002   0.12447958\n",
      "  0.37394464  0.17487913 -0.29889068  0.1610349   0.26354006  0.15952827\n",
      " -0.16855946 -0.49395192 -0.8848587   0.23776352 -0.3249075   0.8050754\n",
      " -0.31244087  0.0075042   0.43414494  0.1439612   0.2632602   0.11737256\n",
      " -0.11692953  0.5267038  -0.42249867  0.04001137  0.31332076  0.3009477\n",
      "  0.33454752 -0.16305472  1.7436802   0.5858714   0.4501556  -0.20827278\n",
      " -0.13064793  0.34963775  0.4879616   0.6410648  -0.03204972 -0.07883165\n",
      " -0.10197785 -0.75437546 -0.30323428  0.23340757 -0.39244127  0.3399613\n",
      " -0.1928573  -1.4092346  -0.85788965  0.8142652 ]\n"
     ]
    }
   ],
   "source": [
    "print(model.wv.get_vector('沙瑞金'))"
   ]
  }
 ],
 "metadata": {
  "kernelspec": {
   "display_name": "Python 3",
   "language": "python",
   "name": "python3"
  },
  "language_info": {
   "codemirror_mode": {
    "name": "ipython",
    "version": 3
   },
   "file_extension": ".py",
   "mimetype": "text/x-python",
   "name": "python",
   "nbconvert_exporter": "python",
   "pygments_lexer": "ipython3",
   "version": "3.6.3"
  }
 },
 "nbformat": 4,
 "nbformat_minor": 2
}
