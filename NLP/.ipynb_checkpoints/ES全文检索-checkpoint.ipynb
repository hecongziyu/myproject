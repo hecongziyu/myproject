{
 "cells": [
  {
   "cell_type": "raw",
   "metadata": {},
   "source": [
    "\n",
    "1、https://blog.csdn.net/abc123lzf/article/details/103034547\n",
    "2、https://blog.csdn.net/hualaoshuan/article/details/102306850 ElasticSearch7 实现全文检索、关键词高亮\n",
    "3、https://www.jianshu.com/p/56b5cbcaf460 Elastic Search建表\n"
   ]
  },
  {
   "cell_type": "markdown",
   "metadata": {},
   "source": [
    "# 创建索引"
   ]
  },
  {
   "cell_type": "code",
   "execution_count": 26,
   "metadata": {
    "ExecuteTime": {
     "end_time": "2020-04-22T01:35:48.543343Z",
     "start_time": "2020-04-22T01:35:47.991460Z"
    }
   },
   "outputs": [
    {
     "name": "stdout",
     "output_type": "stream",
     "text": [
      "{\"acknowledged\":true,\"shards_acknowledged\":true,\"index\":\"question\"}\n"
     ]
    }
   ],
   "source": [
    "import requests\n",
    "import json\n",
    "'''\n",
    "192.168.141.190:9203\n",
    "192.168.141.190:9204\n",
    "'''\n",
    "# 新建索引 http://192.168.141.190:9203/question\n",
    "url = 'http://192.168.141.190:9203/question'\n",
    "headers = {\"Content-Type\":\"application/json\"}\n",
    "body = {\n",
    "        \"settings\": {\n",
    "            \"number_of_shards\": 3,\n",
    "            \"number_of_replicas\": 1,\n",
    "           \"analysis\" : {\n",
    "                \"analyzer\" : {\n",
    "                     \"ik\" : {\n",
    "                            \"tokenizer\" : \"ik_smart\"\n",
    "                    }\n",
    "                }\n",
    "            }\n",
    "        },    \n",
    "      \"mappings\": {\n",
    "             \"properties\": { \n",
    "                 \"question\":    { \"type\": \"text\", \"index\": True,\"analyzer\": \"ik_smart\"}, \n",
    "                 \"answer\":     { \"type\": \"text\"  }, \n",
    "                 \"title\":      { \"type\": \"keyword\" },  \n",
    "                 \"qid\" :       {\"type\": \"keyword\"}\n",
    "            }\n",
    "      }\n",
    "}\n",
    "\n",
    "\n",
    "\n",
    "\n",
    "rsp = requests.put(url, json.dumps(body), headers=headers)\n",
    "print(rsp.text)\n"
   ]
  },
  {
   "cell_type": "code",
   "execution_count": 25,
   "metadata": {
    "ExecuteTime": {
     "end_time": "2020-04-22T01:35:40.372496Z",
     "start_time": "2020-04-22T01:35:40.008633Z"
    }
   },
   "outputs": [
    {
     "name": "stdout",
     "output_type": "stream",
     "text": [
      "{\"acknowledged\":true}\n"
     ]
    }
   ],
   "source": [
    "url = 'http://192.168.141.190:9203/question'\n",
    "rsp = requests.delete(f'{url}')\n",
    "print(rsp.text)"
   ]
  },
  {
   "cell_type": "markdown",
   "metadata": {
    "ExecuteTime": {
     "end_time": "2020-04-21T01:56:00.493433Z",
     "start_time": "2020-04-21T01:56:00.477808Z"
    }
   },
   "source": [
    "# 新增数据"
   ]
  },
  {
   "cell_type": "code",
   "execution_count": 34,
   "metadata": {
    "ExecuteTime": {
     "end_time": "2020-04-22T02:16:49.868544Z",
     "start_time": "2020-04-22T02:16:49.756965Z"
    }
   },
   "outputs": [
    {
     "name": "stdout",
     "output_type": "stream",
     "text": [
      "{\"_index\":\"question\",\"_type\":\"_doc\",\"_id\":\"6pisn3EBtFT5k6labhlb\",\"_version\":1,\"result\":\"created\",\"_shards\":{\"total\":2,\"successful\":2,\"failed\":0},\"_seq_no\":0,\"_primary_term\":1}\n"
     ]
    }
   ],
   "source": [
    "url = 'http://192.168.141.190:9203/question'\n",
    "headers = {\"Content-Type\":\"application/json\"}\n",
    "body = {\n",
    "    \"question\":\"数学练习 \\\\frac{9}{2}+{2}\",\n",
    "    \"answer\":'''央视记者：《求是》杂志近日发表的习近平主席《团结合作是国际社会战胜疫情最有力武器》文章中，在开篇部分提到了支持中方同盖茨基金会开展合作。你可否介绍一下中方同盖茨基金会在这次抗击疫情中的合作情况\n",
    "                耿爽：习近平主席发表在《求是》杂志上，题为《团结合作是国际社会战胜疫情最有力武器》的重要文章，集中体现了中国政府秉持人类命运共同体理念，致力于推进抗疫国际合作的立场和主张。\n",
    "                病毒是全人类共同的敌人，抗击疫情、恢复经济需要包括中美两国在内的世界各国携手努力、共同应对。盖茨基金会是中方和国际社会抗击新冠肺炎疫情的合作伙伴之一。''',\n",
    "    \"title\":\"q7\",\n",
    "    \"qid\": \"q7\"\n",
    "}\n",
    "\n",
    "rsp = requests.post(f'{url}/_doc', json.dumps(body), headers=headers)\n",
    "print(rsp.text)\n",
    "\n",
    "# 查询数据 http://192.168.141.190:9203/question/_doc/1"
   ]
  },
  {
   "cell_type": "code",
   "execution_count": null,
   "metadata": {},
   "outputs": [],
   "source": []
  },
  {
   "cell_type": "markdown",
   "metadata": {},
   "source": [
    "# 查询数据"
   ]
  },
  {
   "cell_type": "code",
   "execution_count": 36,
   "metadata": {
    "ExecuteTime": {
     "end_time": "2020-04-22T02:17:06.234172Z",
     "start_time": "2020-04-22T02:17:06.206188Z"
    }
   },
   "outputs": [
    {
     "name": "stdout",
     "output_type": "stream",
     "text": [
      "{'took': 3, 'timed_out': False, '_shards': {'total': 3, 'successful': 3, 'skipped': 0, 'failed': 0}, 'hits': {'total': {'value': 1, 'relation': 'eq'}, 'max_score': 0.2876821, 'hits': [{'_index': 'question', '_type': '_doc', '_id': '6pisn3EBtFT5k6labhlb', '_score': 0.2876821, '_source': {'question': '数学练习 \\\\frac{9}{2}+{2}', 'answer': '央视记者：《求是》杂志近日发表的习近平主席《团结合作是国际社会战胜疫情最有力武器》文章中，在开篇部分提到了支持中方同盖茨基金会开展合作。你可否介绍一下中方同盖茨基金会在这次抗击疫情中的合作情况\\n                耿爽：习近平主席发表在《求是》杂志上，题为《团结合作是国际社会战胜疫情最有力武器》的重要文章，集中体现了中国政府秉持人类命运共同体理念，致力于推进抗疫国际合作的立场和主张。\\n                病毒是全人类共同的敌人，抗击疫情、恢复经济需要包括中美两国在内的世界各国携手努力、共同应对。盖茨基金会是中方和国际社会抗击新冠肺炎疫情的合作伙伴之一。', 'title': 'q7', 'qid': 'q7'}}]}}\n"
     ]
    }
   ],
   "source": [
    "'''简单查询'''\n",
    "import requests\n",
    "import json\n",
    "url = 'http://192.168.141.190:9203/question/_search'\n",
    "headers = {\"Content-Type\":\"application/json\"}\n",
    "body = {\n",
    "  \"query\": {\n",
    "    \"term\": {\n",
    "#       \"qid\": \"q6\"\n",
    "        'question':'frac{9}{2}+{2}'\n",
    "    }\n",
    "  }\n",
    "}\n",
    "rsp = requests.post(url,json.dumps(body),headers=headers)\n",
    "print(json.loads(rsp.text))"
   ]
  },
  {
   "cell_type": "code",
   "execution_count": 61,
   "metadata": {
    "ExecuteTime": {
     "end_time": "2020-04-21T03:04:40.630203Z",
     "start_time": "2020-04-21T03:04:40.614582Z"
    }
   },
   "outputs": [
    {
     "name": "stdout",
     "output_type": "stream",
     "text": [
      "{'took': 2, 'timed_out': False, '_shards': {'total': 3, 'successful': 3, 'skipped': 0, 'failed': 0}, 'hits': {'total': {'value': 0, 'relation': 'eq'}, 'max_score': None, 'hits': []}}\n"
     ]
    }
   ],
   "source": [
    "'''regexp 查询'''\n",
    "import requests\n",
    "import json\n",
    "url = 'http://192.168.141.190:9203/question/_search'\n",
    "headers = {\"Content-Type\":\"application/json\"}\n",
    "body = {\n",
    "  \"query\": {\n",
    "    \"fuzzy\": {\n",
    "      \"question\": \"外交部\"\n",
    "    }\n",
    "  }\n",
    "}\n",
    "rsp = requests.post(url,json.dumps(body),headers=headers)\n",
    "print(json.loads(rsp.text))"
   ]
  },
  {
   "cell_type": "code",
   "execution_count": null,
   "metadata": {},
   "outputs": [],
   "source": []
  }
 ],
 "metadata": {
  "kernelspec": {
   "display_name": "Python 3",
   "language": "python",
   "name": "python3"
  },
  "language_info": {
   "codemirror_mode": {
    "name": "ipython",
    "version": 3
   },
   "file_extension": ".py",
   "mimetype": "text/x-python",
   "name": "python",
   "nbconvert_exporter": "python",
   "pygments_lexer": "ipython3",
   "version": "3.7.4"
  },
  "varInspector": {
   "cols": {
    "lenName": 16,
    "lenType": 16,
    "lenVar": 40
   },
   "kernels_config": {
    "python": {
     "delete_cmd_postfix": "",
     "delete_cmd_prefix": "del ",
     "library": "var_list.py",
     "varRefreshCmd": "print(var_dic_list())"
    },
    "r": {
     "delete_cmd_postfix": ") ",
     "delete_cmd_prefix": "rm(",
     "library": "var_list.r",
     "varRefreshCmd": "cat(var_dic_list()) "
    }
   },
   "types_to_exclude": [
    "module",
    "function",
    "builtin_function_or_method",
    "instance",
    "_Feature"
   ],
   "window_display": false
  }
 },
 "nbformat": 4,
 "nbformat_minor": 2
}
