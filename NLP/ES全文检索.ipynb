{
 "cells": [
  {
   "cell_type": "raw",
   "metadata": {},
   "source": [
    "\n",
    "1、https://blog.csdn.net/abc123lzf/article/details/103034547\n",
    "2、https://blog.csdn.net/hualaoshuan/article/details/102306850 ElasticSearch7 实现全文检索、关键词高亮\n",
    "3、https://www.jianshu.com/p/56b5cbcaf460 Elastic Search建表\n",
    "4、https://blog.csdn.net/frankcheng5143/article/details/82870319 自定义分词器\n",
    "5、https://www.jianshu.com/p/362f85ebf383 ElasticSearch 中文分词器\n",
    "6、https://www.cnblogs.com/sc-1067178406/p/10909070.html  Elasticsearch --- 3. ik中文分词器, python操作es\n",
    "7、https://blog.csdn.net/hualaoshuan/article/details/102306850 安装iksmart 分词\n"
   ]
  },
  {
   "cell_type": "markdown",
   "metadata": {},
   "source": [
    "# 创建索引"
   ]
  },
  {
   "cell_type": "code",
   "execution_count": 26,
   "metadata": {
    "ExecuteTime": {
     "end_time": "2020-05-13T07:05:58.841791Z",
     "start_time": "2020-05-13T07:05:57.350976Z"
    }
   },
   "outputs": [
    {
     "name": "stdout",
     "output_type": "stream",
     "text": [
      "{\"acknowledged\":true,\"shards_acknowledged\":true,\"index\":\"question\"}\n"
     ]
    }
   ],
   "source": [
    "import requests\n",
    "import json\n",
    "'''\n",
    "192.168.141.190:9203\n",
    "192.168.141.190:9204\n",
    "'''\n",
    "# 新建索引 http://192.168.141.190:9203/question\n",
    "url = 'http://127.0.0.1:9200/question'\n",
    "headers = {\"Content-Type\":\"application/json\"}\n",
    "body = {\n",
    "        \"settings\": {\n",
    "            \"number_of_shards\": 3,\n",
    "            \"number_of_replicas\": 1,\n",
    "           \"analysis\" : {\n",
    "                \"analyzer\" : {\n",
    "                     \"ik\" : {\n",
    "                            \"tokenizer\" : \"ik_smart\"\n",
    "                    }\n",
    "                }\n",
    "            }\n",
    "        },    \n",
    "      \"mappings\": {\n",
    "             \"properties\": { \n",
    "                 \"question\":    { \"type\": \"text\", \"analyzer\": \"ik_max_word\",\"search_analyzer\":\"ik_smart\"}, \n",
    "                 \"answer\":     { \"type\": \"text\"  }, \n",
    "                 \"title\":      { \"type\": \"keyword\" },  \n",
    "                 \"qid\" :       {\"type\": \"keyword\"}\n",
    "            }\n",
    "      }\n",
    "}\n",
    "\n",
    "\n",
    "\n",
    "\n",
    "rsp = requests.put(url, json.dumps(body), headers=headers)\n",
    "print(rsp.text)\n"
   ]
  },
  {
   "cell_type": "code",
   "execution_count": 25,
   "metadata": {
    "ExecuteTime": {
     "end_time": "2020-05-13T07:05:55.164938Z",
     "start_time": "2020-05-13T07:05:54.867174Z"
    }
   },
   "outputs": [
    {
     "name": "stdout",
     "output_type": "stream",
     "text": [
      "{\"acknowledged\":true}\n"
     ]
    }
   ],
   "source": [
    "url = 'http://127.0.0.1:9200/question'\n",
    "rsp = requests.delete(f'{url}')\n",
    "print(rsp.text)"
   ]
  },
  {
   "cell_type": "markdown",
   "metadata": {
    "ExecuteTime": {
     "end_time": "2020-04-21T01:56:00.493433Z",
     "start_time": "2020-04-21T01:56:00.477808Z"
    }
   },
   "source": [
    "# 新增数据"
   ]
  },
  {
   "cell_type": "code",
   "execution_count": 30,
   "metadata": {
    "ExecuteTime": {
     "end_time": "2020-05-13T07:07:32.123575Z",
     "start_time": "2020-05-13T07:07:31.982048Z"
    }
   },
   "outputs": [
    {
     "name": "stdout",
     "output_type": "stream",
     "text": [
      "{\"_index\":\"question\",\"_type\":\"_doc\",\"_id\":\"2WvcDHIBVEld0dxpH9AY\",\"_version\":1,\"result\":\"created\",\"_shards\":{\"total\":2,\"successful\":1,\"failed\":0},\"_seq_no\":2,\"_primary_term\":1}\n"
     ]
    }
   ],
   "source": [
    "url = 'http://127.0.0.1:9200/question'\n",
    "headers = {\"Content-Type\":\"application/json\"}\n",
    "body = {\n",
    "    \"question\":\"数学, \\\\div {5} {1}  + sqrt {3}\",\n",
    "    \"answer\":'',\n",
    "    \"title\":\"q1\",\n",
    "    \"qid\": \"q1\"\n",
    "}\n",
    "\n",
    "rsp = requests.post(f'{url}/_doc', json.dumps(body), headers=headers)\n",
    "print(rsp.text)\n",
    "\n",
    "# 查询数据 http://192.168.141.190:9203/question/_doc/1"
   ]
  },
  {
   "cell_type": "code",
   "execution_count": null,
   "metadata": {},
   "outputs": [],
   "source": []
  },
  {
   "cell_type": "markdown",
   "metadata": {},
   "source": [
    "# 查询数据"
   ]
  },
  {
   "cell_type": "code",
   "execution_count": 57,
   "metadata": {
    "ExecuteTime": {
     "end_time": "2020-05-13T07:39:15.248937Z",
     "start_time": "2020-05-13T07:39:15.227965Z"
    }
   },
   "outputs": [
    {
     "name": "stdout",
     "output_type": "stream",
     "text": [
      "{'took': 1, 'timed_out': False, '_shards': {'total': 3, 'successful': 3, 'skipped': 0, 'failed': 0}, 'hits': {'total': {'value': 0, 'relation': 'eq'}, 'max_score': None, 'hits': []}}\n"
     ]
    }
   ],
   "source": [
    "'''简单查询'''\n",
    "import requests\n",
    "import json\n",
    "url = 'http://127.0.0.1:9200/question/_search'\n",
    "headers = {\"Content-Type\":\"application/json\"}\n",
    "body = {\n",
    "  \"query\": {\n",
    "    \"match\": {\n",
    "#       \"qid\": \"q6\"\n",
    "        'question':'学'\n",
    "    }\n",
    "  }\n",
    "}\n",
    "rsp = requests.post(url,json.dumps(body),headers=headers)\n",
    "print(json.loads(rsp.text))"
   ]
  },
  {
   "cell_type": "code",
   "execution_count": 53,
   "metadata": {
    "ExecuteTime": {
     "end_time": "2020-05-13T07:33:47.472929Z",
     "start_time": "2020-05-13T07:33:47.454941Z"
    }
   },
   "outputs": [
    {
     "name": "stdout",
     "output_type": "stream",
     "text": [
      "{'tokens': [{'token': '周树人', 'start_offset': 0, 'end_offset': 3, 'type': 'CN_WORD', 'position': 0}, {'token': '树人', 'start_offset': 1, 'end_offset': 3, 'type': 'CN_WORD', 'position': 1}]}\n"
     ]
    }
   ],
   "source": [
    "'''regexp 查询'''\n",
    "import requests\n",
    "import json\n",
    "url = 'http://127.0.0.1:9200/question/_analyze'\n",
    "headers = {\"Content-Type\":\"application/json\"}\n",
    "body = {\n",
    "        'field':'question',\n",
    "#         'text':'数学练习, \\\\frac{5}{1}+sqrt{3}-'\n",
    "        'text':'周树人'\n",
    "}\n",
    "rsp = requests.post(url,json.dumps(body),headers=headers)\n",
    "print(json.loads(rsp.text))"
   ]
  },
  {
   "cell_type": "code",
   "execution_count": null,
   "metadata": {},
   "outputs": [],
   "source": []
  }
 ],
 "metadata": {
  "kernelspec": {
   "display_name": "Python 3",
   "language": "python",
   "name": "python3"
  },
  "language_info": {
   "codemirror_mode": {
    "name": "ipython",
    "version": 3
   },
   "file_extension": ".py",
   "mimetype": "text/x-python",
   "name": "python",
   "nbconvert_exporter": "python",
   "pygments_lexer": "ipython3",
   "version": "3.7.4"
  },
  "varInspector": {
   "cols": {
    "lenName": 16,
    "lenType": 16,
    "lenVar": 40
   },
   "kernels_config": {
    "python": {
     "delete_cmd_postfix": "",
     "delete_cmd_prefix": "del ",
     "library": "var_list.py",
     "varRefreshCmd": "print(var_dic_list())"
    },
    "r": {
     "delete_cmd_postfix": ") ",
     "delete_cmd_prefix": "rm(",
     "library": "var_list.r",
     "varRefreshCmd": "cat(var_dic_list()) "
    }
   },
   "types_to_exclude": [
    "module",
    "function",
    "builtin_function_or_method",
    "instance",
    "_Feature"
   ],
   "window_display": false
  }
 },
 "nbformat": 4,
 "nbformat_minor": 2
}
