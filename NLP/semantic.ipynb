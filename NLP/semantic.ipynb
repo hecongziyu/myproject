{
 "cells": [
  {
   "cell_type": "markdown",
   "metadata": {},
   "source": [
    "    http://www.52nlp.cn/category/%E8%AF%AD%E4%B9%89%E7%9B%B8%E4%BC%BC%E5%BA%A6\n",
    "    \n",
    "    https://blog.csdn.net/m0_37306360/article/details/79318644  PyTorch: 序列到序列模型(Seq2Seq)实现机器翻译实战\n",
    "    \n",
    "    https://arxiv.org/abs/1409.3215  Sequence to Sequence Learning with Neural Networks\n",
    "    \n",
    "        https://blog.csdn.net/YoungDreamNJU/article/details/54895783 Attention Model 在自然语言处理里的应用\n",
    "    \n",
    "    https://blog.csdn.net/StupidAutofan/article/details/83303368  Attention Model 及其发展现状概述\n",
    "    \n",
    "    \n",
    "    https://blog.csdn.net/zlrai5895/article/details/81436570 text to image（二）:《Generative Adversarial Text to Image Synthesis》\n",
    "    \n",
    "    \n",
    "    https://blog.csdn.net/Hungryof/article/details/76166980 Generative Adversarial Text to Image Synthesis --- 根据文字描述生成对应的图片\n",
    "    \n",
    "    https://blog.csdn.net/gjy938815/article/details/80993429 深度学习进阶之路 - 从迁移学习到强化学习\n",
    "    \n",
    "    https://www.sohu.com/a/206399499_609569 NLP大赛冠军总结：300万知乎多标签文本分类任务\n",
    "    \n",
    "    https://zhuanlan.zhihu.com/p/25928551 用深度学习（CNN RNN Attention）解决大规模文本分类问题 - 综述和实践\n",
    "    \n",
    "    \n",
    "    https://blog.csdn.net/u014732537/article/details/79573174 卷积神经网络(TextCNN)在句子分类上的实现\n",
    "    \n",
    "        \n",
    "    https://zhuanlan.zhihu.com/p/28923961\n",
    "    \n",
    "    \n",
    "    http://ruder.io/deep-learning-nlp-best-practices/index.html Deep Learning for NLP Best Practices\n",
    "    \n",
    "    \n",
    "    https://github.com/chenyuntc/PyTorchText \n",
    "    \n",
    "    https://blog.csdn.net/John_xyz/article/details/79210088  TextCnn原理及实践 文本分类\n",
    "    \n",
    "    https://cloud.tencent.com/developer/news/154506 如何利用TextCNN识别脏话\n",
    "    \n",
    "    http://ruder.io/deep-learning-nlp-best-practices/index.html\n",
    "    \n",
    "    \n",
    "    https://blog.csdn.net/xwd18280820053/article/details/70674256 准确率(Precision)、召回率(Recall)、F值(F-Measure)、ROC、AUC,准确率和召回率是广泛用于信息检索和统计学分类领域的两个度量值，用来评价结果的质量。其中精度是检索出相关文档数与检索出的文档总数的比率，衡量的是检索系统的查准率；召回率是指检索出的相关文档数和文档库中所有的相关文档数的比率，衡量的是检索系统的查全率。一般来说，Precision就是检索出来的条目（比如：文档、网页等）有多少是准确的，Recall就是所有准确的条目有多少被检索出来了。\n",
    "    \n",
    "    \n",
    "    https://blog.csdn.net/u010402786/article/details/52433324  深入浅出——网络模型中Inception的作用与结构全解析"
   ]
  },
  {
   "cell_type": "markdown",
   "metadata": {
    "heading_collapsed": true
   },
   "source": [
    "# N-Gram"
   ]
  },
  {
   "cell_type": "markdown",
   "metadata": {
    "hidden": true
   },
   "source": [
    "    https://baike.so.com/doc/716799-758836.html\n",
    "    N-Gram是大词汇连续语音识别中常用的一种语言模型，对中文而言，我们称之为汉语语言模型(CLM, Chinese Language Model)。汉语语言模型利用上下文中相邻词间的搭配信息，可以实现到汉字的自动转换。\n",
    "    汉语语言模型利用上下文中相邻词间的搭配信息，在需要把连续无空格的拼音、笔划，或代表字母或笔划的数字，转换成汉字串(即句子)时，可以计算出具有最大概率的句子，从而实现到汉字的自动转换，无需用户手动选择，避开了许多汉字对应一个相同的拼音(或笔划串，或数字串)的重码问题。\n",
    "\n",
    "    该模型基于这样一种假设，第N个词的出现只与前面N-1个词相关，而与其它任何词都不相关，整句的概率就是各个词出现概率的乘积。这些概率可以通过直接从语料中统计N个词同时出现的次数得到。常用的是二元的Bi-Gram和三元的Tri-Gram。"
   ]
  },
  {
   "cell_type": "markdown",
   "metadata": {},
   "source": [
    "# CRF算法"
   ]
  },
  {
   "cell_type": "markdown",
   "metadata": {},
   "source": [
    "    CRF算法，中文名称条件随机场算法，外文名称conditional random field algorithm，是一种数学算法，是2001年提出的，基于遵循马尔可夫性的概率图模型。条件随机场(CRF)由Lafferty等人于2001年提出，结合了最大熵模型和隐马尔可夫模型的特点，是一种无向图模型，近年来在分词、词性标注和命名实体识别等序列标注任务中取得了很好的效果。条件随机场是一个典型的判别式模型，其联合概率可以写成若干势函数联乘的形式，其中最常用的是线性链条件随机场。若让x=(x1，x2，…xn)表示被观察的输入数据序列，y=(y1，y2，…yn)表示一个状态序列，在给定一个输入序列的情况下，线性链的CRF模型定义状态序列的联合条件概率为"
   ]
  }
 ],
 "metadata": {
  "kernelspec": {
   "display_name": "Python 3",
   "language": "python",
   "name": "python3"
  },
  "language_info": {
   "codemirror_mode": {
    "name": "ipython",
    "version": 3
   },
   "file_extension": ".py",
   "mimetype": "text/x-python",
   "name": "python",
   "nbconvert_exporter": "python",
   "pygments_lexer": "ipython3",
   "version": "3.7.4"
  },
  "varInspector": {
   "cols": {
    "lenName": 16,
    "lenType": 16,
    "lenVar": 40
   },
   "kernels_config": {
    "python": {
     "delete_cmd_postfix": "",
     "delete_cmd_prefix": "del ",
     "library": "var_list.py",
     "varRefreshCmd": "print(var_dic_list())"
    },
    "r": {
     "delete_cmd_postfix": ") ",
     "delete_cmd_prefix": "rm(",
     "library": "var_list.r",
     "varRefreshCmd": "cat(var_dic_list()) "
    }
   },
   "types_to_exclude": [
    "module",
    "function",
    "builtin_function_or_method",
    "instance",
    "_Feature"
   ],
   "window_display": false
  }
 },
 "nbformat": 4,
 "nbformat_minor": 2
}
