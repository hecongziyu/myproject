{
 "cells": [
  {
   "cell_type": "markdown",
   "metadata": {},
   "source": [
    "# 能力分类"
   ]
  },
  {
   "cell_type": "raw",
   "metadata": {},
   "source": [
    "classify by memmory, intelligence， basic knowledge\n",
    "初始化分类根据历史、数学等考试成绩，将每类分为初、中、高这三类。 通过Bayesian Network构建新人评测网络。 ？？？"
   ]
  },
  {
   "cell_type": "markdown",
   "metadata": {},
   "source": [
    "## 模拟数据生成 "
   ]
  },
  {
   "cell_type": "markdown",
   "metadata": {},
   "source": [
    "## 贝叶斯网络 "
   ]
  },
  {
   "cell_type": "markdown",
   "metadata": {},
   "source": [
    "### 手工构建网络 （离散数据）"
   ]
  },
  {
   "cell_type": "markdown",
   "metadata": {
    "heading_collapsed": true
   },
   "source": [
    "#### 建网络 "
   ]
  },
  {
   "cell_type": "code",
   "execution_count": 11,
   "metadata": {
    "hidden": true
   },
   "outputs": [
    {
     "name": "stdout",
     "output_type": "stream",
     "text": [
      "[<TabularCPD representing P(M:2) at 0x221fdd17ec8>, <TabularCPD representing P(I:2) at 0x221fdd17e88>, <TabularCPD representing P(B:2) at 0x221fdd17fc8>, <TabularCPD representing P(Q1:3 | M:2, B:2) at 0x221fdd17288>, <TabularCPD representing P(Q2:3 | I:2, B:2) at 0x221fdd17bc8>]\n",
      "+-------+--------+---------+---------+---------+\n",
      "| M     | M(Low) | M(Low)  | M(High) | M(High) |\n",
      "+-------+--------+---------+---------+---------+\n",
      "| B     | B(Low) | B(High) | B(Low)  | B(High) |\n",
      "+-------+--------+---------+---------+---------+\n",
      "| Q1(A) | 0.3    | 0.05    | 0.9     | 0.5     |\n",
      "+-------+--------+---------+---------+---------+\n",
      "| Q1(B) | 0.4    | 0.25    | 0.08    | 0.3     |\n",
      "+-------+--------+---------+---------+---------+\n",
      "| Q1(C) | 0.3    | 0.7     | 0.02    | 0.2     |\n",
      "+-------+--------+---------+---------+---------+\n"
     ]
    }
   ],
   "source": [
    "# 学生等级、学生成绩分级分成不同区段的离散标准\n",
    "from pgmpy.models import BayesianModel\n",
    "from pgmpy.factors.discrete import TabularCPD\n",
    "\n",
    "# Defining the model structure. We can define the network by just passing a list of edges.\n",
    "model = BayesianModel([('M', 'Q1'), ('I', 'Q2'), ('B', 'Q1'), ('B', 'Q2')])\n",
    "\n",
    "cpd_m = TabularCPD(variable='M', variable_card=2, values=[[0.6, 0.4]],state_names={'M':['Low','High']})\n",
    "cpd_i = TabularCPD(variable='I', variable_card=2, values=[[0.7, 0.3]],state_names={'I':['Low','High']})\n",
    "cpd_b = TabularCPD(variable='B', variable_card=2, values=[[0.8, 0.2]],state_names={'B':['Low','High']})\n",
    "# Q1 测试一，结果 0, 1, 2 (差，中，优)\n",
    "cpd_q1 = TabularCPD(variable='Q1', variable_card=3, \n",
    "                   values=[[0.3, 0.05, 0.9,  0.5],\n",
    "                           [0.4, 0.25, 0.08, 0.3],\n",
    "                           [0.3, 0.7,  0.02, 0.2]],\n",
    "                  evidence=['M', 'B'],\n",
    "                  evidence_card=[2, 2],state_names={'Q1': ['A', 'B', 'C'],\n",
    "                                   'M': ['Low', 'High'],\n",
    "                                   'B': ['Low', 'High']})\n",
    "\n",
    "cpd_q2 = TabularCPD(variable='Q2', variable_card=3, \n",
    "                   values=[[0.3, 0.05, 0.9,  0.5],\n",
    "                           [0.4, 0.25, 0.08, 0.3],\n",
    "                           [0.3, 0.7,  0.02, 0.2]],\n",
    "                  evidence=['I', 'B'],\n",
    "                  evidence_card=[2, 2],state_names={'Q2': ['A', 'B', 'C'],\n",
    "                                   'I': ['Low', 'High'],\n",
    "                                   'B': ['Low', 'High']})\n",
    "\n",
    "model.add_cpds(cpd_m,  cpd_i, cpd_b, cpd_q1, cpd_q2)\n",
    "model.check_model()\n",
    "print(model.get_cpds())\n",
    "print(cpd_q1)"
   ]
  },
  {
   "cell_type": "markdown",
   "metadata": {},
   "source": [
    "#### 推断 "
   ]
  },
  {
   "cell_type": "code",
   "execution_count": 29,
   "metadata": {},
   "outputs": [
    {
     "name": "stdout",
     "output_type": "stream",
     "text": [
      "independ -->  (M _|_ I, Q2, B)\n",
      "(I _|_ B, Q1, M)\n",
      "(B _|_ I, M)\n",
      "(Q1 _|_ I, Q2 | B, M)\n",
      "(Q2 _|_ Q1, M | I, B)\n",
      "trail -->  {'Q1': {'Q2', 'B', 'M', 'Q1'}}\n"
     ]
    },
    {
     "name": "stderr",
     "output_type": "stream",
     "text": [
      "Finding Elimination Order: : 100%|█████████████████████████████████████████████████████████████████████████████████████████████████████| 4/4 [00:00<00:00, 1999.19it/s]\n",
      "Eliminating: M: 100%|███████████████████████████████████████████████████████████████████████████████████████████████████████████████████| 4/4 [00:00<00:00, 285.85it/s]\n"
     ]
    },
    {
     "name": "stdout",
     "output_type": "stream",
     "text": [
      "+-------+-----------+\n",
      "| Q1    |   phi(Q1) |\n",
      "+=======+===========+\n",
      "| Q1(A) |    0.4780 |\n",
      "+-------+-----------+\n",
      "| Q1(B) |    0.2716 |\n",
      "+-------+-----------+\n",
      "| Q1(C) |    0.2504 |\n",
      "+-------+-----------+\n"
     ]
    },
    {
     "name": "stderr",
     "output_type": "stream",
     "text": [
      "Finding Elimination Order: : 100%|█████████████████████████████████████████████████████████████████████████████████████████████████████| 3/3 [00:00<00:00, 1001.27it/s]\n",
      "Eliminating: B: 100%|███████████████████████████████████████████████████████████████████████████████████████████████████████████████████| 3/3 [00:00<00:00, 250.14it/s]\n"
     ]
    },
    {
     "name": "stdout",
     "output_type": "stream",
     "text": [
      "+-------+-----------+\n",
      "| Q1    |   phi(Q1) |\n",
      "+=======+===========+\n",
      "| Q1(A) |    0.2500 |\n",
      "+-------+-----------+\n",
      "| Q1(B) |    0.3700 |\n",
      "+-------+-----------+\n",
      "| Q1(C) |    0.3800 |\n",
      "+-------+-----------+\n"
     ]
    }
   ],
   "source": [
    "# Getting all the local independencies in the network.\n",
    "# Variable Elimination  消元, 对于有向的贝叶斯网络来说，每个节点联合其父节点为一个因子，当对某一变量进行消除时，把与该变量有关的\n",
    "# 因子放到对应的连加符号右边，其他的变量与连加符号放到该连加符号左边。将所需消除的连加符号以及连加符号右边的式子，写成以右边因子中所\n",
    "# 存在的所有变量为自变量的函数τ。　　注意，该步骤之后所有因式的辖域中均不存在被消除的变量。　　马尔可夫网的变量消除法与上述方法相同。 \n",
    "from pgmpy.inference import VariableElimination\n",
    "print('independ --> ',  model.local_independencies(['M', 'I', 'B', 'Q1', 'Q2']))\n",
    "print('trail --> ', model.active_trail_nodes('Q1'))\n",
    "# 对模型进行消元，简便模型运算\n",
    "infer = VariableElimination(model)\n",
    "print(infer.query(['Q1']))\n",
    "print(infer.query(['Q1'], evidence={'M': 'Low', 'I': 'Low'}))  # I与Q1无关，这里只会计算M为Low情况下在的状态 "
   ]
  },
  {
   "cell_type": "markdown",
   "metadata": {},
   "source": [
    "### 手工构建网络（连续数据）"
   ]
  },
  {
   "cell_type": "markdown",
   "metadata": {},
   "source": [
    "#### 生成模拟数据 "
   ]
  },
  {
   "cell_type": "code",
   "execution_count": 20,
   "metadata": {},
   "outputs": [],
   "source": [
    "'''\n",
    "模拟数据格式： id, 分数, 时间\n",
    "网络结果： P(grade, time|I,B)\n",
    "'''\n",
    "import numpy as np\n",
    "import scipy.stats as stats\n",
    "size = 200\n",
    "time_low, time_upper = 5, 45\n",
    "mu, sigma = 25,10\n",
    "exam_time = np.array(stats.truncnorm((time_low - mu) / sigma, (time_upper - mu) / sigma, loc=mu, scale=sigma).rvs(size), \n",
    "                     dtype=np.int)\n",
    "\n",
    "low, upper = 10, 100\n",
    "mu, sigma = 85,10\n",
    "score = np.array(stats.truncnorm((low - mu) / sigma, (upper - mu) / sigma, loc=mu, scale=sigma).rvs(size), \n",
    "                     dtype=np.int)\n",
    "# score = np.random.normal(50,0.5, number).astype(np.float)\n",
    "# print('etime -->', etime)\n",
    "idnum = np.array(range(size))\n",
    "record = list(zip(idnum, score, exam_time))\n",
    "np.savetxt('D:\\\\record.txt',record,fmt='%d',delimiter=',')"
   ]
  },
  {
   "cell_type": "markdown",
   "metadata": {
    "heading_collapsed": true
   },
   "source": [
    "#### 建网络 "
   ]
  },
  {
   "cell_type": "raw",
   "metadata": {
    "hidden": true
   },
   "source": [
    "I, B --> Q1, T1（完成时间）, Q1 连续数据"
   ]
  },
  {
   "cell_type": "code",
   "execution_count": null,
   "metadata": {
    "hidden": true
   },
   "outputs": [],
   "source": [
    "# https://blog.csdn.net/wzgbm/article/details/51680540 概率中的pdf\n"
   ]
  }
 ],
 "metadata": {
  "kernelspec": {
   "display_name": "Python 3",
   "language": "python",
   "name": "python3"
  },
  "language_info": {
   "codemirror_mode": {
    "name": "ipython",
    "version": 3
   },
   "file_extension": ".py",
   "mimetype": "text/x-python",
   "name": "python",
   "nbconvert_exporter": "python",
   "pygments_lexer": "ipython3",
   "version": "3.7.4"
  },
  "toc": {
   "base_numbering": 1,
   "nav_menu": {},
   "number_sections": true,
   "sideBar": true,
   "skip_h1_title": false,
   "title_cell": "Table of Contents",
   "title_sidebar": "Contents",
   "toc_cell": false,
   "toc_position": {},
   "toc_section_display": true,
   "toc_window_display": false
  },
  "varInspector": {
   "cols": {
    "lenName": 16,
    "lenType": 16,
    "lenVar": 40
   },
   "kernels_config": {
    "python": {
     "delete_cmd_postfix": "",
     "delete_cmd_prefix": "del ",
     "library": "var_list.py",
     "varRefreshCmd": "print(var_dic_list())"
    },
    "r": {
     "delete_cmd_postfix": ") ",
     "delete_cmd_prefix": "rm(",
     "library": "var_list.r",
     "varRefreshCmd": "cat(var_dic_list()) "
    }
   },
   "types_to_exclude": [
    "module",
    "function",
    "builtin_function_or_method",
    "instance",
    "_Feature"
   ],
   "window_display": false
  }
 },
 "nbformat": 4,
 "nbformat_minor": 2
}
