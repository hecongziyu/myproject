{
 "cells": [
  {
   "cell_type": "markdown",
   "metadata": {},
   "source": [
    "暂时以下几点：\n",
    "1、生成初始学生训练数据，采集学生信息进行初步分类。（无监督分类）\n",
    "2、生成初始化教学资源训练数据\n",
    "3、生成在线学习模拟训练数据\n",
    "4、根据生成数据跟踪学生学习情况（检测学生线上学习是否连续等）\n",
    "5、评估学生知识点掌握情况\n",
    "6、评估学生能力\n",
    "7、预测学生模拟试题正确情况\n",
    "8、个性化学生学生"
   ]
  },
  {
   "cell_type": "markdown",
   "metadata": {
    "heading_collapsed": true
   },
   "source": [
    "# 一、生成学生初始化信息 "
   ]
  },
  {
   "cell_type": "markdown",
   "metadata": {
    "hidden": true
   },
   "source": [
    "1、维度：\n",
    "1）、 学校、年级、性别、年龄、班级\n",
    "2）、 历史学习成绩，数学、语文、外语、体育\n",
    "3）、 历史学期评语"
   ]
  },
  {
   "cell_type": "code",
   "execution_count": 10,
   "metadata": {
    "hidden": true
   },
   "outputs": [],
   "source": [
    "import numpy as np\n",
    "import pandas as pd\n",
    "from utils_gen import fourEl\n",
    "\n",
    "nameEL =  fourEl()\n",
    "school_map = {0:'师大附小', 1:'岳麓区一小', 2: '沙子塘小学'}\n",
    "\n",
    "def gen_student_data(number):\n",
    "    student_id = [x for x in range(1, number + 1)]\n",
    "    student_names = [nameEL.create_name() for x in range(number)]\n",
    "    # 学生初始化级别，随机生成，在后续对学生分类中更新该项信息\n",
    "    studnet_level = np.random.randint(0,5,number).tolist()\n",
    "    school = np.random.randint(0,3,number).tolist()\n",
    "    grade = [1] * number\n",
    "    sex = np.random.randint(0,2,number).tolist()\n",
    "    age = np.round(np.random.normal(10,1, number)).tolist()\n",
    "    math_score = np.round(np.random.normal(90,5, number),0).tolist()\n",
    "    eng_score = np.round(np.random.normal(90,5, number),0).tolist()\n",
    "    chi_score = np.round(np.random.normal(90,5, number),0).tolist()\n",
    "    students_list = list(zip(student_id,student_names, school, grade, sex, age, math_score,eng_score,chi_score,studnet_level))\n",
    "    students = pd.DataFrame(data=students_list,columns=['id','name','school',\n",
    "                                                        'grade','sex','age','math_score',\n",
    "                                                        'eng_score','chi_score','level'])\n",
    "    return students\n",
    "\n",
    "students = gen_student_data(100)\n",
    "\n",
    "file_name = './data/students_pre.csv'\n",
    "students.to_csv(file_name,index=None)\n",
    "    \n",
    "\n",
    "\n"
   ]
  },
  {
   "cell_type": "markdown",
   "metadata": {
    "heading_collapsed": true
   },
   "source": [
    "# 二、教学初始资源数据"
   ]
  },
  {
   "cell_type": "markdown",
   "metadata": {
    "hidden": true
   },
   "source": [
    "1、资源： \n",
    "   视频（时长）、音频（时长）、文本（内容长度）、PPT（内容长度）、 知识点、老师、老师级别、适应年级\n",
    "\n",
    "2、试题\n",
    "    知识点、难度级别、适应年级、试题内容"
   ]
  },
  {
   "cell_type": "code",
   "execution_count": 37,
   "metadata": {
    "hidden": true
   },
   "outputs": [
    {
     "name": "stdout",
     "output_type": "stream",
     "text": [
      "{0: '魏故细', 1: '戚贝黄', 2: '昌交录', 3: '冯亲毕', 4: '尤河革', 5: '倪师留', 6: '严行队', 7: '谢采游', 8: '华研奥', 9: '范屋陈', 10: '尤母法', 11: '戴方班', 12: '陶多掉', 13: '彭彩随', 14: '祁被含', 15: '罗每奥', 16: '韩班板', 17: '狄寻队', 18: '谢各店', 19: '皮验封', 20: '岑展候', 21: '尹听显', 22: '王面吗', 23: '邹而莱', 24: '费衣切', 25: '伍共造', 26: '殷律帝', 27: '孙鞋睡', 28: '王表乐', 29: '毕桌银', 30: '奚将治', 31: '卫我森', 32: '戚大醒', 33: '朱表观', 34: '滕万气', 35: '尤喝彩', 36: '戚野但', 37: '柳席送', 38: '朱卫伊', 39: '岑型当'}\n"
     ]
    }
   ],
   "source": [
    "# 生成资源文件模拟数据\n",
    "# -*- coding: utf-8 -*-\n",
    "import numpy as np\n",
    "import pandas as pd\n",
    "from utils_gen import fourEl\n",
    "\n",
    "nameEL =  fourEl()\n",
    "resource_map = {0:'视频', 1:'音频', 2: 'PPT'}\n",
    "teacher_tech_map = {0:'初级', 1:'中级', 2:'高级'}\n",
    "knowledge_map = {0:'小数乘法', 1:'小数除法', 2:'多边形的面积',3:'观察物体',4:'简易方程'}\n",
    "\n",
    "#  生成资源文件\n",
    "def gen_source_data(number):\n",
    "    if number % len(knowledge_map) != 0:\n",
    "        raise Exception(\"需为knowledge数量的倍数\")\n",
    "    teacher_name_map = {idx:nameEL.create_name() for idx in range(number//len(knowledge_map))}\n",
    "    print(teacher_name_map)\n",
    "    resource_id = [x for x in range(1, number + 1)]\n",
    "    resource_type_lists = np.random.randint(0,len(resource_map), number).tolist()\n",
    "    resource_time_lists = np.random.randint(5,30, number).tolist()\n",
    "    teacher_id_lists = list(teacher_name_map.keys()) * len(knowledge_map)\n",
    "    teacher_name_lists = [teacher_name_map[idx] for idx in teacher_id_lists]\n",
    "    knowledge_lists = np.array([[x] * (number // len(knowledge_map)) for x in knowledge_map.keys()]).reshape(-1).tolist()\n",
    "    teacher_grade_lists = np.random.randint(0, len(teacher_tech_map), len(teacher_name_map)).tolist() * (number//len(knowledge_map))\n",
    "\n",
    "    grade = [5] * number\n",
    "    resource_lists = list(zip(resource_id,\n",
    "                              resource_type_lists,\n",
    "                              resource_time_lists, \n",
    "                              teacher_id_lists,\n",
    "                              teacher_name_lists,\n",
    "                              knowledge_lists,\n",
    "                              teacher_grade_lists,\n",
    "                              grade))\n",
    "    resources = pd.DataFrame(data=resource_lists,columns=['id',\n",
    "                                                          'rs_type',\n",
    "                                                          'rs_time',\n",
    "                                                          'teacher_id',\n",
    "                                                          'teacher_name',\n",
    "                                                          'knowledge',\n",
    "                                                          'teacher_grade',\n",
    "                                                          'rs_grade'])\n",
    "    return resources;\n",
    "\n",
    "resources = gen_source_data(200)\n",
    "file_name = './data/resources_pre.csv'\n",
    "resources.to_csv(file_name,index=None,encoding=\"utf_8_sig\")\n",
    "\n",
    "\n"
   ]
  },
  {
   "cell_type": "code",
   "execution_count": 66,
   "metadata": {
    "hidden": true
   },
   "outputs": [],
   "source": [
    "# 生成试题模拟数据\n",
    "# -*- coding: utf-8 -*-\n",
    "import numpy as np\n",
    "import pandas as pd\n",
    "import pickle\n",
    "import os\n",
    "\n",
    "exam_file_name = './data/example.pkl'\n",
    "exam_origin_name = './data/example.txt'\n",
    "\n",
    "def get_origin_exam():\n",
    "    if not os.path.exists(exam_file_name):\n",
    "        exam_map = {}\n",
    "        with open(exam_origin_name, 'r', encoding='utf-8') as f:\n",
    "            content = f.readline()\n",
    "            while content != '':\n",
    "                if content.find('—') != -1:\n",
    "                    key = content[0:content.index('—')]\n",
    "                    value = content[content.index('—'):].replace('\\n','')\n",
    "                    exam_map[key] = value\n",
    "                    content = f.readline()\n",
    "        with open(exam_file_name, 'wb') as f:\n",
    "            pickle.dump(exam_map,f)\n",
    "    else:\n",
    "        with open(exam_file_name, 'rb') as f:\n",
    "            exam_map = pickle.load(f)\n",
    "    return exam_map\n",
    "    \n",
    "#   知识点、难度级别、适应年级、试题内容\n",
    "knowledge_map = {0:'小数乘法', 1:'小数除法', 2:'多边形的面积',3:'观察物体',4:'简易方程'}\n",
    "difficulty_map = {0:'简单', 1:'一般',2:'难',3:'特难'}\n",
    "file_name = './data/example_pre.csv'\n",
    "def gen_exam_data():\n",
    "    exam_map = get_origin_exam()\n",
    "    exam_ids = [x for x  in range(len(exam_map))]\n",
    "    exam_content_ids = list(exam_map.keys())\n",
    "    exam_knowledges = np.random.randint(0, len(knowledge_map), len(exam_map)).tolist()\n",
    "    exam_difficutly = np.random.randint(0, len(difficulty_map), len(exam_map)).tolist()\n",
    "    resource_lists = list(zip(exam_ids, exam_knowledges, exam_difficutly, exam_content_ids))\n",
    "    resources = pd.DataFrame(data=resource_lists,columns=['id',\n",
    "                                                          'knowledge',\n",
    "                                                          'difficulty',\n",
    "                                                          'contentid'])\n",
    "    return resources\n",
    "    \n",
    "    \n",
    "resources = gen_exam_data()\n",
    "resources.to_csv(file_name, index=None)\n",
    "    \n",
    "    "
   ]
  },
  {
   "cell_type": "markdown",
   "metadata": {},
   "source": [
    "# 三、生成学习计划"
   ]
  },
  {
   "cell_type": "markdown",
   "metadata": {},
   "source": [
    "1、总计划表 -> 知识点1、知识点2、知识点3  , 适应级别\n",
    "\n",
    "\n",
    "2、知识点计划表 ->知识点标记，资源类型,  资源时长，测试题难度, 测试题数，老师级别,  适应级别"
   ]
  },
  {
   "cell_type": "code",
   "execution_count": 19,
   "metadata": {},
   "outputs": [],
   "source": [
    "import numpy as np\n",
    "import pandas as pd\n",
    "\n",
    "resource_map = {0:'视频', 1:'音频', 2: 'PPT'}\n",
    "teacher_tech_map = {0:'初级', 1:'中级', 2:'高级'}\n",
    "knowledge_map = {0:'小数乘法', 1:'小数除法', 2:'多边形的面积',3:'观察物体',4:'简易方程'}\n",
    "difficulty_map = {0:'简单', 1:'一般',2:'难',3:'特难'}\n",
    "student_level = list(range(5))\n",
    "\n",
    "# 总计划表\n",
    "total_file_name = './data/total_schedule.csv'\n",
    "def gen_total_schedule():\n",
    "    total_sche = list(zip([[0,1,2,3,4]] * 5, [0,1,2,3,4]))\n",
    "    resources = pd.DataFrame(data=total_sche, columns=['knowledge','level'])\n",
    "#     print(resources.loc[0, 'knowledge'][0])\n",
    "    return resources\n",
    "                            \n",
    "knowledge_file_name = './data/knowledge_schedule.csv'\n",
    "# 知识点学习计划表\n",
    "def gen_knowledge_schedule():\n",
    "    resource_lists = []\n",
    "    resouce_id = 0\n",
    "    for s_level in range(5):\n",
    "        for k_level in range(len(knowledge_map)):\n",
    "            for t_level in range(len(teacher_tech_map)):\n",
    "                for r_type in range(len(resource_map)):\n",
    "                    for idx in range(3):\n",
    "                        resource = [resouce_id,k_level,r_type,np.random.randint(10,20,1)[0],0 if s_level==0 else s_level-1,\n",
    "                                    np.random.randint(5,10,1)[0],t_level,s_level]\n",
    "                        resouce_id += 1\n",
    "                        resource_lists.append(resource)\n",
    "    \n",
    "    resources = pd.DataFrame(data=resource_lists, columns=['id','knowledge','resouce_type',\n",
    "                                                           'resouce_time','exam_level',\n",
    "                                                           'exam_num','teacher_level','student_level'])\n",
    "    return resources\n",
    "    \n",
    "    \n",
    "    \n",
    "\n",
    "s_resources = gen_total_schedule()\n",
    "s_resources.to_csv(total_file_name, index=None)\n",
    "\n",
    "k_resource = gen_knowledge_schedule()\n",
    "k_resource.to_csv(knowledge_file_name, index=None)"
   ]
  },
  {
   "cell_type": "markdown",
   "metadata": {},
   "source": []
  },
  {
   "cell_type": "markdown",
   "metadata": {},
   "source": [
    "# 四、生成在线学习数据"
   ]
  },
  {
   "cell_type": "markdown",
   "metadata": {},
   "source": [
    "基本信息：\n",
    "\n",
    "学生ID， 总计划ID， 知识点学习计划ID， 资源学习时长， 测试试题列表（试题ID，答题时长，是否正确）"
   ]
  },
  {
   "cell_type": "code",
   "execution_count": 1,
   "metadata": {
    "scrolled": true
   },
   "outputs": [
    {
     "ename": "AssertionError",
     "evalue": "8 columns passed, passed data had 7 columns",
     "output_type": "error",
     "traceback": [
      "\u001b[1;31m---------------------------------------------------------------------------\u001b[0m",
      "\u001b[1;31mAssertionError\u001b[0m                            Traceback (most recent call last)",
      "\u001b[1;32m<ipython-input-1-8550c0b30380>\u001b[0m in \u001b[0;36m<module>\u001b[1;34m()\u001b[0m\n\u001b[0;32m     55\u001b[0m     \u001b[1;32mreturn\u001b[0m \u001b[0mresources\u001b[0m\u001b[1;33m\u001b[0m\u001b[0m\n\u001b[0;32m     56\u001b[0m \u001b[1;33m\u001b[0m\u001b[0m\n\u001b[1;32m---> 57\u001b[1;33m \u001b[0mresources\u001b[0m \u001b[1;33m=\u001b[0m \u001b[0mgen_all_students_learn_trace\u001b[0m\u001b[1;33m(\u001b[0m\u001b[1;33m)\u001b[0m\u001b[1;33m\u001b[0m\u001b[0m\n\u001b[0m\u001b[0;32m     58\u001b[0m \u001b[1;31m# 将学习时间改成正向分布\u001b[0m\u001b[1;33m\u001b[0m\u001b[1;33m\u001b[0m\u001b[0m\n\u001b[0;32m     59\u001b[0m \u001b[0mresources\u001b[0m\u001b[1;33m[\u001b[0m\u001b[1;34m'learn_time'\u001b[0m\u001b[1;33m]\u001b[0m \u001b[1;33m=\u001b[0m \u001b[0mnp\u001b[0m\u001b[1;33m.\u001b[0m\u001b[0mrandom\u001b[0m\u001b[1;33m.\u001b[0m\u001b[0mnormal\u001b[0m\u001b[1;33m(\u001b[0m\u001b[1;36m20\u001b[0m\u001b[1;33m,\u001b[0m\u001b[1;36m2\u001b[0m\u001b[1;33m,\u001b[0m \u001b[0mlen\u001b[0m\u001b[1;33m(\u001b[0m\u001b[0mresources\u001b[0m\u001b[1;33m)\u001b[0m\u001b[1;33m)\u001b[0m\u001b[1;33m.\u001b[0m\u001b[0mastype\u001b[0m\u001b[1;33m(\u001b[0m\u001b[0mnp\u001b[0m\u001b[1;33m.\u001b[0m\u001b[0mint\u001b[0m\u001b[1;33m)\u001b[0m\u001b[1;33m\u001b[0m\u001b[0m\n",
      "\u001b[1;32m<ipython-input-1-8550c0b30380>\u001b[0m in \u001b[0;36mgen_all_students_learn_trace\u001b[1;34m()\u001b[0m\n\u001b[0;32m     52\u001b[0m                                                  \u001b[1;34m'knowledge_id'\u001b[0m\u001b[1;33m,\u001b[0m\u001b[1;34m'learn_time'\u001b[0m\u001b[1;33m,\u001b[0m\u001b[1;33m\u001b[0m\u001b[0m\n\u001b[0;32m     53\u001b[0m                                                  \u001b[1;34m'exam_detail(id,time,answer)'\u001b[0m\u001b[1;33m,\u001b[0m\u001b[1;33m\u001b[0m\u001b[0m\n\u001b[1;32m---> 54\u001b[1;33m                                                  'exam_time','exam_number','exam_right_number'])\n\u001b[0m\u001b[0;32m     55\u001b[0m     \u001b[1;32mreturn\u001b[0m \u001b[0mresources\u001b[0m\u001b[1;33m\u001b[0m\u001b[0m\n\u001b[0;32m     56\u001b[0m \u001b[1;33m\u001b[0m\u001b[0m\n",
      "\u001b[1;32md:\\project_tw\\anly\\venv\\lib\\site-packages\\pandas\\core\\frame.py\u001b[0m in \u001b[0;36m__init__\u001b[1;34m(self, data, index, columns, dtype, copy)\u001b[0m\n\u001b[0;32m    367\u001b[0m                     \u001b[1;32mif\u001b[0m \u001b[0mis_named_tuple\u001b[0m\u001b[1;33m(\u001b[0m\u001b[0mdata\u001b[0m\u001b[1;33m[\u001b[0m\u001b[1;36m0\u001b[0m\u001b[1;33m]\u001b[0m\u001b[1;33m)\u001b[0m \u001b[1;32mand\u001b[0m \u001b[0mcolumns\u001b[0m \u001b[1;32mis\u001b[0m \u001b[1;32mNone\u001b[0m\u001b[1;33m:\u001b[0m\u001b[1;33m\u001b[0m\u001b[0m\n\u001b[0;32m    368\u001b[0m                         \u001b[0mcolumns\u001b[0m \u001b[1;33m=\u001b[0m \u001b[0mdata\u001b[0m\u001b[1;33m[\u001b[0m\u001b[1;36m0\u001b[0m\u001b[1;33m]\u001b[0m\u001b[1;33m.\u001b[0m\u001b[0m_fields\u001b[0m\u001b[1;33m\u001b[0m\u001b[0m\n\u001b[1;32m--> 369\u001b[1;33m                     \u001b[0marrays\u001b[0m\u001b[1;33m,\u001b[0m \u001b[0mcolumns\u001b[0m \u001b[1;33m=\u001b[0m \u001b[0m_to_arrays\u001b[0m\u001b[1;33m(\u001b[0m\u001b[0mdata\u001b[0m\u001b[1;33m,\u001b[0m \u001b[0mcolumns\u001b[0m\u001b[1;33m,\u001b[0m \u001b[0mdtype\u001b[0m\u001b[1;33m=\u001b[0m\u001b[0mdtype\u001b[0m\u001b[1;33m)\u001b[0m\u001b[1;33m\u001b[0m\u001b[0m\n\u001b[0m\u001b[0;32m    370\u001b[0m                     \u001b[0mcolumns\u001b[0m \u001b[1;33m=\u001b[0m \u001b[0m_ensure_index\u001b[0m\u001b[1;33m(\u001b[0m\u001b[0mcolumns\u001b[0m\u001b[1;33m)\u001b[0m\u001b[1;33m\u001b[0m\u001b[0m\n\u001b[0;32m    371\u001b[0m \u001b[1;33m\u001b[0m\u001b[0m\n",
      "\u001b[1;32md:\\project_tw\\anly\\venv\\lib\\site-packages\\pandas\\core\\frame.py\u001b[0m in \u001b[0;36m_to_arrays\u001b[1;34m(data, columns, coerce_float, dtype)\u001b[0m\n\u001b[0;32m   6282\u001b[0m     \u001b[1;32mif\u001b[0m \u001b[0misinstance\u001b[0m\u001b[1;33m(\u001b[0m\u001b[0mdata\u001b[0m\u001b[1;33m[\u001b[0m\u001b[1;36m0\u001b[0m\u001b[1;33m]\u001b[0m\u001b[1;33m,\u001b[0m \u001b[1;33m(\u001b[0m\u001b[0mlist\u001b[0m\u001b[1;33m,\u001b[0m \u001b[0mtuple\u001b[0m\u001b[1;33m)\u001b[0m\u001b[1;33m)\u001b[0m\u001b[1;33m:\u001b[0m\u001b[1;33m\u001b[0m\u001b[0m\n\u001b[0;32m   6283\u001b[0m         return _list_to_arrays(data, columns, coerce_float=coerce_float,\n\u001b[1;32m-> 6284\u001b[1;33m                                dtype=dtype)\n\u001b[0m\u001b[0;32m   6285\u001b[0m     \u001b[1;32melif\u001b[0m \u001b[0misinstance\u001b[0m\u001b[1;33m(\u001b[0m\u001b[0mdata\u001b[0m\u001b[1;33m[\u001b[0m\u001b[1;36m0\u001b[0m\u001b[1;33m]\u001b[0m\u001b[1;33m,\u001b[0m \u001b[0mcollections\u001b[0m\u001b[1;33m.\u001b[0m\u001b[0mMapping\u001b[0m\u001b[1;33m)\u001b[0m\u001b[1;33m:\u001b[0m\u001b[1;33m\u001b[0m\u001b[0m\n\u001b[0;32m   6286\u001b[0m         return _list_of_dict_to_arrays(data, columns,\n",
      "\u001b[1;32md:\\project_tw\\anly\\venv\\lib\\site-packages\\pandas\\core\\frame.py\u001b[0m in \u001b[0;36m_list_to_arrays\u001b[1;34m(data, columns, coerce_float, dtype)\u001b[0m\n\u001b[0;32m   6361\u001b[0m         \u001b[0mcontent\u001b[0m \u001b[1;33m=\u001b[0m \u001b[0mlist\u001b[0m\u001b[1;33m(\u001b[0m\u001b[0mlib\u001b[0m\u001b[1;33m.\u001b[0m\u001b[0mto_object_array\u001b[0m\u001b[1;33m(\u001b[0m\u001b[0mdata\u001b[0m\u001b[1;33m)\u001b[0m\u001b[1;33m.\u001b[0m\u001b[0mT\u001b[0m\u001b[1;33m)\u001b[0m\u001b[1;33m\u001b[0m\u001b[0m\n\u001b[0;32m   6362\u001b[0m     return _convert_object_array(content, columns, dtype=dtype,\n\u001b[1;32m-> 6363\u001b[1;33m                                  coerce_float=coerce_float)\n\u001b[0m\u001b[0;32m   6364\u001b[0m \u001b[1;33m\u001b[0m\u001b[0m\n\u001b[0;32m   6365\u001b[0m \u001b[1;33m\u001b[0m\u001b[0m\n",
      "\u001b[1;32md:\\project_tw\\anly\\venv\\lib\\site-packages\\pandas\\core\\frame.py\u001b[0m in \u001b[0;36m_convert_object_array\u001b[1;34m(content, columns, coerce_float, dtype)\u001b[0m\n\u001b[0;32m   6418\u001b[0m             \u001b[1;31m# caller's responsibility to check for this...\u001b[0m\u001b[1;33m\u001b[0m\u001b[1;33m\u001b[0m\u001b[0m\n\u001b[0;32m   6419\u001b[0m             raise AssertionError('%d columns passed, passed data had %s '\n\u001b[1;32m-> 6420\u001b[1;33m                                  'columns' % (len(columns), len(content)))\n\u001b[0m\u001b[0;32m   6421\u001b[0m \u001b[1;33m\u001b[0m\u001b[0m\n\u001b[0;32m   6422\u001b[0m     \u001b[1;31m# provide soft conversion of object dtypes\u001b[0m\u001b[1;33m\u001b[0m\u001b[1;33m\u001b[0m\u001b[0m\n",
      "\u001b[1;31mAssertionError\u001b[0m: 8 columns passed, passed data had 7 columns"
     ]
    }
   ],
   "source": [
    "import numpy as np\n",
    "import pandas as pd\n",
    "import random\n",
    "\n",
    "students_table = pd.read_csv('./data/students_pre.csv')\n",
    "total_schedule_table = pd.read_csv('./data/total_schedule.csv')\n",
    "exam_table = pd.read_csv('./data/example_pre.csv')\n",
    "know_schedule_table = pd.read_csv('./data/knowledge_schedule.csv')\n",
    "# 放弃学习机率， 大于该数则停止\n",
    "give_up_prob = 0.8\n",
    "random.seed(1)\n",
    "\n",
    "def gen_students_learn_trace(stu_id):\n",
    "    learn_trace = []\n",
    "    student = students_table[students_table.id == stu_id]\n",
    "    student_level = student.level.item()\n",
    "    total_schedule = total_schedule_table[total_schedule_table.level==student_level]\n",
    "    t_knowledge_lists = total_schedule.knowledge.item().replace('[','').replace(']','').strip().split(',')\n",
    "    for s_know_id in t_knowledge_lists:\n",
    "        know_id = int(s_know_id)\n",
    "        knowledge_lists = know_schedule_table[(know_schedule_table.knowledge==know_id) & \n",
    "                                              (know_schedule_table.student_level==student_level)]\n",
    "        \n",
    "        knowledge = knowledge_lists.iloc[random.randint(0, len(knowledge_lists) -1 )]\n",
    "        difficulty = 0 if student_level == 0 else student_level-1\n",
    "        exam_lists = exam_table[(exam_table.knowledge==know_id) & (exam_table.difficulty==difficulty)]\n",
    "        exam_lists = exam_lists.sample(min(knowledge.exam_num.item(), len(exam_lists)))\n",
    "        exam_lists['exam_time'] = np.random.randint(1,5,len(exam_lists))\n",
    "        exam_times = exam_lists['exam_time'].sum()\n",
    "        exam_lists['answer'] = np.random.randint(0,2,len(exam_lists))\n",
    "        exam_number = len(exam_lists['answer'])\n",
    "        exam_right_number = len(exam_lists[exam_lists.answer==1])\n",
    "        student_exam = exam_lists[['id','exam_time','answer']].to_csv(header=False,sep=',',line_terminator='|',index=False)\n",
    "        \n",
    "        #   学生ID， 知识点ID（0:'小数乘法', 1:'小数除法'）， 知识点学习计划ID，资源学习时长，\n",
    "        learn_detail = [stu_id, know_id, knowledge.id.item(), random.randint(20,30),\n",
    "                        student_exam, exam_times,exam_number, exam_right_number]\n",
    "        learn_trace.append(learn_detail)\n",
    "        \n",
    "        if random.random() >= give_up_prob:\n",
    "            break;\n",
    "\n",
    "    return learn_trace\n",
    "\n",
    "# print(gen_students_learn_trace(4))\n",
    "def gen_all_students_learn_trace():\n",
    "    all_trace = []\n",
    "    for idx in range(1,len(students_table)):\n",
    "        trace = gen_students_learn_trace(idx)\n",
    "#         print('idx --> {} : {}'.format(idx, trace))\n",
    "        all_trace.extend(trace)\n",
    "\n",
    "    resources = pd.DataFrame(all_trace, columns=['stu_id','know_schdule_id',\n",
    "                                                 'knowledge_id','learn_time',\n",
    "                                                 'exam_detail(id,time,answer)',\n",
    "                                                 'exam_time','exam_number','exam_right_number'])\n",
    "    return resources\n",
    "\n",
    "resources = gen_all_students_learn_trace()\n",
    "# 将学习时间改成正向分布\n",
    "resources['learn_time'] = np.random.normal(20,2, len(resources)).astype(np.int)\n",
    "file_name = './data/student_learn_trace.csv'\n",
    "resources.to_csv(file_name, index=None)"
   ]
  },
  {
   "cell_type": "code",
   "execution_count": 41,
   "metadata": {},
   "outputs": [
    {
     "data": {
      "text/html": [
       "<div>\n",
       "<style scoped>\n",
       "    .dataframe tbody tr th:only-of-type {\n",
       "        vertical-align: middle;\n",
       "    }\n",
       "\n",
       "    .dataframe tbody tr th {\n",
       "        vertical-align: top;\n",
       "    }\n",
       "\n",
       "    .dataframe thead th {\n",
       "        text-align: right;\n",
       "    }\n",
       "</style>\n",
       "<table border=\"1\" class=\"dataframe\">\n",
       "  <thead>\n",
       "    <tr style=\"text-align: right;\">\n",
       "      <th></th>\n",
       "      <th>id</th>\n",
       "      <th>name</th>\n",
       "      <th>school</th>\n",
       "      <th>grade</th>\n",
       "      <th>sex</th>\n",
       "      <th>age</th>\n",
       "      <th>math_score</th>\n",
       "      <th>eng_score</th>\n",
       "      <th>chi_score</th>\n",
       "      <th>level</th>\n",
       "    </tr>\n",
       "  </thead>\n",
       "  <tbody>\n",
       "    <tr>\n",
       "      <th>3</th>\n",
       "      <td>4</td>\n",
       "      <td>于最打</td>\n",
       "      <td>2</td>\n",
       "      <td>1</td>\n",
       "      <td>0</td>\n",
       "      <td>8.0</td>\n",
       "      <td>91.0</td>\n",
       "      <td>92.0</td>\n",
       "      <td>81.0</td>\n",
       "      <td>4</td>\n",
       "    </tr>\n",
       "  </tbody>\n",
       "</table>\n",
       "</div>"
      ],
      "text/plain": [
       "   id name  school  grade  sex  age  math_score  eng_score  chi_score  level\n",
       "3   4  于最打       2      1    0  8.0        91.0       92.0       81.0      4"
      ]
     },
     "execution_count": 41,
     "metadata": {},
     "output_type": "execute_result"
    }
   ],
   "source": [
    "students_table[students_table.id == 4]\n",
    "# exam_table"
   ]
  },
  {
   "cell_type": "markdown",
   "metadata": {},
   "source": []
  }
 ],
 "metadata": {
  "kernelspec": {
   "display_name": "Python 3",
   "language": "python",
   "name": "python3"
  },
  "language_info": {
   "codemirror_mode": {
    "name": "ipython",
    "version": 3
   },
   "file_extension": ".py",
   "mimetype": "text/x-python",
   "name": "python",
   "nbconvert_exporter": "python",
   "pygments_lexer": "ipython3",
   "version": "3.6.3"
  }
 },
 "nbformat": 4,
 "nbformat_minor": 2
}
