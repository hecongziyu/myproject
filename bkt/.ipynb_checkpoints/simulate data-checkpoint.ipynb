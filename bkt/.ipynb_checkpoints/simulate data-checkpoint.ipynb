{
 "cells": [
  {
   "cell_type": "code",
   "execution_count": 13,
   "metadata": {},
   "outputs": [
    {
     "name": "stderr",
     "output_type": "stream",
     "text": [
      "d:\\project_tw\\twedu\\venv37\\lib\\site-packages\\IPython\\core\\interactiveshell.py:3058: DtypeWarning: Columns (17) have mixed types. Specify dtype option on import or set low_memory=False.\n",
      "  interactivity=interactivity, compiler=compiler, result=result)\n"
     ]
    }
   ],
   "source": [
    "import pandas as pd\n",
    "import numpy as np\n",
    "\n",
    "df=pd.read_csv('./data/skill_builder_data.csv', encoding='ISO-8859-1')\n"
   ]
  },
  {
   "cell_type": "code",
   "execution_count": 48,
   "metadata": {},
   "outputs": [],
   "source": [
    "skill_name = 'Pythagorean Theorem'\n",
    "skill = df[(df['skill_name']==skill_name) & (df['original'] == 1)]\n",
    "df.sort_values('order_id', inplace=True)\n",
    "# convert from 0=incorrect,1=correct to 1=incorrect,2=correct\n",
    "skill.loc[:,'correct']+=1\n",
    "# filter out garbage\n",
    "df3=skill[skill['correct']!=3]\n",
    "data=df3['correct'].values\n",
    "# find out how many problems per user, form the start/length arrays\n",
    "steps=df3.groupby('user_id')['problem_id'].count().values\n",
    "lengths=np.copy(steps)\n",
    "# print(steps)\n",
    "steps[0]=0\n",
    "steps[1]=1\n",
    "for i in range(2,steps.size):\n",
    "    steps[i]=steps[i-1]+lengths[i-2]\n",
    "starts=np.delete(steps,0)\n",
    "resources=[1]*data.size\n",
    "resource=np.asarray(resources)\n",
    "  \n",
    "stateseqs=np.copy(resource)\n",
    "lengths=np.resize(lengths,lengths.size-1)\n",
    "Data={}\n",
    "Data[\"stateseqs\"]=np.asarray([stateseqs],dtype='int32')\n",
    "Data[\"data\"]=np.asarray([data],dtype='int32')\n",
    "Data[\"starts\"]=np.asarray(starts)\n",
    "Data[\"lengths\"]=np.asarray(lengths)\n",
    "Data[\"resources\"]=resource\n",
    "  \n",
    "# data\n"
   ]
  },
  {
   "cell_type": "code",
   "execution_count": 50,
   "metadata": {},
   "outputs": [
    {
     "data": {
      "text/plain": [
       "6611"
      ]
     },
     "execution_count": 50,
     "metadata": {},
     "output_type": "execute_result"
    }
   ],
   "source": [
    "# print(df3[df3['user_id']==64525])\n",
    "# print(df3.sort_values('user_id'))\n",
    "# print(lengths)\n",
    "data.size\n",
    "# steps"
   ]
  }
 ],
 "metadata": {
  "kernelspec": {
   "display_name": "Python 3",
   "language": "python",
   "name": "python3"
  },
  "language_info": {
   "codemirror_mode": {
    "name": "ipython",
    "version": 3
   },
   "file_extension": ".py",
   "mimetype": "text/x-python",
   "name": "python",
   "nbconvert_exporter": "python",
   "pygments_lexer": "ipython3",
   "version": "3.7.4"
  },
  "toc": {
   "base_numbering": 1,
   "nav_menu": {},
   "number_sections": true,
   "sideBar": true,
   "skip_h1_title": false,
   "title_cell": "Table of Contents",
   "title_sidebar": "Contents",
   "toc_cell": false,
   "toc_position": {},
   "toc_section_display": true,
   "toc_window_display": false
  },
  "varInspector": {
   "cols": {
    "lenName": 16,
    "lenType": 16,
    "lenVar": 40
   },
   "kernels_config": {
    "python": {
     "delete_cmd_postfix": "",
     "delete_cmd_prefix": "del ",
     "library": "var_list.py",
     "varRefreshCmd": "print(var_dic_list())"
    },
    "r": {
     "delete_cmd_postfix": ") ",
     "delete_cmd_prefix": "rm(",
     "library": "var_list.r",
     "varRefreshCmd": "cat(var_dic_list()) "
    }
   },
   "types_to_exclude": [
    "module",
    "function",
    "builtin_function_or_method",
    "instance",
    "_Feature"
   ],
   "window_display": false
  }
 },
 "nbformat": 4,
 "nbformat_minor": 2
}
