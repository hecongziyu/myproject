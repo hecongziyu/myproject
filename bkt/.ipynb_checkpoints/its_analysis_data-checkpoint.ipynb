{
 "cells": [
  {
   "cell_type": "markdown",
   "metadata": {
    "heading_collapsed": true
   },
   "source": [
    "# 一、学生分类"
   ]
  },
  {
   "cell_type": "code",
   "execution_count": 33,
   "metadata": {
    "hidden": true
   },
   "outputs": [
    {
     "data": {
      "image/png": "[encoded data removed]",
      "text/plain": [
       "<Figure size 432x288 with 1 Axes>"
      ]
     },
     "metadata": {},
     "output_type": "display_data"
    }
   ],
   "source": [
    "# MACHINE LEARNING  Classify\n",
    "import numpy as np\n",
    "import pandas as pd\n",
    "file_name = './data/students_pre.csv'\n",
    "students = pd.read_csv(file_name)\n",
    "\n",
    "# kmeans cluster  https://blog.floydhub.com/introduction-to-k-means-clustering-in-python-with-scikit-learn/\n",
    "from sklearn.cluster import KMeans\n",
    "X = np.array(students.iloc[:,1:8])\n",
    "kmeans = KMeans(n_clusters=5, random_state=0,max_iter=10000).fit(X)\n",
    "\n",
    "# 分类结果\n",
    "Y = kmeans.predict(X)\n",
    "students['label'] = Y\n",
    "# 三个成绩的平均分\n",
    "students['aver'] = students.loc[:,['math_score','eng_score','chi_score']].apply(np.mean, axis=1)\n",
    "#  图形展示结果\n",
    "from itertools import cycle\n",
    "import pylab as pl\n",
    "import seaborn as sns\n",
    "\n",
    "# by school and age\n",
    "sns.set(style=\"whitegrid\", color_codes=True)\n",
    "# sns.stripplot(x=\"school\", y=\"aver\", hue=\"label\", data=students, jitter=True);\n",
    "sns.swarmplot(x=\"school\", y=\"aver\", hue=\"label\", data=students);\n",
    "\n",
    "\n"
   ]
  },
  {
   "cell_type": "code",
   "execution_count": 26,
   "metadata": {
    "hidden": true
   },
   "outputs": [
    {
     "data": {
      "text/plain": [
       "0    88.333333\n",
       "1    94.000000\n",
       "2    89.000000\n",
       "3    87.666667\n",
       "4    95.666667\n",
       "5    92.000000\n",
       "6    91.666667\n",
       "7    88.333333\n",
       "8    90.000000\n",
       "9    87.000000\n",
       "dtype: float64"
      ]
     },
     "execution_count": 26,
     "metadata": {},
     "output_type": "execute_result"
    }
   ],
   "source": [
    "sss = students.head(10)\n",
    "# print(sss)\n",
    "students.loc[:,['math_score','eng_score','chi_score']].apply(np.mean, axis=1)"
   ]
  },
  {
   "cell_type": "markdown",
   "metadata": {},
   "source": [
    "# 二、资源分类"
   ]
  },
  {
   "cell_type": "markdown",
   "metadata": {},
   "source": [
    "# 三、学习跟踪"
   ]
  },
  {
   "cell_type": "markdown",
   "metadata": {},
   "source": [
    "场景描述：\n",
    "    1)、学生A进入在线学习平台，开始执行其学习计划， 按知识点顺序学习\n",
    "    2)、每个知识点完成后记录知识点学习情况，包括：资源学习时长、测试时长、测试题数、测试是否正确\n",
    "    3)、ITS 评估：\n",
    "            a. 知识点掌握情况 (know, unknow)\n",
    "            b. 学习状态（continue, discard)      预估是否继续学习\n",
    "            c. 学习能力（normal,  good, vgood）\n",
    "    4)、调整学习计划\n",
    "            a. 根据学生学习能力调整学习计划\n",
    "            "
   ]
  },
  {
   "cell_type": "markdown",
   "metadata": {},
   "source": [
    "## 3.1 数据统计、分析"
   ]
  },
  {
   "cell_type": "markdown",
   "metadata": {},
   "source": [
    "### 1） 历史学习记录统计：\n",
    "\n",
    "a、每个知识点学习完成人数\n",
    "\n",
    "b、每个级别学生知识点完成人数\n",
    "     "
   ]
  },
  {
   "cell_type": "code",
   "execution_count": 5,
   "metadata": {},
   "outputs": [
    {
     "data": {
      "image/png": "[encoded data removed]",
      "text/plain": [
       "<Figure size 432x288 with 1 Axes>"
      ]
     },
     "metadata": {},
     "output_type": "display_data"
    }
   ],
   "source": [
    "# 图表   what happend\n",
    "import numpy as np\n",
    "import pandas as pd\n",
    "from itertools import cycle\n",
    "import pylab as pl\n",
    "import seaborn as sns\n",
    "import matplotlib.pyplot as plt\n",
    "\n",
    "stu_learn_trace = pd.read_csv('./data/student_learn_trace.csv')\n",
    "stu_learn_trace[0:5]\n",
    "schedult_knowledge_count = stu_learn_trace.groupby(['know_schdule_id'])['stu_id'].count().reset_index(name=\"count\")\n",
    "\n",
    "# 1、显示每个知识点的学习人数\n",
    "sns.set(style=\"whitegrid\", color_codes=True)\n",
    "sns.barplot(x=\"know_schdule_id\",y=\"count\", data=schedult_knowledge_count)\n",
    "\n",
    "# 2、显示每个等级学生的学习情况\n",
    "train_data = stu_learn_trace.loc[stu_learn_trace.know_schdule_id==0]\n",
    "train_data_score =  train_data.exam_right_number / train_data.exam_number\n",
    "train_data_flag = train_data_score.apply(lambda x: 0 if x < 0.5 else 1 )\n"
   ]
  },
  {
   "cell_type": "code",
   "execution_count": 18,
   "metadata": {},
   "outputs": [
    {
     "data": {
      "text/plain": [
       "0      182,3,0|2148,4,1|1020,3,0|2246,1,0|590,1,0|341...\n",
       "1      1814,1,1|1462,2,1|495,1,0|34,3,1|965,2,0|1033,...\n",
       "6           3134,2,0|3416,2,1|712,2,0|2544,2,1|1462,1,1|\n",
       "11         2990,2,0|2185,1,0|1759,4,1|3203,1,1|3590,3,0|\n",
       "12     1470,1,1|1489,4,1|672,2,1|3163,1,0|1492,3,0|88...\n",
       "17     509,4,0|2094,2,0|2434,2,1|3465,2,1|2960,2,1|16...\n",
       "18         1400,3,1|1401,2,0|2942,4,0|2123,1,0|3530,3,0|\n",
       "19     2023,3,0|3119,4,0|1880,2,1|93,1,0|37,1,0|3411,...\n",
       "21     487,4,1|1839,4,0|3016,2,1|514,2,1|3302,2,1|326...\n",
       "26     2580,1,0|2249,4,0|2550,1,1|3469,1,1|36,1,1|297...\n",
       "31     3329,3,1|1168,4,0|418,1,1|1177,1,0|1591,1,1|27...\n",
       "33     1243,2,1|1791,3,1|28,3,0|495,1,0|797,1,1|2894,...\n",
       "38     861,2,0|797,4,1|712,1,0|2942,2,0|688,4,1|2646,...\n",
       "39     457,4,0|1748,3,1|3378,4,1|758,3,1|1538,2,0|135...\n",
       "41     3619,4,0|1713,2,0|3416,2,1|1283,1,0|3067,3,0|2...\n",
       "46     3384,2,1|2688,2,0|1379,3,1|37,2,0|1772,2,1|260...\n",
       "51     306,3,1|1572,2,1|2105,3,1|1923,4,1|2705,2,0|19...\n",
       "56     1523,2,0|3292,4,0|1486,3,0|1173,2,0|1782,2,1|3...\n",
       "61     509,4,0|2936,4,0|1411,1,0|2176,4,0|1017,1,0|34...\n",
       "62     3418,1,1|2743,1,0|117,1,1|691,4,1|817,1,0|1928...\n",
       "63     2303,2,0|1530,3,0|860,2,0|2759,2,1|2822,3,0|32...\n",
       "68     864,1,0|182,3,1|3332,1,0|1792,3,1|3614,2,0|967...\n",
       "73         2544,2,1|2342,4,1|1283,2,0|2087,2,0|3134,2,0|\n",
       "74     1600,1,1|3511,1,1|1406,1,1|51,4,0|1644,4,1|185...\n",
       "77     986,3,0|2921,3,1|1982,1,0|1748,3,0|771,2,0|724...\n",
       "78     1849,4,1|1654,2,1|498,3,1|233,3,1|3080,2,0|104...\n",
       "83     3416,1,1|2716,1,1|1496,3,0|3410,4,1|1639,4,0|5...\n",
       "86     1033,3,0|1401,1,1|79,2,1|310,1,1|3435,4,0|1202...\n",
       "90           79,1,1|1040,1,1|2257,3,1|1851,1,1|2826,3,0|\n",
       "91     2538,4,1|2147,2,0|2176,4,0|947,2,0|898,3,0|163...\n",
       "                             ...                        \n",
       "222          2649,1,1|3304,3,0|712,4,0|2257,3,1|451,1,0|\n",
       "227    318,2,0|3587,1,1|3132,2,0|2520,2,0|2232,1,0|10...\n",
       "232          2921,1,1|3587,4,0|760,4,1|2228,2,1|301,3,1|\n",
       "233            2303,3,1|441,4,0|49,3,0|153,3,1|2688,4,1|\n",
       "235         3015,4,1|3260,4,0|1291,4,0|560,2,1|2419,2,1|\n",
       "240    2087,1,1|51,4,0|1713,3,1|1842,3,1|1851,4,1|226...\n",
       "245    1853,1,1|1634,4,1|2248,1,0|2717,2,0|1130,2,1|1...\n",
       "250    965,4,0|1149,4,0|1639,3,1|2100,2,0|1955,1,0|12...\n",
       "254    2942,4,1|1842,3,1|1547,4,0|3461,3,0|2826,4,0|1...\n",
       "255    1393,2,1|36,4,1|3158,4,0|3326,2,0|2174,3,0|157...\n",
       "260        2732,3,0|1606,2,0|3586,1,0|1851,1,0|2123,4,0|\n",
       "262    3056,2,0|3619,4,0|1232,4,1|2716,1,0|495,4,1|35...\n",
       "267    3555,3,0|1418,3,1|3300,3,1|346,1,0|306,3,1|140...\n",
       "268    0,3,1|1549,1,0|1214,4,0|2690,1,1|2554,1,0|293,...\n",
       "270    3132,1,1|151,1,0|3497,3,0|1455,2,0|758,2,0|222...\n",
       "275    2392,2,1|3105,1,1|3410,4,1|3005,3,1|369,4,1|25...\n",
       "279    2087,1,0|665,2,0|925,4,1|2779,2,0|2732,2,1|226...\n",
       "284    1393,2,0|2105,4,0|177,4,0|3133,4,1|2187,4,0|35...\n",
       "288    891,1,0|2471,2,0|2900,2,0|77,4,1|1880,2,0|0,1,...\n",
       "293        2157,3,1|2180,2,1|2724,1,0|3642,3,1|2386,1,1|\n",
       "298    775,1,0|2316,4,1|3203,3,0|1530,1,0|77,2,0|164,...\n",
       "300    2207,2,1|2018,1,1|3435,1,1|2732,4,1|3316,2,0|2...\n",
       "305    2087,3,0|28,2,1|2732,3,0|3435,3,0|2039,3,0|314...\n",
       "307    898,4,1|500,1,1|2458,4,0|952,2,1|2358,3,0|1253...\n",
       "310         1851,3,1|3056,1,1|2503,1,1|588,2,1|3211,2,0|\n",
       "315        2690,4,0|2238,1,1|1501,3,0|2990,4,0|1457,1,0|\n",
       "318    2636,4,1|3299,1,1|1509,2,1|180,2,1|2539,1,0|66...\n",
       "321    3332,1,1|1355,4,0|179,4,1|518,3,0|2239,4,1|287...\n",
       "322    1143,3,0|3016,2,1|1140,4,0|1457,2,0|1390,3,1|2...\n",
       "326    1892,1,1|1547,3,0|1243,2,0|2649,3,1|3435,1,1|2...\n",
       "Name: exam_detail(id,time,answer), Length: 99, dtype: object"
      ]
     },
     "execution_count": 18,
     "metadata": {},
     "output_type": "execute_result"
    }
   ],
   "source": [
    "train_data.iloc[:,4]"
   ]
  },
  {
   "cell_type": "markdown",
   "metadata": {},
   "source": [
    "## 3.2 模型"
   ]
  },
  {
   "cell_type": "markdown",
   "metadata": {},
   "source": [
    "1、深度跟踪模型  RNN\n",
    "   状态： \n"
   ]
  },
  {
   "cell_type": "markdown",
   "metadata": {},
   "source": [
    " ### 1） 知识点难度评估"
   ]
  },
  {
   "cell_type": "code",
   "execution_count": 13,
   "metadata": {},
   "outputs": [
    {
     "name": "stdout",
     "output_type": "stream",
     "text": [
      "1.0\n"
     ]
    }
   ],
   "source": [
    "# bayesian knowledge tracing\n",
    "import numpy as np\n",
    "import pandas as pd\n",
    "from hmmlearn import hmm\n",
    "np.random.seed(42)\n",
    "p_T = 0.70       #  学生从不会到会的转移概率\n",
    "p_F = 0.00       #  学生知识点忘记的概率\n",
    "p_G = 0.10       #  学生在不会的状态下猜中的概率\n",
    "p_S = 0.03       #  学生在会的状态下误答的概率\n",
    "p_L0 = 0.10      # 学生最初掌握知识点的概率\n",
    "\n",
    "# a. 先通过预测试，估算p_L0 (参看：http://www.doc88.com/p-7863820838014.html, 第四页),  \n",
    "#    得到p_L0后，设置p_Ln=1, 计算p_T 越小证明该知识点难度较大， p_T 越大则证明该知识点难度较小\n",
    "#    注意：下面总分是根据多个学生预测试结果做的p_L0,p_T的预测，是否能做为个性化学生进入后计算其p_L0，再去动态调整p_T等相关参数\n",
    "train_mean = train_data_score.mean() \n",
    "p_T = (train_mean - p_L0) / (1 - p_L0) \n",
    "\n",
    "# b. 根据观察测试结果， 极大似然 p_L0, p_S, p_G, p_T\n",
    "\n",
    "\n",
    "\n",
    "# b. 学习完后测试， 简单计算，没有估算 p_G, p_S, 预定义了BKT的 p_L0,  没有管p_S, p_G\n",
    "#     如果测试 p_Ln 概率没有达到 0.95， 则说明学生没有完全掌握， 然后再求解 p_T, 根据 p_T结果做以下两方面事：\n",
    "#     1）p_Ln > 0.6  and p_T > 0.6，则说明学生学习基本及格， 只是授课时间不够，增加学习时间。 2）p_Ln < 0.6 \n",
    "#         and p_T < 0.6, 知识点难度较大， 需分解知识点。   另：注意是否大于0.6这个需根据实际情况做调整。\n",
    "\n",
    "\n",
    "\n",
    "# c. \n",
    "\n"
   ]
  },
  {
   "cell_type": "markdown",
   "metadata": {},
   "source": [
    " ###  2） 学习状态评估模型"
   ]
  },
  {
   "cell_type": "code",
   "execution_count": null,
   "metadata": {},
   "outputs": [],
   "source": [
    "# 方法 一： 传统的Bayesian方法\n",
    "# Input:  knowledge id,  learn time,  example time, example correct,  rank(排名) \n",
    "# Output: status: continue,  discard\n",
    "\n",
    "\n"
   ]
  },
  {
   "cell_type": "markdown",
   "metadata": {},
   "source": [
    "### 3) 学习能力评估"
   ]
  },
  {
   "cell_type": "markdown",
   "metadata": {},
   "source": [
    "# 参考资料"
   ]
  },
  {
   "cell_type": "markdown",
   "metadata": {},
   "source": [
    "1、学习总计划完成概率, 统计。 \n",
    "\n",
    "    学习状态： learning,  discard\n",
    "\n",
    "    知识点状态：knowing, not knowing\n",
    "\n",
    "\n",
    "状态描述：\n",
    "P(Ln) :  该知识点  (已掌握该知识点， 未掌握该知识点)\n",
    "P(Tn) :  该知识点学习的概率  \n",
    "P(S) :   已知该知识点，但测试时粗心错误概率\n",
    "P(G) :   没有掌握该知识点，但测试时猜中答案概率\n",
    "Qn :     每个知识点完成的情况，即观测对象（学习时长，测试结果）\n",
    "\n",
    "         know        unknow\n",
    "P(Ln) = P(Ln-1)  +  (1 - P(Ln-1)) * P(Tn)\n",
    "\n",
    "P(Tn) = P(T|Qn-1)\n",
    "\n",
    "L states = ['know','unknow']\n",
    "\n",
    "T states = ['learning','discard']\n"
   ]
  },
  {
   "cell_type": "markdown",
   "metadata": {},
   "source": [
    "参考资料：\n",
    "\n",
    "0） http://www.cs.williams.edu/~iris/res/bkt/ ！！！！！！！！！！！！！！！\n",
    "\n",
    "1) http://educationaldatamining.org/EDM2018/proceedings/\n",
    "\n",
    "2) http://www.educationaldatamining.org/EDM2017/proc_files/papers/paper_72.pdf Sequence Modelling For Analysing Student Interactionwith Educational Systems   \n",
    "\n",
    "2) http://educationaldatamining.org/files/conferences/EDM2018/papers/EDM2018_paper_147.pdf Predicting Student Performance Basedon Online Study Habits: A Study of Blended Courses \n",
    "\n",
    "3) http://www.educationaldatamining.org/files/conferences/EDM2018/papers/EDM2018_paper_174.pdf Filtered Time Series Analyses of Student Problem-Solving Behaviorsin Game-based Learning\n",
    "\n",
    "4）http://www.educationaldatamining.org/EDM2017/proc_files/papers/paper_141.pdf Student Learning Strategies and Behaviors to Predict Success in an Online Adaptive Mathematics Tutoring System\n",
    "\n",
    "5) http://educationaldatamining.org/files/conferences/EDM2018/papers/EDM2018_paper_60.pdf Student Performance Prediction by DiscoveringInter-Activity Relations !!!!!!!!!\n",
    "\n",
    "4) http://educationaldatamining.org/files/conferences/EDM2018/papers/EDM2018_paper_158.pdf Knowledge Tracing Using the Brain\n",
    "\n",
    "5) http://educationaldatamining.org/files/conferences/EDM2018/papers/EDM2018_paper_139.pdf Using Student Logs to Build Bayesian Models of StudentKnowledge and Skills\n",
    "\n",
    "6) http://educationaldatamining.org/files/conferences/EDM2018/papers/EDM2018_paper_100.pdf Modeling Hint-Taking Behavior and Knowledge State ofStudents with Multi-Task Learning\n",
    "\n",
    "7) http://educationaldatamining.org/files/conferences/EDM2018/papers/EDM2018_paper_122.pdf Understanding Student Procrastination(拖延) via Mixture Models\n",
    "\n",
    "8) http://educationaldatamining.org/files/conferences/EDM2018/papers/EDM2018_paper_52.pdf Tracking Behavioral Patterns among Students in an OnlineEducational System     ！！！！！！！！！\n",
    "\n",
    "9) http://www.blackarbs.com/blog/introduction-hidden-markov-models-python-networkx-sklearn/2/9/2017\n",
    "\n",
    "10) https://www2.eecs.berkeley.edu/Pubs/TechRpts/2015/EECS-2015-98.pdf   ！！！！！！！  P18\n",
    "\n",
    "11) http://ceur-ws.org/Vol-1183/bkt20y_paper10.pdf Expanding Knowledge Tracing to Prediction of Gaming Behaviors\n",
    "\n",
    "12) https://www.math.vu.nl/~sbhulai/publications/data_analytics2018c.pdf\n",
    "\n",
    "13)  http://ceur-ws.org/Vol-1009/0402.pdf Simulated Students, Mastery Learning, and Improved Learning Curves for Real-World Cognitive Tutors  ！！！！！！！！！！！\n",
    "\n",
    "14) http://www.educationaldatamining.org/EDM2015/uploads/papers/paper_96.pdf  Spectral Bayesian Knowledge Tracing ！！！！！！\n",
    "\n",
    "15) http://www.educationaldatamining.org/EDM2017/proc_files/papers/paper_110.pdf   ！！！！！！！！\n",
    "\n",
    "16) http://www.educationaldatamining.org/EDM2017/proc_files/papers/paper_72.pdf Sequence Modelling For Analysing Student Interactionwith Educational Systems  !!!\n",
    "\n",
    "17) http://www.educationaldatamining.org/EDM2017/proc_files/papers/paper_35.pdf Task and Timing: Separating Proceduraland Tactical Knowledge in Student Models\n",
    "\n",
    "18) http://educationaldatamining.org/files/conferences/EDM2018/papers/EDM2018_paper_174.pdf Filtered Time Series Analyses of Student Problem-Solving Behaviorsin Game-based Learning\n",
    "\n",
    "\n",
    "20) http://www.educationaldatamining.org/files/conferences/EDM2018/papers/EDM2018_paper_13.pdf Document Chunking and Learning Objective Generationfor Instruction Design   ！！！！！！！！\n",
    "\n",
    "21) http://educationaldatamining.org/files/conferences/EDM2018/papers/EDM2018_paper_139.pdf sing Student Logs to Build Bayesian Models of StudentKnowledge and Skills\n",
    "\n",
    "22) http://educationaldatamining.org/files/conferences/EDM2018/papers/EDM2018_paper_65.pdf Modeling the Effects of Students’ Interactions withImmersive Simulations using Markov Switching Systems ！！！！！！！！！\n",
    "\n",
    "23) https://arxiv.org/pdf/1811.03388.pdf  Knowledge Tracing Machines: Factorization Machines for Knowledge Tracing  ！！！！！！！\n",
    "\n",
    "24) https://www.docin.com/p-1149704472.html  基于贝叶斯知识跟踪模型的慕课学生评价\n",
    "\n",
    "25) https://www.docin.com/p-1061297498.html?docfrom=rrela \t基于贝叶斯网络的学生学习评价模型研究\n",
    "\n",
    "26) https://www.docin.com/p-764417569.html?docfrom=rrela  基于贝叶斯网络的NBA比分预测和球员能力评估模型\n",
    "\n",
    "27) http://www.upenn.edu/learninganalytics/MOOT/slides/W004V002.pdf Knowledge Inference: Bayesian Knowledge Tracing ！！！！！！！\n",
    "\n",
    "28) https://github.com/junchenfeng/LTP\n",
    "\n",
    "29) http://www.columbia.edu/~rsb2162/paper_143.pdf\n",
    "\n",
    "30) https://github.com/myudelson/hmm-scalable/blob/master/readme.md\n",
    "\n",
    "31) https://github.com/myudelson/hmm-scalable\n",
    "\n",
    "32) http://blog.sina.com.cn/s/blog_8267db980102wpvz.html HMM进阶（6）——Baum-Welch算法\n",
    "\n",
    "33) https://blog.csdn.net/u014688145/article/details/53046765?locationNum=7&fps=1 隐马尔可夫模型之Baum-Welch算法详解\n",
    "\n",
    "34) https://www.jianshu.com/p/c80ca0aa4213?utm_campaign=maleskine&utm_content=note&utm_medium=seo_notes&utm_source=recommendation 隐马尔可夫模型 - HMM的三个问题 - 概率计算问题\n",
    "\n",
    "35） https://www.jianshu.com/p/9cd8c2b74e9b 隐马尔可夫模型（HMM）攻略\n",
    "\n",
    "36) https://www.cnblogs.com/GuoJiaSheng/p/7099724.html Knowledge Tracing -- 基于贝叶斯的学生知识点追踪（BKT） BKT是对学生知识点的一个变化进行追踪，可以知道学生知识点的一个掌握情况变化。一般有个stop_policy准则，用于判断学生是否经过多轮的做题掌握了相应的知识点。\n",
    "\n",
    "37) https://blog.csdn.net/reallocing1/article/details/61203740 个性化学习实验室之使用IRT模型诊断学生知识点掌握程度\n",
    "\n",
    "38) http://www.columbia.edu/~ld208/APM_11.pdf\n",
    "\n",
    "39) https://education.uiowa.edu/sites/education.uiowa.edu/files/documents/centers/casma/publications/casma-research-report-35.pdf\n",
    "\n",
    "40) https://blog.csdn.net/Zoe_Su/article/details/84481651  Deep Knowledge Tracing (深度知识追踪)  !!!!!!!!\n",
    "\n",
    "41） http://www.doc88.com/p-7863820838014.html ！！！！！！！！！\n",
    "\n",
    "42)  http://www.educationaldatamining.org/EDM2016/proceedings/paper_62.pdf An Ensemble Method to Predict Student Performance in anOnline Math Learning Environment\n",
    "\n",
    "43) https://arxiv.org/pdf/1708.08744.pdf Machine Learning Based Student GradePrediction: A Case Study ！！！！\n",
    "\n",
    "44） https://blog.csdn.net/hohomi77/article/details/81331006 ！！！！\n",
    "\n",
    "45） https://blog.csdn.net/weixin_41504611/article/details/90108804\n",
    "\n",
    "46) https://blog.csdn.net/weixin_41504611/article/details/90108804   2019年一些新的知识追踪算法不完全整理\" 教育挖掘 tag: 知识追踪\n",
    "\n",
    "47) https://blog.csdn.net/bingo_csdn_/article/details/83757852  IRT模型学习小结\n",
    "\n",
    "48) http://www.doc88.com/p-9945635352366.html 基于深度学习的自适应学习的学生模型研究 ！！！！！！！\n",
    "\n",
    "49) http://cs230.stanford.edu/projects_spring_2018/reports/8289547.pdf\n",
    "\n",
    "50) https://www.cs.cmu.edu/~ggordon/yudelson-koedinger-gordon-individualized-bayesian-knowledge-tracing.pdf\n",
    "\n",
    "https://cn.bing.com/search?q=Individualized+BKT+&qs=n&form=QBLHCN&sp=-1&pq=individualized+bkt+&sc=8-19&sk=&cvid=100DF7BEC5B8484C8B2D6157DCE96F56"
   ]
  },
  {
   "cell_type": "code",
   "execution_count": null,
   "metadata": {},
   "outputs": [],
   "source": []
  }
 ],
 "metadata": {
  "kernelspec": {
   "display_name": "Python 3",
   "language": "python",
   "name": "python3"
  },
  "language_info": {
   "codemirror_mode": {
    "name": "ipython",
    "version": 3
   },
   "file_extension": ".py",
   "mimetype": "text/x-python",
   "name": "python",
   "nbconvert_exporter": "python",
   "pygments_lexer": "ipython3",
   "version": "3.7.4"
  },
  "toc": {
   "base_numbering": 1,
   "nav_menu": {},
   "number_sections": true,
   "sideBar": true,
   "skip_h1_title": false,
   "title_cell": "Table of Contents",
   "title_sidebar": "Contents",
   "toc_cell": false,
   "toc_position": {},
   "toc_section_display": true,
   "toc_window_display": false
  },
  "varInspector": {
   "cols": {
    "lenName": 16,
    "lenType": 16,
    "lenVar": 40
   },
   "kernels_config": {
    "python": {
     "delete_cmd_postfix": "",
     "delete_cmd_prefix": "del ",
     "library": "var_list.py",
     "varRefreshCmd": "print(var_dic_list())"
    },
    "r": {
     "delete_cmd_postfix": ") ",
     "delete_cmd_prefix": "rm(",
     "library": "var_list.r",
     "varRefreshCmd": "cat(var_dic_list()) "
    }
   },
   "types_to_exclude": [
    "module",
    "function",
    "builtin_function_or_method",
    "instance",
    "_Feature"
   ],
   "window_display": false
  }
 },
 "nbformat": 4,
 "nbformat_minor": 2
}
