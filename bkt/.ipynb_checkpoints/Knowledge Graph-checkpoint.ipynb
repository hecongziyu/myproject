{
 "cells": [
  {
   "cell_type": "raw",
   "metadata": {},
   "source": [
    "1、https://www.jianshu.com/p/2a38bdcc4e3f 知识图谱基础（一）-什么是知识图谱\n",
    "2、https://cloud.tencent.com/developer/article/1411619 [知识图谱]从在线教育数据中学习课程关系图\n",
    "3、https://fudaoquan.com/p/3607.html\n",
    "4、https://zhuanlan.zhihu.com/p/71128505 什么是知识图谱?              ！！！！！！！！！！！！！！！！！！\n",
    "5、https://zhuanlan.zhihu.com/p/75466388 BERT与知识图谱的结合——ERNIE模型浅析\n",
    "6、在线学习资源个性化推荐与学习路径规划研究》 wi-ml/doc 52） 《一种学习路径规划的模型及方法》 wi-ml/doc : 利用维基网络中概念的链接关系，建立了知识网络中节点的相互作用，结合新概念与学习者当前状态集合的节点关系，提出了一种学习路径的优化模型及方法 53）《A_Bayesian_approach_in_students'_performance_analysis》 wi-ml/doc 54）《lats16structured.pdf》 Structured Knowledge Tracing Models for Student Assessment on Coursera wi-ml/doc\n",
    "7、https://zhuanlan.zhihu.com/p/38056557 知识图谱的技术与应用\n",
    "8、https://www.jianshu.com/p/dd55686c1852 一文读懂知识图谱及其在K12中的应用\n",
    "9、http://www.doc88.com/p-2465055117219.html 教育领域知识图谱的构建方法及应用研究\n",
    "10、wise-ml/doc 在线学习资源个性化推荐与学习路径规划研究  \n",
    "11、https://blog.csdn.net/sinat_32970179/article/details/90524563 K12“知识图谱型”AI教育“真香”\n",
    "12、https://aic-fe.bnu.edu.cn/docs/20181205101832069569.pdf An Automatic Knowledge Graph Construction System forK-12 Education"
   ]
  }
 ],
 "metadata": {
  "kernelspec": {
   "display_name": "Python 3",
   "language": "python",
   "name": "python3"
  },
  "language_info": {
   "codemirror_mode": {
    "name": "ipython",
    "version": 3
   },
   "file_extension": ".py",
   "mimetype": "text/x-python",
   "name": "python",
   "nbconvert_exporter": "python",
   "pygments_lexer": "ipython3",
   "version": "3.7.4"
  },
  "toc": {
   "base_numbering": 1,
   "nav_menu": {},
   "number_sections": true,
   "sideBar": true,
   "skip_h1_title": false,
   "title_cell": "Table of Contents",
   "title_sidebar": "Contents",
   "toc_cell": false,
   "toc_position": {},
   "toc_section_display": true,
   "toc_window_display": false
  },
  "varInspector": {
   "cols": {
    "lenName": 16,
    "lenType": 16,
    "lenVar": 40
   },
   "kernels_config": {
    "python": {
     "delete_cmd_postfix": "",
     "delete_cmd_prefix": "del ",
     "library": "var_list.py",
     "varRefreshCmd": "print(var_dic_list())"
    },
    "r": {
     "delete_cmd_postfix": ") ",
     "delete_cmd_prefix": "rm(",
     "library": "var_list.r",
     "varRefreshCmd": "cat(var_dic_list()) "
    }
   },
   "types_to_exclude": [
    "module",
    "function",
    "builtin_function_or_method",
    "instance",
    "_Feature"
   ],
   "window_display": false
  }
 },
 "nbformat": 4,
 "nbformat_minor": 2
}
