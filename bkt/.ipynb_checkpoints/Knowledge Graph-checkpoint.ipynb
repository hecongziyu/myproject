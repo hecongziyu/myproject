{
 "cells": [
  {
   "cell_type": "raw",
   "metadata": {},
   "source": [
    "1、https://www.jianshu.com/p/2a38bdcc4e3f 知识图谱基础（一）-什么是知识图谱\n",
    "2、https://cloud.tencent.com/developer/article/1411619 [知识图谱]从在线教育数据中学习课程关系图\n",
    "3、https://fudaoquan.com/p/3607.html\n",
    "4、https://zhuanlan.zhihu.com/p/71128505 什么是知识图谱?              ！！！！！！！！！！！！！！！！！！\n",
    "5、https://zhuanlan.zhihu.com/p/75466388 BERT与知识图谱的结合——ERNIE模型浅析\n",
    "5、https://zhuanlan.zhihu.com/p/96788061 站在BERT肩膀上的NLP新秀们：XLMs、MASS和UNILM\n",
    "5、http://ijiet.org/papers/225-T0009.pdf  Model Driven Methodology Approach for e-Learning Platform Development \n",
    "6、在线学习资源个性化推荐与学习路径规划研究》 wi-ml/doc 52） 《一种学习路径规划的模型及方法》 wi-ml/doc : 利用维基网络中概念的链接关系，建立了知识网络中节点的相互作用，结合新概念与学习者当前状态集合的节点关系，提出了一种学习路径的优化模型及方法 53）《A_Bayesian_approach_in_students'_performance_analysis》 wi-ml/doc 54）《lats16structured.pdf》 Structured Knowledge Tracing Models for Student Assessment on Coursera wi-ml/doc\n",
    "7、https://zhuanlan.zhihu.com/p/38056557 知识图谱的技术与应用\n",
    "8、https://www.jianshu.com/p/dd55686c1852 一文读懂知识图谱及其在K12中的应用\n",
    "9、http://www.doc88.com/p-2465055117219.html 教育领域知识图谱的构建方法及应用研究\n",
    "10、wise-ml/doc 在线学习资源个性化推荐与学习路径规划研究  \n",
    "11、https://blog.csdn.net/sinat_32970179/article/details/90524563 K12“知识图谱型”AI教育“真香”\n",
    "12、https://aic-fe.bnu.edu.cn/docs/20181205101832069569.pdf An Automatic Knowledge Graph Construction System forK-12 Education\n",
    "13、http://www.semantic-web-journal.net/system/files/swj1167.pdf\n",
    "14、http://www.cs.cmu.edu/~hanxiaol/publications/yang-wsdm15.pdf\n",
    "15、https://zhuanlan.zhihu.com/p/56903119 ！！！！！！！\n",
    "15、https://deepai.org/publication/pykg2vec-a-python-library-for-knowledge-graph-embedding\n",
    "16、https://www.analyticsvidhya.com/blog/2019/10/how-to-build-knowledge-graph-text-using-spacy/\n",
    "17、https://kgtutorial.github.io/  !!!!!!!!!!!!!!!!\n",
    "17、https://github.com/Sujit-O/pykg2vec ！！！！！！！！！！！！！！！！！！！！\n",
    "18、https://image.baidu.com/search/detail?ct=503316480&z=0&ipn=d&word=%E7%99%BE%E5%BA%A6%E6%95%99%E8%82%B2%E7%9F%A5%E8%AF%86%E5%9B%BE%E8%B0%B1&step_word=&hs=2&pn=0&spn=0&di=47520&pi=0&rn=1&tn=baiduimagedetail&is=0%2C0&istype=0&ie=utf-8&oe=utf-8&in=&cl=2&lm=-1&st=undefined&cs=3871640372%2C3953104731&os=1907911730%2C1672812541&simid=3292512939%2C282483121&adpicid=0&lpn=0&ln=816&fr=&fmq=1578993845994_R&fm=&ic=undefined&s=undefined&hd=undefined&latest=undefined&copyright=undefined&se=&sme=&tab=0&width=undefined&height=undefined&face=undefined&ist=&jit=&cg=&bdtype=0&oriquery=&objurl=http%3A%2F%2Fcrawl.nosdn.127.net%2Fb900016f45c4abe0ebaa6b0799c64922.jpg&fromurl=ippr_z2C%24qAzdH3FAzdH3F1y_z%26e3B8mn_z%26e3Bv54AzdH3FedAzdH3Fw6ptvsjAzdH3F1jpwtsAzdH3FDPLQmAEMac88bmGT_z%26e3Bip4s&gsm=&rpstart=0&rpnum=0&islist=&querylist=&force=undefined\n",
    "\n",
    "19. https://openie.allenai.org/ !!!!!!\n",
    "20. https://zhuanlan.zhihu.com/p/67657057?utm_source=wechat_session&utm_medium=social&utm_oi=777186450763440128\n",
    "21. https://zhuanlan.zhihu.com/p/29332977?utm_source=wechat_session&utm_medium=social&utm_oi=777186450763440128\n",
    "22. https://blog.csdn.net/TgqDT3gGaMdkHasLZv/article/details/79710986 基于Freebase的问答研究\n",
    "\n",
    "23. https://blog.csdn.net/TgqDT3gGaMdkHasLZv/article/details/80088475 利用 RNN 和 CNN 构建基于 FreeBase 的问答系统\n",
    "24. https://zhuanlan.zhihu.com/p/25735572  揭开知识库问答KB-QA的面纱 !!!!!!!!!!!!!!!!!!!!!!!\n",
    "25. https://zhuanlan.zhihu.com/p/29332977?utm_source=wechat_session&utm_medium=social&utm_oi=777186450763440128  ！！！！！！！！！！！！！！！\n",
    "26. https://www.ibm.com/developerworks/cn/web/wa-data-integration-at-scale_sparql/ !!!\n",
    "27. https://support.huaweicloud.com/usermanual-ges/ges_01_0024.html 华为云图数据库\n",
    "28. https://help.aliyun.com/document_detail/107480.html?spm=a2c4g.11186623.6.585.3252575dwhQrcZ  阿里云图数据库\n",
    "29. http://www.sohu.com/a/303263176_465959 图数据库\n",
    "30. https://zhuanlan.zhihu.com/p/91762831?utm_source=wechat_session&utm_medium=social&utm_oi=777186450763440128 知识图谱从哪里来：实体关系抽取的现状与未来\n",
    "31. https://zhuanlan.zhihu.com/p/79654857?utm_source=wechat_session&utm_medium=social&utm_oi=777186450763440128 知识图谱领域都发生了哪些大事\n",
    "32. https://www.microsoft.com/en-us/research/people/jfgao/  !!!!!!! Neural language modeling for natural language understanding and generation. Some ongoing projects are MT-DNN, UniLM, question-answering, long text generation, etc.\n",
    "33. https://www.aclweb.org/anthology/P19-1598.pdf !!!!!!!!"
   ]
  }
 ],
 "metadata": {
  "kernelspec": {
   "display_name": "Python 3",
   "language": "python",
   "name": "python3"
  },
  "language_info": {
   "codemirror_mode": {
    "name": "ipython",
    "version": 3
   },
   "file_extension": ".py",
   "mimetype": "text/x-python",
   "name": "python",
   "nbconvert_exporter": "python",
   "pygments_lexer": "ipython3",
   "version": "3.7.4"
  },
  "toc": {
   "base_numbering": 1,
   "nav_menu": {},
   "number_sections": true,
   "sideBar": true,
   "skip_h1_title": false,
   "title_cell": "Table of Contents",
   "title_sidebar": "Contents",
   "toc_cell": false,
   "toc_position": {},
   "toc_section_display": true,
   "toc_window_display": false
  },
  "varInspector": {
   "cols": {
    "lenName": 16,
    "lenType": 16,
    "lenVar": 40
   },
   "kernels_config": {
    "python": {
     "delete_cmd_postfix": "",
     "delete_cmd_prefix": "del ",
     "library": "var_list.py",
     "varRefreshCmd": "print(var_dic_list())"
    },
    "r": {
     "delete_cmd_postfix": ") ",
     "delete_cmd_prefix": "rm(",
     "library": "var_list.r",
     "varRefreshCmd": "cat(var_dic_list()) "
    }
   },
   "types_to_exclude": [
    "module",
    "function",
    "builtin_function_or_method",
    "instance",
    "_Feature"
   ],
   "window_display": false
  }
 },
 "nbformat": 4,
 "nbformat_minor": 2
}
