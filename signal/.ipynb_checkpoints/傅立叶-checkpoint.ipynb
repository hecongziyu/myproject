{
 "cells": [
  {
   "cell_type": "markdown",
   "metadata": {},
   "source": [
    "1、https://github.com/Tony607/Keras-Trigger-Word\n",
    "2、https://blog.csdn.net/class_brick/article/details/82743741   https://www.jianshu.com/p/c34c885e58e7 语音特征MFCC提取过程详解\n",
    "3、https://blog.csdn.net/zhuguorong11/article/details/77801977  使用短时傅里叶变换得到信号的频谱图。\n",
    "4、https://www.sohu.com/a/224533027_99907714 傅里叶变换就是这么简单，你学会了吗? \n",
    "5、https://baike.baidu.com/item/%E9%A2%91%E8%B0%B1%E5%9B%BE/7709772?fr=aladdin 频谱图\n",
    "6、https://bbs.csdn.net/wap/topics/16563 如何对声音波形进行频谱分析？\n",
    "7、https://blog.csdn.net/lbaihao/article/details/81282440 语音波形，截断的频域输出以及语谱图制作\n",
    "8、https://blog.csdn.net/zxf1769/article/details/86318271 与频谱有关的几个谱的概念（非常赞！初学者必看！）\n",
    "9、https://www.cnblogs.com/h2zZhou/p/8405717.html 深入浅出的讲解傅里叶变换（真正的通俗易懂）\n",
    "10、https://www.sohu.com/a/224533027_99907714 傅里叶变换就是这么简单，你学会了吗? \n"
   ]
  }
 ],
 "metadata": {
  "kernelspec": {
   "display_name": "Python 3",
   "language": "python",
   "name": "python3"
  },
  "language_info": {
   "codemirror_mode": {
    "name": "ipython",
    "version": 3
   },
   "file_extension": ".py",
   "mimetype": "text/x-python",
   "name": "python",
   "nbconvert_exporter": "python",
   "pygments_lexer": "ipython3",
   "version": "3.6.3"
  }
 },
 "nbformat": 4,
 "nbformat_minor": 2
}
